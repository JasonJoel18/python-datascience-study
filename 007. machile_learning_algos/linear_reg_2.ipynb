{
 "cells": [
  {
   "cell_type": "code",
   "execution_count": 28,
   "id": "89af2f57",
   "metadata": {},
   "outputs": [],
   "source": [
    "import pandas as pd\n",
    "import seaborn as sns\n",
    "import matplotlib.pyplot as plt\n",
    "import sklearn\n",
    "import numpy as np\n",
    "from pprint import pprint as pp"
   ]
  },
  {
   "cell_type": "code",
   "execution_count": 29,
   "id": "faeb35a2",
   "metadata": {},
   "outputs": [],
   "source": [
    "import warnings\n",
    "warnings.filterwarnings('ignore')"
   ]
  },
  {
   "cell_type": "code",
   "execution_count": 30,
   "id": "a5b43b6d",
   "metadata": {},
   "outputs": [],
   "source": [
    "dataset = pd.read_csv('/Users/jasonjoelpinto/Downloads/Melbourne_housing_FULL.csv')"
   ]
  },
  {
   "cell_type": "code",
   "execution_count": 31,
   "id": "057f6bf9",
   "metadata": {},
   "outputs": [
    {
     "data": {
      "application/vnd.microsoft.datawrangler.viewer.v0+json": {
       "columns": [
        {
         "name": "index",
         "rawType": "int64",
         "type": "integer"
        },
        {
         "name": "Suburb",
         "rawType": "object",
         "type": "string"
        },
        {
         "name": "Address",
         "rawType": "object",
         "type": "string"
        },
        {
         "name": "Rooms",
         "rawType": "int64",
         "type": "integer"
        },
        {
         "name": "Type",
         "rawType": "object",
         "type": "string"
        },
        {
         "name": "Price",
         "rawType": "float64",
         "type": "float"
        },
        {
         "name": "Method",
         "rawType": "object",
         "type": "string"
        },
        {
         "name": "SellerG",
         "rawType": "object",
         "type": "string"
        },
        {
         "name": "Date",
         "rawType": "object",
         "type": "string"
        },
        {
         "name": "Distance",
         "rawType": "float64",
         "type": "float"
        },
        {
         "name": "Postcode",
         "rawType": "float64",
         "type": "float"
        },
        {
         "name": "Bedroom2",
         "rawType": "float64",
         "type": "float"
        },
        {
         "name": "Bathroom",
         "rawType": "float64",
         "type": "float"
        },
        {
         "name": "Car",
         "rawType": "float64",
         "type": "float"
        },
        {
         "name": "Landsize",
         "rawType": "float64",
         "type": "float"
        },
        {
         "name": "BuildingArea",
         "rawType": "float64",
         "type": "float"
        },
        {
         "name": "YearBuilt",
         "rawType": "float64",
         "type": "float"
        },
        {
         "name": "CouncilArea",
         "rawType": "object",
         "type": "unknown"
        },
        {
         "name": "Lattitude",
         "rawType": "float64",
         "type": "float"
        },
        {
         "name": "Longtitude",
         "rawType": "float64",
         "type": "float"
        },
        {
         "name": "Regionname",
         "rawType": "object",
         "type": "unknown"
        },
        {
         "name": "Propertycount",
         "rawType": "float64",
         "type": "float"
        }
       ],
       "conversionMethod": "pd.DataFrame",
       "ref": "32f0098b-eb12-4384-aa43-7ecc451e48fd",
       "rows": [
        [
         "0",
         "Abbotsford",
         "68 Studley St",
         "2",
         "h",
         null,
         "SS",
         "Jellis",
         "3/09/2016",
         "2.5",
         "3067.0",
         "2.0",
         "1.0",
         "1.0",
         "126.0",
         null,
         null,
         "Yarra City Council",
         "-37.8014",
         "144.9958",
         "Northern Metropolitan",
         "4019.0"
        ],
        [
         "1",
         "Abbotsford",
         "85 Turner St",
         "2",
         "h",
         "1480000.0",
         "S",
         "Biggin",
         "3/12/2016",
         "2.5",
         "3067.0",
         "2.0",
         "1.0",
         "1.0",
         "202.0",
         null,
         null,
         "Yarra City Council",
         "-37.7996",
         "144.9984",
         "Northern Metropolitan",
         "4019.0"
        ],
        [
         "2",
         "Abbotsford",
         "25 Bloomburg St",
         "2",
         "h",
         "1035000.0",
         "S",
         "Biggin",
         "4/02/2016",
         "2.5",
         "3067.0",
         "2.0",
         "1.0",
         "0.0",
         "156.0",
         "79.0",
         "1900.0",
         "Yarra City Council",
         "-37.8079",
         "144.9934",
         "Northern Metropolitan",
         "4019.0"
        ],
        [
         "3",
         "Abbotsford",
         "18/659 Victoria St",
         "3",
         "u",
         null,
         "VB",
         "Rounds",
         "4/02/2016",
         "2.5",
         "3067.0",
         "3.0",
         "2.0",
         "1.0",
         "0.0",
         null,
         null,
         "Yarra City Council",
         "-37.8114",
         "145.0116",
         "Northern Metropolitan",
         "4019.0"
        ],
        [
         "4",
         "Abbotsford",
         "5 Charles St",
         "3",
         "h",
         "1465000.0",
         "SP",
         "Biggin",
         "4/03/2017",
         "2.5",
         "3067.0",
         "3.0",
         "2.0",
         "0.0",
         "134.0",
         "150.0",
         "1900.0",
         "Yarra City Council",
         "-37.8093",
         "144.9944",
         "Northern Metropolitan",
         "4019.0"
        ],
        [
         "5",
         "Abbotsford",
         "40 Federation La",
         "3",
         "h",
         "850000.0",
         "PI",
         "Biggin",
         "4/03/2017",
         "2.5",
         "3067.0",
         "3.0",
         "2.0",
         "1.0",
         "94.0",
         null,
         null,
         "Yarra City Council",
         "-37.7969",
         "144.9969",
         "Northern Metropolitan",
         "4019.0"
        ],
        [
         "6",
         "Abbotsford",
         "55a Park St",
         "4",
         "h",
         "1600000.0",
         "VB",
         "Nelson",
         "4/06/2016",
         "2.5",
         "3067.0",
         "3.0",
         "1.0",
         "2.0",
         "120.0",
         "142.0",
         "2014.0",
         "Yarra City Council",
         "-37.8072",
         "144.9941",
         "Northern Metropolitan",
         "4019.0"
        ],
        [
         "7",
         "Abbotsford",
         "16 Maugie St",
         "4",
         "h",
         null,
         "SN",
         "Nelson",
         "6/08/2016",
         "2.5",
         "3067.0",
         "3.0",
         "2.0",
         "2.0",
         "400.0",
         "220.0",
         "2006.0",
         "Yarra City Council",
         "-37.7965",
         "144.9965",
         "Northern Metropolitan",
         "4019.0"
        ],
        [
         "8",
         "Abbotsford",
         "53 Turner St",
         "2",
         "h",
         null,
         "S",
         "Biggin",
         "6/08/2016",
         "2.5",
         "3067.0",
         "4.0",
         "1.0",
         "2.0",
         "201.0",
         null,
         "1900.0",
         "Yarra City Council",
         "-37.7995",
         "144.9974",
         "Northern Metropolitan",
         "4019.0"
        ],
        [
         "9",
         "Abbotsford",
         "99 Turner St",
         "2",
         "h",
         null,
         "S",
         "Collins",
         "6/08/2016",
         "2.5",
         "3067.0",
         "3.0",
         "2.0",
         "1.0",
         "202.0",
         null,
         "1900.0",
         "Yarra City Council",
         "-37.7996",
         "144.9989",
         "Northern Metropolitan",
         "4019.0"
        ],
        [
         "10",
         "Abbotsford",
         "129 Charles St",
         "2",
         "h",
         "941000.0",
         "S",
         "Jellis",
         "7/05/2016",
         "2.5",
         "3067.0",
         "2.0",
         "1.0",
         "0.0",
         "181.0",
         null,
         null,
         "Yarra City Council",
         "-37.8041",
         "144.9953",
         "Northern Metropolitan",
         "4019.0"
        ],
        [
         "11",
         "Abbotsford",
         "124 Yarra St",
         "3",
         "h",
         "1876000.0",
         "S",
         "Nelson",
         "7/05/2016",
         "2.5",
         "3067.0",
         "4.0",
         "2.0",
         "0.0",
         "245.0",
         "210.0",
         "1910.0",
         "Yarra City Council",
         "-37.8024",
         "144.9993",
         "Northern Metropolitan",
         "4019.0"
        ],
        [
         "12",
         "Abbotsford",
         "121/56 Nicholson St",
         "2",
         "u",
         null,
         "PI",
         "Biggin",
         "7/11/2016",
         "2.5",
         "3067.0",
         "2.0",
         "2.0",
         "1.0",
         "4292.0",
         "82.0",
         "2009.0",
         "Yarra City Council",
         "-37.8078",
         "144.9965",
         "Northern Metropolitan",
         "4019.0"
        ],
        [
         "13",
         "Abbotsford",
         "17 Raphael St",
         "4",
         "h",
         null,
         "W",
         "Biggin",
         "7/11/2016",
         "2.5",
         "3067.0",
         "6.0",
         "2.0",
         "0.0",
         "230.0",
         "147.0",
         "1860.0",
         "Yarra City Council",
         "-37.8066",
         "144.9936",
         "Northern Metropolitan",
         "4019.0"
        ],
        [
         "14",
         "Abbotsford",
         "98 Charles St",
         "2",
         "h",
         "1636000.0",
         "S",
         "Nelson",
         "8/10/2016",
         "2.5",
         "3067.0",
         "2.0",
         "1.0",
         "2.0",
         "256.0",
         "107.0",
         "1890.0",
         "Yarra City Council",
         "-37.806",
         "144.9954",
         "Northern Metropolitan",
         "4019.0"
        ],
        [
         "15",
         "Abbotsford",
         "217 Langridge St",
         "3",
         "h",
         "1000000.0",
         "S",
         "Jellis",
         "8/10/2016",
         "2.5",
         "3067.0",
         null,
         null,
         null,
         null,
         null,
         null,
         "Yarra City Council",
         null,
         null,
         "Northern Metropolitan",
         "4019.0"
        ],
        [
         "16",
         "Abbotsford",
         "18a Mollison St",
         "2",
         "t",
         "745000.0",
         "S",
         "Jellis",
         "8/10/2016",
         "2.5",
         "3067.0",
         null,
         null,
         null,
         null,
         null,
         null,
         "Yarra City Council",
         null,
         null,
         "Northern Metropolitan",
         "4019.0"
        ],
        [
         "17",
         "Abbotsford",
         "6/241 Nicholson St",
         "1",
         "u",
         "300000.0",
         "S",
         "Biggin",
         "8/10/2016",
         "2.5",
         "3067.0",
         "1.0",
         "1.0",
         "1.0",
         "0.0",
         null,
         null,
         "Yarra City Council",
         "-37.8008",
         "144.9973",
         "Northern Metropolitan",
         "4019.0"
        ],
        [
         "18",
         "Abbotsford",
         "10 Valiant St",
         "2",
         "h",
         "1097000.0",
         "S",
         "Biggin",
         "8/10/2016",
         "2.5",
         "3067.0",
         "3.0",
         "1.0",
         "2.0",
         "220.0",
         "75.0",
         "1900.0",
         "Yarra City Council",
         "-37.801",
         "144.9989",
         "Northern Metropolitan",
         "4019.0"
        ],
        [
         "19",
         "Abbotsford",
         "403/609 Victoria St",
         "2",
         "u",
         "542000.0",
         "S",
         "Dingle",
         "8/10/2016",
         "2.5",
         "3067.0",
         null,
         null,
         null,
         null,
         null,
         null,
         "Yarra City Council",
         null,
         null,
         "Northern Metropolitan",
         "4019.0"
        ],
        [
         "20",
         "Abbotsford",
         "2 Rich St",
         "2",
         "h",
         null,
         "SP",
         "Biggin",
         "10/12/2016",
         "2.5",
         "3067.0",
         "2.0",
         "1.0",
         "1.0",
         "176.0",
         "80.0",
         "1925.0",
         "Yarra City Council",
         "-37.7998",
         "144.9972",
         "Northern Metropolitan",
         "4019.0"
        ],
        [
         "21",
         "Abbotsford",
         "25/84 Trenerry Cr",
         "2",
         "u",
         "760000.0",
         "SP",
         "Biggin",
         "10/12/2016",
         "2.5",
         "3067.0",
         null,
         null,
         null,
         null,
         null,
         null,
         "Yarra City Council",
         null,
         null,
         "Northern Metropolitan",
         "4019.0"
        ],
        [
         "22",
         "Abbotsford",
         "106/119 Turner St",
         "1",
         "u",
         "481000.0",
         "SP",
         "Purplebricks",
         "10/12/2016",
         "2.5",
         "3067.0",
         null,
         null,
         null,
         null,
         null,
         null,
         "Yarra City Council",
         null,
         null,
         "Northern Metropolitan",
         "4019.0"
        ],
        [
         "23",
         "Abbotsford",
         "411/8 Grosvenor St",
         "2",
         "u",
         "700000.0",
         "VB",
         "Jellis",
         "12/11/2016",
         "2.5",
         "3067.0",
         "2.0",
         "2.0",
         "1.0",
         "0.0",
         null,
         null,
         "Yarra City Council",
         "-37.811",
         "145.0067",
         "Northern Metropolitan",
         "4019.0"
        ],
        [
         "24",
         "Abbotsford",
         "40 Nicholson St",
         "3",
         "h",
         "1350000.0",
         "VB",
         "Nelson",
         "12/11/2016",
         "2.5",
         "3067.0",
         "3.0",
         "2.0",
         "2.0",
         "214.0",
         "190.0",
         "2005.0",
         "Yarra City Council",
         "-37.8085",
         "144.9964",
         "Northern Metropolitan",
         "4019.0"
        ],
        [
         "25",
         "Abbotsford",
         "123/56 Nicholson St",
         "2",
         "u",
         "750000.0",
         "S",
         "Biggin",
         "12/11/2016",
         "2.5",
         "3067.0",
         "2.0",
         "2.0",
         "1.0",
         "0.0",
         "94.0",
         "2009.0",
         "Yarra City Council",
         "-37.8078",
         "144.9965",
         "Northern Metropolitan",
         "4019.0"
        ],
        [
         "26",
         "Abbotsford",
         "22 Park St",
         "4",
         "h",
         "1985000.0",
         "S",
         "Biggin",
         "12/11/2016",
         "2.5",
         "3067.0",
         null,
         null,
         null,
         null,
         null,
         null,
         "Yarra City Council",
         "-37.8084",
         "144.9942",
         "Northern Metropolitan",
         "4019.0"
        ],
        [
         "27",
         "Abbotsford",
         "13/84 Trenerry Cr",
         "1",
         "u",
         "500000.0",
         "S",
         "Biggin",
         "12/11/2016",
         "2.5",
         "3067.0",
         null,
         null,
         null,
         null,
         null,
         null,
         "Yarra City Council",
         null,
         null,
         "Northern Metropolitan",
         "4019.0"
        ],
        [
         "28",
         "Abbotsford",
         "45 William St",
         "2",
         "h",
         "1172500.0",
         "S",
         "Biggin",
         "13/08/2016",
         "2.5",
         "3067.0",
         "2.0",
         "1.0",
         "1.0",
         "195.0",
         null,
         null,
         "Yarra City Council",
         "-37.8084",
         "144.9973",
         "Northern Metropolitan",
         "4019.0"
        ],
        [
         "29",
         "Abbotsford",
         "7/20 Abbotsford St",
         "1",
         "u",
         "441000.0",
         "SP",
         "Greg",
         "14/05/2016",
         "2.5",
         "3067.0",
         "1.0",
         "1.0",
         "1.0",
         "0.0",
         null,
         null,
         "Yarra City Council",
         "-37.8016",
         "144.9988",
         "Northern Metropolitan",
         "4019.0"
        ],
        [
         "30",
         "Abbotsford",
         "16 William St",
         "2",
         "h",
         "1310000.0",
         "S",
         "Jellis",
         "15/10/2016",
         "2.5",
         "3067.0",
         "2.0",
         "1.0",
         "2.0",
         "238.0",
         "97.0",
         "1890.0",
         "Yarra City Council",
         "-37.809",
         "144.9976",
         "Northern Metropolitan",
         "4019.0"
        ],
        [
         "31",
         "Abbotsford",
         "16/11 Nicholson St",
         "3",
         "u",
         null,
         "PI",
         "Philip",
         "16/04/2016",
         "2.5",
         "3067.0",
         "3.0",
         "2.0",
         "2.0",
         "0.0",
         "129.0",
         "2010.0",
         "Yarra City Council",
         "-37.8093",
         "144.9959",
         "Northern Metropolitan",
         "4019.0"
        ],
        [
         "32",
         "Abbotsford",
         "42 Henry St",
         "3",
         "h",
         "1200000.0",
         "S",
         "Jellis",
         "16/07/2016",
         "2.5",
         "3067.0",
         "3.0",
         "2.0",
         "1.0",
         "113.0",
         "110.0",
         "1880.0",
         "Yarra City Council",
         "-37.8056",
         "144.993",
         "Northern Metropolitan",
         "4019.0"
        ],
        [
         "33",
         "Abbotsford",
         "250 Langridge St",
         "2",
         "t",
         "847000.0",
         "S",
         "Jellis",
         "16/07/2016",
         "2.5",
         "3067.0",
         null,
         null,
         null,
         null,
         null,
         null,
         "Yarra City Council",
         null,
         null,
         "Northern Metropolitan",
         "4019.0"
        ],
        [
         "34",
         "Abbotsford",
         "16b Mollison St",
         "2",
         "h",
         null,
         "PI",
         "Biggin",
         "16/07/2016",
         "2.5",
         "3067.0",
         null,
         null,
         null,
         null,
         null,
         null,
         "Yarra City Council",
         null,
         null,
         "Northern Metropolitan",
         "4019.0"
        ],
        [
         "35",
         "Abbotsford",
         "78 Yarra St",
         "3",
         "h",
         "1176500.0",
         "S",
         "LITTLE",
         "16/07/2016",
         "2.5",
         "3067.0",
         "2.0",
         "1.0",
         "1.0",
         "138.0",
         "105.0",
         "1890.0",
         "Yarra City Council",
         "-37.8021",
         "144.9965",
         "Northern Metropolitan",
         "4019.0"
        ],
        [
         "36",
         "Abbotsford",
         "196 Nicholson St",
         "3",
         "h",
         "955000.0",
         "S",
         "Collins",
         "17/09/2016",
         "2.5",
         "3067.0",
         "3.0",
         "1.0",
         "0.0",
         "183.0",
         null,
         null,
         "Yarra City Council",
         "-37.8022",
         "144.9975",
         "Northern Metropolitan",
         "4019.0"
        ],
        [
         "37",
         "Abbotsford",
         "42 Valiant St",
         "2",
         "h",
         "890000.0",
         "S",
         "Biggin",
         "17/09/2016",
         "2.5",
         "3067.0",
         "2.0",
         "1.0",
         "1.0",
         "150.0",
         "73.0",
         "1985.0",
         "Yarra City Council",
         "-37.8011",
         "145.0004",
         "Northern Metropolitan",
         "4019.0"
        ],
        [
         "38",
         "Abbotsford",
         "3/72 Charles St",
         "4",
         "h",
         "1330000.0",
         "PI",
         "Kay",
         "18/03/2017",
         "2.5",
         "3067.0",
         "4.0",
         "2.0",
         "2.0",
         "780.0",
         "135.0",
         "1900.0",
         "Yarra City Council",
         "-37.8073",
         "144.9952",
         "Northern Metropolitan",
         "4019.0"
        ],
        [
         "39",
         "Abbotsford",
         "1/1 Mayfield St",
         "3",
         "h",
         null,
         "SP",
         "Nelson",
         "18/03/2017",
         "2.5",
         "3067.0",
         "3.0",
         "2.0",
         "1.0",
         "119.0",
         "167.0",
         "2005.0",
         "Yarra City Council",
         "-37.8082",
         "144.9999",
         "Northern Metropolitan",
         "4019.0"
        ],
        [
         "40",
         "Abbotsford",
         "13/11 Nicholson St",
         "3",
         "t",
         "900000.0",
         "S",
         "Beller",
         "18/03/2017",
         "2.5",
         "3067.0",
         "3.0",
         "2.0",
         "2.0",
         "0.0",
         null,
         "2010.0",
         "Yarra City Council",
         "-37.8093",
         "144.9959",
         "Northern Metropolitan",
         "4019.0"
        ],
        [
         "41",
         "Abbotsford",
         "138/56 Nicholson St",
         "3",
         "u",
         "1090000.0",
         "S",
         "Jellis",
         "18/03/2017",
         "2.5",
         "3067.0",
         "3.0",
         "2.0",
         "2.0",
         "4290.0",
         "27.0",
         null,
         "Yarra City Council",
         "-37.8078",
         "144.9965",
         "Northern Metropolitan",
         "4019.0"
        ],
        [
         "42",
         "Abbotsford",
         "6/219 Nicholson St",
         "2",
         "u",
         "500000.0",
         "S",
         "Collins",
         "18/06/2016",
         "2.5",
         "3067.0",
         "2.0",
         "1.0",
         "1.0",
         "0.0",
         "60.0",
         "1970.0",
         "Yarra City Council",
         "-37.8015",
         "144.9972",
         "Northern Metropolitan",
         "4019.0"
        ],
        [
         "43",
         "Abbotsford",
         "52a William St",
         "2",
         "h",
         "1100000.0",
         "PI",
         "Biggin",
         "18/06/2016",
         "2.5",
         "3067.0",
         "2.0",
         "2.0",
         "1.0",
         "124.0",
         "135.0",
         "2013.0",
         "Yarra City Council",
         "-37.8079",
         "144.9977",
         "Northern Metropolitan",
         "4019.0"
        ],
        [
         "44",
         "Abbotsford",
         "49 Park St",
         "2",
         "h",
         "1315000.0",
         "S",
         "Marshall",
         "19/11/2016",
         "2.5",
         "3067.0",
         "2.0",
         "1.0",
         "0.0",
         "147.0",
         "85.0",
         "1900.0",
         "Yarra City Council",
         "-37.808",
         "144.994",
         "Northern Metropolitan",
         "4019.0"
        ],
        [
         "45",
         "Abbotsford",
         "65/80 Trenerry Cr",
         "1",
         "u",
         "480000.0",
         "S",
         "Biggin",
         "19/11/2016",
         "2.5",
         "3067.0",
         null,
         null,
         null,
         null,
         null,
         null,
         "Yarra City Council",
         null,
         null,
         "Northern Metropolitan",
         "4019.0"
        ],
        [
         "46",
         "Abbotsford",
         "119/52 Nicholson St",
         "1",
         "u",
         "423500.0",
         "S",
         "hockingstuart",
         "22/05/2016",
         "2.5",
         "3067.0",
         null,
         null,
         null,
         null,
         null,
         null,
         "Yarra City Council",
         null,
         null,
         "Northern Metropolitan",
         "4019.0"
        ],
        [
         "47",
         "Abbotsford",
         "8b Park St",
         "4",
         "h",
         null,
         "PI",
         "Biggin",
         "22/05/2016",
         "2.5",
         "3067.0",
         null,
         null,
         null,
         null,
         null,
         null,
         "Yarra City Council",
         "-37.8092",
         "144.9941",
         "Northern Metropolitan",
         "4019.0"
        ],
        [
         "48",
         "Abbotsford",
         "5/20 Abbotsford St",
         "1",
         "u",
         "426000.0",
         "SP",
         "Greg",
         "22/08/2016",
         "2.5",
         "3067.0",
         "1.0",
         "1.0",
         "1.0",
         "0.0",
         null,
         null,
         "Yarra City Council",
         "-37.8016",
         "144.9988",
         "Northern Metropolitan",
         "4019.0"
        ],
        [
         "49",
         "Abbotsford",
         "48 Abbotsford St",
         "3",
         "h",
         "1447500.0",
         "PI",
         "Nelson",
         "22/08/2016",
         "2.5",
         "3067.0",
         "3.0",
         "3.0",
         "1.0",
         "166.0",
         "174.0",
         "2012.0",
         "Yarra City Council",
         "-37.8017",
         "145.0001",
         "Northern Metropolitan",
         "4019.0"
        ]
       ],
       "shape": {
        "columns": 21,
        "rows": 34857
       }
      },
      "text/html": [
       "<div>\n",
       "<style scoped>\n",
       "    .dataframe tbody tr th:only-of-type {\n",
       "        vertical-align: middle;\n",
       "    }\n",
       "\n",
       "    .dataframe tbody tr th {\n",
       "        vertical-align: top;\n",
       "    }\n",
       "\n",
       "    .dataframe thead th {\n",
       "        text-align: right;\n",
       "    }\n",
       "</style>\n",
       "<table border=\"1\" class=\"dataframe\">\n",
       "  <thead>\n",
       "    <tr style=\"text-align: right;\">\n",
       "      <th></th>\n",
       "      <th>Suburb</th>\n",
       "      <th>Address</th>\n",
       "      <th>Rooms</th>\n",
       "      <th>Type</th>\n",
       "      <th>Price</th>\n",
       "      <th>Method</th>\n",
       "      <th>SellerG</th>\n",
       "      <th>Date</th>\n",
       "      <th>Distance</th>\n",
       "      <th>Postcode</th>\n",
       "      <th>...</th>\n",
       "      <th>Bathroom</th>\n",
       "      <th>Car</th>\n",
       "      <th>Landsize</th>\n",
       "      <th>BuildingArea</th>\n",
       "      <th>YearBuilt</th>\n",
       "      <th>CouncilArea</th>\n",
       "      <th>Lattitude</th>\n",
       "      <th>Longtitude</th>\n",
       "      <th>Regionname</th>\n",
       "      <th>Propertycount</th>\n",
       "    </tr>\n",
       "  </thead>\n",
       "  <tbody>\n",
       "    <tr>\n",
       "      <th>0</th>\n",
       "      <td>Abbotsford</td>\n",
       "      <td>68 Studley St</td>\n",
       "      <td>2</td>\n",
       "      <td>h</td>\n",
       "      <td>NaN</td>\n",
       "      <td>SS</td>\n",
       "      <td>Jellis</td>\n",
       "      <td>3/09/2016</td>\n",
       "      <td>2.5</td>\n",
       "      <td>3067.0</td>\n",
       "      <td>...</td>\n",
       "      <td>1.0</td>\n",
       "      <td>1.0</td>\n",
       "      <td>126.0</td>\n",
       "      <td>NaN</td>\n",
       "      <td>NaN</td>\n",
       "      <td>Yarra City Council</td>\n",
       "      <td>-37.80140</td>\n",
       "      <td>144.99580</td>\n",
       "      <td>Northern Metropolitan</td>\n",
       "      <td>4019.0</td>\n",
       "    </tr>\n",
       "    <tr>\n",
       "      <th>1</th>\n",
       "      <td>Abbotsford</td>\n",
       "      <td>85 Turner St</td>\n",
       "      <td>2</td>\n",
       "      <td>h</td>\n",
       "      <td>1480000.0</td>\n",
       "      <td>S</td>\n",
       "      <td>Biggin</td>\n",
       "      <td>3/12/2016</td>\n",
       "      <td>2.5</td>\n",
       "      <td>3067.0</td>\n",
       "      <td>...</td>\n",
       "      <td>1.0</td>\n",
       "      <td>1.0</td>\n",
       "      <td>202.0</td>\n",
       "      <td>NaN</td>\n",
       "      <td>NaN</td>\n",
       "      <td>Yarra City Council</td>\n",
       "      <td>-37.79960</td>\n",
       "      <td>144.99840</td>\n",
       "      <td>Northern Metropolitan</td>\n",
       "      <td>4019.0</td>\n",
       "    </tr>\n",
       "    <tr>\n",
       "      <th>2</th>\n",
       "      <td>Abbotsford</td>\n",
       "      <td>25 Bloomburg St</td>\n",
       "      <td>2</td>\n",
       "      <td>h</td>\n",
       "      <td>1035000.0</td>\n",
       "      <td>S</td>\n",
       "      <td>Biggin</td>\n",
       "      <td>4/02/2016</td>\n",
       "      <td>2.5</td>\n",
       "      <td>3067.0</td>\n",
       "      <td>...</td>\n",
       "      <td>1.0</td>\n",
       "      <td>0.0</td>\n",
       "      <td>156.0</td>\n",
       "      <td>79.0</td>\n",
       "      <td>1900.0</td>\n",
       "      <td>Yarra City Council</td>\n",
       "      <td>-37.80790</td>\n",
       "      <td>144.99340</td>\n",
       "      <td>Northern Metropolitan</td>\n",
       "      <td>4019.0</td>\n",
       "    </tr>\n",
       "    <tr>\n",
       "      <th>3</th>\n",
       "      <td>Abbotsford</td>\n",
       "      <td>18/659 Victoria St</td>\n",
       "      <td>3</td>\n",
       "      <td>u</td>\n",
       "      <td>NaN</td>\n",
       "      <td>VB</td>\n",
       "      <td>Rounds</td>\n",
       "      <td>4/02/2016</td>\n",
       "      <td>2.5</td>\n",
       "      <td>3067.0</td>\n",
       "      <td>...</td>\n",
       "      <td>2.0</td>\n",
       "      <td>1.0</td>\n",
       "      <td>0.0</td>\n",
       "      <td>NaN</td>\n",
       "      <td>NaN</td>\n",
       "      <td>Yarra City Council</td>\n",
       "      <td>-37.81140</td>\n",
       "      <td>145.01160</td>\n",
       "      <td>Northern Metropolitan</td>\n",
       "      <td>4019.0</td>\n",
       "    </tr>\n",
       "    <tr>\n",
       "      <th>4</th>\n",
       "      <td>Abbotsford</td>\n",
       "      <td>5 Charles St</td>\n",
       "      <td>3</td>\n",
       "      <td>h</td>\n",
       "      <td>1465000.0</td>\n",
       "      <td>SP</td>\n",
       "      <td>Biggin</td>\n",
       "      <td>4/03/2017</td>\n",
       "      <td>2.5</td>\n",
       "      <td>3067.0</td>\n",
       "      <td>...</td>\n",
       "      <td>2.0</td>\n",
       "      <td>0.0</td>\n",
       "      <td>134.0</td>\n",
       "      <td>150.0</td>\n",
       "      <td>1900.0</td>\n",
       "      <td>Yarra City Council</td>\n",
       "      <td>-37.80930</td>\n",
       "      <td>144.99440</td>\n",
       "      <td>Northern Metropolitan</td>\n",
       "      <td>4019.0</td>\n",
       "    </tr>\n",
       "    <tr>\n",
       "      <th>...</th>\n",
       "      <td>...</td>\n",
       "      <td>...</td>\n",
       "      <td>...</td>\n",
       "      <td>...</td>\n",
       "      <td>...</td>\n",
       "      <td>...</td>\n",
       "      <td>...</td>\n",
       "      <td>...</td>\n",
       "      <td>...</td>\n",
       "      <td>...</td>\n",
       "      <td>...</td>\n",
       "      <td>...</td>\n",
       "      <td>...</td>\n",
       "      <td>...</td>\n",
       "      <td>...</td>\n",
       "      <td>...</td>\n",
       "      <td>...</td>\n",
       "      <td>...</td>\n",
       "      <td>...</td>\n",
       "      <td>...</td>\n",
       "      <td>...</td>\n",
       "    </tr>\n",
       "    <tr>\n",
       "      <th>34852</th>\n",
       "      <td>Yarraville</td>\n",
       "      <td>13 Burns St</td>\n",
       "      <td>4</td>\n",
       "      <td>h</td>\n",
       "      <td>1480000.0</td>\n",
       "      <td>PI</td>\n",
       "      <td>Jas</td>\n",
       "      <td>24/02/2018</td>\n",
       "      <td>6.3</td>\n",
       "      <td>3013.0</td>\n",
       "      <td>...</td>\n",
       "      <td>1.0</td>\n",
       "      <td>3.0</td>\n",
       "      <td>593.0</td>\n",
       "      <td>NaN</td>\n",
       "      <td>NaN</td>\n",
       "      <td>Maribyrnong City Council</td>\n",
       "      <td>-37.81053</td>\n",
       "      <td>144.88467</td>\n",
       "      <td>Western Metropolitan</td>\n",
       "      <td>6543.0</td>\n",
       "    </tr>\n",
       "    <tr>\n",
       "      <th>34853</th>\n",
       "      <td>Yarraville</td>\n",
       "      <td>29A Murray St</td>\n",
       "      <td>2</td>\n",
       "      <td>h</td>\n",
       "      <td>888000.0</td>\n",
       "      <td>SP</td>\n",
       "      <td>Sweeney</td>\n",
       "      <td>24/02/2018</td>\n",
       "      <td>6.3</td>\n",
       "      <td>3013.0</td>\n",
       "      <td>...</td>\n",
       "      <td>2.0</td>\n",
       "      <td>1.0</td>\n",
       "      <td>98.0</td>\n",
       "      <td>104.0</td>\n",
       "      <td>2018.0</td>\n",
       "      <td>Maribyrnong City Council</td>\n",
       "      <td>-37.81551</td>\n",
       "      <td>144.88826</td>\n",
       "      <td>Western Metropolitan</td>\n",
       "      <td>6543.0</td>\n",
       "    </tr>\n",
       "    <tr>\n",
       "      <th>34854</th>\n",
       "      <td>Yarraville</td>\n",
       "      <td>147A Severn St</td>\n",
       "      <td>2</td>\n",
       "      <td>t</td>\n",
       "      <td>705000.0</td>\n",
       "      <td>S</td>\n",
       "      <td>Jas</td>\n",
       "      <td>24/02/2018</td>\n",
       "      <td>6.3</td>\n",
       "      <td>3013.0</td>\n",
       "      <td>...</td>\n",
       "      <td>1.0</td>\n",
       "      <td>2.0</td>\n",
       "      <td>220.0</td>\n",
       "      <td>120.0</td>\n",
       "      <td>2000.0</td>\n",
       "      <td>Maribyrnong City Council</td>\n",
       "      <td>-37.82286</td>\n",
       "      <td>144.87856</td>\n",
       "      <td>Western Metropolitan</td>\n",
       "      <td>6543.0</td>\n",
       "    </tr>\n",
       "    <tr>\n",
       "      <th>34855</th>\n",
       "      <td>Yarraville</td>\n",
       "      <td>12/37 Stephen St</td>\n",
       "      <td>3</td>\n",
       "      <td>h</td>\n",
       "      <td>1140000.0</td>\n",
       "      <td>SP</td>\n",
       "      <td>hockingstuart</td>\n",
       "      <td>24/02/2018</td>\n",
       "      <td>6.3</td>\n",
       "      <td>3013.0</td>\n",
       "      <td>...</td>\n",
       "      <td>NaN</td>\n",
       "      <td>NaN</td>\n",
       "      <td>NaN</td>\n",
       "      <td>NaN</td>\n",
       "      <td>NaN</td>\n",
       "      <td>Maribyrnong City Council</td>\n",
       "      <td>NaN</td>\n",
       "      <td>NaN</td>\n",
       "      <td>Western Metropolitan</td>\n",
       "      <td>6543.0</td>\n",
       "    </tr>\n",
       "    <tr>\n",
       "      <th>34856</th>\n",
       "      <td>Yarraville</td>\n",
       "      <td>3 Tarrengower St</td>\n",
       "      <td>2</td>\n",
       "      <td>h</td>\n",
       "      <td>1020000.0</td>\n",
       "      <td>PI</td>\n",
       "      <td>RW</td>\n",
       "      <td>24/02/2018</td>\n",
       "      <td>6.3</td>\n",
       "      <td>3013.0</td>\n",
       "      <td>...</td>\n",
       "      <td>1.0</td>\n",
       "      <td>0.0</td>\n",
       "      <td>250.0</td>\n",
       "      <td>103.0</td>\n",
       "      <td>1930.0</td>\n",
       "      <td>Maribyrnong City Council</td>\n",
       "      <td>-37.81810</td>\n",
       "      <td>144.89351</td>\n",
       "      <td>Western Metropolitan</td>\n",
       "      <td>6543.0</td>\n",
       "    </tr>\n",
       "  </tbody>\n",
       "</table>\n",
       "<p>34857 rows × 21 columns</p>\n",
       "</div>"
      ],
      "text/plain": [
       "           Suburb             Address  Rooms Type      Price Method  \\\n",
       "0      Abbotsford       68 Studley St      2    h        NaN     SS   \n",
       "1      Abbotsford        85 Turner St      2    h  1480000.0      S   \n",
       "2      Abbotsford     25 Bloomburg St      2    h  1035000.0      S   \n",
       "3      Abbotsford  18/659 Victoria St      3    u        NaN     VB   \n",
       "4      Abbotsford        5 Charles St      3    h  1465000.0     SP   \n",
       "...           ...                 ...    ...  ...        ...    ...   \n",
       "34852  Yarraville         13 Burns St      4    h  1480000.0     PI   \n",
       "34853  Yarraville       29A Murray St      2    h   888000.0     SP   \n",
       "34854  Yarraville      147A Severn St      2    t   705000.0      S   \n",
       "34855  Yarraville    12/37 Stephen St      3    h  1140000.0     SP   \n",
       "34856  Yarraville    3 Tarrengower St      2    h  1020000.0     PI   \n",
       "\n",
       "             SellerG        Date  Distance  Postcode  ...  Bathroom  Car  \\\n",
       "0             Jellis   3/09/2016       2.5    3067.0  ...       1.0  1.0   \n",
       "1             Biggin   3/12/2016       2.5    3067.0  ...       1.0  1.0   \n",
       "2             Biggin   4/02/2016       2.5    3067.0  ...       1.0  0.0   \n",
       "3             Rounds   4/02/2016       2.5    3067.0  ...       2.0  1.0   \n",
       "4             Biggin   4/03/2017       2.5    3067.0  ...       2.0  0.0   \n",
       "...              ...         ...       ...       ...  ...       ...  ...   \n",
       "34852            Jas  24/02/2018       6.3    3013.0  ...       1.0  3.0   \n",
       "34853        Sweeney  24/02/2018       6.3    3013.0  ...       2.0  1.0   \n",
       "34854            Jas  24/02/2018       6.3    3013.0  ...       1.0  2.0   \n",
       "34855  hockingstuart  24/02/2018       6.3    3013.0  ...       NaN  NaN   \n",
       "34856             RW  24/02/2018       6.3    3013.0  ...       1.0  0.0   \n",
       "\n",
       "       Landsize  BuildingArea  YearBuilt               CouncilArea Lattitude  \\\n",
       "0         126.0           NaN        NaN        Yarra City Council -37.80140   \n",
       "1         202.0           NaN        NaN        Yarra City Council -37.79960   \n",
       "2         156.0          79.0     1900.0        Yarra City Council -37.80790   \n",
       "3           0.0           NaN        NaN        Yarra City Council -37.81140   \n",
       "4         134.0         150.0     1900.0        Yarra City Council -37.80930   \n",
       "...         ...           ...        ...                       ...       ...   \n",
       "34852     593.0           NaN        NaN  Maribyrnong City Council -37.81053   \n",
       "34853      98.0         104.0     2018.0  Maribyrnong City Council -37.81551   \n",
       "34854     220.0         120.0     2000.0  Maribyrnong City Council -37.82286   \n",
       "34855       NaN           NaN        NaN  Maribyrnong City Council       NaN   \n",
       "34856     250.0         103.0     1930.0  Maribyrnong City Council -37.81810   \n",
       "\n",
       "       Longtitude             Regionname Propertycount  \n",
       "0       144.99580  Northern Metropolitan        4019.0  \n",
       "1       144.99840  Northern Metropolitan        4019.0  \n",
       "2       144.99340  Northern Metropolitan        4019.0  \n",
       "3       145.01160  Northern Metropolitan        4019.0  \n",
       "4       144.99440  Northern Metropolitan        4019.0  \n",
       "...           ...                    ...           ...  \n",
       "34852   144.88467   Western Metropolitan        6543.0  \n",
       "34853   144.88826   Western Metropolitan        6543.0  \n",
       "34854   144.87856   Western Metropolitan        6543.0  \n",
       "34855         NaN   Western Metropolitan        6543.0  \n",
       "34856   144.89351   Western Metropolitan        6543.0  \n",
       "\n",
       "[34857 rows x 21 columns]"
      ]
     },
     "execution_count": 31,
     "metadata": {},
     "output_type": "execute_result"
    }
   ],
   "source": [
    "dataset"
   ]
  },
  {
   "cell_type": "code",
   "execution_count": 32,
   "id": "40d6b964",
   "metadata": {},
   "outputs": [
    {
     "data": {
      "text/plain": [
       "Suburb             351\n",
       "Address          34009\n",
       "Rooms               12\n",
       "Type                 3\n",
       "Price             2871\n",
       "Method               9\n",
       "SellerG            388\n",
       "Date                78\n",
       "Distance           215\n",
       "Postcode           211\n",
       "Bedroom2            15\n",
       "Bathroom            11\n",
       "Car                 15\n",
       "Landsize          1684\n",
       "BuildingArea       740\n",
       "YearBuilt          160\n",
       "CouncilArea         33\n",
       "Lattitude        13402\n",
       "Longtitude       14524\n",
       "Regionname           8\n",
       "Propertycount      342\n",
       "dtype: int64"
      ]
     },
     "execution_count": 32,
     "metadata": {},
     "output_type": "execute_result"
    }
   ],
   "source": [
    "dataset.nunique()"
   ]
  },
  {
   "cell_type": "code",
   "execution_count": 33,
   "id": "c5bd3ae6",
   "metadata": {},
   "outputs": [
    {
     "data": {
      "text/plain": [
       "(34857, 21)"
      ]
     },
     "execution_count": 33,
     "metadata": {},
     "output_type": "execute_result"
    }
   ],
   "source": [
    "dataset.shape"
   ]
  },
  {
   "cell_type": "code",
   "execution_count": 34,
   "id": "4724df81",
   "metadata": {},
   "outputs": [],
   "source": [
    "cols_to_use = ['Suburb','Rooms','Type','SellerG','Regionname','Propertycount','Distance','CouncilArea','Bedroom2','Bathroom', 'Car','Landsize','BuildingArea','Price']"
   ]
  },
  {
   "cell_type": "code",
   "execution_count": 35,
   "id": "f54f6a22",
   "metadata": {},
   "outputs": [],
   "source": [
    "dataset = dataset[cols_to_use]"
   ]
  },
  {
   "cell_type": "code",
   "execution_count": 36,
   "id": "738b2cfb",
   "metadata": {},
   "outputs": [
    {
     "data": {
      "application/vnd.microsoft.datawrangler.viewer.v0+json": {
       "columns": [
        {
         "name": "index",
         "rawType": "int64",
         "type": "integer"
        },
        {
         "name": "Suburb",
         "rawType": "object",
         "type": "string"
        },
        {
         "name": "Rooms",
         "rawType": "int64",
         "type": "integer"
        },
        {
         "name": "Type",
         "rawType": "object",
         "type": "string"
        },
        {
         "name": "SellerG",
         "rawType": "object",
         "type": "string"
        },
        {
         "name": "Regionname",
         "rawType": "object",
         "type": "unknown"
        },
        {
         "name": "Propertycount",
         "rawType": "float64",
         "type": "float"
        },
        {
         "name": "Distance",
         "rawType": "float64",
         "type": "float"
        },
        {
         "name": "CouncilArea",
         "rawType": "object",
         "type": "unknown"
        },
        {
         "name": "Bedroom2",
         "rawType": "float64",
         "type": "float"
        },
        {
         "name": "Bathroom",
         "rawType": "float64",
         "type": "float"
        },
        {
         "name": "Car",
         "rawType": "float64",
         "type": "float"
        },
        {
         "name": "Landsize",
         "rawType": "float64",
         "type": "float"
        },
        {
         "name": "BuildingArea",
         "rawType": "float64",
         "type": "float"
        },
        {
         "name": "Price",
         "rawType": "float64",
         "type": "float"
        }
       ],
       "conversionMethod": "pd.DataFrame",
       "ref": "2e333f23-0fff-4253-aaac-e976f14e7eca",
       "rows": [
        [
         "0",
         "Abbotsford",
         "2",
         "h",
         "Jellis",
         "Northern Metropolitan",
         "4019.0",
         "2.5",
         "Yarra City Council",
         "2.0",
         "1.0",
         "1.0",
         "126.0",
         null,
         null
        ],
        [
         "1",
         "Abbotsford",
         "2",
         "h",
         "Biggin",
         "Northern Metropolitan",
         "4019.0",
         "2.5",
         "Yarra City Council",
         "2.0",
         "1.0",
         "1.0",
         "202.0",
         null,
         "1480000.0"
        ],
        [
         "2",
         "Abbotsford",
         "2",
         "h",
         "Biggin",
         "Northern Metropolitan",
         "4019.0",
         "2.5",
         "Yarra City Council",
         "2.0",
         "1.0",
         "0.0",
         "156.0",
         "79.0",
         "1035000.0"
        ],
        [
         "3",
         "Abbotsford",
         "3",
         "u",
         "Rounds",
         "Northern Metropolitan",
         "4019.0",
         "2.5",
         "Yarra City Council",
         "3.0",
         "2.0",
         "1.0",
         "0.0",
         null,
         null
        ],
        [
         "4",
         "Abbotsford",
         "3",
         "h",
         "Biggin",
         "Northern Metropolitan",
         "4019.0",
         "2.5",
         "Yarra City Council",
         "3.0",
         "2.0",
         "0.0",
         "134.0",
         "150.0",
         "1465000.0"
        ],
        [
         "5",
         "Abbotsford",
         "3",
         "h",
         "Biggin",
         "Northern Metropolitan",
         "4019.0",
         "2.5",
         "Yarra City Council",
         "3.0",
         "2.0",
         "1.0",
         "94.0",
         null,
         "850000.0"
        ],
        [
         "6",
         "Abbotsford",
         "4",
         "h",
         "Nelson",
         "Northern Metropolitan",
         "4019.0",
         "2.5",
         "Yarra City Council",
         "3.0",
         "1.0",
         "2.0",
         "120.0",
         "142.0",
         "1600000.0"
        ],
        [
         "7",
         "Abbotsford",
         "4",
         "h",
         "Nelson",
         "Northern Metropolitan",
         "4019.0",
         "2.5",
         "Yarra City Council",
         "3.0",
         "2.0",
         "2.0",
         "400.0",
         "220.0",
         null
        ],
        [
         "8",
         "Abbotsford",
         "2",
         "h",
         "Biggin",
         "Northern Metropolitan",
         "4019.0",
         "2.5",
         "Yarra City Council",
         "4.0",
         "1.0",
         "2.0",
         "201.0",
         null,
         null
        ],
        [
         "9",
         "Abbotsford",
         "2",
         "h",
         "Collins",
         "Northern Metropolitan",
         "4019.0",
         "2.5",
         "Yarra City Council",
         "3.0",
         "2.0",
         "1.0",
         "202.0",
         null,
         null
        ],
        [
         "10",
         "Abbotsford",
         "2",
         "h",
         "Jellis",
         "Northern Metropolitan",
         "4019.0",
         "2.5",
         "Yarra City Council",
         "2.0",
         "1.0",
         "0.0",
         "181.0",
         null,
         "941000.0"
        ],
        [
         "11",
         "Abbotsford",
         "3",
         "h",
         "Nelson",
         "Northern Metropolitan",
         "4019.0",
         "2.5",
         "Yarra City Council",
         "4.0",
         "2.0",
         "0.0",
         "245.0",
         "210.0",
         "1876000.0"
        ],
        [
         "12",
         "Abbotsford",
         "2",
         "u",
         "Biggin",
         "Northern Metropolitan",
         "4019.0",
         "2.5",
         "Yarra City Council",
         "2.0",
         "2.0",
         "1.0",
         "4292.0",
         "82.0",
         null
        ],
        [
         "13",
         "Abbotsford",
         "4",
         "h",
         "Biggin",
         "Northern Metropolitan",
         "4019.0",
         "2.5",
         "Yarra City Council",
         "6.0",
         "2.0",
         "0.0",
         "230.0",
         "147.0",
         null
        ],
        [
         "14",
         "Abbotsford",
         "2",
         "h",
         "Nelson",
         "Northern Metropolitan",
         "4019.0",
         "2.5",
         "Yarra City Council",
         "2.0",
         "1.0",
         "2.0",
         "256.0",
         "107.0",
         "1636000.0"
        ],
        [
         "15",
         "Abbotsford",
         "3",
         "h",
         "Jellis",
         "Northern Metropolitan",
         "4019.0",
         "2.5",
         "Yarra City Council",
         null,
         null,
         null,
         null,
         null,
         "1000000.0"
        ],
        [
         "16",
         "Abbotsford",
         "2",
         "t",
         "Jellis",
         "Northern Metropolitan",
         "4019.0",
         "2.5",
         "Yarra City Council",
         null,
         null,
         null,
         null,
         null,
         "745000.0"
        ],
        [
         "17",
         "Abbotsford",
         "1",
         "u",
         "Biggin",
         "Northern Metropolitan",
         "4019.0",
         "2.5",
         "Yarra City Council",
         "1.0",
         "1.0",
         "1.0",
         "0.0",
         null,
         "300000.0"
        ],
        [
         "18",
         "Abbotsford",
         "2",
         "h",
         "Biggin",
         "Northern Metropolitan",
         "4019.0",
         "2.5",
         "Yarra City Council",
         "3.0",
         "1.0",
         "2.0",
         "220.0",
         "75.0",
         "1097000.0"
        ],
        [
         "19",
         "Abbotsford",
         "2",
         "u",
         "Dingle",
         "Northern Metropolitan",
         "4019.0",
         "2.5",
         "Yarra City Council",
         null,
         null,
         null,
         null,
         null,
         "542000.0"
        ],
        [
         "20",
         "Abbotsford",
         "2",
         "h",
         "Biggin",
         "Northern Metropolitan",
         "4019.0",
         "2.5",
         "Yarra City Council",
         "2.0",
         "1.0",
         "1.0",
         "176.0",
         "80.0",
         null
        ],
        [
         "21",
         "Abbotsford",
         "2",
         "u",
         "Biggin",
         "Northern Metropolitan",
         "4019.0",
         "2.5",
         "Yarra City Council",
         null,
         null,
         null,
         null,
         null,
         "760000.0"
        ],
        [
         "22",
         "Abbotsford",
         "1",
         "u",
         "Purplebricks",
         "Northern Metropolitan",
         "4019.0",
         "2.5",
         "Yarra City Council",
         null,
         null,
         null,
         null,
         null,
         "481000.0"
        ],
        [
         "23",
         "Abbotsford",
         "2",
         "u",
         "Jellis",
         "Northern Metropolitan",
         "4019.0",
         "2.5",
         "Yarra City Council",
         "2.0",
         "2.0",
         "1.0",
         "0.0",
         null,
         "700000.0"
        ],
        [
         "24",
         "Abbotsford",
         "3",
         "h",
         "Nelson",
         "Northern Metropolitan",
         "4019.0",
         "2.5",
         "Yarra City Council",
         "3.0",
         "2.0",
         "2.0",
         "214.0",
         "190.0",
         "1350000.0"
        ],
        [
         "25",
         "Abbotsford",
         "2",
         "u",
         "Biggin",
         "Northern Metropolitan",
         "4019.0",
         "2.5",
         "Yarra City Council",
         "2.0",
         "2.0",
         "1.0",
         "0.0",
         "94.0",
         "750000.0"
        ],
        [
         "26",
         "Abbotsford",
         "4",
         "h",
         "Biggin",
         "Northern Metropolitan",
         "4019.0",
         "2.5",
         "Yarra City Council",
         null,
         null,
         null,
         null,
         null,
         "1985000.0"
        ],
        [
         "27",
         "Abbotsford",
         "1",
         "u",
         "Biggin",
         "Northern Metropolitan",
         "4019.0",
         "2.5",
         "Yarra City Council",
         null,
         null,
         null,
         null,
         null,
         "500000.0"
        ],
        [
         "28",
         "Abbotsford",
         "2",
         "h",
         "Biggin",
         "Northern Metropolitan",
         "4019.0",
         "2.5",
         "Yarra City Council",
         "2.0",
         "1.0",
         "1.0",
         "195.0",
         null,
         "1172500.0"
        ],
        [
         "29",
         "Abbotsford",
         "1",
         "u",
         "Greg",
         "Northern Metropolitan",
         "4019.0",
         "2.5",
         "Yarra City Council",
         "1.0",
         "1.0",
         "1.0",
         "0.0",
         null,
         "441000.0"
        ],
        [
         "30",
         "Abbotsford",
         "2",
         "h",
         "Jellis",
         "Northern Metropolitan",
         "4019.0",
         "2.5",
         "Yarra City Council",
         "2.0",
         "1.0",
         "2.0",
         "238.0",
         "97.0",
         "1310000.0"
        ],
        [
         "31",
         "Abbotsford",
         "3",
         "u",
         "Philip",
         "Northern Metropolitan",
         "4019.0",
         "2.5",
         "Yarra City Council",
         "3.0",
         "2.0",
         "2.0",
         "0.0",
         "129.0",
         null
        ],
        [
         "32",
         "Abbotsford",
         "3",
         "h",
         "Jellis",
         "Northern Metropolitan",
         "4019.0",
         "2.5",
         "Yarra City Council",
         "3.0",
         "2.0",
         "1.0",
         "113.0",
         "110.0",
         "1200000.0"
        ],
        [
         "33",
         "Abbotsford",
         "2",
         "t",
         "Jellis",
         "Northern Metropolitan",
         "4019.0",
         "2.5",
         "Yarra City Council",
         null,
         null,
         null,
         null,
         null,
         "847000.0"
        ],
        [
         "34",
         "Abbotsford",
         "2",
         "h",
         "Biggin",
         "Northern Metropolitan",
         "4019.0",
         "2.5",
         "Yarra City Council",
         null,
         null,
         null,
         null,
         null,
         null
        ],
        [
         "35",
         "Abbotsford",
         "3",
         "h",
         "LITTLE",
         "Northern Metropolitan",
         "4019.0",
         "2.5",
         "Yarra City Council",
         "2.0",
         "1.0",
         "1.0",
         "138.0",
         "105.0",
         "1176500.0"
        ],
        [
         "36",
         "Abbotsford",
         "3",
         "h",
         "Collins",
         "Northern Metropolitan",
         "4019.0",
         "2.5",
         "Yarra City Council",
         "3.0",
         "1.0",
         "0.0",
         "183.0",
         null,
         "955000.0"
        ],
        [
         "37",
         "Abbotsford",
         "2",
         "h",
         "Biggin",
         "Northern Metropolitan",
         "4019.0",
         "2.5",
         "Yarra City Council",
         "2.0",
         "1.0",
         "1.0",
         "150.0",
         "73.0",
         "890000.0"
        ],
        [
         "38",
         "Abbotsford",
         "4",
         "h",
         "Kay",
         "Northern Metropolitan",
         "4019.0",
         "2.5",
         "Yarra City Council",
         "4.0",
         "2.0",
         "2.0",
         "780.0",
         "135.0",
         "1330000.0"
        ],
        [
         "39",
         "Abbotsford",
         "3",
         "h",
         "Nelson",
         "Northern Metropolitan",
         "4019.0",
         "2.5",
         "Yarra City Council",
         "3.0",
         "2.0",
         "1.0",
         "119.0",
         "167.0",
         null
        ],
        [
         "40",
         "Abbotsford",
         "3",
         "t",
         "Beller",
         "Northern Metropolitan",
         "4019.0",
         "2.5",
         "Yarra City Council",
         "3.0",
         "2.0",
         "2.0",
         "0.0",
         null,
         "900000.0"
        ],
        [
         "41",
         "Abbotsford",
         "3",
         "u",
         "Jellis",
         "Northern Metropolitan",
         "4019.0",
         "2.5",
         "Yarra City Council",
         "3.0",
         "2.0",
         "2.0",
         "4290.0",
         "27.0",
         "1090000.0"
        ],
        [
         "42",
         "Abbotsford",
         "2",
         "u",
         "Collins",
         "Northern Metropolitan",
         "4019.0",
         "2.5",
         "Yarra City Council",
         "2.0",
         "1.0",
         "1.0",
         "0.0",
         "60.0",
         "500000.0"
        ],
        [
         "43",
         "Abbotsford",
         "2",
         "h",
         "Biggin",
         "Northern Metropolitan",
         "4019.0",
         "2.5",
         "Yarra City Council",
         "2.0",
         "2.0",
         "1.0",
         "124.0",
         "135.0",
         "1100000.0"
        ],
        [
         "44",
         "Abbotsford",
         "2",
         "h",
         "Marshall",
         "Northern Metropolitan",
         "4019.0",
         "2.5",
         "Yarra City Council",
         "2.0",
         "1.0",
         "0.0",
         "147.0",
         "85.0",
         "1315000.0"
        ],
        [
         "45",
         "Abbotsford",
         "1",
         "u",
         "Biggin",
         "Northern Metropolitan",
         "4019.0",
         "2.5",
         "Yarra City Council",
         null,
         null,
         null,
         null,
         null,
         "480000.0"
        ],
        [
         "46",
         "Abbotsford",
         "1",
         "u",
         "hockingstuart",
         "Northern Metropolitan",
         "4019.0",
         "2.5",
         "Yarra City Council",
         null,
         null,
         null,
         null,
         null,
         "423500.0"
        ],
        [
         "47",
         "Abbotsford",
         "4",
         "h",
         "Biggin",
         "Northern Metropolitan",
         "4019.0",
         "2.5",
         "Yarra City Council",
         null,
         null,
         null,
         null,
         null,
         null
        ],
        [
         "48",
         "Abbotsford",
         "1",
         "u",
         "Greg",
         "Northern Metropolitan",
         "4019.0",
         "2.5",
         "Yarra City Council",
         "1.0",
         "1.0",
         "1.0",
         "0.0",
         null,
         "426000.0"
        ],
        [
         "49",
         "Abbotsford",
         "3",
         "h",
         "Nelson",
         "Northern Metropolitan",
         "4019.0",
         "2.5",
         "Yarra City Council",
         "3.0",
         "3.0",
         "1.0",
         "166.0",
         "174.0",
         "1447500.0"
        ]
       ],
       "shape": {
        "columns": 14,
        "rows": 34857
       }
      },
      "text/html": [
       "<div>\n",
       "<style scoped>\n",
       "    .dataframe tbody tr th:only-of-type {\n",
       "        vertical-align: middle;\n",
       "    }\n",
       "\n",
       "    .dataframe tbody tr th {\n",
       "        vertical-align: top;\n",
       "    }\n",
       "\n",
       "    .dataframe thead th {\n",
       "        text-align: right;\n",
       "    }\n",
       "</style>\n",
       "<table border=\"1\" class=\"dataframe\">\n",
       "  <thead>\n",
       "    <tr style=\"text-align: right;\">\n",
       "      <th></th>\n",
       "      <th>Suburb</th>\n",
       "      <th>Rooms</th>\n",
       "      <th>Type</th>\n",
       "      <th>SellerG</th>\n",
       "      <th>Regionname</th>\n",
       "      <th>Propertycount</th>\n",
       "      <th>Distance</th>\n",
       "      <th>CouncilArea</th>\n",
       "      <th>Bedroom2</th>\n",
       "      <th>Bathroom</th>\n",
       "      <th>Car</th>\n",
       "      <th>Landsize</th>\n",
       "      <th>BuildingArea</th>\n",
       "      <th>Price</th>\n",
       "    </tr>\n",
       "  </thead>\n",
       "  <tbody>\n",
       "    <tr>\n",
       "      <th>0</th>\n",
       "      <td>Abbotsford</td>\n",
       "      <td>2</td>\n",
       "      <td>h</td>\n",
       "      <td>Jellis</td>\n",
       "      <td>Northern Metropolitan</td>\n",
       "      <td>4019.0</td>\n",
       "      <td>2.5</td>\n",
       "      <td>Yarra City Council</td>\n",
       "      <td>2.0</td>\n",
       "      <td>1.0</td>\n",
       "      <td>1.0</td>\n",
       "      <td>126.0</td>\n",
       "      <td>NaN</td>\n",
       "      <td>NaN</td>\n",
       "    </tr>\n",
       "    <tr>\n",
       "      <th>1</th>\n",
       "      <td>Abbotsford</td>\n",
       "      <td>2</td>\n",
       "      <td>h</td>\n",
       "      <td>Biggin</td>\n",
       "      <td>Northern Metropolitan</td>\n",
       "      <td>4019.0</td>\n",
       "      <td>2.5</td>\n",
       "      <td>Yarra City Council</td>\n",
       "      <td>2.0</td>\n",
       "      <td>1.0</td>\n",
       "      <td>1.0</td>\n",
       "      <td>202.0</td>\n",
       "      <td>NaN</td>\n",
       "      <td>1480000.0</td>\n",
       "    </tr>\n",
       "    <tr>\n",
       "      <th>2</th>\n",
       "      <td>Abbotsford</td>\n",
       "      <td>2</td>\n",
       "      <td>h</td>\n",
       "      <td>Biggin</td>\n",
       "      <td>Northern Metropolitan</td>\n",
       "      <td>4019.0</td>\n",
       "      <td>2.5</td>\n",
       "      <td>Yarra City Council</td>\n",
       "      <td>2.0</td>\n",
       "      <td>1.0</td>\n",
       "      <td>0.0</td>\n",
       "      <td>156.0</td>\n",
       "      <td>79.0</td>\n",
       "      <td>1035000.0</td>\n",
       "    </tr>\n",
       "    <tr>\n",
       "      <th>3</th>\n",
       "      <td>Abbotsford</td>\n",
       "      <td>3</td>\n",
       "      <td>u</td>\n",
       "      <td>Rounds</td>\n",
       "      <td>Northern Metropolitan</td>\n",
       "      <td>4019.0</td>\n",
       "      <td>2.5</td>\n",
       "      <td>Yarra City Council</td>\n",
       "      <td>3.0</td>\n",
       "      <td>2.0</td>\n",
       "      <td>1.0</td>\n",
       "      <td>0.0</td>\n",
       "      <td>NaN</td>\n",
       "      <td>NaN</td>\n",
       "    </tr>\n",
       "    <tr>\n",
       "      <th>4</th>\n",
       "      <td>Abbotsford</td>\n",
       "      <td>3</td>\n",
       "      <td>h</td>\n",
       "      <td>Biggin</td>\n",
       "      <td>Northern Metropolitan</td>\n",
       "      <td>4019.0</td>\n",
       "      <td>2.5</td>\n",
       "      <td>Yarra City Council</td>\n",
       "      <td>3.0</td>\n",
       "      <td>2.0</td>\n",
       "      <td>0.0</td>\n",
       "      <td>134.0</td>\n",
       "      <td>150.0</td>\n",
       "      <td>1465000.0</td>\n",
       "    </tr>\n",
       "    <tr>\n",
       "      <th>...</th>\n",
       "      <td>...</td>\n",
       "      <td>...</td>\n",
       "      <td>...</td>\n",
       "      <td>...</td>\n",
       "      <td>...</td>\n",
       "      <td>...</td>\n",
       "      <td>...</td>\n",
       "      <td>...</td>\n",
       "      <td>...</td>\n",
       "      <td>...</td>\n",
       "      <td>...</td>\n",
       "      <td>...</td>\n",
       "      <td>...</td>\n",
       "      <td>...</td>\n",
       "    </tr>\n",
       "    <tr>\n",
       "      <th>34852</th>\n",
       "      <td>Yarraville</td>\n",
       "      <td>4</td>\n",
       "      <td>h</td>\n",
       "      <td>Jas</td>\n",
       "      <td>Western Metropolitan</td>\n",
       "      <td>6543.0</td>\n",
       "      <td>6.3</td>\n",
       "      <td>Maribyrnong City Council</td>\n",
       "      <td>4.0</td>\n",
       "      <td>1.0</td>\n",
       "      <td>3.0</td>\n",
       "      <td>593.0</td>\n",
       "      <td>NaN</td>\n",
       "      <td>1480000.0</td>\n",
       "    </tr>\n",
       "    <tr>\n",
       "      <th>34853</th>\n",
       "      <td>Yarraville</td>\n",
       "      <td>2</td>\n",
       "      <td>h</td>\n",
       "      <td>Sweeney</td>\n",
       "      <td>Western Metropolitan</td>\n",
       "      <td>6543.0</td>\n",
       "      <td>6.3</td>\n",
       "      <td>Maribyrnong City Council</td>\n",
       "      <td>2.0</td>\n",
       "      <td>2.0</td>\n",
       "      <td>1.0</td>\n",
       "      <td>98.0</td>\n",
       "      <td>104.0</td>\n",
       "      <td>888000.0</td>\n",
       "    </tr>\n",
       "    <tr>\n",
       "      <th>34854</th>\n",
       "      <td>Yarraville</td>\n",
       "      <td>2</td>\n",
       "      <td>t</td>\n",
       "      <td>Jas</td>\n",
       "      <td>Western Metropolitan</td>\n",
       "      <td>6543.0</td>\n",
       "      <td>6.3</td>\n",
       "      <td>Maribyrnong City Council</td>\n",
       "      <td>2.0</td>\n",
       "      <td>1.0</td>\n",
       "      <td>2.0</td>\n",
       "      <td>220.0</td>\n",
       "      <td>120.0</td>\n",
       "      <td>705000.0</td>\n",
       "    </tr>\n",
       "    <tr>\n",
       "      <th>34855</th>\n",
       "      <td>Yarraville</td>\n",
       "      <td>3</td>\n",
       "      <td>h</td>\n",
       "      <td>hockingstuart</td>\n",
       "      <td>Western Metropolitan</td>\n",
       "      <td>6543.0</td>\n",
       "      <td>6.3</td>\n",
       "      <td>Maribyrnong City Council</td>\n",
       "      <td>NaN</td>\n",
       "      <td>NaN</td>\n",
       "      <td>NaN</td>\n",
       "      <td>NaN</td>\n",
       "      <td>NaN</td>\n",
       "      <td>1140000.0</td>\n",
       "    </tr>\n",
       "    <tr>\n",
       "      <th>34856</th>\n",
       "      <td>Yarraville</td>\n",
       "      <td>2</td>\n",
       "      <td>h</td>\n",
       "      <td>RW</td>\n",
       "      <td>Western Metropolitan</td>\n",
       "      <td>6543.0</td>\n",
       "      <td>6.3</td>\n",
       "      <td>Maribyrnong City Council</td>\n",
       "      <td>2.0</td>\n",
       "      <td>1.0</td>\n",
       "      <td>0.0</td>\n",
       "      <td>250.0</td>\n",
       "      <td>103.0</td>\n",
       "      <td>1020000.0</td>\n",
       "    </tr>\n",
       "  </tbody>\n",
       "</table>\n",
       "<p>34857 rows × 14 columns</p>\n",
       "</div>"
      ],
      "text/plain": [
       "           Suburb  Rooms Type        SellerG             Regionname  \\\n",
       "0      Abbotsford      2    h         Jellis  Northern Metropolitan   \n",
       "1      Abbotsford      2    h         Biggin  Northern Metropolitan   \n",
       "2      Abbotsford      2    h         Biggin  Northern Metropolitan   \n",
       "3      Abbotsford      3    u         Rounds  Northern Metropolitan   \n",
       "4      Abbotsford      3    h         Biggin  Northern Metropolitan   \n",
       "...           ...    ...  ...            ...                    ...   \n",
       "34852  Yarraville      4    h            Jas   Western Metropolitan   \n",
       "34853  Yarraville      2    h        Sweeney   Western Metropolitan   \n",
       "34854  Yarraville      2    t            Jas   Western Metropolitan   \n",
       "34855  Yarraville      3    h  hockingstuart   Western Metropolitan   \n",
       "34856  Yarraville      2    h             RW   Western Metropolitan   \n",
       "\n",
       "       Propertycount  Distance               CouncilArea  Bedroom2  Bathroom  \\\n",
       "0             4019.0       2.5        Yarra City Council       2.0       1.0   \n",
       "1             4019.0       2.5        Yarra City Council       2.0       1.0   \n",
       "2             4019.0       2.5        Yarra City Council       2.0       1.0   \n",
       "3             4019.0       2.5        Yarra City Council       3.0       2.0   \n",
       "4             4019.0       2.5        Yarra City Council       3.0       2.0   \n",
       "...              ...       ...                       ...       ...       ...   \n",
       "34852         6543.0       6.3  Maribyrnong City Council       4.0       1.0   \n",
       "34853         6543.0       6.3  Maribyrnong City Council       2.0       2.0   \n",
       "34854         6543.0       6.3  Maribyrnong City Council       2.0       1.0   \n",
       "34855         6543.0       6.3  Maribyrnong City Council       NaN       NaN   \n",
       "34856         6543.0       6.3  Maribyrnong City Council       2.0       1.0   \n",
       "\n",
       "       Car  Landsize  BuildingArea      Price  \n",
       "0      1.0     126.0           NaN        NaN  \n",
       "1      1.0     202.0           NaN  1480000.0  \n",
       "2      0.0     156.0          79.0  1035000.0  \n",
       "3      1.0       0.0           NaN        NaN  \n",
       "4      0.0     134.0         150.0  1465000.0  \n",
       "...    ...       ...           ...        ...  \n",
       "34852  3.0     593.0           NaN  1480000.0  \n",
       "34853  1.0      98.0         104.0   888000.0  \n",
       "34854  2.0     220.0         120.0   705000.0  \n",
       "34855  NaN       NaN           NaN  1140000.0  \n",
       "34856  0.0     250.0         103.0  1020000.0  \n",
       "\n",
       "[34857 rows x 14 columns]"
      ]
     },
     "execution_count": 36,
     "metadata": {},
     "output_type": "execute_result"
    }
   ],
   "source": [
    "dataset"
   ]
  },
  {
   "cell_type": "code",
   "execution_count": 37,
   "id": "b77d9708",
   "metadata": {},
   "outputs": [
    {
     "data": {
      "text/plain": [
       "0        Abbotsford\n",
       "1        Abbotsford\n",
       "2        Abbotsford\n",
       "3        Abbotsford\n",
       "4        Abbotsford\n",
       "            ...    \n",
       "34852    Yarraville\n",
       "34853    Yarraville\n",
       "34854    Yarraville\n",
       "34855    Yarraville\n",
       "34856    Yarraville\n",
       "Name: Suburb, Length: 34857, dtype: object"
      ]
     },
     "execution_count": 37,
     "metadata": {},
     "output_type": "execute_result"
    }
   ],
   "source": [
    "dataset['Suburb']"
   ]
  },
  {
   "cell_type": "code",
   "execution_count": 38,
   "id": "1b3c1b09",
   "metadata": {},
   "outputs": [
    {
     "data": {
      "application/vnd.microsoft.datawrangler.viewer.v0+json": {
       "columns": [
        {
         "name": "index",
         "rawType": "int64",
         "type": "integer"
        },
        {
         "name": "Suburb",
         "rawType": "object",
         "type": "string"
        },
        {
         "name": "Rooms",
         "rawType": "int64",
         "type": "integer"
        },
        {
         "name": "Type",
         "rawType": "object",
         "type": "string"
        },
        {
         "name": "SellerG",
         "rawType": "object",
         "type": "string"
        },
        {
         "name": "Regionname",
         "rawType": "object",
         "type": "string"
        },
        {
         "name": "Propertycount",
         "rawType": "float64",
         "type": "float"
        },
        {
         "name": "Distance",
         "rawType": "float64",
         "type": "float"
        },
        {
         "name": "CouncilArea",
         "rawType": "object",
         "type": "string"
        },
        {
         "name": "Bedroom2",
         "rawType": "float64",
         "type": "float"
        },
        {
         "name": "Bathroom",
         "rawType": "float64",
         "type": "float"
        },
        {
         "name": "Car",
         "rawType": "float64",
         "type": "float"
        },
        {
         "name": "Landsize",
         "rawType": "float64",
         "type": "float"
        },
        {
         "name": "BuildingArea",
         "rawType": "float64",
         "type": "float"
        },
        {
         "name": "Price",
         "rawType": "float64",
         "type": "float"
        }
       ],
       "conversionMethod": "pd.DataFrame",
       "ref": "5c34b47f-7469-4dd5-8c8a-e122bd5be396",
       "rows": [
        [
         "0",
         "Abbotsford",
         "2",
         "h",
         "Jellis",
         "Northern Metropolitan",
         "4019.0",
         "2.5",
         "Yarra City Council",
         "2.0",
         "1.0",
         "1.0",
         "126.0",
         null,
         null
        ],
        [
         "1",
         "Abbotsford",
         "2",
         "h",
         "Biggin",
         "Northern Metropolitan",
         "4019.0",
         "2.5",
         "Yarra City Council",
         "2.0",
         "1.0",
         "1.0",
         "202.0",
         null,
         "1480000.0"
        ],
        [
         "2",
         "Abbotsford",
         "2",
         "h",
         "Biggin",
         "Northern Metropolitan",
         "4019.0",
         "2.5",
         "Yarra City Council",
         "2.0",
         "1.0",
         "0.0",
         "156.0",
         "79.0",
         "1035000.0"
        ],
        [
         "3",
         "Abbotsford",
         "3",
         "u",
         "Rounds",
         "Northern Metropolitan",
         "4019.0",
         "2.5",
         "Yarra City Council",
         "3.0",
         "2.0",
         "1.0",
         "0.0",
         null,
         null
        ],
        [
         "4",
         "Abbotsford",
         "3",
         "h",
         "Biggin",
         "Northern Metropolitan",
         "4019.0",
         "2.5",
         "Yarra City Council",
         "3.0",
         "2.0",
         "0.0",
         "134.0",
         "150.0",
         "1465000.0"
        ]
       ],
       "shape": {
        "columns": 14,
        "rows": 5
       }
      },
      "text/html": [
       "<div>\n",
       "<style scoped>\n",
       "    .dataframe tbody tr th:only-of-type {\n",
       "        vertical-align: middle;\n",
       "    }\n",
       "\n",
       "    .dataframe tbody tr th {\n",
       "        vertical-align: top;\n",
       "    }\n",
       "\n",
       "    .dataframe thead th {\n",
       "        text-align: right;\n",
       "    }\n",
       "</style>\n",
       "<table border=\"1\" class=\"dataframe\">\n",
       "  <thead>\n",
       "    <tr style=\"text-align: right;\">\n",
       "      <th></th>\n",
       "      <th>Suburb</th>\n",
       "      <th>Rooms</th>\n",
       "      <th>Type</th>\n",
       "      <th>SellerG</th>\n",
       "      <th>Regionname</th>\n",
       "      <th>Propertycount</th>\n",
       "      <th>Distance</th>\n",
       "      <th>CouncilArea</th>\n",
       "      <th>Bedroom2</th>\n",
       "      <th>Bathroom</th>\n",
       "      <th>Car</th>\n",
       "      <th>Landsize</th>\n",
       "      <th>BuildingArea</th>\n",
       "      <th>Price</th>\n",
       "    </tr>\n",
       "  </thead>\n",
       "  <tbody>\n",
       "    <tr>\n",
       "      <th>0</th>\n",
       "      <td>Abbotsford</td>\n",
       "      <td>2</td>\n",
       "      <td>h</td>\n",
       "      <td>Jellis</td>\n",
       "      <td>Northern Metropolitan</td>\n",
       "      <td>4019.0</td>\n",
       "      <td>2.5</td>\n",
       "      <td>Yarra City Council</td>\n",
       "      <td>2.0</td>\n",
       "      <td>1.0</td>\n",
       "      <td>1.0</td>\n",
       "      <td>126.0</td>\n",
       "      <td>NaN</td>\n",
       "      <td>NaN</td>\n",
       "    </tr>\n",
       "    <tr>\n",
       "      <th>1</th>\n",
       "      <td>Abbotsford</td>\n",
       "      <td>2</td>\n",
       "      <td>h</td>\n",
       "      <td>Biggin</td>\n",
       "      <td>Northern Metropolitan</td>\n",
       "      <td>4019.0</td>\n",
       "      <td>2.5</td>\n",
       "      <td>Yarra City Council</td>\n",
       "      <td>2.0</td>\n",
       "      <td>1.0</td>\n",
       "      <td>1.0</td>\n",
       "      <td>202.0</td>\n",
       "      <td>NaN</td>\n",
       "      <td>1480000.0</td>\n",
       "    </tr>\n",
       "    <tr>\n",
       "      <th>2</th>\n",
       "      <td>Abbotsford</td>\n",
       "      <td>2</td>\n",
       "      <td>h</td>\n",
       "      <td>Biggin</td>\n",
       "      <td>Northern Metropolitan</td>\n",
       "      <td>4019.0</td>\n",
       "      <td>2.5</td>\n",
       "      <td>Yarra City Council</td>\n",
       "      <td>2.0</td>\n",
       "      <td>1.0</td>\n",
       "      <td>0.0</td>\n",
       "      <td>156.0</td>\n",
       "      <td>79.0</td>\n",
       "      <td>1035000.0</td>\n",
       "    </tr>\n",
       "    <tr>\n",
       "      <th>3</th>\n",
       "      <td>Abbotsford</td>\n",
       "      <td>3</td>\n",
       "      <td>u</td>\n",
       "      <td>Rounds</td>\n",
       "      <td>Northern Metropolitan</td>\n",
       "      <td>4019.0</td>\n",
       "      <td>2.5</td>\n",
       "      <td>Yarra City Council</td>\n",
       "      <td>3.0</td>\n",
       "      <td>2.0</td>\n",
       "      <td>1.0</td>\n",
       "      <td>0.0</td>\n",
       "      <td>NaN</td>\n",
       "      <td>NaN</td>\n",
       "    </tr>\n",
       "    <tr>\n",
       "      <th>4</th>\n",
       "      <td>Abbotsford</td>\n",
       "      <td>3</td>\n",
       "      <td>h</td>\n",
       "      <td>Biggin</td>\n",
       "      <td>Northern Metropolitan</td>\n",
       "      <td>4019.0</td>\n",
       "      <td>2.5</td>\n",
       "      <td>Yarra City Council</td>\n",
       "      <td>3.0</td>\n",
       "      <td>2.0</td>\n",
       "      <td>0.0</td>\n",
       "      <td>134.0</td>\n",
       "      <td>150.0</td>\n",
       "      <td>1465000.0</td>\n",
       "    </tr>\n",
       "  </tbody>\n",
       "</table>\n",
       "</div>"
      ],
      "text/plain": [
       "       Suburb  Rooms Type SellerG             Regionname  Propertycount  \\\n",
       "0  Abbotsford      2    h  Jellis  Northern Metropolitan         4019.0   \n",
       "1  Abbotsford      2    h  Biggin  Northern Metropolitan         4019.0   \n",
       "2  Abbotsford      2    h  Biggin  Northern Metropolitan         4019.0   \n",
       "3  Abbotsford      3    u  Rounds  Northern Metropolitan         4019.0   \n",
       "4  Abbotsford      3    h  Biggin  Northern Metropolitan         4019.0   \n",
       "\n",
       "   Distance         CouncilArea  Bedroom2  Bathroom  Car  Landsize  \\\n",
       "0       2.5  Yarra City Council       2.0       1.0  1.0     126.0   \n",
       "1       2.5  Yarra City Council       2.0       1.0  1.0     202.0   \n",
       "2       2.5  Yarra City Council       2.0       1.0  0.0     156.0   \n",
       "3       2.5  Yarra City Council       3.0       2.0  1.0       0.0   \n",
       "4       2.5  Yarra City Council       3.0       2.0  0.0     134.0   \n",
       "\n",
       "   BuildingArea      Price  \n",
       "0           NaN        NaN  \n",
       "1           NaN  1480000.0  \n",
       "2          79.0  1035000.0  \n",
       "3           NaN        NaN  \n",
       "4         150.0  1465000.0  "
      ]
     },
     "execution_count": 38,
     "metadata": {},
     "output_type": "execute_result"
    }
   ],
   "source": [
    "dataset.head()"
   ]
  },
  {
   "cell_type": "code",
   "execution_count": 39,
   "id": "7c38d9d8",
   "metadata": {},
   "outputs": [
    {
     "name": "stdout",
     "output_type": "stream",
     "text": [
      "'Jason'\n"
     ]
    }
   ],
   "source": [
    "pp(\"Jason\")"
   ]
  },
  {
   "cell_type": "code",
   "execution_count": 40,
   "id": "b0b55bb4",
   "metadata": {},
   "outputs": [
    {
     "data": {
      "text/plain": [
       "Suburb               0\n",
       "Rooms                0\n",
       "Type                 0\n",
       "SellerG              0\n",
       "Regionname           3\n",
       "Propertycount        3\n",
       "Distance             1\n",
       "CouncilArea          3\n",
       "Bedroom2          8217\n",
       "Bathroom          8226\n",
       "Car               8728\n",
       "Landsize         11810\n",
       "BuildingArea     21115\n",
       "Price             7610\n",
       "dtype: int64"
      ]
     },
     "execution_count": 40,
     "metadata": {},
     "output_type": "execute_result"
    }
   ],
   "source": [
    "dataset.isna().sum()"
   ]
  },
  {
   "cell_type": "code",
   "execution_count": 41,
   "id": "b1f217ad",
   "metadata": {},
   "outputs": [],
   "source": [
    "cols_to_fill_zero = ['Propertycount','Distance','Bedroom2','Bathroom','Car']\n",
    "dataset[cols_to_fill_zero] = dataset[cols_to_fill_zero].fillna(0)"
   ]
  },
  {
   "cell_type": "code",
   "execution_count": 42,
   "id": "5d4ef427",
   "metadata": {},
   "outputs": [
    {
     "data": {
      "text/plain": [
       "Suburb               0\n",
       "Rooms                0\n",
       "Type                 0\n",
       "SellerG              0\n",
       "Regionname           3\n",
       "Propertycount        0\n",
       "Distance             0\n",
       "CouncilArea          3\n",
       "Bedroom2             0\n",
       "Bathroom             0\n",
       "Car                  0\n",
       "Landsize         11810\n",
       "BuildingArea     21115\n",
       "Price             7610\n",
       "dtype: int64"
      ]
     },
     "execution_count": 42,
     "metadata": {},
     "output_type": "execute_result"
    }
   ],
   "source": [
    "dataset.isna().sum()"
   ]
  },
  {
   "cell_type": "code",
   "execution_count": 43,
   "id": "1e558622",
   "metadata": {},
   "outputs": [],
   "source": [
    "dataset['Landsize'] = dataset['Landsize'].fillna(dataset.Landsize.mean())\n",
    "dataset['BuildingArea'] = dataset['BuildingArea'].fillna(dataset.BuildingArea.mean())"
   ]
  },
  {
   "cell_type": "code",
   "execution_count": 44,
   "id": "88a6f31a",
   "metadata": {},
   "outputs": [
    {
     "data": {
      "application/vnd.microsoft.datawrangler.viewer.v0+json": {
       "columns": [
        {
         "name": "index",
         "rawType": "int64",
         "type": "integer"
        },
        {
         "name": "Suburb",
         "rawType": "object",
         "type": "string"
        },
        {
         "name": "Rooms",
         "rawType": "int64",
         "type": "integer"
        },
        {
         "name": "Type",
         "rawType": "object",
         "type": "string"
        },
        {
         "name": "SellerG",
         "rawType": "object",
         "type": "string"
        },
        {
         "name": "Regionname",
         "rawType": "object",
         "type": "unknown"
        },
        {
         "name": "Propertycount",
         "rawType": "float64",
         "type": "float"
        },
        {
         "name": "Distance",
         "rawType": "float64",
         "type": "float"
        },
        {
         "name": "CouncilArea",
         "rawType": "object",
         "type": "unknown"
        },
        {
         "name": "Bedroom2",
         "rawType": "float64",
         "type": "float"
        },
        {
         "name": "Bathroom",
         "rawType": "float64",
         "type": "float"
        },
        {
         "name": "Car",
         "rawType": "float64",
         "type": "float"
        },
        {
         "name": "Landsize",
         "rawType": "float64",
         "type": "float"
        },
        {
         "name": "BuildingArea",
         "rawType": "float64",
         "type": "float"
        },
        {
         "name": "Price",
         "rawType": "float64",
         "type": "float"
        }
       ],
       "conversionMethod": "pd.DataFrame",
       "ref": "c71027e1-3afe-4aa7-8b77-67366ba63c68",
       "rows": [
        [
         "0",
         "Abbotsford",
         "2",
         "h",
         "Jellis",
         "Northern Metropolitan",
         "4019.0",
         "2.5",
         "Yarra City Council",
         "2.0",
         "1.0",
         "1.0",
         "126.0",
         "160.2564003565711",
         null
        ],
        [
         "1",
         "Abbotsford",
         "2",
         "h",
         "Biggin",
         "Northern Metropolitan",
         "4019.0",
         "2.5",
         "Yarra City Council",
         "2.0",
         "1.0",
         "1.0",
         "202.0",
         "160.2564003565711",
         "1480000.0"
        ],
        [
         "2",
         "Abbotsford",
         "2",
         "h",
         "Biggin",
         "Northern Metropolitan",
         "4019.0",
         "2.5",
         "Yarra City Council",
         "2.0",
         "1.0",
         "0.0",
         "156.0",
         "79.0",
         "1035000.0"
        ],
        [
         "3",
         "Abbotsford",
         "3",
         "u",
         "Rounds",
         "Northern Metropolitan",
         "4019.0",
         "2.5",
         "Yarra City Council",
         "3.0",
         "2.0",
         "1.0",
         "0.0",
         "160.2564003565711",
         null
        ],
        [
         "4",
         "Abbotsford",
         "3",
         "h",
         "Biggin",
         "Northern Metropolitan",
         "4019.0",
         "2.5",
         "Yarra City Council",
         "3.0",
         "2.0",
         "0.0",
         "134.0",
         "150.0",
         "1465000.0"
        ],
        [
         "5",
         "Abbotsford",
         "3",
         "h",
         "Biggin",
         "Northern Metropolitan",
         "4019.0",
         "2.5",
         "Yarra City Council",
         "3.0",
         "2.0",
         "1.0",
         "94.0",
         "160.2564003565711",
         "850000.0"
        ],
        [
         "6",
         "Abbotsford",
         "4",
         "h",
         "Nelson",
         "Northern Metropolitan",
         "4019.0",
         "2.5",
         "Yarra City Council",
         "3.0",
         "1.0",
         "2.0",
         "120.0",
         "142.0",
         "1600000.0"
        ],
        [
         "7",
         "Abbotsford",
         "4",
         "h",
         "Nelson",
         "Northern Metropolitan",
         "4019.0",
         "2.5",
         "Yarra City Council",
         "3.0",
         "2.0",
         "2.0",
         "400.0",
         "220.0",
         null
        ],
        [
         "8",
         "Abbotsford",
         "2",
         "h",
         "Biggin",
         "Northern Metropolitan",
         "4019.0",
         "2.5",
         "Yarra City Council",
         "4.0",
         "1.0",
         "2.0",
         "201.0",
         "160.2564003565711",
         null
        ],
        [
         "9",
         "Abbotsford",
         "2",
         "h",
         "Collins",
         "Northern Metropolitan",
         "4019.0",
         "2.5",
         "Yarra City Council",
         "3.0",
         "2.0",
         "1.0",
         "202.0",
         "160.2564003565711",
         null
        ],
        [
         "10",
         "Abbotsford",
         "2",
         "h",
         "Jellis",
         "Northern Metropolitan",
         "4019.0",
         "2.5",
         "Yarra City Council",
         "2.0",
         "1.0",
         "0.0",
         "181.0",
         "160.2564003565711",
         "941000.0"
        ],
        [
         "11",
         "Abbotsford",
         "3",
         "h",
         "Nelson",
         "Northern Metropolitan",
         "4019.0",
         "2.5",
         "Yarra City Council",
         "4.0",
         "2.0",
         "0.0",
         "245.0",
         "210.0",
         "1876000.0"
        ],
        [
         "12",
         "Abbotsford",
         "2",
         "u",
         "Biggin",
         "Northern Metropolitan",
         "4019.0",
         "2.5",
         "Yarra City Council",
         "2.0",
         "2.0",
         "1.0",
         "4292.0",
         "82.0",
         null
        ],
        [
         "13",
         "Abbotsford",
         "4",
         "h",
         "Biggin",
         "Northern Metropolitan",
         "4019.0",
         "2.5",
         "Yarra City Council",
         "6.0",
         "2.0",
         "0.0",
         "230.0",
         "147.0",
         null
        ],
        [
         "14",
         "Abbotsford",
         "2",
         "h",
         "Nelson",
         "Northern Metropolitan",
         "4019.0",
         "2.5",
         "Yarra City Council",
         "2.0",
         "1.0",
         "2.0",
         "256.0",
         "107.0",
         "1636000.0"
        ],
        [
         "15",
         "Abbotsford",
         "3",
         "h",
         "Jellis",
         "Northern Metropolitan",
         "4019.0",
         "2.5",
         "Yarra City Council",
         "0.0",
         "0.0",
         "0.0",
         "593.598993361392",
         "160.2564003565711",
         "1000000.0"
        ],
        [
         "16",
         "Abbotsford",
         "2",
         "t",
         "Jellis",
         "Northern Metropolitan",
         "4019.0",
         "2.5",
         "Yarra City Council",
         "0.0",
         "0.0",
         "0.0",
         "593.598993361392",
         "160.2564003565711",
         "745000.0"
        ],
        [
         "17",
         "Abbotsford",
         "1",
         "u",
         "Biggin",
         "Northern Metropolitan",
         "4019.0",
         "2.5",
         "Yarra City Council",
         "1.0",
         "1.0",
         "1.0",
         "0.0",
         "160.2564003565711",
         "300000.0"
        ],
        [
         "18",
         "Abbotsford",
         "2",
         "h",
         "Biggin",
         "Northern Metropolitan",
         "4019.0",
         "2.5",
         "Yarra City Council",
         "3.0",
         "1.0",
         "2.0",
         "220.0",
         "75.0",
         "1097000.0"
        ],
        [
         "19",
         "Abbotsford",
         "2",
         "u",
         "Dingle",
         "Northern Metropolitan",
         "4019.0",
         "2.5",
         "Yarra City Council",
         "0.0",
         "0.0",
         "0.0",
         "593.598993361392",
         "160.2564003565711",
         "542000.0"
        ],
        [
         "20",
         "Abbotsford",
         "2",
         "h",
         "Biggin",
         "Northern Metropolitan",
         "4019.0",
         "2.5",
         "Yarra City Council",
         "2.0",
         "1.0",
         "1.0",
         "176.0",
         "80.0",
         null
        ],
        [
         "21",
         "Abbotsford",
         "2",
         "u",
         "Biggin",
         "Northern Metropolitan",
         "4019.0",
         "2.5",
         "Yarra City Council",
         "0.0",
         "0.0",
         "0.0",
         "593.598993361392",
         "160.2564003565711",
         "760000.0"
        ],
        [
         "22",
         "Abbotsford",
         "1",
         "u",
         "Purplebricks",
         "Northern Metropolitan",
         "4019.0",
         "2.5",
         "Yarra City Council",
         "0.0",
         "0.0",
         "0.0",
         "593.598993361392",
         "160.2564003565711",
         "481000.0"
        ],
        [
         "23",
         "Abbotsford",
         "2",
         "u",
         "Jellis",
         "Northern Metropolitan",
         "4019.0",
         "2.5",
         "Yarra City Council",
         "2.0",
         "2.0",
         "1.0",
         "0.0",
         "160.2564003565711",
         "700000.0"
        ],
        [
         "24",
         "Abbotsford",
         "3",
         "h",
         "Nelson",
         "Northern Metropolitan",
         "4019.0",
         "2.5",
         "Yarra City Council",
         "3.0",
         "2.0",
         "2.0",
         "214.0",
         "190.0",
         "1350000.0"
        ],
        [
         "25",
         "Abbotsford",
         "2",
         "u",
         "Biggin",
         "Northern Metropolitan",
         "4019.0",
         "2.5",
         "Yarra City Council",
         "2.0",
         "2.0",
         "1.0",
         "0.0",
         "94.0",
         "750000.0"
        ],
        [
         "26",
         "Abbotsford",
         "4",
         "h",
         "Biggin",
         "Northern Metropolitan",
         "4019.0",
         "2.5",
         "Yarra City Council",
         "0.0",
         "0.0",
         "0.0",
         "593.598993361392",
         "160.2564003565711",
         "1985000.0"
        ],
        [
         "27",
         "Abbotsford",
         "1",
         "u",
         "Biggin",
         "Northern Metropolitan",
         "4019.0",
         "2.5",
         "Yarra City Council",
         "0.0",
         "0.0",
         "0.0",
         "593.598993361392",
         "160.2564003565711",
         "500000.0"
        ],
        [
         "28",
         "Abbotsford",
         "2",
         "h",
         "Biggin",
         "Northern Metropolitan",
         "4019.0",
         "2.5",
         "Yarra City Council",
         "2.0",
         "1.0",
         "1.0",
         "195.0",
         "160.2564003565711",
         "1172500.0"
        ],
        [
         "29",
         "Abbotsford",
         "1",
         "u",
         "Greg",
         "Northern Metropolitan",
         "4019.0",
         "2.5",
         "Yarra City Council",
         "1.0",
         "1.0",
         "1.0",
         "0.0",
         "160.2564003565711",
         "441000.0"
        ],
        [
         "30",
         "Abbotsford",
         "2",
         "h",
         "Jellis",
         "Northern Metropolitan",
         "4019.0",
         "2.5",
         "Yarra City Council",
         "2.0",
         "1.0",
         "2.0",
         "238.0",
         "97.0",
         "1310000.0"
        ],
        [
         "31",
         "Abbotsford",
         "3",
         "u",
         "Philip",
         "Northern Metropolitan",
         "4019.0",
         "2.5",
         "Yarra City Council",
         "3.0",
         "2.0",
         "2.0",
         "0.0",
         "129.0",
         null
        ],
        [
         "32",
         "Abbotsford",
         "3",
         "h",
         "Jellis",
         "Northern Metropolitan",
         "4019.0",
         "2.5",
         "Yarra City Council",
         "3.0",
         "2.0",
         "1.0",
         "113.0",
         "110.0",
         "1200000.0"
        ],
        [
         "33",
         "Abbotsford",
         "2",
         "t",
         "Jellis",
         "Northern Metropolitan",
         "4019.0",
         "2.5",
         "Yarra City Council",
         "0.0",
         "0.0",
         "0.0",
         "593.598993361392",
         "160.2564003565711",
         "847000.0"
        ],
        [
         "34",
         "Abbotsford",
         "2",
         "h",
         "Biggin",
         "Northern Metropolitan",
         "4019.0",
         "2.5",
         "Yarra City Council",
         "0.0",
         "0.0",
         "0.0",
         "593.598993361392",
         "160.2564003565711",
         null
        ],
        [
         "35",
         "Abbotsford",
         "3",
         "h",
         "LITTLE",
         "Northern Metropolitan",
         "4019.0",
         "2.5",
         "Yarra City Council",
         "2.0",
         "1.0",
         "1.0",
         "138.0",
         "105.0",
         "1176500.0"
        ],
        [
         "36",
         "Abbotsford",
         "3",
         "h",
         "Collins",
         "Northern Metropolitan",
         "4019.0",
         "2.5",
         "Yarra City Council",
         "3.0",
         "1.0",
         "0.0",
         "183.0",
         "160.2564003565711",
         "955000.0"
        ],
        [
         "37",
         "Abbotsford",
         "2",
         "h",
         "Biggin",
         "Northern Metropolitan",
         "4019.0",
         "2.5",
         "Yarra City Council",
         "2.0",
         "1.0",
         "1.0",
         "150.0",
         "73.0",
         "890000.0"
        ],
        [
         "38",
         "Abbotsford",
         "4",
         "h",
         "Kay",
         "Northern Metropolitan",
         "4019.0",
         "2.5",
         "Yarra City Council",
         "4.0",
         "2.0",
         "2.0",
         "780.0",
         "135.0",
         "1330000.0"
        ],
        [
         "39",
         "Abbotsford",
         "3",
         "h",
         "Nelson",
         "Northern Metropolitan",
         "4019.0",
         "2.5",
         "Yarra City Council",
         "3.0",
         "2.0",
         "1.0",
         "119.0",
         "167.0",
         null
        ],
        [
         "40",
         "Abbotsford",
         "3",
         "t",
         "Beller",
         "Northern Metropolitan",
         "4019.0",
         "2.5",
         "Yarra City Council",
         "3.0",
         "2.0",
         "2.0",
         "0.0",
         "160.2564003565711",
         "900000.0"
        ],
        [
         "41",
         "Abbotsford",
         "3",
         "u",
         "Jellis",
         "Northern Metropolitan",
         "4019.0",
         "2.5",
         "Yarra City Council",
         "3.0",
         "2.0",
         "2.0",
         "4290.0",
         "27.0",
         "1090000.0"
        ],
        [
         "42",
         "Abbotsford",
         "2",
         "u",
         "Collins",
         "Northern Metropolitan",
         "4019.0",
         "2.5",
         "Yarra City Council",
         "2.0",
         "1.0",
         "1.0",
         "0.0",
         "60.0",
         "500000.0"
        ],
        [
         "43",
         "Abbotsford",
         "2",
         "h",
         "Biggin",
         "Northern Metropolitan",
         "4019.0",
         "2.5",
         "Yarra City Council",
         "2.0",
         "2.0",
         "1.0",
         "124.0",
         "135.0",
         "1100000.0"
        ],
        [
         "44",
         "Abbotsford",
         "2",
         "h",
         "Marshall",
         "Northern Metropolitan",
         "4019.0",
         "2.5",
         "Yarra City Council",
         "2.0",
         "1.0",
         "0.0",
         "147.0",
         "85.0",
         "1315000.0"
        ],
        [
         "45",
         "Abbotsford",
         "1",
         "u",
         "Biggin",
         "Northern Metropolitan",
         "4019.0",
         "2.5",
         "Yarra City Council",
         "0.0",
         "0.0",
         "0.0",
         "593.598993361392",
         "160.2564003565711",
         "480000.0"
        ],
        [
         "46",
         "Abbotsford",
         "1",
         "u",
         "hockingstuart",
         "Northern Metropolitan",
         "4019.0",
         "2.5",
         "Yarra City Council",
         "0.0",
         "0.0",
         "0.0",
         "593.598993361392",
         "160.2564003565711",
         "423500.0"
        ],
        [
         "47",
         "Abbotsford",
         "4",
         "h",
         "Biggin",
         "Northern Metropolitan",
         "4019.0",
         "2.5",
         "Yarra City Council",
         "0.0",
         "0.0",
         "0.0",
         "593.598993361392",
         "160.2564003565711",
         null
        ],
        [
         "48",
         "Abbotsford",
         "1",
         "u",
         "Greg",
         "Northern Metropolitan",
         "4019.0",
         "2.5",
         "Yarra City Council",
         "1.0",
         "1.0",
         "1.0",
         "0.0",
         "160.2564003565711",
         "426000.0"
        ],
        [
         "49",
         "Abbotsford",
         "3",
         "h",
         "Nelson",
         "Northern Metropolitan",
         "4019.0",
         "2.5",
         "Yarra City Council",
         "3.0",
         "3.0",
         "1.0",
         "166.0",
         "174.0",
         "1447500.0"
        ]
       ],
       "shape": {
        "columns": 14,
        "rows": 34857
       }
      },
      "text/html": [
       "<div>\n",
       "<style scoped>\n",
       "    .dataframe tbody tr th:only-of-type {\n",
       "        vertical-align: middle;\n",
       "    }\n",
       "\n",
       "    .dataframe tbody tr th {\n",
       "        vertical-align: top;\n",
       "    }\n",
       "\n",
       "    .dataframe thead th {\n",
       "        text-align: right;\n",
       "    }\n",
       "</style>\n",
       "<table border=\"1\" class=\"dataframe\">\n",
       "  <thead>\n",
       "    <tr style=\"text-align: right;\">\n",
       "      <th></th>\n",
       "      <th>Suburb</th>\n",
       "      <th>Rooms</th>\n",
       "      <th>Type</th>\n",
       "      <th>SellerG</th>\n",
       "      <th>Regionname</th>\n",
       "      <th>Propertycount</th>\n",
       "      <th>Distance</th>\n",
       "      <th>CouncilArea</th>\n",
       "      <th>Bedroom2</th>\n",
       "      <th>Bathroom</th>\n",
       "      <th>Car</th>\n",
       "      <th>Landsize</th>\n",
       "      <th>BuildingArea</th>\n",
       "      <th>Price</th>\n",
       "    </tr>\n",
       "  </thead>\n",
       "  <tbody>\n",
       "    <tr>\n",
       "      <th>0</th>\n",
       "      <td>Abbotsford</td>\n",
       "      <td>2</td>\n",
       "      <td>h</td>\n",
       "      <td>Jellis</td>\n",
       "      <td>Northern Metropolitan</td>\n",
       "      <td>4019.0</td>\n",
       "      <td>2.5</td>\n",
       "      <td>Yarra City Council</td>\n",
       "      <td>2.0</td>\n",
       "      <td>1.0</td>\n",
       "      <td>1.0</td>\n",
       "      <td>126.000000</td>\n",
       "      <td>160.2564</td>\n",
       "      <td>NaN</td>\n",
       "    </tr>\n",
       "    <tr>\n",
       "      <th>1</th>\n",
       "      <td>Abbotsford</td>\n",
       "      <td>2</td>\n",
       "      <td>h</td>\n",
       "      <td>Biggin</td>\n",
       "      <td>Northern Metropolitan</td>\n",
       "      <td>4019.0</td>\n",
       "      <td>2.5</td>\n",
       "      <td>Yarra City Council</td>\n",
       "      <td>2.0</td>\n",
       "      <td>1.0</td>\n",
       "      <td>1.0</td>\n",
       "      <td>202.000000</td>\n",
       "      <td>160.2564</td>\n",
       "      <td>1480000.0</td>\n",
       "    </tr>\n",
       "    <tr>\n",
       "      <th>2</th>\n",
       "      <td>Abbotsford</td>\n",
       "      <td>2</td>\n",
       "      <td>h</td>\n",
       "      <td>Biggin</td>\n",
       "      <td>Northern Metropolitan</td>\n",
       "      <td>4019.0</td>\n",
       "      <td>2.5</td>\n",
       "      <td>Yarra City Council</td>\n",
       "      <td>2.0</td>\n",
       "      <td>1.0</td>\n",
       "      <td>0.0</td>\n",
       "      <td>156.000000</td>\n",
       "      <td>79.0000</td>\n",
       "      <td>1035000.0</td>\n",
       "    </tr>\n",
       "    <tr>\n",
       "      <th>3</th>\n",
       "      <td>Abbotsford</td>\n",
       "      <td>3</td>\n",
       "      <td>u</td>\n",
       "      <td>Rounds</td>\n",
       "      <td>Northern Metropolitan</td>\n",
       "      <td>4019.0</td>\n",
       "      <td>2.5</td>\n",
       "      <td>Yarra City Council</td>\n",
       "      <td>3.0</td>\n",
       "      <td>2.0</td>\n",
       "      <td>1.0</td>\n",
       "      <td>0.000000</td>\n",
       "      <td>160.2564</td>\n",
       "      <td>NaN</td>\n",
       "    </tr>\n",
       "    <tr>\n",
       "      <th>4</th>\n",
       "      <td>Abbotsford</td>\n",
       "      <td>3</td>\n",
       "      <td>h</td>\n",
       "      <td>Biggin</td>\n",
       "      <td>Northern Metropolitan</td>\n",
       "      <td>4019.0</td>\n",
       "      <td>2.5</td>\n",
       "      <td>Yarra City Council</td>\n",
       "      <td>3.0</td>\n",
       "      <td>2.0</td>\n",
       "      <td>0.0</td>\n",
       "      <td>134.000000</td>\n",
       "      <td>150.0000</td>\n",
       "      <td>1465000.0</td>\n",
       "    </tr>\n",
       "    <tr>\n",
       "      <th>...</th>\n",
       "      <td>...</td>\n",
       "      <td>...</td>\n",
       "      <td>...</td>\n",
       "      <td>...</td>\n",
       "      <td>...</td>\n",
       "      <td>...</td>\n",
       "      <td>...</td>\n",
       "      <td>...</td>\n",
       "      <td>...</td>\n",
       "      <td>...</td>\n",
       "      <td>...</td>\n",
       "      <td>...</td>\n",
       "      <td>...</td>\n",
       "      <td>...</td>\n",
       "    </tr>\n",
       "    <tr>\n",
       "      <th>34852</th>\n",
       "      <td>Yarraville</td>\n",
       "      <td>4</td>\n",
       "      <td>h</td>\n",
       "      <td>Jas</td>\n",
       "      <td>Western Metropolitan</td>\n",
       "      <td>6543.0</td>\n",
       "      <td>6.3</td>\n",
       "      <td>Maribyrnong City Council</td>\n",
       "      <td>4.0</td>\n",
       "      <td>1.0</td>\n",
       "      <td>3.0</td>\n",
       "      <td>593.000000</td>\n",
       "      <td>160.2564</td>\n",
       "      <td>1480000.0</td>\n",
       "    </tr>\n",
       "    <tr>\n",
       "      <th>34853</th>\n",
       "      <td>Yarraville</td>\n",
       "      <td>2</td>\n",
       "      <td>h</td>\n",
       "      <td>Sweeney</td>\n",
       "      <td>Western Metropolitan</td>\n",
       "      <td>6543.0</td>\n",
       "      <td>6.3</td>\n",
       "      <td>Maribyrnong City Council</td>\n",
       "      <td>2.0</td>\n",
       "      <td>2.0</td>\n",
       "      <td>1.0</td>\n",
       "      <td>98.000000</td>\n",
       "      <td>104.0000</td>\n",
       "      <td>888000.0</td>\n",
       "    </tr>\n",
       "    <tr>\n",
       "      <th>34854</th>\n",
       "      <td>Yarraville</td>\n",
       "      <td>2</td>\n",
       "      <td>t</td>\n",
       "      <td>Jas</td>\n",
       "      <td>Western Metropolitan</td>\n",
       "      <td>6543.0</td>\n",
       "      <td>6.3</td>\n",
       "      <td>Maribyrnong City Council</td>\n",
       "      <td>2.0</td>\n",
       "      <td>1.0</td>\n",
       "      <td>2.0</td>\n",
       "      <td>220.000000</td>\n",
       "      <td>120.0000</td>\n",
       "      <td>705000.0</td>\n",
       "    </tr>\n",
       "    <tr>\n",
       "      <th>34855</th>\n",
       "      <td>Yarraville</td>\n",
       "      <td>3</td>\n",
       "      <td>h</td>\n",
       "      <td>hockingstuart</td>\n",
       "      <td>Western Metropolitan</td>\n",
       "      <td>6543.0</td>\n",
       "      <td>6.3</td>\n",
       "      <td>Maribyrnong City Council</td>\n",
       "      <td>0.0</td>\n",
       "      <td>0.0</td>\n",
       "      <td>0.0</td>\n",
       "      <td>593.598993</td>\n",
       "      <td>160.2564</td>\n",
       "      <td>1140000.0</td>\n",
       "    </tr>\n",
       "    <tr>\n",
       "      <th>34856</th>\n",
       "      <td>Yarraville</td>\n",
       "      <td>2</td>\n",
       "      <td>h</td>\n",
       "      <td>RW</td>\n",
       "      <td>Western Metropolitan</td>\n",
       "      <td>6543.0</td>\n",
       "      <td>6.3</td>\n",
       "      <td>Maribyrnong City Council</td>\n",
       "      <td>2.0</td>\n",
       "      <td>1.0</td>\n",
       "      <td>0.0</td>\n",
       "      <td>250.000000</td>\n",
       "      <td>103.0000</td>\n",
       "      <td>1020000.0</td>\n",
       "    </tr>\n",
       "  </tbody>\n",
       "</table>\n",
       "<p>34857 rows × 14 columns</p>\n",
       "</div>"
      ],
      "text/plain": [
       "           Suburb  Rooms Type        SellerG             Regionname  \\\n",
       "0      Abbotsford      2    h         Jellis  Northern Metropolitan   \n",
       "1      Abbotsford      2    h         Biggin  Northern Metropolitan   \n",
       "2      Abbotsford      2    h         Biggin  Northern Metropolitan   \n",
       "3      Abbotsford      3    u         Rounds  Northern Metropolitan   \n",
       "4      Abbotsford      3    h         Biggin  Northern Metropolitan   \n",
       "...           ...    ...  ...            ...                    ...   \n",
       "34852  Yarraville      4    h            Jas   Western Metropolitan   \n",
       "34853  Yarraville      2    h        Sweeney   Western Metropolitan   \n",
       "34854  Yarraville      2    t            Jas   Western Metropolitan   \n",
       "34855  Yarraville      3    h  hockingstuart   Western Metropolitan   \n",
       "34856  Yarraville      2    h             RW   Western Metropolitan   \n",
       "\n",
       "       Propertycount  Distance               CouncilArea  Bedroom2  Bathroom  \\\n",
       "0             4019.0       2.5        Yarra City Council       2.0       1.0   \n",
       "1             4019.0       2.5        Yarra City Council       2.0       1.0   \n",
       "2             4019.0       2.5        Yarra City Council       2.0       1.0   \n",
       "3             4019.0       2.5        Yarra City Council       3.0       2.0   \n",
       "4             4019.0       2.5        Yarra City Council       3.0       2.0   \n",
       "...              ...       ...                       ...       ...       ...   \n",
       "34852         6543.0       6.3  Maribyrnong City Council       4.0       1.0   \n",
       "34853         6543.0       6.3  Maribyrnong City Council       2.0       2.0   \n",
       "34854         6543.0       6.3  Maribyrnong City Council       2.0       1.0   \n",
       "34855         6543.0       6.3  Maribyrnong City Council       0.0       0.0   \n",
       "34856         6543.0       6.3  Maribyrnong City Council       2.0       1.0   \n",
       "\n",
       "       Car    Landsize  BuildingArea      Price  \n",
       "0      1.0  126.000000      160.2564        NaN  \n",
       "1      1.0  202.000000      160.2564  1480000.0  \n",
       "2      0.0  156.000000       79.0000  1035000.0  \n",
       "3      1.0    0.000000      160.2564        NaN  \n",
       "4      0.0  134.000000      150.0000  1465000.0  \n",
       "...    ...         ...           ...        ...  \n",
       "34852  3.0  593.000000      160.2564  1480000.0  \n",
       "34853  1.0   98.000000      104.0000   888000.0  \n",
       "34854  2.0  220.000000      120.0000   705000.0  \n",
       "34855  0.0  593.598993      160.2564  1140000.0  \n",
       "34856  0.0  250.000000      103.0000  1020000.0  \n",
       "\n",
       "[34857 rows x 14 columns]"
      ]
     },
     "execution_count": 44,
     "metadata": {},
     "output_type": "execute_result"
    }
   ],
   "source": [
    "dataset"
   ]
  },
  {
   "cell_type": "code",
   "execution_count": 45,
   "id": "df94a4ed",
   "metadata": {},
   "outputs": [
    {
     "data": {
      "text/plain": [
       "Suburb              0\n",
       "Rooms               0\n",
       "Type                0\n",
       "SellerG             0\n",
       "Regionname          3\n",
       "Propertycount       0\n",
       "Distance            0\n",
       "CouncilArea         3\n",
       "Bedroom2            0\n",
       "Bathroom            0\n",
       "Car                 0\n",
       "Landsize            0\n",
       "BuildingArea        0\n",
       "Price            7610\n",
       "dtype: int64"
      ]
     },
     "execution_count": 45,
     "metadata": {},
     "output_type": "execute_result"
    }
   ],
   "source": [
    "dataset.isna().sum()"
   ]
  },
  {
   "cell_type": "code",
   "execution_count": 46,
   "id": "15c421eb",
   "metadata": {},
   "outputs": [
    {
     "data": {
      "text/plain": [
       "Suburb           0\n",
       "Rooms            0\n",
       "Type             0\n",
       "SellerG          0\n",
       "Regionname       0\n",
       "Propertycount    0\n",
       "Distance         0\n",
       "CouncilArea      0\n",
       "Bedroom2         0\n",
       "Bathroom         0\n",
       "Car              0\n",
       "Landsize         0\n",
       "BuildingArea     0\n",
       "Price            0\n",
       "dtype: int64"
      ]
     },
     "execution_count": 46,
     "metadata": {},
     "output_type": "execute_result"
    }
   ],
   "source": [
    "dataset.dropna(inplace=True)\n",
    "dataset.isna().sum()"
   ]
  },
  {
   "cell_type": "code",
   "execution_count": 47,
   "id": "6799d9b2",
   "metadata": {},
   "outputs": [
    {
     "data": {
      "application/vnd.microsoft.datawrangler.viewer.v0+json": {
       "columns": [
        {
         "name": "index",
         "rawType": "int64",
         "type": "integer"
        },
        {
         "name": "Rooms",
         "rawType": "int64",
         "type": "integer"
        },
        {
         "name": "Propertycount",
         "rawType": "float64",
         "type": "float"
        },
        {
         "name": "Distance",
         "rawType": "float64",
         "type": "float"
        },
        {
         "name": "Bedroom2",
         "rawType": "float64",
         "type": "float"
        },
        {
         "name": "Bathroom",
         "rawType": "float64",
         "type": "float"
        },
        {
         "name": "Car",
         "rawType": "float64",
         "type": "float"
        },
        {
         "name": "Landsize",
         "rawType": "float64",
         "type": "float"
        },
        {
         "name": "BuildingArea",
         "rawType": "float64",
         "type": "float"
        },
        {
         "name": "Price",
         "rawType": "float64",
         "type": "float"
        },
        {
         "name": "Suburb_Aberfeldie",
         "rawType": "bool",
         "type": "boolean"
        },
        {
         "name": "Suburb_Airport West",
         "rawType": "bool",
         "type": "boolean"
        },
        {
         "name": "Suburb_Albanvale",
         "rawType": "bool",
         "type": "boolean"
        },
        {
         "name": "Suburb_Albert Park",
         "rawType": "bool",
         "type": "boolean"
        },
        {
         "name": "Suburb_Albion",
         "rawType": "bool",
         "type": "boolean"
        },
        {
         "name": "Suburb_Alphington",
         "rawType": "bool",
         "type": "boolean"
        },
        {
         "name": "Suburb_Altona",
         "rawType": "bool",
         "type": "boolean"
        },
        {
         "name": "Suburb_Altona Meadows",
         "rawType": "bool",
         "type": "boolean"
        },
        {
         "name": "Suburb_Altona North",
         "rawType": "bool",
         "type": "boolean"
        },
        {
         "name": "Suburb_Ardeer",
         "rawType": "bool",
         "type": "boolean"
        },
        {
         "name": "Suburb_Armadale",
         "rawType": "bool",
         "type": "boolean"
        },
        {
         "name": "Suburb_Ascot Vale",
         "rawType": "bool",
         "type": "boolean"
        },
        {
         "name": "Suburb_Ashburton",
         "rawType": "bool",
         "type": "boolean"
        },
        {
         "name": "Suburb_Ashwood",
         "rawType": "bool",
         "type": "boolean"
        },
        {
         "name": "Suburb_Aspendale",
         "rawType": "bool",
         "type": "boolean"
        },
        {
         "name": "Suburb_Aspendale Gardens",
         "rawType": "bool",
         "type": "boolean"
        },
        {
         "name": "Suburb_Attwood",
         "rawType": "bool",
         "type": "boolean"
        },
        {
         "name": "Suburb_Avondale Heights",
         "rawType": "bool",
         "type": "boolean"
        },
        {
         "name": "Suburb_Bacchus Marsh",
         "rawType": "bool",
         "type": "boolean"
        },
        {
         "name": "Suburb_Balaclava",
         "rawType": "bool",
         "type": "boolean"
        },
        {
         "name": "Suburb_Balwyn",
         "rawType": "bool",
         "type": "boolean"
        },
        {
         "name": "Suburb_Balwyn North",
         "rawType": "bool",
         "type": "boolean"
        },
        {
         "name": "Suburb_Bayswater",
         "rawType": "bool",
         "type": "boolean"
        },
        {
         "name": "Suburb_Bayswater North",
         "rawType": "bool",
         "type": "boolean"
        },
        {
         "name": "Suburb_Beaconsfield",
         "rawType": "bool",
         "type": "boolean"
        },
        {
         "name": "Suburb_Beaconsfield Upper",
         "rawType": "bool",
         "type": "boolean"
        },
        {
         "name": "Suburb_Beaumaris",
         "rawType": "bool",
         "type": "boolean"
        },
        {
         "name": "Suburb_Bellfield",
         "rawType": "bool",
         "type": "boolean"
        },
        {
         "name": "Suburb_Bentleigh",
         "rawType": "bool",
         "type": "boolean"
        },
        {
         "name": "Suburb_Bentleigh East",
         "rawType": "bool",
         "type": "boolean"
        },
        {
         "name": "Suburb_Berwick",
         "rawType": "bool",
         "type": "boolean"
        },
        {
         "name": "Suburb_Black Rock",
         "rawType": "bool",
         "type": "boolean"
        },
        {
         "name": "Suburb_Blackburn",
         "rawType": "bool",
         "type": "boolean"
        },
        {
         "name": "Suburb_Blackburn North",
         "rawType": "bool",
         "type": "boolean"
        },
        {
         "name": "Suburb_Blackburn South",
         "rawType": "bool",
         "type": "boolean"
        },
        {
         "name": "Suburb_Bonbeach",
         "rawType": "bool",
         "type": "boolean"
        },
        {
         "name": "Suburb_Boronia",
         "rawType": "bool",
         "type": "boolean"
        },
        {
         "name": "Suburb_Botanic Ridge",
         "rawType": "bool",
         "type": "boolean"
        },
        {
         "name": "Suburb_Box Hill",
         "rawType": "bool",
         "type": "boolean"
        },
        {
         "name": "Suburb_Braybrook",
         "rawType": "bool",
         "type": "boolean"
        },
        {
         "name": "Suburb_Briar Hill",
         "rawType": "bool",
         "type": "boolean"
        },
        {
         "name": "Suburb_Brighton",
         "rawType": "bool",
         "type": "boolean"
        },
        {
         "name": "Suburb_Brighton East",
         "rawType": "bool",
         "type": "boolean"
        },
        {
         "name": "Suburb_Broadmeadows",
         "rawType": "bool",
         "type": "boolean"
        },
        {
         "name": "Suburb_Brookfield",
         "rawType": "bool",
         "type": "boolean"
        },
        {
         "name": "Suburb_Brooklyn",
         "rawType": "bool",
         "type": "boolean"
        },
        {
         "name": "Suburb_Brunswick",
         "rawType": "bool",
         "type": "boolean"
        },
        {
         "name": "Suburb_Brunswick East",
         "rawType": "bool",
         "type": "boolean"
        },
        {
         "name": "Suburb_Brunswick West",
         "rawType": "bool",
         "type": "boolean"
        },
        {
         "name": "Suburb_Bulla",
         "rawType": "bool",
         "type": "boolean"
        },
        {
         "name": "Suburb_Bulleen",
         "rawType": "bool",
         "type": "boolean"
        },
        {
         "name": "Suburb_Bullengarook",
         "rawType": "bool",
         "type": "boolean"
        },
        {
         "name": "Suburb_Bundoora",
         "rawType": "bool",
         "type": "boolean"
        },
        {
         "name": "Suburb_Burnley",
         "rawType": "bool",
         "type": "boolean"
        },
        {
         "name": "Suburb_Burnside",
         "rawType": "bool",
         "type": "boolean"
        },
        {
         "name": "Suburb_Burnside Heights",
         "rawType": "bool",
         "type": "boolean"
        },
        {
         "name": "Suburb_Burwood",
         "rawType": "bool",
         "type": "boolean"
        },
        {
         "name": "Suburb_Burwood East",
         "rawType": "bool",
         "type": "boolean"
        },
        {
         "name": "Suburb_Cairnlea",
         "rawType": "bool",
         "type": "boolean"
        },
        {
         "name": "Suburb_Camberwell",
         "rawType": "bool",
         "type": "boolean"
        },
        {
         "name": "Suburb_Campbellfield",
         "rawType": "bool",
         "type": "boolean"
        },
        {
         "name": "Suburb_Canterbury",
         "rawType": "bool",
         "type": "boolean"
        },
        {
         "name": "Suburb_Carlton",
         "rawType": "bool",
         "type": "boolean"
        },
        {
         "name": "Suburb_Carlton North",
         "rawType": "bool",
         "type": "boolean"
        },
        {
         "name": "Suburb_Carnegie",
         "rawType": "bool",
         "type": "boolean"
        },
        {
         "name": "Suburb_Caroline Springs",
         "rawType": "bool",
         "type": "boolean"
        },
        {
         "name": "Suburb_Carrum",
         "rawType": "bool",
         "type": "boolean"
        },
        {
         "name": "Suburb_Carrum Downs",
         "rawType": "bool",
         "type": "boolean"
        },
        {
         "name": "Suburb_Caulfield",
         "rawType": "bool",
         "type": "boolean"
        },
        {
         "name": "Suburb_Caulfield East",
         "rawType": "bool",
         "type": "boolean"
        },
        {
         "name": "Suburb_Caulfield North",
         "rawType": "bool",
         "type": "boolean"
        },
        {
         "name": "Suburb_Caulfield South",
         "rawType": "bool",
         "type": "boolean"
        },
        {
         "name": "Suburb_Chadstone",
         "rawType": "bool",
         "type": "boolean"
        },
        {
         "name": "Suburb_Chelsea",
         "rawType": "bool",
         "type": "boolean"
        },
        {
         "name": "Suburb_Chelsea Heights",
         "rawType": "bool",
         "type": "boolean"
        },
        {
         "name": "Suburb_Cheltenham",
         "rawType": "bool",
         "type": "boolean"
        },
        {
         "name": "Suburb_Chirnside Park",
         "rawType": "bool",
         "type": "boolean"
        },
        {
         "name": "Suburb_Clarinda",
         "rawType": "bool",
         "type": "boolean"
        },
        {
         "name": "Suburb_Clayton",
         "rawType": "bool",
         "type": "boolean"
        },
        {
         "name": "Suburb_Clayton South",
         "rawType": "bool",
         "type": "boolean"
        },
        {
         "name": "Suburb_Clifton Hill",
         "rawType": "bool",
         "type": "boolean"
        },
        {
         "name": "Suburb_Clyde North",
         "rawType": "bool",
         "type": "boolean"
        },
        {
         "name": "Suburb_Coburg",
         "rawType": "bool",
         "type": "boolean"
        },
        {
         "name": "Suburb_Coburg North",
         "rawType": "bool",
         "type": "boolean"
        },
        {
         "name": "Suburb_Coldstream",
         "rawType": "bool",
         "type": "boolean"
        },
        {
         "name": "Suburb_Collingwood",
         "rawType": "bool",
         "type": "boolean"
        },
        {
         "name": "Suburb_Coolaroo",
         "rawType": "bool",
         "type": "boolean"
        },
        {
         "name": "Suburb_Craigieburn",
         "rawType": "bool",
         "type": "boolean"
        },
        {
         "name": "Suburb_Cranbourne",
         "rawType": "bool",
         "type": "boolean"
        },
        {
         "name": "Suburb_Cranbourne East",
         "rawType": "bool",
         "type": "boolean"
        },
        {
         "name": "Suburb_Cranbourne North",
         "rawType": "bool",
         "type": "boolean"
        },
        {
         "name": "Suburb_Cranbourne West",
         "rawType": "bool",
         "type": "boolean"
        },
        {
         "name": "Suburb_Cremorne",
         "rawType": "bool",
         "type": "boolean"
        },
        {
         "name": "Suburb_Croydon",
         "rawType": "bool",
         "type": "boolean"
        },
        {
         "name": "Suburb_Croydon Hills",
         "rawType": "bool",
         "type": "boolean"
        },
        {
         "name": "Suburb_Croydon North",
         "rawType": "bool",
         "type": "boolean"
        },
        {
         "name": "Suburb_Croydon South",
         "rawType": "bool",
         "type": "boolean"
        },
        {
         "name": "Suburb_Dallas",
         "rawType": "bool",
         "type": "boolean"
        },
        {
         "name": "Suburb_Dandenong",
         "rawType": "bool",
         "type": "boolean"
        },
        {
         "name": "Suburb_Dandenong North",
         "rawType": "bool",
         "type": "boolean"
        },
        {
         "name": "Suburb_Darley",
         "rawType": "bool",
         "type": "boolean"
        },
        {
         "name": "Suburb_Deepdene",
         "rawType": "bool",
         "type": "boolean"
        },
        {
         "name": "Suburb_Deer Park",
         "rawType": "bool",
         "type": "boolean"
        },
        {
         "name": "Suburb_Delahey",
         "rawType": "bool",
         "type": "boolean"
        },
        {
         "name": "Suburb_Derrimut",
         "rawType": "bool",
         "type": "boolean"
        },
        {
         "name": "Suburb_Diamond Creek",
         "rawType": "bool",
         "type": "boolean"
        },
        {
         "name": "Suburb_Diggers Rest",
         "rawType": "bool",
         "type": "boolean"
        },
        {
         "name": "Suburb_Dingley Village",
         "rawType": "bool",
         "type": "boolean"
        },
        {
         "name": "Suburb_Docklands",
         "rawType": "bool",
         "type": "boolean"
        },
        {
         "name": "Suburb_Doncaster",
         "rawType": "bool",
         "type": "boolean"
        },
        {
         "name": "Suburb_Doncaster East",
         "rawType": "bool",
         "type": "boolean"
        },
        {
         "name": "Suburb_Donvale",
         "rawType": "bool",
         "type": "boolean"
        },
        {
         "name": "Suburb_Doreen",
         "rawType": "bool",
         "type": "boolean"
        },
        {
         "name": "Suburb_Doveton",
         "rawType": "bool",
         "type": "boolean"
        },
        {
         "name": "Suburb_Eaglemont",
         "rawType": "bool",
         "type": "boolean"
        },
        {
         "name": "Suburb_East Melbourne",
         "rawType": "bool",
         "type": "boolean"
        },
        {
         "name": "Suburb_Edithvale",
         "rawType": "bool",
         "type": "boolean"
        },
        {
         "name": "Suburb_Elsternwick",
         "rawType": "bool",
         "type": "boolean"
        },
        {
         "name": "Suburb_Eltham",
         "rawType": "bool",
         "type": "boolean"
        },
        {
         "name": "Suburb_Eltham North",
         "rawType": "bool",
         "type": "boolean"
        },
        {
         "name": "Suburb_Elwood",
         "rawType": "bool",
         "type": "boolean"
        },
        {
         "name": "Suburb_Emerald",
         "rawType": "bool",
         "type": "boolean"
        },
        {
         "name": "Suburb_Endeavour Hills",
         "rawType": "bool",
         "type": "boolean"
        },
        {
         "name": "Suburb_Epping",
         "rawType": "bool",
         "type": "boolean"
        },
        {
         "name": "Suburb_Essendon",
         "rawType": "bool",
         "type": "boolean"
        },
        {
         "name": "Suburb_Essendon North",
         "rawType": "bool",
         "type": "boolean"
        },
        {
         "name": "Suburb_Essendon West",
         "rawType": "bool",
         "type": "boolean"
        },
        {
         "name": "Suburb_Eumemmerring",
         "rawType": "bool",
         "type": "boolean"
        },
        {
         "name": "Suburb_Eynesbury",
         "rawType": "bool",
         "type": "boolean"
        },
        {
         "name": "Suburb_Fairfield",
         "rawType": "bool",
         "type": "boolean"
        },
        {
         "name": "Suburb_Fawkner",
         "rawType": "bool",
         "type": "boolean"
        },
        {
         "name": "Suburb_Ferntree Gully",
         "rawType": "bool",
         "type": "boolean"
        },
        {
         "name": "Suburb_Ferny Creek",
         "rawType": "bool",
         "type": "boolean"
        },
        {
         "name": "Suburb_Fitzroy",
         "rawType": "bool",
         "type": "boolean"
        },
        {
         "name": "Suburb_Fitzroy North",
         "rawType": "bool",
         "type": "boolean"
        },
        {
         "name": "Suburb_Flemington",
         "rawType": "bool",
         "type": "boolean"
        },
        {
         "name": "Suburb_Footscray",
         "rawType": "bool",
         "type": "boolean"
        },
        {
         "name": "Suburb_Forest Hill",
         "rawType": "bool",
         "type": "boolean"
        },
        {
         "name": "Suburb_Frankston",
         "rawType": "bool",
         "type": "boolean"
        },
        {
         "name": "Suburb_Frankston North",
         "rawType": "bool",
         "type": "boolean"
        },
        {
         "name": "Suburb_Frankston South",
         "rawType": "bool",
         "type": "boolean"
        },
        {
         "name": "Suburb_Gardenvale",
         "rawType": "bool",
         "type": "boolean"
        },
        {
         "name": "Suburb_Gisborne",
         "rawType": "bool",
         "type": "boolean"
        },
        {
         "name": "Suburb_Gisborne South",
         "rawType": "bool",
         "type": "boolean"
        },
        {
         "name": "Suburb_Gladstone Park",
         "rawType": "bool",
         "type": "boolean"
        },
        {
         "name": "Suburb_Glen Huntly",
         "rawType": "bool",
         "type": "boolean"
        },
        {
         "name": "Suburb_Glen Iris",
         "rawType": "bool",
         "type": "boolean"
        },
        {
         "name": "Suburb_Glen Waverley",
         "rawType": "bool",
         "type": "boolean"
        },
        {
         "name": "Suburb_Glenroy",
         "rawType": "bool",
         "type": "boolean"
        },
        {
         "name": "Suburb_Gowanbrae",
         "rawType": "bool",
         "type": "boolean"
        },
        {
         "name": "Suburb_Greensborough",
         "rawType": "bool",
         "type": "boolean"
        },
        {
         "name": "Suburb_Greenvale",
         "rawType": "bool",
         "type": "boolean"
        },
        {
         "name": "Suburb_Hadfield",
         "rawType": "bool",
         "type": "boolean"
        },
        {
         "name": "Suburb_Hallam",
         "rawType": "bool",
         "type": "boolean"
        },
        {
         "name": "Suburb_Hampton",
         "rawType": "bool",
         "type": "boolean"
        },
        {
         "name": "Suburb_Hampton East",
         "rawType": "bool",
         "type": "boolean"
        },
        {
         "name": "Suburb_Hampton Park",
         "rawType": "bool",
         "type": "boolean"
        },
        {
         "name": "Suburb_Hawthorn",
         "rawType": "bool",
         "type": "boolean"
        },
        {
         "name": "Suburb_Hawthorn East",
         "rawType": "bool",
         "type": "boolean"
        },
        {
         "name": "Suburb_Healesville",
         "rawType": "bool",
         "type": "boolean"
        },
        {
         "name": "Suburb_Heatherton",
         "rawType": "bool",
         "type": "boolean"
        },
        {
         "name": "Suburb_Heathmont",
         "rawType": "bool",
         "type": "boolean"
        },
        {
         "name": "Suburb_Heidelberg",
         "rawType": "bool",
         "type": "boolean"
        },
        {
         "name": "Suburb_Heidelberg Heights",
         "rawType": "bool",
         "type": "boolean"
        },
        {
         "name": "Suburb_Heidelberg West",
         "rawType": "bool",
         "type": "boolean"
        },
        {
         "name": "Suburb_Highett",
         "rawType": "bool",
         "type": "boolean"
        },
        {
         "name": "Suburb_Hillside",
         "rawType": "bool",
         "type": "boolean"
        },
        {
         "name": "Suburb_Hoppers Crossing",
         "rawType": "bool",
         "type": "boolean"
        },
        {
         "name": "Suburb_Hughesdale",
         "rawType": "bool",
         "type": "boolean"
        },
        {
         "name": "Suburb_Huntingdale",
         "rawType": "bool",
         "type": "boolean"
        },
        {
         "name": "Suburb_Hurstbridge",
         "rawType": "bool",
         "type": "boolean"
        },
        {
         "name": "Suburb_Ivanhoe",
         "rawType": "bool",
         "type": "boolean"
        },
        {
         "name": "Suburb_Ivanhoe East",
         "rawType": "bool",
         "type": "boolean"
        },
        {
         "name": "Suburb_Jacana",
         "rawType": "bool",
         "type": "boolean"
        },
        {
         "name": "Suburb_Kalkallo",
         "rawType": "bool",
         "type": "boolean"
        },
        {
         "name": "Suburb_Kealba",
         "rawType": "bool",
         "type": "boolean"
        },
        {
         "name": "Suburb_Keilor",
         "rawType": "bool",
         "type": "boolean"
        },
        {
         "name": "Suburb_Keilor Downs",
         "rawType": "bool",
         "type": "boolean"
        },
        {
         "name": "Suburb_Keilor East",
         "rawType": "bool",
         "type": "boolean"
        },
        {
         "name": "Suburb_Keilor Lodge",
         "rawType": "bool",
         "type": "boolean"
        },
        {
         "name": "Suburb_Keilor Park",
         "rawType": "bool",
         "type": "boolean"
        },
        {
         "name": "Suburb_Kensington",
         "rawType": "bool",
         "type": "boolean"
        },
        {
         "name": "Suburb_Kew",
         "rawType": "bool",
         "type": "boolean"
        },
        {
         "name": "Suburb_Kew East",
         "rawType": "bool",
         "type": "boolean"
        },
        {
         "name": "Suburb_Keysborough",
         "rawType": "bool",
         "type": "boolean"
        },
        {
         "name": "Suburb_Kilsyth",
         "rawType": "bool",
         "type": "boolean"
        },
        {
         "name": "Suburb_Kings Park",
         "rawType": "bool",
         "type": "boolean"
        },
        {
         "name": "Suburb_Kingsbury",
         "rawType": "bool",
         "type": "boolean"
        },
        {
         "name": "Suburb_Kingsville",
         "rawType": "bool",
         "type": "boolean"
        },
        {
         "name": "Suburb_Knoxfield",
         "rawType": "bool",
         "type": "boolean"
        },
        {
         "name": "Suburb_Kooyong",
         "rawType": "bool",
         "type": "boolean"
        },
        {
         "name": "Suburb_Kurunjang",
         "rawType": "bool",
         "type": "boolean"
        },
        {
         "name": "Suburb_Lalor",
         "rawType": "bool",
         "type": "boolean"
        },
        {
         "name": "Suburb_Langwarrin",
         "rawType": "bool",
         "type": "boolean"
        },
        {
         "name": "Suburb_Laverton",
         "rawType": "bool",
         "type": "boolean"
        },
        {
         "name": "Suburb_Lilydale",
         "rawType": "bool",
         "type": "boolean"
        },
        {
         "name": "Suburb_Lower Plenty",
         "rawType": "bool",
         "type": "boolean"
        },
        {
         "name": "Suburb_Lynbrook",
         "rawType": "bool",
         "type": "boolean"
        },
        {
         "name": "Suburb_Lysterfield",
         "rawType": "bool",
         "type": "boolean"
        },
        {
         "name": "Suburb_MacLeod",
         "rawType": "bool",
         "type": "boolean"
        },
        {
         "name": "Suburb_Maidstone",
         "rawType": "bool",
         "type": "boolean"
        },
        {
         "name": "Suburb_Malvern",
         "rawType": "bool",
         "type": "boolean"
        },
        {
         "name": "Suburb_Malvern East",
         "rawType": "bool",
         "type": "boolean"
        },
        {
         "name": "Suburb_Maribyrnong",
         "rawType": "bool",
         "type": "boolean"
        },
        {
         "name": "Suburb_McKinnon",
         "rawType": "bool",
         "type": "boolean"
        },
        {
         "name": "Suburb_Meadow Heights",
         "rawType": "bool",
         "type": "boolean"
        },
        {
         "name": "Suburb_Melbourne",
         "rawType": "bool",
         "type": "boolean"
        },
        {
         "name": "Suburb_Melton",
         "rawType": "bool",
         "type": "boolean"
        },
        {
         "name": "Suburb_Melton South",
         "rawType": "bool",
         "type": "boolean"
        },
        {
         "name": "Suburb_Melton West",
         "rawType": "bool",
         "type": "boolean"
        },
        {
         "name": "Suburb_Mentone",
         "rawType": "bool",
         "type": "boolean"
        },
        {
         "name": "Suburb_Mernda",
         "rawType": "bool",
         "type": "boolean"
        },
        {
         "name": "Suburb_Mickleham",
         "rawType": "bool",
         "type": "boolean"
        },
        {
         "name": "Suburb_Middle Park",
         "rawType": "bool",
         "type": "boolean"
        },
        {
         "name": "Suburb_Mill Park",
         "rawType": "bool",
         "type": "boolean"
        },
        {
         "name": "Suburb_Mitcham",
         "rawType": "bool",
         "type": "boolean"
        },
        {
         "name": "Suburb_Monbulk",
         "rawType": "bool",
         "type": "boolean"
        },
        {
         "name": "Suburb_Mont Albert",
         "rawType": "bool",
         "type": "boolean"
        },
        {
         "name": "Suburb_Montmorency",
         "rawType": "bool",
         "type": "boolean"
        },
        {
         "name": "Suburb_Montrose",
         "rawType": "bool",
         "type": "boolean"
        },
        {
         "name": "Suburb_Moonee Ponds",
         "rawType": "bool",
         "type": "boolean"
        },
        {
         "name": "Suburb_Moorabbin",
         "rawType": "bool",
         "type": "boolean"
        },
        {
         "name": "Suburb_Mooroolbark",
         "rawType": "bool",
         "type": "boolean"
        },
        {
         "name": "Suburb_Mordialloc",
         "rawType": "bool",
         "type": "boolean"
        },
        {
         "name": "Suburb_Mount Evelyn",
         "rawType": "bool",
         "type": "boolean"
        },
        {
         "name": "Suburb_Mount Waverley",
         "rawType": "bool",
         "type": "boolean"
        },
        {
         "name": "Suburb_Mulgrave",
         "rawType": "bool",
         "type": "boolean"
        },
        {
         "name": "Suburb_Murrumbeena",
         "rawType": "bool",
         "type": "boolean"
        },
        {
         "name": "Suburb_Narre Warren",
         "rawType": "bool",
         "type": "boolean"
        },
        {
         "name": "Suburb_New Gisborne",
         "rawType": "bool",
         "type": "boolean"
        },
        {
         "name": "Suburb_Newport",
         "rawType": "bool",
         "type": "boolean"
        },
        {
         "name": "Suburb_Niddrie",
         "rawType": "bool",
         "type": "boolean"
        },
        {
         "name": "Suburb_Noble Park",
         "rawType": "bool",
         "type": "boolean"
        },
        {
         "name": "Suburb_North Melbourne",
         "rawType": "bool",
         "type": "boolean"
        },
        {
         "name": "Suburb_North Warrandyte",
         "rawType": "bool",
         "type": "boolean"
        },
        {
         "name": "Suburb_Northcote",
         "rawType": "bool",
         "type": "boolean"
        },
        {
         "name": "Suburb_Notting Hill",
         "rawType": "bool",
         "type": "boolean"
        },
        {
         "name": "Suburb_Nunawading",
         "rawType": "bool",
         "type": "boolean"
        },
        {
         "name": "Suburb_Oak Park",
         "rawType": "bool",
         "type": "boolean"
        },
        {
         "name": "Suburb_Oakleigh",
         "rawType": "bool",
         "type": "boolean"
        },
        {
         "name": "Suburb_Oakleigh East",
         "rawType": "bool",
         "type": "boolean"
        },
        {
         "name": "Suburb_Oakleigh South",
         "rawType": "bool",
         "type": "boolean"
        },
        {
         "name": "Suburb_Officer",
         "rawType": "bool",
         "type": "boolean"
        },
        {
         "name": "Suburb_Ormond",
         "rawType": "bool",
         "type": "boolean"
        },
        {
         "name": "Suburb_Pakenham",
         "rawType": "bool",
         "type": "boolean"
        },
        {
         "name": "Suburb_Parkdale",
         "rawType": "bool",
         "type": "boolean"
        },
        {
         "name": "Suburb_Parkville",
         "rawType": "bool",
         "type": "boolean"
        },
        {
         "name": "Suburb_Pascoe Vale",
         "rawType": "bool",
         "type": "boolean"
        },
        {
         "name": "Suburb_Patterson Lakes",
         "rawType": "bool",
         "type": "boolean"
        },
        {
         "name": "Suburb_Plenty",
         "rawType": "bool",
         "type": "boolean"
        },
        {
         "name": "Suburb_Plumpton",
         "rawType": "bool",
         "type": "boolean"
        },
        {
         "name": "Suburb_Point Cook",
         "rawType": "bool",
         "type": "boolean"
        },
        {
         "name": "Suburb_Port Melbourne",
         "rawType": "bool",
         "type": "boolean"
        },
        {
         "name": "Suburb_Prahran",
         "rawType": "bool",
         "type": "boolean"
        },
        {
         "name": "Suburb_Preston",
         "rawType": "bool",
         "type": "boolean"
        },
        {
         "name": "Suburb_Princes Hill",
         "rawType": "bool",
         "type": "boolean"
        },
        {
         "name": "Suburb_Research",
         "rawType": "bool",
         "type": "boolean"
        },
        {
         "name": "Suburb_Reservoir",
         "rawType": "bool",
         "type": "boolean"
        },
        {
         "name": "Suburb_Richmond",
         "rawType": "bool",
         "type": "boolean"
        },
        {
         "name": "Suburb_Riddells Creek",
         "rawType": "bool",
         "type": "boolean"
        },
        {
         "name": "Suburb_Ringwood",
         "rawType": "bool",
         "type": "boolean"
        },
        {
         "name": "Suburb_Ringwood East",
         "rawType": "bool",
         "type": "boolean"
        },
        {
         "name": "Suburb_Ringwood North",
         "rawType": "bool",
         "type": "boolean"
        },
        {
         "name": "Suburb_Ripponlea",
         "rawType": "bool",
         "type": "boolean"
        },
        {
         "name": "Suburb_Rockbank",
         "rawType": "bool",
         "type": "boolean"
        },
        {
         "name": "Suburb_Rosanna",
         "rawType": "bool",
         "type": "boolean"
        },
        {
         "name": "Suburb_Rowville",
         "rawType": "bool",
         "type": "boolean"
        },
        {
         "name": "Suburb_Roxburgh Park",
         "rawType": "bool",
         "type": "boolean"
        },
        {
         "name": "Suburb_Sandhurst",
         "rawType": "bool",
         "type": "boolean"
        },
        {
         "name": "Suburb_Sandringham",
         "rawType": "bool",
         "type": "boolean"
        },
        {
         "name": "Suburb_Scoresby",
         "rawType": "bool",
         "type": "boolean"
        },
        {
         "name": "Suburb_Seabrook",
         "rawType": "bool",
         "type": "boolean"
        },
        {
         "name": "Suburb_Seaford",
         "rawType": "bool",
         "type": "boolean"
        },
        {
         "name": "Suburb_Seaholme",
         "rawType": "bool",
         "type": "boolean"
        },
        {
         "name": "Suburb_Seddon",
         "rawType": "bool",
         "type": "boolean"
        },
        {
         "name": "Suburb_Silvan",
         "rawType": "bool",
         "type": "boolean"
        },
        {
         "name": "Suburb_Skye",
         "rawType": "bool",
         "type": "boolean"
        },
        {
         "name": "Suburb_South Kingsville",
         "rawType": "bool",
         "type": "boolean"
        },
        {
         "name": "Suburb_South Melbourne",
         "rawType": "bool",
         "type": "boolean"
        },
        {
         "name": "Suburb_South Morang",
         "rawType": "bool",
         "type": "boolean"
        },
        {
         "name": "Suburb_South Yarra",
         "rawType": "bool",
         "type": "boolean"
        },
        {
         "name": "Suburb_Southbank",
         "rawType": "bool",
         "type": "boolean"
        },
        {
         "name": "Suburb_Spotswood",
         "rawType": "bool",
         "type": "boolean"
        },
        {
         "name": "Suburb_Springvale",
         "rawType": "bool",
         "type": "boolean"
        },
        {
         "name": "Suburb_Springvale South",
         "rawType": "bool",
         "type": "boolean"
        },
        {
         "name": "Suburb_St Albans",
         "rawType": "bool",
         "type": "boolean"
        },
        {
         "name": "Suburb_St Helena",
         "rawType": "bool",
         "type": "boolean"
        },
        {
         "name": "Suburb_St Kilda",
         "rawType": "bool",
         "type": "boolean"
        },
        {
         "name": "Suburb_Strathmore",
         "rawType": "bool",
         "type": "boolean"
        },
        {
         "name": "Suburb_Strathmore Heights",
         "rawType": "bool",
         "type": "boolean"
        },
        {
         "name": "Suburb_Sunbury",
         "rawType": "bool",
         "type": "boolean"
        },
        {
         "name": "Suburb_Sunshine",
         "rawType": "bool",
         "type": "boolean"
        },
        {
         "name": "Suburb_Sunshine North",
         "rawType": "bool",
         "type": "boolean"
        },
        {
         "name": "Suburb_Sunshine West",
         "rawType": "bool",
         "type": "boolean"
        },
        {
         "name": "Suburb_Surrey Hills",
         "rawType": "bool",
         "type": "boolean"
        },
        {
         "name": "Suburb_Sydenham",
         "rawType": "bool",
         "type": "boolean"
        },
        {
         "name": "Suburb_Tarneit",
         "rawType": "bool",
         "type": "boolean"
        },
        {
         "name": "Suburb_Taylors Hill",
         "rawType": "bool",
         "type": "boolean"
        },
        {
         "name": "Suburb_Taylors Lakes",
         "rawType": "bool",
         "type": "boolean"
        },
        {
         "name": "Suburb_Tecoma",
         "rawType": "bool",
         "type": "boolean"
        },
        {
         "name": "Suburb_Templestowe",
         "rawType": "bool",
         "type": "boolean"
        },
        {
         "name": "Suburb_Templestowe Lower",
         "rawType": "bool",
         "type": "boolean"
        },
        {
         "name": "Suburb_The Basin",
         "rawType": "bool",
         "type": "boolean"
        },
        {
         "name": "Suburb_Thomastown",
         "rawType": "bool",
         "type": "boolean"
        },
        {
         "name": "Suburb_Thornbury",
         "rawType": "bool",
         "type": "boolean"
        },
        {
         "name": "Suburb_Toorak",
         "rawType": "bool",
         "type": "boolean"
        },
        {
         "name": "Suburb_Travancore",
         "rawType": "bool",
         "type": "boolean"
        },
        {
         "name": "Suburb_Truganina",
         "rawType": "bool",
         "type": "boolean"
        },
        {
         "name": "Suburb_Tullamarine",
         "rawType": "bool",
         "type": "boolean"
        },
        {
         "name": "Suburb_Upwey",
         "rawType": "bool",
         "type": "boolean"
        },
        {
         "name": "Suburb_Vermont",
         "rawType": "bool",
         "type": "boolean"
        },
        {
         "name": "Suburb_Vermont South",
         "rawType": "bool",
         "type": "boolean"
        },
        {
         "name": "Suburb_Viewbank",
         "rawType": "bool",
         "type": "boolean"
        },
        {
         "name": "Suburb_Wallan",
         "rawType": "bool",
         "type": "boolean"
        },
        {
         "name": "Suburb_Wandin North",
         "rawType": "bool",
         "type": "boolean"
        },
        {
         "name": "Suburb_Wantirna",
         "rawType": "bool",
         "type": "boolean"
        },
        {
         "name": "Suburb_Wantirna South",
         "rawType": "bool",
         "type": "boolean"
        },
        {
         "name": "Suburb_Warrandyte",
         "rawType": "bool",
         "type": "boolean"
        },
        {
         "name": "Suburb_Warranwood",
         "rawType": "bool",
         "type": "boolean"
        },
        {
         "name": "Suburb_Waterways",
         "rawType": "bool",
         "type": "boolean"
        },
        {
         "name": "Suburb_Watsonia",
         "rawType": "bool",
         "type": "boolean"
        },
        {
         "name": "Suburb_Watsonia North",
         "rawType": "bool",
         "type": "boolean"
        },
        {
         "name": "Suburb_Wattle Glen",
         "rawType": "bool",
         "type": "boolean"
        },
        {
         "name": "Suburb_Werribee",
         "rawType": "bool",
         "type": "boolean"
        },
        {
         "name": "Suburb_Werribee South",
         "rawType": "bool",
         "type": "boolean"
        },
        {
         "name": "Suburb_West Footscray",
         "rawType": "bool",
         "type": "boolean"
        },
        {
         "name": "Suburb_West Melbourne",
         "rawType": "bool",
         "type": "boolean"
        },
        {
         "name": "Suburb_Westmeadows",
         "rawType": "bool",
         "type": "boolean"
        },
        {
         "name": "Suburb_Wheelers Hill",
         "rawType": "bool",
         "type": "boolean"
        },
        {
         "name": "Suburb_Whittlesea",
         "rawType": "bool",
         "type": "boolean"
        },
        {
         "name": "Suburb_Wildwood",
         "rawType": "bool",
         "type": "boolean"
        },
        {
         "name": "Suburb_Williams Landing",
         "rawType": "bool",
         "type": "boolean"
        },
        {
         "name": "Suburb_Williamstown",
         "rawType": "bool",
         "type": "boolean"
        },
        {
         "name": "Suburb_Williamstown North",
         "rawType": "bool",
         "type": "boolean"
        },
        {
         "name": "Suburb_Windsor",
         "rawType": "bool",
         "type": "boolean"
        },
        {
         "name": "Suburb_Wollert",
         "rawType": "bool",
         "type": "boolean"
        },
        {
         "name": "Suburb_Wonga Park",
         "rawType": "bool",
         "type": "boolean"
        },
        {
         "name": "Suburb_Wyndham Vale",
         "rawType": "bool",
         "type": "boolean"
        },
        {
         "name": "Suburb_Yallambie",
         "rawType": "bool",
         "type": "boolean"
        },
        {
         "name": "Suburb_Yarra Glen",
         "rawType": "bool",
         "type": "boolean"
        },
        {
         "name": "Suburb_Yarraville",
         "rawType": "bool",
         "type": "boolean"
        },
        {
         "name": "Suburb_croydon",
         "rawType": "bool",
         "type": "boolean"
        },
        {
         "name": "Suburb_viewbank",
         "rawType": "bool",
         "type": "boolean"
        },
        {
         "name": "Type_t",
         "rawType": "bool",
         "type": "boolean"
        },
        {
         "name": "Type_u",
         "rawType": "bool",
         "type": "boolean"
        },
        {
         "name": "SellerG_AIME",
         "rawType": "bool",
         "type": "boolean"
        },
        {
         "name": "SellerG_ASL",
         "rawType": "bool",
         "type": "boolean"
        },
        {
         "name": "SellerG_Abercromby's",
         "rawType": "bool",
         "type": "boolean"
        },
        {
         "name": "SellerG_Ace",
         "rawType": "bool",
         "type": "boolean"
        },
        {
         "name": "SellerG_Airport",
         "rawType": "bool",
         "type": "boolean"
        },
        {
         "name": "SellerG_Alex",
         "rawType": "bool",
         "type": "boolean"
        },
        {
         "name": "SellerG_Alexkarbon",
         "rawType": "bool",
         "type": "boolean"
        },
        {
         "name": "SellerG_Allan",
         "rawType": "bool",
         "type": "boolean"
        },
        {
         "name": "SellerG_Allens",
         "rawType": "bool",
         "type": "boolean"
        },
        {
         "name": "SellerG_Anderson",
         "rawType": "bool",
         "type": "boolean"
        },
        {
         "name": "SellerG_Appleby",
         "rawType": "bool",
         "type": "boolean"
        },
        {
         "name": "SellerG_Aquire",
         "rawType": "bool",
         "type": "boolean"
        },
        {
         "name": "SellerG_Area",
         "rawType": "bool",
         "type": "boolean"
        },
        {
         "name": "SellerG_Ascend",
         "rawType": "bool",
         "type": "boolean"
        },
        {
         "name": "SellerG_Ash",
         "rawType": "bool",
         "type": "boolean"
        },
        {
         "name": "SellerG_Asset",
         "rawType": "bool",
         "type": "boolean"
        },
        {
         "name": "SellerG_Assisi",
         "rawType": "bool",
         "type": "boolean"
        },
        {
         "name": "SellerG_Aumeca",
         "rawType": "bool",
         "type": "boolean"
        },
        {
         "name": "SellerG_Australian",
         "rawType": "bool",
         "type": "boolean"
        },
        {
         "name": "SellerG_Avion",
         "rawType": "bool",
         "type": "boolean"
        },
        {
         "name": "SellerG_Barlow",
         "rawType": "bool",
         "type": "boolean"
        },
        {
         "name": "SellerG_Barry",
         "rawType": "bool",
         "type": "boolean"
        },
        {
         "name": "SellerG_Batty",
         "rawType": "bool",
         "type": "boolean"
        },
        {
         "name": "SellerG_Bayside",
         "rawType": "bool",
         "type": "boolean"
        },
        {
         "name": "SellerG_Bekdon",
         "rawType": "bool",
         "type": "boolean"
        },
        {
         "name": "SellerG_Beller",
         "rawType": "bool",
         "type": "boolean"
        },
        {
         "name": "SellerG_Bells",
         "rawType": "bool",
         "type": "boolean"
        },
        {
         "name": "SellerG_Benchmark",
         "rawType": "bool",
         "type": "boolean"
        },
        {
         "name": "SellerG_Benlor",
         "rawType": "bool",
         "type": "boolean"
        },
        {
         "name": "SellerG_Besser",
         "rawType": "bool",
         "type": "boolean"
        },
        {
         "name": "SellerG_Better",
         "rawType": "bool",
         "type": "boolean"
        },
        {
         "name": "SellerG_Biggin",
         "rawType": "bool",
         "type": "boolean"
        },
        {
         "name": "SellerG_Black",
         "rawType": "bool",
         "type": "boolean"
        },
        {
         "name": "SellerG_Blackbird",
         "rawType": "bool",
         "type": "boolean"
        },
        {
         "name": "SellerG_Blue",
         "rawType": "bool",
         "type": "boolean"
        },
        {
         "name": "SellerG_Bombay",
         "rawType": "bool",
         "type": "boolean"
        },
        {
         "name": "SellerG_Boran",
         "rawType": "bool",
         "type": "boolean"
        },
        {
         "name": "SellerG_Boutique",
         "rawType": "bool",
         "type": "boolean"
        },
        {
         "name": "SellerG_Bowman",
         "rawType": "bool",
         "type": "boolean"
        },
        {
         "name": "SellerG_Brace",
         "rawType": "bool",
         "type": "boolean"
        },
        {
         "name": "SellerG_Brad",
         "rawType": "bool",
         "type": "boolean"
        },
        {
         "name": "SellerG_Branon",
         "rawType": "bool",
         "type": "boolean"
        },
        {
         "name": "SellerG_Buckingham",
         "rawType": "bool",
         "type": "boolean"
        },
        {
         "name": "SellerG_Bullen",
         "rawType": "bool",
         "type": "boolean"
        },
        {
         "name": "SellerG_Burnham",
         "rawType": "bool",
         "type": "boolean"
        },
        {
         "name": "SellerG_Burns",
         "rawType": "bool",
         "type": "boolean"
        },
        {
         "name": "SellerG_Bustin",
         "rawType": "bool",
         "type": "boolean"
        },
        {
         "name": "SellerG_Buxton",
         "rawType": "bool",
         "type": "boolean"
        },
        {
         "name": "SellerG_Buxton/Advantage",
         "rawType": "bool",
         "type": "boolean"
        },
        {
         "name": "SellerG_Buxton/Buxton",
         "rawType": "bool",
         "type": "boolean"
        },
        {
         "name": "SellerG_Buxton/Find",
         "rawType": "bool",
         "type": "boolean"
        },
        {
         "name": "SellerG_Buxton/Marshall",
         "rawType": "bool",
         "type": "boolean"
        },
        {
         "name": "SellerG_C21",
         "rawType": "bool",
         "type": "boolean"
        },
        {
         "name": "SellerG_CASTRAN",
         "rawType": "bool",
         "type": "boolean"
        },
        {
         "name": "SellerG_Caine",
         "rawType": "bool",
         "type": "boolean"
        },
        {
         "name": "SellerG_Calder",
         "rawType": "bool",
         "type": "boolean"
        },
        {
         "name": "SellerG_CarlinSmith",
         "rawType": "bool",
         "type": "boolean"
        },
        {
         "name": "SellerG_Carter",
         "rawType": "bool",
         "type": "boolean"
        },
        {
         "name": "SellerG_Castran",
         "rawType": "bool",
         "type": "boolean"
        },
        {
         "name": "SellerG_Cayzer",
         "rawType": "bool",
         "type": "boolean"
        },
        {
         "name": "SellerG_Century",
         "rawType": "bool",
         "type": "boolean"
        },
        {
         "name": "SellerG_Chambers",
         "rawType": "bool",
         "type": "boolean"
        },
        {
         "name": "SellerG_Changing",
         "rawType": "bool",
         "type": "boolean"
        },
        {
         "name": "SellerG_Charlton",
         "rawType": "bool",
         "type": "boolean"
        },
        {
         "name": "SellerG_Charter",
         "rawType": "bool",
         "type": "boolean"
        },
        {
         "name": "SellerG_Chisholm",
         "rawType": "bool",
         "type": "boolean"
        },
        {
         "name": "SellerG_Christopher",
         "rawType": "bool",
         "type": "boolean"
        },
        {
         "name": "SellerG_Clairmont",
         "rawType": "bool",
         "type": "boolean"
        },
        {
         "name": "SellerG_Collings",
         "rawType": "bool",
         "type": "boolean"
        },
        {
         "name": "SellerG_Collins",
         "rawType": "bool",
         "type": "boolean"
        },
        {
         "name": "SellerG_Commercial",
         "rawType": "bool",
         "type": "boolean"
        },
        {
         "name": "SellerG_Community",
         "rawType": "bool",
         "type": "boolean"
        },
        {
         "name": "SellerG_Compton",
         "rawType": "bool",
         "type": "boolean"
        },
        {
         "name": "SellerG_Conquest",
         "rawType": "bool",
         "type": "boolean"
        },
        {
         "name": "SellerG_Considine",
         "rawType": "bool",
         "type": "boolean"
        },
        {
         "name": "SellerG_Coventry",
         "rawType": "bool",
         "type": "boolean"
        },
        {
         "name": "SellerG_Craig",
         "rawType": "bool",
         "type": "boolean"
        },
        {
         "name": "SellerG_Crane",
         "rawType": "bool",
         "type": "boolean"
        },
        {
         "name": "SellerG_Create",
         "rawType": "bool",
         "type": "boolean"
        },
        {
         "name": "SellerG_D'Aprano",
         "rawType": "bool",
         "type": "boolean"
        },
        {
         "name": "SellerG_Daniel",
         "rawType": "bool",
         "type": "boolean"
        },
        {
         "name": "SellerG_Darras",
         "rawType": "bool",
         "type": "boolean"
        },
        {
         "name": "SellerG_Darren",
         "rawType": "bool",
         "type": "boolean"
        },
        {
         "name": "SellerG_David",
         "rawType": "bool",
         "type": "boolean"
        },
        {
         "name": "SellerG_Del",
         "rawType": "bool",
         "type": "boolean"
        },
        {
         "name": "SellerG_Dingle",
         "rawType": "bool",
         "type": "boolean"
        },
        {
         "name": "SellerG_Direct",
         "rawType": "bool",
         "type": "boolean"
        },
        {
         "name": "SellerG_Dixon",
         "rawType": "bool",
         "type": "boolean"
        },
        {
         "name": "SellerG_Domain",
         "rawType": "bool",
         "type": "boolean"
        },
        {
         "name": "SellerG_Donovan",
         "rawType": "bool",
         "type": "boolean"
        },
        {
         "name": "SellerG_Douglas",
         "rawType": "bool",
         "type": "boolean"
        },
        {
         "name": "SellerG_Edward",
         "rawType": "bool",
         "type": "boolean"
        },
        {
         "name": "SellerG_Elite",
         "rawType": "bool",
         "type": "boolean"
        },
        {
         "name": "SellerG_Eric",
         "rawType": "bool",
         "type": "boolean"
        },
        {
         "name": "SellerG_Eview",
         "rawType": "bool",
         "type": "boolean"
        },
        {
         "name": "SellerG_FN",
         "rawType": "bool",
         "type": "boolean"
        },
        {
         "name": "SellerG_First",
         "rawType": "bool",
         "type": "boolean"
        },
        {
         "name": "SellerG_Flannagan",
         "rawType": "bool",
         "type": "boolean"
        },
        {
         "name": "SellerG_Fletchers",
         "rawType": "bool",
         "type": "boolean"
        },
        {
         "name": "SellerG_Fletchers/Fletchers",
         "rawType": "bool",
         "type": "boolean"
        },
        {
         "name": "SellerG_Fletchers/One",
         "rawType": "bool",
         "type": "boolean"
        },
        {
         "name": "SellerG_Follett",
         "rawType": "bool",
         "type": "boolean"
        },
        {
         "name": "SellerG_For",
         "rawType": "bool",
         "type": "boolean"
        },
        {
         "name": "SellerG_Frank",
         "rawType": "bool",
         "type": "boolean"
        },
        {
         "name": "SellerG_Free",
         "rawType": "bool",
         "type": "boolean"
        },
        {
         "name": "SellerG_G&H",
         "rawType": "bool",
         "type": "boolean"
        },
        {
         "name": "SellerG_GL",
         "rawType": "bool",
         "type": "boolean"
        },
        {
         "name": "SellerG_Galldon",
         "rawType": "bool",
         "type": "boolean"
        },
        {
         "name": "SellerG_Gardiner",
         "rawType": "bool",
         "type": "boolean"
        },
        {
         "name": "SellerG_Garvey",
         "rawType": "bool",
         "type": "boolean"
        },
        {
         "name": "SellerG_Gary",
         "rawType": "bool",
         "type": "boolean"
        },
        {
         "name": "SellerG_Gellibrand",
         "rawType": "bool",
         "type": "boolean"
        },
        {
         "name": "SellerG_Geoff",
         "rawType": "bool",
         "type": "boolean"
        },
        {
         "name": "SellerG_Grantham",
         "rawType": "bool",
         "type": "boolean"
        },
        {
         "name": "SellerG_Greg",
         "rawType": "bool",
         "type": "boolean"
        },
        {
         "name": "SellerG_Gunn&Co",
         "rawType": "bool",
         "type": "boolean"
        },
        {
         "name": "SellerG_H",
         "rawType": "bool",
         "type": "boolean"
        },
        {
         "name": "SellerG_HAR",
         "rawType": "bool",
         "type": "boolean"
        },
        {
         "name": "SellerG_Hall",
         "rawType": "bool",
         "type": "boolean"
        },
        {
         "name": "SellerG_Ham",
         "rawType": "bool",
         "type": "boolean"
        },
        {
         "name": "SellerG_Hamilton",
         "rawType": "bool",
         "type": "boolean"
        },
        {
         "name": "SellerG_Harcourts",
         "rawType": "bool",
         "type": "boolean"
        },
        {
         "name": "SellerG_Harrington",
         "rawType": "bool",
         "type": "boolean"
        },
        {
         "name": "SellerG_Haughton",
         "rawType": "bool",
         "type": "boolean"
        },
        {
         "name": "SellerG_Hayeswinckle",
         "rawType": "bool",
         "type": "boolean"
        },
        {
         "name": "SellerG_Hodges",
         "rawType": "bool",
         "type": "boolean"
        },
        {
         "name": "SellerG_Holland",
         "rawType": "bool",
         "type": "boolean"
        },
        {
         "name": "SellerG_Home",
         "rawType": "bool",
         "type": "boolean"
        },
        {
         "name": "SellerG_Homes",
         "rawType": "bool",
         "type": "boolean"
        },
        {
         "name": "SellerG_Hooper",
         "rawType": "bool",
         "type": "boolean"
        },
        {
         "name": "SellerG_Hoskins",
         "rawType": "bool",
         "type": "boolean"
        },
        {
         "name": "SellerG_Hunter",
         "rawType": "bool",
         "type": "boolean"
        },
        {
         "name": "SellerG_Icon",
         "rawType": "bool",
         "type": "boolean"
        },
        {
         "name": "SellerG_Iconek",
         "rawType": "bool",
         "type": "boolean"
        },
        {
         "name": "SellerG_J",
         "rawType": "bool",
         "type": "boolean"
        },
        {
         "name": "SellerG_JMRE",
         "rawType": "bool",
         "type": "boolean"
        },
        {
         "name": "SellerG_JRW",
         "rawType": "bool",
         "type": "boolean"
        },
        {
         "name": "SellerG_JY",
         "rawType": "bool",
         "type": "boolean"
        },
        {
         "name": "SellerG_Janice",
         "rawType": "bool",
         "type": "boolean"
        },
        {
         "name": "SellerG_Jas",
         "rawType": "bool",
         "type": "boolean"
        },
        {
         "name": "SellerG_Jason",
         "rawType": "bool",
         "type": "boolean"
        },
        {
         "name": "SellerG_Jellis",
         "rawType": "bool",
         "type": "boolean"
        },
        {
         "name": "SellerG_Jim",
         "rawType": "bool",
         "type": "boolean"
        },
        {
         "name": "SellerG_Joe",
         "rawType": "bool",
         "type": "boolean"
        },
        {
         "name": "SellerG_Johnston",
         "rawType": "bool",
         "type": "boolean"
        },
        {
         "name": "SellerG_Joseph",
         "rawType": "bool",
         "type": "boolean"
        },
        {
         "name": "SellerG_Just",
         "rawType": "bool",
         "type": "boolean"
        },
        {
         "name": "SellerG_Justin",
         "rawType": "bool",
         "type": "boolean"
        },
        {
         "name": "SellerG_K.R.Peters",
         "rawType": "bool",
         "type": "boolean"
        },
        {
         "name": "SellerG_Karen",
         "rawType": "bool",
         "type": "boolean"
        },
        {
         "name": "SellerG_Kay",
         "rawType": "bool",
         "type": "boolean"
        },
        {
         "name": "SellerG_Kaye",
         "rawType": "bool",
         "type": "boolean"
        },
        {
         "name": "SellerG_Keatings",
         "rawType": "bool",
         "type": "boolean"
        },
        {
         "name": "SellerG_Kelly",
         "rawType": "bool",
         "type": "boolean"
        },
        {
         "name": "SellerG_Ken",
         "rawType": "bool",
         "type": "boolean"
        },
        {
         "name": "SellerG_L",
         "rawType": "bool",
         "type": "boolean"
        },
        {
         "name": "SellerG_LITTLE",
         "rawType": "bool",
         "type": "boolean"
        },
        {
         "name": "SellerG_LJ",
         "rawType": "bool",
         "type": "boolean"
        },
        {
         "name": "SellerG_LJH",
         "rawType": "bool",
         "type": "boolean"
        },
        {
         "name": "SellerG_LLC",
         "rawType": "bool",
         "type": "boolean"
        },
        {
         "name": "SellerG_Langwell",
         "rawType": "bool",
         "type": "boolean"
        },
        {
         "name": "SellerG_Le",
         "rawType": "bool",
         "type": "boolean"
        },
        {
         "name": "SellerG_Leaders",
         "rawType": "bool",
         "type": "boolean"
        },
        {
         "name": "SellerG_Leading",
         "rawType": "bool",
         "type": "boolean"
        },
        {
         "name": "SellerG_Leased",
         "rawType": "bool",
         "type": "boolean"
        },
        {
         "name": "SellerG_Leeburn",
         "rawType": "bool",
         "type": "boolean"
        },
        {
         "name": "SellerG_Leyton",
         "rawType": "bool",
         "type": "boolean"
        },
        {
         "name": "SellerG_Lindellas",
         "rawType": "bool",
         "type": "boolean"
        },
        {
         "name": "SellerG_Love",
         "rawType": "bool",
         "type": "boolean"
        },
        {
         "name": "SellerG_Lucas",
         "rawType": "bool",
         "type": "boolean"
        },
        {
         "name": "SellerG_Luxe",
         "rawType": "bool",
         "type": "boolean"
        },
        {
         "name": "SellerG_Luxton",
         "rawType": "bool",
         "type": "boolean"
        },
        {
         "name": "SellerG_M.J",
         "rawType": "bool",
         "type": "boolean"
        },
        {
         "name": "SellerG_MICM",
         "rawType": "bool",
         "type": "boolean"
        },
        {
         "name": "SellerG_MJ",
         "rawType": "bool",
         "type": "boolean"
        },
        {
         "name": "SellerG_Maddison",
         "rawType": "bool",
         "type": "boolean"
        },
        {
         "name": "SellerG_Maitland",
         "rawType": "bool",
         "type": "boolean"
        },
        {
         "name": "SellerG_Mandy",
         "rawType": "bool",
         "type": "boolean"
        },
        {
         "name": "SellerG_Mark",
         "rawType": "bool",
         "type": "boolean"
        },
        {
         "name": "SellerG_Marshall",
         "rawType": "bool",
         "type": "boolean"
        },
        {
         "name": "SellerG_Mason",
         "rawType": "bool",
         "type": "boolean"
        },
        {
         "name": "SellerG_Matthew",
         "rawType": "bool",
         "type": "boolean"
        },
        {
         "name": "SellerG_Max",
         "rawType": "bool",
         "type": "boolean"
        },
        {
         "name": "SellerG_McDonald",
         "rawType": "bool",
         "type": "boolean"
        },
        {
         "name": "SellerG_McEwing",
         "rawType": "bool",
         "type": "boolean"
        },
        {
         "name": "SellerG_McGrath",
         "rawType": "bool",
         "type": "boolean"
        },
        {
         "name": "SellerG_McGrath/First",
         "rawType": "bool",
         "type": "boolean"
        },
        {
         "name": "SellerG_McGrath/Langwell",
         "rawType": "bool",
         "type": "boolean"
        },
        {
         "name": "SellerG_McLennan",
         "rawType": "bool",
         "type": "boolean"
        },
        {
         "name": "SellerG_McNaughton",
         "rawType": "bool",
         "type": "boolean"
        },
        {
         "name": "SellerG_Meadows",
         "rawType": "bool",
         "type": "boolean"
        },
        {
         "name": "SellerG_Meallin",
         "rawType": "bool",
         "type": "boolean"
        },
        {
         "name": "SellerG_Mega",
         "rawType": "bool",
         "type": "boolean"
        },
        {
         "name": "SellerG_Melbourne",
         "rawType": "bool",
         "type": "boolean"
        },
        {
         "name": "SellerG_Metro",
         "rawType": "bool",
         "type": "boolean"
        },
        {
         "name": "SellerG_Miles",
         "rawType": "bool",
         "type": "boolean"
        },
        {
         "name": "SellerG_Millership",
         "rawType": "bool",
         "type": "boolean"
        },
        {
         "name": "SellerG_Mindacom",
         "rawType": "bool",
         "type": "boolean"
        },
        {
         "name": "SellerG_Mitchell",
         "rawType": "bool",
         "type": "boolean"
        },
        {
         "name": "SellerG_Moonee",
         "rawType": "bool",
         "type": "boolean"
        },
        {
         "name": "SellerG_Morleys",
         "rawType": "bool",
         "type": "boolean"
        },
        {
         "name": "SellerG_Morrison",
         "rawType": "bool",
         "type": "boolean"
        },
        {
         "name": "SellerG_Munn",
         "rawType": "bool",
         "type": "boolean"
        },
        {
         "name": "SellerG_Naison",
         "rawType": "bool",
         "type": "boolean"
        },
        {
         "name": "SellerG_Nardella",
         "rawType": "bool",
         "type": "boolean"
        },
        {
         "name": "SellerG_Nelson",
         "rawType": "bool",
         "type": "boolean"
        },
        {
         "name": "SellerG_New",
         "rawType": "bool",
         "type": "boolean"
        },
        {
         "name": "SellerG_Nguyen",
         "rawType": "bool",
         "type": "boolean"
        },
        {
         "name": "SellerG_Nicholas",
         "rawType": "bool",
         "type": "boolean"
        },
        {
         "name": "SellerG_Nicholls",
         "rawType": "bool",
         "type": "boolean"
        },
        {
         "name": "SellerG_Nicholson",
         "rawType": "bool",
         "type": "boolean"
        },
        {
         "name": "SellerG_Nick",
         "rawType": "bool",
         "type": "boolean"
        },
        {
         "name": "SellerG_Noel",
         "rawType": "bool",
         "type": "boolean"
        },
        {
         "name": "SellerG_North",
         "rawType": "bool",
         "type": "boolean"
        },
        {
         "name": "SellerG_O'Brien",
         "rawType": "bool",
         "type": "boolean"
        },
        {
         "name": "SellerG_O'Donoghues",
         "rawType": "bool",
         "type": "boolean"
        },
        {
         "name": "SellerG_OBrien",
         "rawType": "bool",
         "type": "boolean"
        },
        {
         "name": "SellerG_Oak",
         "rawType": "bool",
         "type": "boolean"
        },
        {
         "name": "SellerG_Obrien",
         "rawType": "bool",
         "type": "boolean"
        },
        {
         "name": "SellerG_One",
         "rawType": "bool",
         "type": "boolean"
        },
        {
         "name": "SellerG_Only",
         "rawType": "bool",
         "type": "boolean"
        },
        {
         "name": "SellerG_Open",
         "rawType": "bool",
         "type": "boolean"
        },
        {
         "name": "SellerG_Oriental",
         "rawType": "bool",
         "type": "boolean"
        },
        {
         "name": "SellerG_Owen",
         "rawType": "bool",
         "type": "boolean"
        },
        {
         "name": "SellerG_P",
         "rawType": "bool",
         "type": "boolean"
        },
        {
         "name": "SellerG_PRD",
         "rawType": "bool",
         "type": "boolean"
        },
        {
         "name": "SellerG_PRDNationwide",
         "rawType": "bool",
         "type": "boolean"
        },
        {
         "name": "SellerG_PSP",
         "rawType": "bool",
         "type": "boolean"
        },
        {
         "name": "SellerG_Pagan",
         "rawType": "bool",
         "type": "boolean"
        },
        {
         "name": "SellerG_Parkes",
         "rawType": "bool",
         "type": "boolean"
        },
        {
         "name": "SellerG_Parkinson",
         "rawType": "bool",
         "type": "boolean"
        },
        {
         "name": "SellerG_Paul",
         "rawType": "bool",
         "type": "boolean"
        },
        {
         "name": "SellerG_Peake",
         "rawType": "bool",
         "type": "boolean"
        },
        {
         "name": "SellerG_People",
         "rawType": "bool",
         "type": "boolean"
        },
        {
         "name": "SellerG_Peter",
         "rawType": "bool",
         "type": "boolean"
        },
        {
         "name": "SellerG_Philip",
         "rawType": "bool",
         "type": "boolean"
        },
        {
         "name": "SellerG_Point",
         "rawType": "bool",
         "type": "boolean"
        },
        {
         "name": "SellerG_Pride",
         "rawType": "bool",
         "type": "boolean"
        },
        {
         "name": "SellerG_Prime",
         "rawType": "bool",
         "type": "boolean"
        },
        {
         "name": "SellerG_Private/Tiernan's",
         "rawType": "bool",
         "type": "boolean"
        },
        {
         "name": "SellerG_Prof.",
         "rawType": "bool",
         "type": "boolean"
        },
        {
         "name": "SellerG_Professionals",
         "rawType": "bool",
         "type": "boolean"
        },
        {
         "name": "SellerG_Property",
         "rawType": "bool",
         "type": "boolean"
        },
        {
         "name": "SellerG_Propertyau",
         "rawType": "bool",
         "type": "boolean"
        },
        {
         "name": "SellerG_Prowse",
         "rawType": "bool",
         "type": "boolean"
        },
        {
         "name": "SellerG_Purplebricks",
         "rawType": "bool",
         "type": "boolean"
        },
        {
         "name": "SellerG_Quinta",
         "rawType": "bool",
         "type": "boolean"
        },
        {
         "name": "SellerG_R&H",
         "rawType": "bool",
         "type": "boolean"
        },
        {
         "name": "SellerG_RE",
         "rawType": "bool",
         "type": "boolean"
        },
        {
         "name": "SellerG_REMAX",
         "rawType": "bool",
         "type": "boolean"
        },
        {
         "name": "SellerG_RT",
         "rawType": "bool",
         "type": "boolean"
        },
        {
         "name": "SellerG_RW",
         "rawType": "bool",
         "type": "boolean"
        },
        {
         "name": "SellerG_Raine",
         "rawType": "bool",
         "type": "boolean"
        },
        {
         "name": "SellerG_Raine&Horne",
         "rawType": "bool",
         "type": "boolean"
        },
        {
         "name": "SellerG_Ray",
         "rawType": "bool",
         "type": "boolean"
        },
        {
         "name": "SellerG_Re",
         "rawType": "bool",
         "type": "boolean"
        },
        {
         "name": "SellerG_Reach",
         "rawType": "bool",
         "type": "boolean"
        },
        {
         "name": "SellerG_Real",
         "rawType": "bool",
         "type": "boolean"
        },
        {
         "name": "SellerG_Red",
         "rawType": "bool",
         "type": "boolean"
        },
        {
         "name": "SellerG_Redina",
         "rawType": "bool",
         "type": "boolean"
        },
        {
         "name": "SellerG_Reed",
         "rawType": "bool",
         "type": "boolean"
        },
        {
         "name": "SellerG_Reliance",
         "rawType": "bool",
         "type": "boolean"
        },
        {
         "name": "SellerG_Rendina",
         "rawType": "bool",
         "type": "boolean"
        },
        {
         "name": "SellerG_Rexhepi",
         "rawType": "bool",
         "type": "boolean"
        },
        {
         "name": "SellerG_Ristic",
         "rawType": "bool",
         "type": "boolean"
        },
        {
         "name": "SellerG_Rodney",
         "rawType": "bool",
         "type": "boolean"
        },
        {
         "name": "SellerG_Roger",
         "rawType": "bool",
         "type": "boolean"
        },
        {
         "name": "SellerG_Rombotis",
         "rawType": "bool",
         "type": "boolean"
        },
        {
         "name": "SellerG_Rosin",
         "rawType": "bool",
         "type": "boolean"
        },
        {
         "name": "SellerG_Ross",
         "rawType": "bool",
         "type": "boolean"
        },
        {
         "name": "SellerG_Rounds",
         "rawType": "bool",
         "type": "boolean"
        },
        {
         "name": "SellerG_Ryder",
         "rawType": "bool",
         "type": "boolean"
        },
        {
         "name": "SellerG_S&L",
         "rawType": "bool",
         "type": "boolean"
        },
        {
         "name": "SellerG_SN",
         "rawType": "bool",
         "type": "boolean"
        },
        {
         "name": "SellerG_Sanctuary",
         "rawType": "bool",
         "type": "boolean"
        },
        {
         "name": "SellerG_Sandhurst",
         "rawType": "bool",
         "type": "boolean"
        },
        {
         "name": "SellerG_Schroeder",
         "rawType": "bool",
         "type": "boolean"
        },
        {
         "name": "SellerG_Scott",
         "rawType": "bool",
         "type": "boolean"
        },
        {
         "name": "SellerG_Sell",
         "rawType": "bool",
         "type": "boolean"
        },
        {
         "name": "SellerG_Shape",
         "rawType": "bool",
         "type": "boolean"
        },
        {
         "name": "SellerG_Skad",
         "rawType": "bool",
         "type": "boolean"
        },
        {
         "name": "SellerG_Smart",
         "rawType": "bool",
         "type": "boolean"
        },
        {
         "name": "SellerG_Sotheby's",
         "rawType": "bool",
         "type": "boolean"
        },
        {
         "name": "SellerG_Space",
         "rawType": "bool",
         "type": "boolean"
        },
        {
         "name": "SellerG_Spencer",
         "rawType": "bool",
         "type": "boolean"
        },
        {
         "name": "SellerG_Steller",
         "rawType": "bool",
         "type": "boolean"
        },
        {
         "name": "SellerG_Steveway",
         "rawType": "bool",
         "type": "boolean"
        },
        {
         "name": "SellerG_Stockdale",
         "rawType": "bool",
         "type": "boolean"
        },
        {
         "name": "SellerG_Surreal",
         "rawType": "bool",
         "type": "boolean"
        },
        {
         "name": "SellerG_Sweeney",
         "rawType": "bool",
         "type": "boolean"
        },
        {
         "name": "SellerG_Sweeney/Advantage",
         "rawType": "bool",
         "type": "boolean"
        },
        {
         "name": "SellerG_Sweeney/Burnham",
         "rawType": "bool",
         "type": "boolean"
        },
        {
         "name": "SellerG_T",
         "rawType": "bool",
         "type": "boolean"
        },
        {
         "name": "SellerG_TRUE",
         "rawType": "bool",
         "type": "boolean"
        },
        {
         "name": "SellerG_The",
         "rawType": "bool",
         "type": "boolean"
        },
        {
         "name": "SellerG_Thomas",
         "rawType": "bool",
         "type": "boolean"
        },
        {
         "name": "SellerG_Thomson",
         "rawType": "bool",
         "type": "boolean"
        },
        {
         "name": "SellerG_Tiernan's",
         "rawType": "bool",
         "type": "boolean"
        },
        {
         "name": "SellerG_Tim",
         "rawType": "bool",
         "type": "boolean"
        },
        {
         "name": "SellerG_Trimson",
         "rawType": "bool",
         "type": "boolean"
        },
        {
         "name": "SellerG_Triwest",
         "rawType": "bool",
         "type": "boolean"
        },
        {
         "name": "SellerG_U",
         "rawType": "bool",
         "type": "boolean"
        },
        {
         "name": "SellerG_Unity",
         "rawType": "bool",
         "type": "boolean"
        },
        {
         "name": "SellerG_Upper",
         "rawType": "bool",
         "type": "boolean"
        },
        {
         "name": "SellerG_Upside",
         "rawType": "bool",
         "type": "boolean"
        },
        {
         "name": "SellerG_VICPROP",
         "rawType": "bool",
         "type": "boolean"
        },
        {
         "name": "SellerG_VICProp",
         "rawType": "bool",
         "type": "boolean"
        },
        {
         "name": "SellerG_Veitch",
         "rawType": "bool",
         "type": "boolean"
        },
        {
         "name": "SellerG_Vic",
         "rawType": "bool",
         "type": "boolean"
        },
        {
         "name": "SellerG_VicHomes",
         "rawType": "bool",
         "type": "boolean"
        },
        {
         "name": "SellerG_Victory",
         "rawType": "bool",
         "type": "boolean"
        },
        {
         "name": "SellerG_Village",
         "rawType": "bool",
         "type": "boolean"
        },
        {
         "name": "SellerG_W.B.",
         "rawType": "bool",
         "type": "boolean"
        },
        {
         "name": "SellerG_WHITEFOX",
         "rawType": "bool",
         "type": "boolean"
        },
        {
         "name": "SellerG_Walsh",
         "rawType": "bool",
         "type": "boolean"
        },
        {
         "name": "SellerG_Walshe",
         "rawType": "bool",
         "type": "boolean"
        },
        {
         "name": "SellerG_Weast",
         "rawType": "bool",
         "type": "boolean"
        },
        {
         "name": "SellerG_Weda",
         "rawType": "bool",
         "type": "boolean"
        },
        {
         "name": "SellerG_Weston",
         "rawType": "bool",
         "type": "boolean"
        },
        {
         "name": "SellerG_Westside",
         "rawType": "bool",
         "type": "boolean"
        },
        {
         "name": "SellerG_White",
         "rawType": "bool",
         "type": "boolean"
        },
        {
         "name": "SellerG_Whiting",
         "rawType": "bool",
         "type": "boolean"
        },
        {
         "name": "SellerG_William",
         "rawType": "bool",
         "type": "boolean"
        },
        {
         "name": "SellerG_Williams",
         "rawType": "bool",
         "type": "boolean"
        },
        {
         "name": "SellerG_Wilson",
         "rawType": "bool",
         "type": "boolean"
        },
        {
         "name": "SellerG_Win",
         "rawType": "bool",
         "type": "boolean"
        },
        {
         "name": "SellerG_Wood",
         "rawType": "bool",
         "type": "boolean"
        },
        {
         "name": "SellerG_Woodards",
         "rawType": "bool",
         "type": "boolean"
        },
        {
         "name": "SellerG_Wyndham",
         "rawType": "bool",
         "type": "boolean"
        },
        {
         "name": "SellerG_Xynergy",
         "rawType": "bool",
         "type": "boolean"
        },
        {
         "name": "SellerG_YPA",
         "rawType": "bool",
         "type": "boolean"
        },
        {
         "name": "SellerG_Zahn",
         "rawType": "bool",
         "type": "boolean"
        },
        {
         "name": "SellerG_buyMyplace",
         "rawType": "bool",
         "type": "boolean"
        },
        {
         "name": "SellerG_hockingstuart",
         "rawType": "bool",
         "type": "boolean"
        },
        {
         "name": "SellerG_hockingstuart/Advantage",
         "rawType": "bool",
         "type": "boolean"
        },
        {
         "name": "SellerG_hockingstuart/Barry",
         "rawType": "bool",
         "type": "boolean"
        },
        {
         "name": "SellerG_hockingstuart/Biggin",
         "rawType": "bool",
         "type": "boolean"
        },
        {
         "name": "SellerG_hockingstuart/Buxton",
         "rawType": "bool",
         "type": "boolean"
        },
        {
         "name": "SellerG_hockingstuart/Harcourts",
         "rawType": "bool",
         "type": "boolean"
        },
        {
         "name": "SellerG_hockingstuart/Marshall",
         "rawType": "bool",
         "type": "boolean"
        },
        {
         "name": "SellerG_hockingstuart/Sweeney",
         "rawType": "bool",
         "type": "boolean"
        },
        {
         "name": "SellerG_hockingstuart/Village",
         "rawType": "bool",
         "type": "boolean"
        },
        {
         "name": "SellerG_hockingstuart/hockingstuart",
         "rawType": "bool",
         "type": "boolean"
        },
        {
         "name": "SellerG_iHomes",
         "rawType": "bool",
         "type": "boolean"
        },
        {
         "name": "SellerG_iOne",
         "rawType": "bool",
         "type": "boolean"
        },
        {
         "name": "SellerG_iProperty",
         "rawType": "bool",
         "type": "boolean"
        },
        {
         "name": "SellerG_iSell",
         "rawType": "bool",
         "type": "boolean"
        },
        {
         "name": "SellerG_iTRAK",
         "rawType": "bool",
         "type": "boolean"
        },
        {
         "name": "Regionname_Eastern Victoria",
         "rawType": "bool",
         "type": "boolean"
        },
        {
         "name": "Regionname_Northern Metropolitan",
         "rawType": "bool",
         "type": "boolean"
        },
        {
         "name": "Regionname_Northern Victoria",
         "rawType": "bool",
         "type": "boolean"
        },
        {
         "name": "Regionname_South-Eastern Metropolitan",
         "rawType": "bool",
         "type": "boolean"
        },
        {
         "name": "Regionname_Southern Metropolitan",
         "rawType": "bool",
         "type": "boolean"
        },
        {
         "name": "Regionname_Western Metropolitan",
         "rawType": "bool",
         "type": "boolean"
        },
        {
         "name": "Regionname_Western Victoria",
         "rawType": "bool",
         "type": "boolean"
        },
        {
         "name": "CouncilArea_Bayside City Council",
         "rawType": "bool",
         "type": "boolean"
        },
        {
         "name": "CouncilArea_Boroondara City Council",
         "rawType": "bool",
         "type": "boolean"
        },
        {
         "name": "CouncilArea_Brimbank City Council",
         "rawType": "bool",
         "type": "boolean"
        },
        {
         "name": "CouncilArea_Cardinia Shire Council",
         "rawType": "bool",
         "type": "boolean"
        },
        {
         "name": "CouncilArea_Casey City Council",
         "rawType": "bool",
         "type": "boolean"
        },
        {
         "name": "CouncilArea_Darebin City Council",
         "rawType": "bool",
         "type": "boolean"
        },
        {
         "name": "CouncilArea_Frankston City Council",
         "rawType": "bool",
         "type": "boolean"
        },
        {
         "name": "CouncilArea_Glen Eira City Council",
         "rawType": "bool",
         "type": "boolean"
        },
        {
         "name": "CouncilArea_Greater Dandenong City Council",
         "rawType": "bool",
         "type": "boolean"
        },
        {
         "name": "CouncilArea_Hobsons Bay City Council",
         "rawType": "bool",
         "type": "boolean"
        },
        {
         "name": "CouncilArea_Hume City Council",
         "rawType": "bool",
         "type": "boolean"
        },
        {
         "name": "CouncilArea_Kingston City Council",
         "rawType": "bool",
         "type": "boolean"
        },
        {
         "name": "CouncilArea_Knox City Council",
         "rawType": "bool",
         "type": "boolean"
        },
        {
         "name": "CouncilArea_Macedon Ranges Shire Council",
         "rawType": "bool",
         "type": "boolean"
        },
        {
         "name": "CouncilArea_Manningham City Council",
         "rawType": "bool",
         "type": "boolean"
        },
        {
         "name": "CouncilArea_Maribyrnong City Council",
         "rawType": "bool",
         "type": "boolean"
        },
        {
         "name": "CouncilArea_Maroondah City Council",
         "rawType": "bool",
         "type": "boolean"
        },
        {
         "name": "CouncilArea_Melbourne City Council",
         "rawType": "bool",
         "type": "boolean"
        },
        {
         "name": "CouncilArea_Melton City Council",
         "rawType": "bool",
         "type": "boolean"
        },
        {
         "name": "CouncilArea_Mitchell Shire Council",
         "rawType": "bool",
         "type": "boolean"
        },
        {
         "name": "CouncilArea_Monash City Council",
         "rawType": "bool",
         "type": "boolean"
        },
        {
         "name": "CouncilArea_Moonee Valley City Council",
         "rawType": "bool",
         "type": "boolean"
        },
        {
         "name": "CouncilArea_Moorabool Shire Council",
         "rawType": "bool",
         "type": "boolean"
        },
        {
         "name": "CouncilArea_Moreland City Council",
         "rawType": "bool",
         "type": "boolean"
        },
        {
         "name": "CouncilArea_Nillumbik Shire Council",
         "rawType": "bool",
         "type": "boolean"
        },
        {
         "name": "CouncilArea_Port Phillip City Council",
         "rawType": "bool",
         "type": "boolean"
        },
        {
         "name": "CouncilArea_Stonnington City Council",
         "rawType": "bool",
         "type": "boolean"
        },
        {
         "name": "CouncilArea_Whitehorse City Council",
         "rawType": "bool",
         "type": "boolean"
        },
        {
         "name": "CouncilArea_Whittlesea City Council",
         "rawType": "bool",
         "type": "boolean"
        },
        {
         "name": "CouncilArea_Wyndham City Council",
         "rawType": "bool",
         "type": "boolean"
        },
        {
         "name": "CouncilArea_Yarra City Council",
         "rawType": "bool",
         "type": "boolean"
        },
        {
         "name": "CouncilArea_Yarra Ranges Shire Council",
         "rawType": "bool",
         "type": "boolean"
        }
       ],
       "conversionMethod": "pd.DataFrame",
       "ref": "e8543dde-d05a-4a27-a54b-93185c79fa08",
       "rows": [
        [
         "1",
         "2",
         "4019.0",
         "2.5",
         "2.0",
         "1.0",
         "1.0",
         "202.0",
         "160.2564003565711",
         "1480000.0",
         "False",
         "False",
         "False",
         "False",
         "False",
         "False",
         "False",
         "False",
         "False",
         "False",
         "False",
         "False",
         "False",
         "False",
         "False",
         "False",
         "False",
         "False",
         "False",
         "False",
         "False",
         "False",
         "False",
         "False",
         "False",
         "False",
         "False",
         "False",
         "False",
         "False",
         "False",
         "False",
         "False",
         "False",
         "False",
         "False",
         "False",
         "False",
         "False",
         "False",
         "False",
         "False",
         "False",
         "False",
         "False",
         "False",
         "False",
         "False",
         "False",
         "False",
         "False",
         "False",
         "False",
         "False",
         "False",
         "False",
         "False",
         "False",
         "False",
         "False",
         "False",
         "False",
         "False",
         "False",
         "False",
         "False",
         "False",
         "False",
         "False",
         "False",
         "False",
         "False",
         "False",
         "False",
         "False",
         "False",
         "False",
         "False",
         "False",
         "False",
         "False",
         "False",
         "False",
         "False",
         "False",
         "False",
         "False",
         "False",
         "False",
         "False",
         "False",
         "False",
         "False",
         "False",
         "False",
         "False",
         "False",
         "False",
         "False",
         "False",
         "False",
         "False",
         "False",
         "False",
         "False",
         "False",
         "False",
         "False",
         "False",
         "False",
         "False",
         "False",
         "False",
         "False",
         "False",
         "False",
         "False",
         "False",
         "False",
         "False",
         "False",
         "False",
         "False",
         "False",
         "False",
         "False",
         "False",
         "False",
         "False",
         "False",
         "False",
         "False",
         "False",
         "False",
         "False",
         "False",
         "False",
         "False",
         "False",
         "False",
         "False",
         "False",
         "False",
         "False",
         "False",
         "False",
         "False",
         "False",
         "False",
         "False",
         "False",
         "False",
         "False",
         "False",
         "False",
         "False",
         "False",
         "False",
         "False",
         "False",
         "False",
         "False",
         "False",
         "False",
         "False",
         "False",
         "False",
         "False",
         "False",
         "False",
         "False",
         "False",
         "False",
         "False",
         "False",
         "False",
         "False",
         "False",
         "False",
         "False",
         "False",
         "False",
         "False",
         "False",
         "False",
         "False",
         "False",
         "False",
         "False",
         "False",
         "False",
         "False",
         "False",
         "False",
         "False",
         "False",
         "False",
         "False",
         "False",
         "False",
         "False",
         "False",
         "False",
         "False",
         "False",
         "False",
         "False",
         "False",
         "False",
         "False",
         "False",
         "False",
         "False",
         "False",
         "False",
         "False",
         "False",
         "False",
         "False",
         "False",
         "False",
         "False",
         "False",
         "False",
         "False",
         "False",
         "False",
         "False",
         "False",
         "False",
         "False",
         "False",
         "False",
         "False",
         "False",
         "False",
         "False",
         "False",
         "False",
         "False",
         "False",
         "False",
         "False",
         "False",
         "False",
         "False",
         "False",
         "False",
         "False",
         "False",
         "False",
         "False",
         "False",
         "False",
         "False",
         "False",
         "False",
         "False",
         "False",
         "False",
         "False",
         "False",
         "False",
         "False",
         "False",
         "False",
         "False",
         "False",
         "False",
         "False",
         "False",
         "False",
         "False",
         "False",
         "False",
         "False",
         "False",
         "False",
         "False",
         "False",
         "False",
         "False",
         "False",
         "False",
         "False",
         "False",
         "False",
         "False",
         "False",
         "False",
         "False",
         "False",
         "False",
         "False",
         "False",
         "False",
         "False",
         "False",
         "False",
         "False",
         "False",
         "False",
         "False",
         "False",
         "False",
         "False",
         "False",
         "False",
         "False",
         "False",
         "False",
         "False",
         "False",
         "False",
         "False",
         "False",
         "False",
         "False",
         "False",
         "False",
         "False",
         "False",
         "False",
         "False",
         "False",
         "False",
         "False",
         "False",
         "False",
         "False",
         "False",
         "False",
         "False",
         "False",
         "False",
         "False",
         "False",
         "False",
         "False",
         "False",
         "False",
         "False",
         "False",
         "False",
         "False",
         "False",
         "False",
         "False",
         "False",
         "False",
         "False",
         "False",
         "False",
         "False",
         "False",
         "False",
         "False",
         "False",
         "False",
         "False",
         "False",
         "False",
         "False",
         "False",
         "False",
         "False",
         "False",
         "False",
         "False",
         "False",
         "False",
         "False",
         "False",
         "False",
         "False",
         "False",
         "True",
         "False",
         "False",
         "False",
         "False",
         "False",
         "False",
         "False",
         "False",
         "False",
         "False",
         "False",
         "False",
         "False",
         "False",
         "False",
         "False",
         "False",
         "False",
         "False",
         "False",
         "False",
         "False",
         "False",
         "False",
         "False",
         "False",
         "False",
         "False",
         "False",
         "False",
         "False",
         "False",
         "False",
         "False",
         "False",
         "False",
         "False",
         "False",
         "False",
         "False",
         "False",
         "False",
         "False",
         "False",
         "False",
         "False",
         "False",
         "False",
         "False",
         "False",
         "False",
         "False",
         "False",
         "False",
         "False",
         "False",
         "False",
         "False",
         "False",
         "False",
         "False",
         "False",
         "False",
         "False",
         "False",
         "False",
         "False",
         "False",
         "False",
         "False",
         "False",
         "False",
         "False",
         "False",
         "False",
         "False",
         "False",
         "False",
         "False",
         "False",
         "False",
         "False",
         "False",
         "False",
         "False",
         "False",
         "False",
         "False",
         "False",
         "False",
         "False",
         "False",
         "False",
         "False",
         "False",
         "False",
         "False",
         "False",
         "False",
         "False",
         "False",
         "False",
         "False",
         "False",
         "False",
         "False",
         "False",
         "False",
         "False",
         "False",
         "False",
         "False",
         "False",
         "False",
         "False",
         "False",
         "False",
         "False",
         "False",
         "False",
         "False",
         "False",
         "False",
         "False",
         "False",
         "False",
         "False",
         "False",
         "False",
         "False",
         "False",
         "False",
         "False",
         "False",
         "False",
         "False",
         "False",
         "False",
         "False",
         "False",
         "False",
         "False",
         "False",
         "False",
         "False",
         "False",
         "False",
         "False",
         "False",
         "False",
         "False",
         "False",
         "False",
         "False",
         "False",
         "False",
         "False",
         "False",
         "False",
         "False",
         "False",
         "False",
         "False",
         "False",
         "False",
         "False",
         "False",
         "False",
         "False",
         "False",
         "False",
         "False",
         "False",
         "False",
         "False",
         "False",
         "False",
         "False",
         "False",
         "False",
         "False",
         "False",
         "False",
         "False",
         "False",
         "False",
         "False",
         "False",
         "False",
         "False",
         "False",
         "False",
         "False",
         "False",
         "False",
         "False",
         "False",
         "False",
         "False",
         "False",
         "False",
         "False",
         "False",
         "False",
         "False",
         "False",
         "False",
         "False",
         "False",
         "False",
         "False",
         "False",
         "False",
         "False",
         "False",
         "False",
         "False",
         "False",
         "False",
         "False",
         "False",
         "False",
         "False",
         "False",
         "False",
         "False",
         "False",
         "False",
         "False",
         "False",
         "False",
         "False",
         "False",
         "False",
         "False",
         "False",
         "False",
         "False",
         "False",
         "False",
         "False",
         "False",
         "False",
         "False",
         "False",
         "False",
         "False",
         "False",
         "False",
         "False",
         "False",
         "False",
         "False",
         "False",
         "False",
         "False",
         "False",
         "False",
         "False",
         "False",
         "False",
         "False",
         "False",
         "False",
         "False",
         "False",
         "False",
         "False",
         "False",
         "False",
         "False",
         "False",
         "False",
         "False",
         "False",
         "False",
         "False",
         "False",
         "False",
         "False",
         "False",
         "False",
         "False",
         "False",
         "False",
         "False",
         "False",
         "False",
         "False",
         "False",
         "False",
         "False",
         "False",
         "False",
         "False",
         "False",
         "False",
         "False",
         "False",
         "False",
         "False",
         "False",
         "False",
         "False",
         "False",
         "False",
         "False",
         "False",
         "False",
         "False",
         "False",
         "False",
         "False",
         "False",
         "False",
         "False",
         "False",
         "True",
         "False",
         "False",
         "False",
         "False",
         "False",
         "False",
         "False",
         "False",
         "False",
         "False",
         "False",
         "False",
         "False",
         "False",
         "False",
         "False",
         "False",
         "False",
         "False",
         "False",
         "False",
         "False",
         "False",
         "False",
         "False",
         "False",
         "False",
         "False",
         "False",
         "False",
         "False",
         "False",
         "False",
         "False",
         "False",
         "True",
         "False"
        ],
        [
         "2",
         "2",
         "4019.0",
         "2.5",
         "2.0",
         "1.0",
         "0.0",
         "156.0",
         "79.0",
         "1035000.0",
         "False",
         "False",
         "False",
         "False",
         "False",
         "False",
         "False",
         "False",
         "False",
         "False",
         "False",
         "False",
         "False",
         "False",
         "False",
         "False",
         "False",
         "False",
         "False",
         "False",
         "False",
         "False",
         "False",
         "False",
         "False",
         "False",
         "False",
         "False",
         "False",
         "False",
         "False",
         "False",
         "False",
         "False",
         "False",
         "False",
         "False",
         "False",
         "False",
         "False",
         "False",
         "False",
         "False",
         "False",
         "False",
         "False",
         "False",
         "False",
         "False",
         "False",
         "False",
         "False",
         "False",
         "False",
         "False",
         "False",
         "False",
         "False",
         "False",
         "False",
         "False",
         "False",
         "False",
         "False",
         "False",
         "False",
         "False",
         "False",
         "False",
         "False",
         "False",
         "False",
         "False",
         "False",
         "False",
         "False",
         "False",
         "False",
         "False",
         "False",
         "False",
         "False",
         "False",
         "False",
         "False",
         "False",
         "False",
         "False",
         "False",
         "False",
         "False",
         "False",
         "False",
         "False",
         "False",
         "False",
         "False",
         "False",
         "False",
         "False",
         "False",
         "False",
         "False",
         "False",
         "False",
         "False",
         "False",
         "False",
         "False",
         "False",
         "False",
         "False",
         "False",
         "False",
         "False",
         "False",
         "False",
         "False",
         "False",
         "False",
         "False",
         "False",
         "False",
         "False",
         "False",
         "False",
         "False",
         "False",
         "False",
         "False",
         "False",
         "False",
         "False",
         "False",
         "False",
         "False",
         "False",
         "False",
         "False",
         "False",
         "False",
         "False",
         "False",
         "False",
         "False",
         "False",
         "False",
         "False",
         "False",
         "False",
         "False",
         "False",
         "False",
         "False",
         "False",
         "False",
         "False",
         "False",
         "False",
         "False",
         "False",
         "False",
         "False",
         "False",
         "False",
         "False",
         "False",
         "False",
         "False",
         "False",
         "False",
         "False",
         "False",
         "False",
         "False",
         "False",
         "False",
         "False",
         "False",
         "False",
         "False",
         "False",
         "False",
         "False",
         "False",
         "False",
         "False",
         "False",
         "False",
         "False",
         "False",
         "False",
         "False",
         "False",
         "False",
         "False",
         "False",
         "False",
         "False",
         "False",
         "False",
         "False",
         "False",
         "False",
         "False",
         "False",
         "False",
         "False",
         "False",
         "False",
         "False",
         "False",
         "False",
         "False",
         "False",
         "False",
         "False",
         "False",
         "False",
         "False",
         "False",
         "False",
         "False",
         "False",
         "False",
         "False",
         "False",
         "False",
         "False",
         "False",
         "False",
         "False",
         "False",
         "False",
         "False",
         "False",
         "False",
         "False",
         "False",
         "False",
         "False",
         "False",
         "False",
         "False",
         "False",
         "False",
         "False",
         "False",
         "False",
         "False",
         "False",
         "False",
         "False",
         "False",
         "False",
         "False",
         "False",
         "False",
         "False",
         "False",
         "False",
         "False",
         "False",
         "False",
         "False",
         "False",
         "False",
         "False",
         "False",
         "False",
         "False",
         "False",
         "False",
         "False",
         "False",
         "False",
         "False",
         "False",
         "False",
         "False",
         "False",
         "False",
         "False",
         "False",
         "False",
         "False",
         "False",
         "False",
         "False",
         "False",
         "False",
         "False",
         "False",
         "False",
         "False",
         "False",
         "False",
         "False",
         "False",
         "False",
         "False",
         "False",
         "False",
         "False",
         "False",
         "False",
         "False",
         "False",
         "False",
         "False",
         "False",
         "False",
         "False",
         "False",
         "False",
         "False",
         "False",
         "False",
         "False",
         "False",
         "False",
         "False",
         "False",
         "False",
         "False",
         "False",
         "False",
         "False",
         "False",
         "False",
         "False",
         "False",
         "False",
         "False",
         "False",
         "False",
         "False",
         "False",
         "False",
         "False",
         "False",
         "False",
         "False",
         "False",
         "False",
         "False",
         "False",
         "False",
         "False",
         "False",
         "False",
         "False",
         "False",
         "False",
         "False",
         "False",
         "False",
         "False",
         "False",
         "False",
         "False",
         "False",
         "False",
         "False",
         "False",
         "False",
         "False",
         "False",
         "False",
         "False",
         "False",
         "False",
         "False",
         "False",
         "False",
         "False",
         "True",
         "False",
         "False",
         "False",
         "False",
         "False",
         "False",
         "False",
         "False",
         "False",
         "False",
         "False",
         "False",
         "False",
         "False",
         "False",
         "False",
         "False",
         "False",
         "False",
         "False",
         "False",
         "False",
         "False",
         "False",
         "False",
         "False",
         "False",
         "False",
         "False",
         "False",
         "False",
         "False",
         "False",
         "False",
         "False",
         "False",
         "False",
         "False",
         "False",
         "False",
         "False",
         "False",
         "False",
         "False",
         "False",
         "False",
         "False",
         "False",
         "False",
         "False",
         "False",
         "False",
         "False",
         "False",
         "False",
         "False",
         "False",
         "False",
         "False",
         "False",
         "False",
         "False",
         "False",
         "False",
         "False",
         "False",
         "False",
         "False",
         "False",
         "False",
         "False",
         "False",
         "False",
         "False",
         "False",
         "False",
         "False",
         "False",
         "False",
         "False",
         "False",
         "False",
         "False",
         "False",
         "False",
         "False",
         "False",
         "False",
         "False",
         "False",
         "False",
         "False",
         "False",
         "False",
         "False",
         "False",
         "False",
         "False",
         "False",
         "False",
         "False",
         "False",
         "False",
         "False",
         "False",
         "False",
         "False",
         "False",
         "False",
         "False",
         "False",
         "False",
         "False",
         "False",
         "False",
         "False",
         "False",
         "False",
         "False",
         "False",
         "False",
         "False",
         "False",
         "False",
         "False",
         "False",
         "False",
         "False",
         "False",
         "False",
         "False",
         "False",
         "False",
         "False",
         "False",
         "False",
         "False",
         "False",
         "False",
         "False",
         "False",
         "False",
         "False",
         "False",
         "False",
         "False",
         "False",
         "False",
         "False",
         "False",
         "False",
         "False",
         "False",
         "False",
         "False",
         "False",
         "False",
         "False",
         "False",
         "False",
         "False",
         "False",
         "False",
         "False",
         "False",
         "False",
         "False",
         "False",
         "False",
         "False",
         "False",
         "False",
         "False",
         "False",
         "False",
         "False",
         "False",
         "False",
         "False",
         "False",
         "False",
         "False",
         "False",
         "False",
         "False",
         "False",
         "False",
         "False",
         "False",
         "False",
         "False",
         "False",
         "False",
         "False",
         "False",
         "False",
         "False",
         "False",
         "False",
         "False",
         "False",
         "False",
         "False",
         "False",
         "False",
         "False",
         "False",
         "False",
         "False",
         "False",
         "False",
         "False",
         "False",
         "False",
         "False",
         "False",
         "False",
         "False",
         "False",
         "False",
         "False",
         "False",
         "False",
         "False",
         "False",
         "False",
         "False",
         "False",
         "False",
         "False",
         "False",
         "False",
         "False",
         "False",
         "False",
         "False",
         "False",
         "False",
         "False",
         "False",
         "False",
         "False",
         "False",
         "False",
         "False",
         "False",
         "False",
         "False",
         "False",
         "False",
         "False",
         "False",
         "False",
         "False",
         "False",
         "False",
         "False",
         "False",
         "False",
         "False",
         "False",
         "False",
         "False",
         "False",
         "False",
         "False",
         "False",
         "False",
         "False",
         "False",
         "False",
         "False",
         "False",
         "False",
         "False",
         "False",
         "False",
         "False",
         "False",
         "False",
         "False",
         "False",
         "False",
         "False",
         "False",
         "False",
         "False",
         "False",
         "False",
         "False",
         "False",
         "False",
         "False",
         "False",
         "False",
         "False",
         "False",
         "False",
         "False",
         "False",
         "False",
         "False",
         "False",
         "False",
         "False",
         "False",
         "False",
         "False",
         "False",
         "False",
         "False",
         "False",
         "False",
         "False",
         "False",
         "False",
         "False",
         "True",
         "False",
         "False",
         "False",
         "False",
         "False",
         "False",
         "False",
         "False",
         "False",
         "False",
         "False",
         "False",
         "False",
         "False",
         "False",
         "False",
         "False",
         "False",
         "False",
         "False",
         "False",
         "False",
         "False",
         "False",
         "False",
         "False",
         "False",
         "False",
         "False",
         "False",
         "False",
         "False",
         "False",
         "False",
         "False",
         "True",
         "False"
        ],
        [
         "4",
         "3",
         "4019.0",
         "2.5",
         "3.0",
         "2.0",
         "0.0",
         "134.0",
         "150.0",
         "1465000.0",
         "False",
         "False",
         "False",
         "False",
         "False",
         "False",
         "False",
         "False",
         "False",
         "False",
         "False",
         "False",
         "False",
         "False",
         "False",
         "False",
         "False",
         "False",
         "False",
         "False",
         "False",
         "False",
         "False",
         "False",
         "False",
         "False",
         "False",
         "False",
         "False",
         "False",
         "False",
         "False",
         "False",
         "False",
         "False",
         "False",
         "False",
         "False",
         "False",
         "False",
         "False",
         "False",
         "False",
         "False",
         "False",
         "False",
         "False",
         "False",
         "False",
         "False",
         "False",
         "False",
         "False",
         "False",
         "False",
         "False",
         "False",
         "False",
         "False",
         "False",
         "False",
         "False",
         "False",
         "False",
         "False",
         "False",
         "False",
         "False",
         "False",
         "False",
         "False",
         "False",
         "False",
         "False",
         "False",
         "False",
         "False",
         "False",
         "False",
         "False",
         "False",
         "False",
         "False",
         "False",
         "False",
         "False",
         "False",
         "False",
         "False",
         "False",
         "False",
         "False",
         "False",
         "False",
         "False",
         "False",
         "False",
         "False",
         "False",
         "False",
         "False",
         "False",
         "False",
         "False",
         "False",
         "False",
         "False",
         "False",
         "False",
         "False",
         "False",
         "False",
         "False",
         "False",
         "False",
         "False",
         "False",
         "False",
         "False",
         "False",
         "False",
         "False",
         "False",
         "False",
         "False",
         "False",
         "False",
         "False",
         "False",
         "False",
         "False",
         "False",
         "False",
         "False",
         "False",
         "False",
         "False",
         "False",
         "False",
         "False",
         "False",
         "False",
         "False",
         "False",
         "False",
         "False",
         "False",
         "False",
         "False",
         "False",
         "False",
         "False",
         "False",
         "False",
         "False",
         "False",
         "False",
         "False",
         "False",
         "False",
         "False",
         "False",
         "False",
         "False",
         "False",
         "False",
         "False",
         "False",
         "False",
         "False",
         "False",
         "False",
         "False",
         "False",
         "False",
         "False",
         "False",
         "False",
         "False",
         "False",
         "False",
         "False",
         "False",
         "False",
         "False",
         "False",
         "False",
         "False",
         "False",
         "False",
         "False",
         "False",
         "False",
         "False",
         "False",
         "False",
         "False",
         "False",
         "False",
         "False",
         "False",
         "False",
         "False",
         "False",
         "False",
         "False",
         "False",
         "False",
         "False",
         "False",
         "False",
         "False",
         "False",
         "False",
         "False",
         "False",
         "False",
         "False",
         "False",
         "False",
         "False",
         "False",
         "False",
         "False",
         "False",
         "False",
         "False",
         "False",
         "False",
         "False",
         "False",
         "False",
         "False",
         "False",
         "False",
         "False",
         "False",
         "False",
         "False",
         "False",
         "False",
         "False",
         "False",
         "False",
         "False",
         "False",
         "False",
         "False",
         "False",
         "False",
         "False",
         "False",
         "False",
         "False",
         "False",
         "False",
         "False",
         "False",
         "False",
         "False",
         "False",
         "False",
         "False",
         "False",
         "False",
         "False",
         "False",
         "False",
         "False",
         "False",
         "False",
         "False",
         "False",
         "False",
         "False",
         "False",
         "False",
         "False",
         "False",
         "False",
         "False",
         "False",
         "False",
         "False",
         "False",
         "False",
         "False",
         "False",
         "False",
         "False",
         "False",
         "False",
         "False",
         "False",
         "False",
         "False",
         "False",
         "False",
         "False",
         "False",
         "False",
         "False",
         "False",
         "False",
         "False",
         "False",
         "False",
         "False",
         "False",
         "False",
         "False",
         "False",
         "False",
         "False",
         "False",
         "False",
         "False",
         "False",
         "False",
         "False",
         "False",
         "False",
         "False",
         "False",
         "False",
         "False",
         "False",
         "False",
         "False",
         "False",
         "False",
         "False",
         "False",
         "False",
         "False",
         "False",
         "False",
         "False",
         "False",
         "False",
         "False",
         "False",
         "False",
         "False",
         "False",
         "False",
         "False",
         "False",
         "False",
         "False",
         "False",
         "False",
         "False",
         "False",
         "False",
         "False",
         "False",
         "False",
         "False",
         "False",
         "False",
         "False",
         "False",
         "False",
         "False",
         "False",
         "False",
         "False",
         "False",
         "False",
         "False",
         "False",
         "False",
         "False",
         "False",
         "False",
         "True",
         "False",
         "False",
         "False",
         "False",
         "False",
         "False",
         "False",
         "False",
         "False",
         "False",
         "False",
         "False",
         "False",
         "False",
         "False",
         "False",
         "False",
         "False",
         "False",
         "False",
         "False",
         "False",
         "False",
         "False",
         "False",
         "False",
         "False",
         "False",
         "False",
         "False",
         "False",
         "False",
         "False",
         "False",
         "False",
         "False",
         "False",
         "False",
         "False",
         "False",
         "False",
         "False",
         "False",
         "False",
         "False",
         "False",
         "False",
         "False",
         "False",
         "False",
         "False",
         "False",
         "False",
         "False",
         "False",
         "False",
         "False",
         "False",
         "False",
         "False",
         "False",
         "False",
         "False",
         "False",
         "False",
         "False",
         "False",
         "False",
         "False",
         "False",
         "False",
         "False",
         "False",
         "False",
         "False",
         "False",
         "False",
         "False",
         "False",
         "False",
         "False",
         "False",
         "False",
         "False",
         "False",
         "False",
         "False",
         "False",
         "False",
         "False",
         "False",
         "False",
         "False",
         "False",
         "False",
         "False",
         "False",
         "False",
         "False",
         "False",
         "False",
         "False",
         "False",
         "False",
         "False",
         "False",
         "False",
         "False",
         "False",
         "False",
         "False",
         "False",
         "False",
         "False",
         "False",
         "False",
         "False",
         "False",
         "False",
         "False",
         "False",
         "False",
         "False",
         "False",
         "False",
         "False",
         "False",
         "False",
         "False",
         "False",
         "False",
         "False",
         "False",
         "False",
         "False",
         "False",
         "False",
         "False",
         "False",
         "False",
         "False",
         "False",
         "False",
         "False",
         "False",
         "False",
         "False",
         "False",
         "False",
         "False",
         "False",
         "False",
         "False",
         "False",
         "False",
         "False",
         "False",
         "False",
         "False",
         "False",
         "False",
         "False",
         "False",
         "False",
         "False",
         "False",
         "False",
         "False",
         "False",
         "False",
         "False",
         "False",
         "False",
         "False",
         "False",
         "False",
         "False",
         "False",
         "False",
         "False",
         "False",
         "False",
         "False",
         "False",
         "False",
         "False",
         "False",
         "False",
         "False",
         "False",
         "False",
         "False",
         "False",
         "False",
         "False",
         "False",
         "False",
         "False",
         "False",
         "False",
         "False",
         "False",
         "False",
         "False",
         "False",
         "False",
         "False",
         "False",
         "False",
         "False",
         "False",
         "False",
         "False",
         "False",
         "False",
         "False",
         "False",
         "False",
         "False",
         "False",
         "False",
         "False",
         "False",
         "False",
         "False",
         "False",
         "False",
         "False",
         "False",
         "False",
         "False",
         "False",
         "False",
         "False",
         "False",
         "False",
         "False",
         "False",
         "False",
         "False",
         "False",
         "False",
         "False",
         "False",
         "False",
         "False",
         "False",
         "False",
         "False",
         "False",
         "False",
         "False",
         "False",
         "False",
         "False",
         "False",
         "False",
         "False",
         "False",
         "False",
         "False",
         "False",
         "False",
         "False",
         "False",
         "False",
         "False",
         "False",
         "False",
         "False",
         "False",
         "False",
         "False",
         "False",
         "False",
         "False",
         "False",
         "False",
         "False",
         "False",
         "False",
         "False",
         "False",
         "False",
         "False",
         "False",
         "False",
         "False",
         "False",
         "False",
         "False",
         "False",
         "False",
         "False",
         "False",
         "False",
         "False",
         "False",
         "False",
         "False",
         "False",
         "False",
         "False",
         "False",
         "False",
         "False",
         "False",
         "False",
         "False",
         "False",
         "False",
         "False",
         "False",
         "False",
         "False",
         "False",
         "False",
         "True",
         "False",
         "False",
         "False",
         "False",
         "False",
         "False",
         "False",
         "False",
         "False",
         "False",
         "False",
         "False",
         "False",
         "False",
         "False",
         "False",
         "False",
         "False",
         "False",
         "False",
         "False",
         "False",
         "False",
         "False",
         "False",
         "False",
         "False",
         "False",
         "False",
         "False",
         "False",
         "False",
         "False",
         "False",
         "False",
         "True",
         "False"
        ],
        [
         "5",
         "3",
         "4019.0",
         "2.5",
         "3.0",
         "2.0",
         "1.0",
         "94.0",
         "160.2564003565711",
         "850000.0",
         "False",
         "False",
         "False",
         "False",
         "False",
         "False",
         "False",
         "False",
         "False",
         "False",
         "False",
         "False",
         "False",
         "False",
         "False",
         "False",
         "False",
         "False",
         "False",
         "False",
         "False",
         "False",
         "False",
         "False",
         "False",
         "False",
         "False",
         "False",
         "False",
         "False",
         "False",
         "False",
         "False",
         "False",
         "False",
         "False",
         "False",
         "False",
         "False",
         "False",
         "False",
         "False",
         "False",
         "False",
         "False",
         "False",
         "False",
         "False",
         "False",
         "False",
         "False",
         "False",
         "False",
         "False",
         "False",
         "False",
         "False",
         "False",
         "False",
         "False",
         "False",
         "False",
         "False",
         "False",
         "False",
         "False",
         "False",
         "False",
         "False",
         "False",
         "False",
         "False",
         "False",
         "False",
         "False",
         "False",
         "False",
         "False",
         "False",
         "False",
         "False",
         "False",
         "False",
         "False",
         "False",
         "False",
         "False",
         "False",
         "False",
         "False",
         "False",
         "False",
         "False",
         "False",
         "False",
         "False",
         "False",
         "False",
         "False",
         "False",
         "False",
         "False",
         "False",
         "False",
         "False",
         "False",
         "False",
         "False",
         "False",
         "False",
         "False",
         "False",
         "False",
         "False",
         "False",
         "False",
         "False",
         "False",
         "False",
         "False",
         "False",
         "False",
         "False",
         "False",
         "False",
         "False",
         "False",
         "False",
         "False",
         "False",
         "False",
         "False",
         "False",
         "False",
         "False",
         "False",
         "False",
         "False",
         "False",
         "False",
         "False",
         "False",
         "False",
         "False",
         "False",
         "False",
         "False",
         "False",
         "False",
         "False",
         "False",
         "False",
         "False",
         "False",
         "False",
         "False",
         "False",
         "False",
         "False",
         "False",
         "False",
         "False",
         "False",
         "False",
         "False",
         "False",
         "False",
         "False",
         "False",
         "False",
         "False",
         "False",
         "False",
         "False",
         "False",
         "False",
         "False",
         "False",
         "False",
         "False",
         "False",
         "False",
         "False",
         "False",
         "False",
         "False",
         "False",
         "False",
         "False",
         "False",
         "False",
         "False",
         "False",
         "False",
         "False",
         "False",
         "False",
         "False",
         "False",
         "False",
         "False",
         "False",
         "False",
         "False",
         "False",
         "False",
         "False",
         "False",
         "False",
         "False",
         "False",
         "False",
         "False",
         "False",
         "False",
         "False",
         "False",
         "False",
         "False",
         "False",
         "False",
         "False",
         "False",
         "False",
         "False",
         "False",
         "False",
         "False",
         "False",
         "False",
         "False",
         "False",
         "False",
         "False",
         "False",
         "False",
         "False",
         "False",
         "False",
         "False",
         "False",
         "False",
         "False",
         "False",
         "False",
         "False",
         "False",
         "False",
         "False",
         "False",
         "False",
         "False",
         "False",
         "False",
         "False",
         "False",
         "False",
         "False",
         "False",
         "False",
         "False",
         "False",
         "False",
         "False",
         "False",
         "False",
         "False",
         "False",
         "False",
         "False",
         "False",
         "False",
         "False",
         "False",
         "False",
         "False",
         "False",
         "False",
         "False",
         "False",
         "False",
         "False",
         "False",
         "False",
         "False",
         "False",
         "False",
         "False",
         "False",
         "False",
         "False",
         "False",
         "False",
         "False",
         "False",
         "False",
         "False",
         "False",
         "False",
         "False",
         "False",
         "False",
         "False",
         "False",
         "False",
         "False",
         "False",
         "False",
         "False",
         "False",
         "False",
         "False",
         "False",
         "False",
         "False",
         "False",
         "False",
         "False",
         "False",
         "False",
         "False",
         "False",
         "False",
         "False",
         "False",
         "False",
         "False",
         "False",
         "False",
         "False",
         "False",
         "False",
         "False",
         "False",
         "False",
         "False",
         "False",
         "False",
         "False",
         "False",
         "False",
         "False",
         "False",
         "False",
         "False",
         "False",
         "False",
         "False",
         "False",
         "False",
         "False",
         "False",
         "False",
         "False",
         "False",
         "False",
         "False",
         "False",
         "False",
         "False",
         "False",
         "False",
         "False",
         "False",
         "False",
         "False",
         "False",
         "False",
         "False",
         "False",
         "False",
         "False",
         "False",
         "False",
         "False",
         "False",
         "True",
         "False",
         "False",
         "False",
         "False",
         "False",
         "False",
         "False",
         "False",
         "False",
         "False",
         "False",
         "False",
         "False",
         "False",
         "False",
         "False",
         "False",
         "False",
         "False",
         "False",
         "False",
         "False",
         "False",
         "False",
         "False",
         "False",
         "False",
         "False",
         "False",
         "False",
         "False",
         "False",
         "False",
         "False",
         "False",
         "False",
         "False",
         "False",
         "False",
         "False",
         "False",
         "False",
         "False",
         "False",
         "False",
         "False",
         "False",
         "False",
         "False",
         "False",
         "False",
         "False",
         "False",
         "False",
         "False",
         "False",
         "False",
         "False",
         "False",
         "False",
         "False",
         "False",
         "False",
         "False",
         "False",
         "False",
         "False",
         "False",
         "False",
         "False",
         "False",
         "False",
         "False",
         "False",
         "False",
         "False",
         "False",
         "False",
         "False",
         "False",
         "False",
         "False",
         "False",
         "False",
         "False",
         "False",
         "False",
         "False",
         "False",
         "False",
         "False",
         "False",
         "False",
         "False",
         "False",
         "False",
         "False",
         "False",
         "False",
         "False",
         "False",
         "False",
         "False",
         "False",
         "False",
         "False",
         "False",
         "False",
         "False",
         "False",
         "False",
         "False",
         "False",
         "False",
         "False",
         "False",
         "False",
         "False",
         "False",
         "False",
         "False",
         "False",
         "False",
         "False",
         "False",
         "False",
         "False",
         "False",
         "False",
         "False",
         "False",
         "False",
         "False",
         "False",
         "False",
         "False",
         "False",
         "False",
         "False",
         "False",
         "False",
         "False",
         "False",
         "False",
         "False",
         "False",
         "False",
         "False",
         "False",
         "False",
         "False",
         "False",
         "False",
         "False",
         "False",
         "False",
         "False",
         "False",
         "False",
         "False",
         "False",
         "False",
         "False",
         "False",
         "False",
         "False",
         "False",
         "False",
         "False",
         "False",
         "False",
         "False",
         "False",
         "False",
         "False",
         "False",
         "False",
         "False",
         "False",
         "False",
         "False",
         "False",
         "False",
         "False",
         "False",
         "False",
         "False",
         "False",
         "False",
         "False",
         "False",
         "False",
         "False",
         "False",
         "False",
         "False",
         "False",
         "False",
         "False",
         "False",
         "False",
         "False",
         "False",
         "False",
         "False",
         "False",
         "False",
         "False",
         "False",
         "False",
         "False",
         "False",
         "False",
         "False",
         "False",
         "False",
         "False",
         "False",
         "False",
         "False",
         "False",
         "False",
         "False",
         "False",
         "False",
         "False",
         "False",
         "False",
         "False",
         "False",
         "False",
         "False",
         "False",
         "False",
         "False",
         "False",
         "False",
         "False",
         "False",
         "False",
         "False",
         "False",
         "False",
         "False",
         "False",
         "False",
         "False",
         "False",
         "False",
         "False",
         "False",
         "False",
         "False",
         "False",
         "False",
         "False",
         "False",
         "False",
         "False",
         "False",
         "False",
         "False",
         "False",
         "False",
         "False",
         "False",
         "False",
         "False",
         "False",
         "False",
         "False",
         "False",
         "False",
         "False",
         "False",
         "False",
         "False",
         "False",
         "False",
         "False",
         "False",
         "False",
         "False",
         "False",
         "False",
         "False",
         "False",
         "False",
         "False",
         "False",
         "False",
         "False",
         "False",
         "False",
         "False",
         "False",
         "False",
         "False",
         "False",
         "False",
         "False",
         "False",
         "False",
         "False",
         "False",
         "False",
         "False",
         "False",
         "False",
         "False",
         "False",
         "False",
         "False",
         "False",
         "False",
         "False",
         "False",
         "True",
         "False",
         "False",
         "False",
         "False",
         "False",
         "False",
         "False",
         "False",
         "False",
         "False",
         "False",
         "False",
         "False",
         "False",
         "False",
         "False",
         "False",
         "False",
         "False",
         "False",
         "False",
         "False",
         "False",
         "False",
         "False",
         "False",
         "False",
         "False",
         "False",
         "False",
         "False",
         "False",
         "False",
         "False",
         "False",
         "True",
         "False"
        ],
        [
         "6",
         "4",
         "4019.0",
         "2.5",
         "3.0",
         "1.0",
         "2.0",
         "120.0",
         "142.0",
         "1600000.0",
         "False",
         "False",
         "False",
         "False",
         "False",
         "False",
         "False",
         "False",
         "False",
         "False",
         "False",
         "False",
         "False",
         "False",
         "False",
         "False",
         "False",
         "False",
         "False",
         "False",
         "False",
         "False",
         "False",
         "False",
         "False",
         "False",
         "False",
         "False",
         "False",
         "False",
         "False",
         "False",
         "False",
         "False",
         "False",
         "False",
         "False",
         "False",
         "False",
         "False",
         "False",
         "False",
         "False",
         "False",
         "False",
         "False",
         "False",
         "False",
         "False",
         "False",
         "False",
         "False",
         "False",
         "False",
         "False",
         "False",
         "False",
         "False",
         "False",
         "False",
         "False",
         "False",
         "False",
         "False",
         "False",
         "False",
         "False",
         "False",
         "False",
         "False",
         "False",
         "False",
         "False",
         "False",
         "False",
         "False",
         "False",
         "False",
         "False",
         "False",
         "False",
         "False",
         "False",
         "False",
         "False",
         "False",
         "False",
         "False",
         "False",
         "False",
         "False",
         "False",
         "False",
         "False",
         "False",
         "False",
         "False",
         "False",
         "False",
         "False",
         "False",
         "False",
         "False",
         "False",
         "False",
         "False",
         "False",
         "False",
         "False",
         "False",
         "False",
         "False",
         "False",
         "False",
         "False",
         "False",
         "False",
         "False",
         "False",
         "False",
         "False",
         "False",
         "False",
         "False",
         "False",
         "False",
         "False",
         "False",
         "False",
         "False",
         "False",
         "False",
         "False",
         "False",
         "False",
         "False",
         "False",
         "False",
         "False",
         "False",
         "False",
         "False",
         "False",
         "False",
         "False",
         "False",
         "False",
         "False",
         "False",
         "False",
         "False",
         "False",
         "False",
         "False",
         "False",
         "False",
         "False",
         "False",
         "False",
         "False",
         "False",
         "False",
         "False",
         "False",
         "False",
         "False",
         "False",
         "False",
         "False",
         "False",
         "False",
         "False",
         "False",
         "False",
         "False",
         "False",
         "False",
         "False",
         "False",
         "False",
         "False",
         "False",
         "False",
         "False",
         "False",
         "False",
         "False",
         "False",
         "False",
         "False",
         "False",
         "False",
         "False",
         "False",
         "False",
         "False",
         "False",
         "False",
         "False",
         "False",
         "False",
         "False",
         "False",
         "False",
         "False",
         "False",
         "False",
         "False",
         "False",
         "False",
         "False",
         "False",
         "False",
         "False",
         "False",
         "False",
         "False",
         "False",
         "False",
         "False",
         "False",
         "False",
         "False",
         "False",
         "False",
         "False",
         "False",
         "False",
         "False",
         "False",
         "False",
         "False",
         "False",
         "False",
         "False",
         "False",
         "False",
         "False",
         "False",
         "False",
         "False",
         "False",
         "False",
         "False",
         "False",
         "False",
         "False",
         "False",
         "False",
         "False",
         "False",
         "False",
         "False",
         "False",
         "False",
         "False",
         "False",
         "False",
         "False",
         "False",
         "False",
         "False",
         "False",
         "False",
         "False",
         "False",
         "False",
         "False",
         "False",
         "False",
         "False",
         "False",
         "False",
         "False",
         "False",
         "False",
         "False",
         "False",
         "False",
         "False",
         "False",
         "False",
         "False",
         "False",
         "False",
         "False",
         "False",
         "False",
         "False",
         "False",
         "False",
         "False",
         "False",
         "False",
         "False",
         "False",
         "False",
         "False",
         "False",
         "False",
         "False",
         "False",
         "False",
         "False",
         "False",
         "False",
         "False",
         "False",
         "False",
         "False",
         "False",
         "False",
         "False",
         "False",
         "False",
         "False",
         "False",
         "False",
         "False",
         "False",
         "False",
         "False",
         "False",
         "False",
         "False",
         "False",
         "False",
         "False",
         "False",
         "False",
         "False",
         "False",
         "False",
         "False",
         "False",
         "False",
         "False",
         "False",
         "False",
         "False",
         "False",
         "False",
         "False",
         "False",
         "False",
         "False",
         "False",
         "False",
         "False",
         "False",
         "False",
         "False",
         "False",
         "False",
         "False",
         "False",
         "False",
         "False",
         "False",
         "False",
         "False",
         "False",
         "False",
         "False",
         "False",
         "False",
         "False",
         "False",
         "False",
         "False",
         "False",
         "False",
         "False",
         "False",
         "False",
         "False",
         "False",
         "False",
         "False",
         "False",
         "False",
         "False",
         "False",
         "False",
         "False",
         "False",
         "False",
         "False",
         "False",
         "False",
         "False",
         "False",
         "False",
         "False",
         "False",
         "False",
         "False",
         "False",
         "False",
         "False",
         "False",
         "False",
         "False",
         "False",
         "False",
         "False",
         "False",
         "False",
         "False",
         "False",
         "False",
         "False",
         "False",
         "False",
         "False",
         "False",
         "False",
         "False",
         "False",
         "False",
         "False",
         "False",
         "False",
         "False",
         "False",
         "False",
         "False",
         "False",
         "False",
         "False",
         "False",
         "False",
         "False",
         "False",
         "False",
         "False",
         "False",
         "False",
         "False",
         "False",
         "False",
         "False",
         "False",
         "False",
         "False",
         "False",
         "False",
         "False",
         "False",
         "False",
         "False",
         "False",
         "False",
         "False",
         "False",
         "False",
         "False",
         "False",
         "False",
         "False",
         "False",
         "False",
         "False",
         "False",
         "False",
         "False",
         "False",
         "False",
         "False",
         "False",
         "False",
         "False",
         "False",
         "False",
         "False",
         "False",
         "False",
         "False",
         "False",
         "False",
         "False",
         "False",
         "False",
         "False",
         "False",
         "False",
         "False",
         "False",
         "False",
         "False",
         "False",
         "False",
         "False",
         "False",
         "False",
         "False",
         "False",
         "False",
         "False",
         "False",
         "False",
         "False",
         "False",
         "False",
         "False",
         "False",
         "False",
         "False",
         "False",
         "False",
         "False",
         "False",
         "False",
         "False",
         "False",
         "False",
         "False",
         "False",
         "False",
         "False",
         "False",
         "False",
         "False",
         "False",
         "False",
         "False",
         "False",
         "False",
         "False",
         "False",
         "False",
         "False",
         "False",
         "False",
         "False",
         "False",
         "False",
         "False",
         "False",
         "False",
         "False",
         "False",
         "False",
         "False",
         "False",
         "False",
         "False",
         "False",
         "False",
         "False",
         "True",
         "False",
         "False",
         "False",
         "False",
         "False",
         "False",
         "False",
         "False",
         "False",
         "False",
         "False",
         "False",
         "False",
         "False",
         "False",
         "False",
         "False",
         "False",
         "False",
         "False",
         "False",
         "False",
         "False",
         "False",
         "False",
         "False",
         "False",
         "False",
         "False",
         "False",
         "False",
         "False",
         "False",
         "False",
         "False",
         "False",
         "False",
         "False",
         "False",
         "False",
         "False",
         "False",
         "False",
         "False",
         "False",
         "False",
         "False",
         "False",
         "False",
         "False",
         "False",
         "False",
         "False",
         "False",
         "False",
         "False",
         "False",
         "False",
         "False",
         "False",
         "False",
         "False",
         "False",
         "False",
         "False",
         "False",
         "False",
         "False",
         "False",
         "False",
         "False",
         "False",
         "False",
         "False",
         "False",
         "False",
         "False",
         "False",
         "False",
         "False",
         "False",
         "False",
         "False",
         "False",
         "False",
         "False",
         "False",
         "False",
         "False",
         "False",
         "False",
         "False",
         "False",
         "False",
         "False",
         "False",
         "False",
         "False",
         "False",
         "False",
         "False",
         "False",
         "False",
         "False",
         "False",
         "False",
         "False",
         "False",
         "False",
         "False",
         "False",
         "False",
         "False",
         "False",
         "False",
         "False",
         "False",
         "False",
         "False",
         "False",
         "False",
         "False",
         "False",
         "False",
         "False",
         "False",
         "False",
         "False",
         "False",
         "False",
         "False",
         "False",
         "False",
         "False",
         "False",
         "False",
         "False",
         "False",
         "False",
         "False",
         "False",
         "False",
         "False",
         "True",
         "False",
         "False",
         "False",
         "False",
         "False",
         "False",
         "False",
         "False",
         "False",
         "False",
         "False",
         "False",
         "False",
         "False",
         "False",
         "False",
         "False",
         "False",
         "False",
         "False",
         "False",
         "False",
         "False",
         "False",
         "False",
         "False",
         "False",
         "False",
         "False",
         "False",
         "False",
         "False",
         "False",
         "False",
         "False",
         "True",
         "False"
        ]
       ],
       "shape": {
        "columns": 741,
        "rows": 5
       }
      },
      "text/html": [
       "<div>\n",
       "<style scoped>\n",
       "    .dataframe tbody tr th:only-of-type {\n",
       "        vertical-align: middle;\n",
       "    }\n",
       "\n",
       "    .dataframe tbody tr th {\n",
       "        vertical-align: top;\n",
       "    }\n",
       "\n",
       "    .dataframe thead th {\n",
       "        text-align: right;\n",
       "    }\n",
       "</style>\n",
       "<table border=\"1\" class=\"dataframe\">\n",
       "  <thead>\n",
       "    <tr style=\"text-align: right;\">\n",
       "      <th></th>\n",
       "      <th>Rooms</th>\n",
       "      <th>Propertycount</th>\n",
       "      <th>Distance</th>\n",
       "      <th>Bedroom2</th>\n",
       "      <th>Bathroom</th>\n",
       "      <th>Car</th>\n",
       "      <th>Landsize</th>\n",
       "      <th>BuildingArea</th>\n",
       "      <th>Price</th>\n",
       "      <th>Suburb_Aberfeldie</th>\n",
       "      <th>...</th>\n",
       "      <th>CouncilArea_Moorabool Shire Council</th>\n",
       "      <th>CouncilArea_Moreland City Council</th>\n",
       "      <th>CouncilArea_Nillumbik Shire Council</th>\n",
       "      <th>CouncilArea_Port Phillip City Council</th>\n",
       "      <th>CouncilArea_Stonnington City Council</th>\n",
       "      <th>CouncilArea_Whitehorse City Council</th>\n",
       "      <th>CouncilArea_Whittlesea City Council</th>\n",
       "      <th>CouncilArea_Wyndham City Council</th>\n",
       "      <th>CouncilArea_Yarra City Council</th>\n",
       "      <th>CouncilArea_Yarra Ranges Shire Council</th>\n",
       "    </tr>\n",
       "  </thead>\n",
       "  <tbody>\n",
       "    <tr>\n",
       "      <th>1</th>\n",
       "      <td>2</td>\n",
       "      <td>4019.0</td>\n",
       "      <td>2.5</td>\n",
       "      <td>2.0</td>\n",
       "      <td>1.0</td>\n",
       "      <td>1.0</td>\n",
       "      <td>202.0</td>\n",
       "      <td>160.2564</td>\n",
       "      <td>1480000.0</td>\n",
       "      <td>False</td>\n",
       "      <td>...</td>\n",
       "      <td>False</td>\n",
       "      <td>False</td>\n",
       "      <td>False</td>\n",
       "      <td>False</td>\n",
       "      <td>False</td>\n",
       "      <td>False</td>\n",
       "      <td>False</td>\n",
       "      <td>False</td>\n",
       "      <td>True</td>\n",
       "      <td>False</td>\n",
       "    </tr>\n",
       "    <tr>\n",
       "      <th>2</th>\n",
       "      <td>2</td>\n",
       "      <td>4019.0</td>\n",
       "      <td>2.5</td>\n",
       "      <td>2.0</td>\n",
       "      <td>1.0</td>\n",
       "      <td>0.0</td>\n",
       "      <td>156.0</td>\n",
       "      <td>79.0000</td>\n",
       "      <td>1035000.0</td>\n",
       "      <td>False</td>\n",
       "      <td>...</td>\n",
       "      <td>False</td>\n",
       "      <td>False</td>\n",
       "      <td>False</td>\n",
       "      <td>False</td>\n",
       "      <td>False</td>\n",
       "      <td>False</td>\n",
       "      <td>False</td>\n",
       "      <td>False</td>\n",
       "      <td>True</td>\n",
       "      <td>False</td>\n",
       "    </tr>\n",
       "    <tr>\n",
       "      <th>4</th>\n",
       "      <td>3</td>\n",
       "      <td>4019.0</td>\n",
       "      <td>2.5</td>\n",
       "      <td>3.0</td>\n",
       "      <td>2.0</td>\n",
       "      <td>0.0</td>\n",
       "      <td>134.0</td>\n",
       "      <td>150.0000</td>\n",
       "      <td>1465000.0</td>\n",
       "      <td>False</td>\n",
       "      <td>...</td>\n",
       "      <td>False</td>\n",
       "      <td>False</td>\n",
       "      <td>False</td>\n",
       "      <td>False</td>\n",
       "      <td>False</td>\n",
       "      <td>False</td>\n",
       "      <td>False</td>\n",
       "      <td>False</td>\n",
       "      <td>True</td>\n",
       "      <td>False</td>\n",
       "    </tr>\n",
       "    <tr>\n",
       "      <th>5</th>\n",
       "      <td>3</td>\n",
       "      <td>4019.0</td>\n",
       "      <td>2.5</td>\n",
       "      <td>3.0</td>\n",
       "      <td>2.0</td>\n",
       "      <td>1.0</td>\n",
       "      <td>94.0</td>\n",
       "      <td>160.2564</td>\n",
       "      <td>850000.0</td>\n",
       "      <td>False</td>\n",
       "      <td>...</td>\n",
       "      <td>False</td>\n",
       "      <td>False</td>\n",
       "      <td>False</td>\n",
       "      <td>False</td>\n",
       "      <td>False</td>\n",
       "      <td>False</td>\n",
       "      <td>False</td>\n",
       "      <td>False</td>\n",
       "      <td>True</td>\n",
       "      <td>False</td>\n",
       "    </tr>\n",
       "    <tr>\n",
       "      <th>6</th>\n",
       "      <td>4</td>\n",
       "      <td>4019.0</td>\n",
       "      <td>2.5</td>\n",
       "      <td>3.0</td>\n",
       "      <td>1.0</td>\n",
       "      <td>2.0</td>\n",
       "      <td>120.0</td>\n",
       "      <td>142.0000</td>\n",
       "      <td>1600000.0</td>\n",
       "      <td>False</td>\n",
       "      <td>...</td>\n",
       "      <td>False</td>\n",
       "      <td>False</td>\n",
       "      <td>False</td>\n",
       "      <td>False</td>\n",
       "      <td>False</td>\n",
       "      <td>False</td>\n",
       "      <td>False</td>\n",
       "      <td>False</td>\n",
       "      <td>True</td>\n",
       "      <td>False</td>\n",
       "    </tr>\n",
       "  </tbody>\n",
       "</table>\n",
       "<p>5 rows × 741 columns</p>\n",
       "</div>"
      ],
      "text/plain": [
       "   Rooms  Propertycount  Distance  Bedroom2  Bathroom  Car  Landsize  \\\n",
       "1      2         4019.0       2.5       2.0       1.0  1.0     202.0   \n",
       "2      2         4019.0       2.5       2.0       1.0  0.0     156.0   \n",
       "4      3         4019.0       2.5       3.0       2.0  0.0     134.0   \n",
       "5      3         4019.0       2.5       3.0       2.0  1.0      94.0   \n",
       "6      4         4019.0       2.5       3.0       1.0  2.0     120.0   \n",
       "\n",
       "   BuildingArea      Price  Suburb_Aberfeldie  ...  \\\n",
       "1      160.2564  1480000.0              False  ...   \n",
       "2       79.0000  1035000.0              False  ...   \n",
       "4      150.0000  1465000.0              False  ...   \n",
       "5      160.2564   850000.0              False  ...   \n",
       "6      142.0000  1600000.0              False  ...   \n",
       "\n",
       "   CouncilArea_Moorabool Shire Council  CouncilArea_Moreland City Council  \\\n",
       "1                                False                              False   \n",
       "2                                False                              False   \n",
       "4                                False                              False   \n",
       "5                                False                              False   \n",
       "6                                False                              False   \n",
       "\n",
       "   CouncilArea_Nillumbik Shire Council  CouncilArea_Port Phillip City Council  \\\n",
       "1                                False                                  False   \n",
       "2                                False                                  False   \n",
       "4                                False                                  False   \n",
       "5                                False                                  False   \n",
       "6                                False                                  False   \n",
       "\n",
       "   CouncilArea_Stonnington City Council  CouncilArea_Whitehorse City Council  \\\n",
       "1                                 False                                False   \n",
       "2                                 False                                False   \n",
       "4                                 False                                False   \n",
       "5                                 False                                False   \n",
       "6                                 False                                False   \n",
       "\n",
       "   CouncilArea_Whittlesea City Council  CouncilArea_Wyndham City Council  \\\n",
       "1                                False                             False   \n",
       "2                                False                             False   \n",
       "4                                False                             False   \n",
       "5                                False                             False   \n",
       "6                                False                             False   \n",
       "\n",
       "   CouncilArea_Yarra City Council  CouncilArea_Yarra Ranges Shire Council  \n",
       "1                            True                                   False  \n",
       "2                            True                                   False  \n",
       "4                            True                                   False  \n",
       "5                            True                                   False  \n",
       "6                            True                                   False  \n",
       "\n",
       "[5 rows x 741 columns]"
      ]
     },
     "execution_count": 47,
     "metadata": {},
     "output_type": "execute_result"
    }
   ],
   "source": [
    "dataset = pd.get_dummies(dataset,drop_first=True)\n",
    "dataset.head()"
   ]
  },
  {
   "cell_type": "code",
   "execution_count": 48,
   "id": "b9b9a309",
   "metadata": {},
   "outputs": [],
   "source": [
    "X = dataset.drop('Price',axis=1)\n",
    "y = dataset['Price']"
   ]
  },
  {
   "cell_type": "code",
   "execution_count": 49,
   "id": "7d4f7442",
   "metadata": {},
   "outputs": [],
   "source": [
    "from sklearn.model_selection import train_test_split\n",
    "X_train, X_test, y_train, y_test = train_test_split(X,y,random_state=2, test_size=0.3)"
   ]
  },
  {
   "cell_type": "code",
   "execution_count": 50,
   "id": "f95d8257",
   "metadata": {},
   "outputs": [
    {
     "data": {
      "text/html": [
       "<style>#sk-container-id-2 {\n",
       "  /* Definition of color scheme common for light and dark mode */\n",
       "  --sklearn-color-text: black;\n",
       "  --sklearn-color-line: gray;\n",
       "  /* Definition of color scheme for unfitted estimators */\n",
       "  --sklearn-color-unfitted-level-0: #fff5e6;\n",
       "  --sklearn-color-unfitted-level-1: #f6e4d2;\n",
       "  --sklearn-color-unfitted-level-2: #ffe0b3;\n",
       "  --sklearn-color-unfitted-level-3: chocolate;\n",
       "  /* Definition of color scheme for fitted estimators */\n",
       "  --sklearn-color-fitted-level-0: #f0f8ff;\n",
       "  --sklearn-color-fitted-level-1: #d4ebff;\n",
       "  --sklearn-color-fitted-level-2: #b3dbfd;\n",
       "  --sklearn-color-fitted-level-3: cornflowerblue;\n",
       "\n",
       "  /* Specific color for light theme */\n",
       "  --sklearn-color-text-on-default-background: var(--sg-text-color, var(--theme-code-foreground, var(--jp-content-font-color1, black)));\n",
       "  --sklearn-color-background: var(--sg-background-color, var(--theme-background, var(--jp-layout-color0, white)));\n",
       "  --sklearn-color-border-box: var(--sg-text-color, var(--theme-code-foreground, var(--jp-content-font-color1, black)));\n",
       "  --sklearn-color-icon: #696969;\n",
       "\n",
       "  @media (prefers-color-scheme: dark) {\n",
       "    /* Redefinition of color scheme for dark theme */\n",
       "    --sklearn-color-text-on-default-background: var(--sg-text-color, var(--theme-code-foreground, var(--jp-content-font-color1, white)));\n",
       "    --sklearn-color-background: var(--sg-background-color, var(--theme-background, var(--jp-layout-color0, #111)));\n",
       "    --sklearn-color-border-box: var(--sg-text-color, var(--theme-code-foreground, var(--jp-content-font-color1, white)));\n",
       "    --sklearn-color-icon: #878787;\n",
       "  }\n",
       "}\n",
       "\n",
       "#sk-container-id-2 {\n",
       "  color: var(--sklearn-color-text);\n",
       "}\n",
       "\n",
       "#sk-container-id-2 pre {\n",
       "  padding: 0;\n",
       "}\n",
       "\n",
       "#sk-container-id-2 input.sk-hidden--visually {\n",
       "  border: 0;\n",
       "  clip: rect(1px 1px 1px 1px);\n",
       "  clip: rect(1px, 1px, 1px, 1px);\n",
       "  height: 1px;\n",
       "  margin: -1px;\n",
       "  overflow: hidden;\n",
       "  padding: 0;\n",
       "  position: absolute;\n",
       "  width: 1px;\n",
       "}\n",
       "\n",
       "#sk-container-id-2 div.sk-dashed-wrapped {\n",
       "  border: 1px dashed var(--sklearn-color-line);\n",
       "  margin: 0 0.4em 0.5em 0.4em;\n",
       "  box-sizing: border-box;\n",
       "  padding-bottom: 0.4em;\n",
       "  background-color: var(--sklearn-color-background);\n",
       "}\n",
       "\n",
       "#sk-container-id-2 div.sk-container {\n",
       "  /* jupyter's `normalize.less` sets `[hidden] { display: none; }`\n",
       "     but bootstrap.min.css set `[hidden] { display: none !important; }`\n",
       "     so we also need the `!important` here to be able to override the\n",
       "     default hidden behavior on the sphinx rendered scikit-learn.org.\n",
       "     See: https://github.com/scikit-learn/scikit-learn/issues/21755 */\n",
       "  display: inline-block !important;\n",
       "  position: relative;\n",
       "}\n",
       "\n",
       "#sk-container-id-2 div.sk-text-repr-fallback {\n",
       "  display: none;\n",
       "}\n",
       "\n",
       "div.sk-parallel-item,\n",
       "div.sk-serial,\n",
       "div.sk-item {\n",
       "  /* draw centered vertical line to link estimators */\n",
       "  background-image: linear-gradient(var(--sklearn-color-text-on-default-background), var(--sklearn-color-text-on-default-background));\n",
       "  background-size: 2px 100%;\n",
       "  background-repeat: no-repeat;\n",
       "  background-position: center center;\n",
       "}\n",
       "\n",
       "/* Parallel-specific style estimator block */\n",
       "\n",
       "#sk-container-id-2 div.sk-parallel-item::after {\n",
       "  content: \"\";\n",
       "  width: 100%;\n",
       "  border-bottom: 2px solid var(--sklearn-color-text-on-default-background);\n",
       "  flex-grow: 1;\n",
       "}\n",
       "\n",
       "#sk-container-id-2 div.sk-parallel {\n",
       "  display: flex;\n",
       "  align-items: stretch;\n",
       "  justify-content: center;\n",
       "  background-color: var(--sklearn-color-background);\n",
       "  position: relative;\n",
       "}\n",
       "\n",
       "#sk-container-id-2 div.sk-parallel-item {\n",
       "  display: flex;\n",
       "  flex-direction: column;\n",
       "}\n",
       "\n",
       "#sk-container-id-2 div.sk-parallel-item:first-child::after {\n",
       "  align-self: flex-end;\n",
       "  width: 50%;\n",
       "}\n",
       "\n",
       "#sk-container-id-2 div.sk-parallel-item:last-child::after {\n",
       "  align-self: flex-start;\n",
       "  width: 50%;\n",
       "}\n",
       "\n",
       "#sk-container-id-2 div.sk-parallel-item:only-child::after {\n",
       "  width: 0;\n",
       "}\n",
       "\n",
       "/* Serial-specific style estimator block */\n",
       "\n",
       "#sk-container-id-2 div.sk-serial {\n",
       "  display: flex;\n",
       "  flex-direction: column;\n",
       "  align-items: center;\n",
       "  background-color: var(--sklearn-color-background);\n",
       "  padding-right: 1em;\n",
       "  padding-left: 1em;\n",
       "}\n",
       "\n",
       "\n",
       "/* Toggleable style: style used for estimator/Pipeline/ColumnTransformer box that is\n",
       "clickable and can be expanded/collapsed.\n",
       "- Pipeline and ColumnTransformer use this feature and define the default style\n",
       "- Estimators will overwrite some part of the style using the `sk-estimator` class\n",
       "*/\n",
       "\n",
       "/* Pipeline and ColumnTransformer style (default) */\n",
       "\n",
       "#sk-container-id-2 div.sk-toggleable {\n",
       "  /* Default theme specific background. It is overwritten whether we have a\n",
       "  specific estimator or a Pipeline/ColumnTransformer */\n",
       "  background-color: var(--sklearn-color-background);\n",
       "}\n",
       "\n",
       "/* Toggleable label */\n",
       "#sk-container-id-2 label.sk-toggleable__label {\n",
       "  cursor: pointer;\n",
       "  display: block;\n",
       "  width: 100%;\n",
       "  margin-bottom: 0;\n",
       "  padding: 0.5em;\n",
       "  box-sizing: border-box;\n",
       "  text-align: center;\n",
       "}\n",
       "\n",
       "#sk-container-id-2 label.sk-toggleable__label-arrow:before {\n",
       "  /* Arrow on the left of the label */\n",
       "  content: \"▸\";\n",
       "  float: left;\n",
       "  margin-right: 0.25em;\n",
       "  color: var(--sklearn-color-icon);\n",
       "}\n",
       "\n",
       "#sk-container-id-2 label.sk-toggleable__label-arrow:hover:before {\n",
       "  color: var(--sklearn-color-text);\n",
       "}\n",
       "\n",
       "/* Toggleable content - dropdown */\n",
       "\n",
       "#sk-container-id-2 div.sk-toggleable__content {\n",
       "  max-height: 0;\n",
       "  max-width: 0;\n",
       "  overflow: hidden;\n",
       "  text-align: left;\n",
       "  /* unfitted */\n",
       "  background-color: var(--sklearn-color-unfitted-level-0);\n",
       "}\n",
       "\n",
       "#sk-container-id-2 div.sk-toggleable__content.fitted {\n",
       "  /* fitted */\n",
       "  background-color: var(--sklearn-color-fitted-level-0);\n",
       "}\n",
       "\n",
       "#sk-container-id-2 div.sk-toggleable__content pre {\n",
       "  margin: 0.2em;\n",
       "  border-radius: 0.25em;\n",
       "  color: var(--sklearn-color-text);\n",
       "  /* unfitted */\n",
       "  background-color: var(--sklearn-color-unfitted-level-0);\n",
       "}\n",
       "\n",
       "#sk-container-id-2 div.sk-toggleable__content.fitted pre {\n",
       "  /* unfitted */\n",
       "  background-color: var(--sklearn-color-fitted-level-0);\n",
       "}\n",
       "\n",
       "#sk-container-id-2 input.sk-toggleable__control:checked~div.sk-toggleable__content {\n",
       "  /* Expand drop-down */\n",
       "  max-height: 200px;\n",
       "  max-width: 100%;\n",
       "  overflow: auto;\n",
       "}\n",
       "\n",
       "#sk-container-id-2 input.sk-toggleable__control:checked~label.sk-toggleable__label-arrow:before {\n",
       "  content: \"▾\";\n",
       "}\n",
       "\n",
       "/* Pipeline/ColumnTransformer-specific style */\n",
       "\n",
       "#sk-container-id-2 div.sk-label input.sk-toggleable__control:checked~label.sk-toggleable__label {\n",
       "  color: var(--sklearn-color-text);\n",
       "  background-color: var(--sklearn-color-unfitted-level-2);\n",
       "}\n",
       "\n",
       "#sk-container-id-2 div.sk-label.fitted input.sk-toggleable__control:checked~label.sk-toggleable__label {\n",
       "  background-color: var(--sklearn-color-fitted-level-2);\n",
       "}\n",
       "\n",
       "/* Estimator-specific style */\n",
       "\n",
       "/* Colorize estimator box */\n",
       "#sk-container-id-2 div.sk-estimator input.sk-toggleable__control:checked~label.sk-toggleable__label {\n",
       "  /* unfitted */\n",
       "  background-color: var(--sklearn-color-unfitted-level-2);\n",
       "}\n",
       "\n",
       "#sk-container-id-2 div.sk-estimator.fitted input.sk-toggleable__control:checked~label.sk-toggleable__label {\n",
       "  /* fitted */\n",
       "  background-color: var(--sklearn-color-fitted-level-2);\n",
       "}\n",
       "\n",
       "#sk-container-id-2 div.sk-label label.sk-toggleable__label,\n",
       "#sk-container-id-2 div.sk-label label {\n",
       "  /* The background is the default theme color */\n",
       "  color: var(--sklearn-color-text-on-default-background);\n",
       "}\n",
       "\n",
       "/* On hover, darken the color of the background */\n",
       "#sk-container-id-2 div.sk-label:hover label.sk-toggleable__label {\n",
       "  color: var(--sklearn-color-text);\n",
       "  background-color: var(--sklearn-color-unfitted-level-2);\n",
       "}\n",
       "\n",
       "/* Label box, darken color on hover, fitted */\n",
       "#sk-container-id-2 div.sk-label.fitted:hover label.sk-toggleable__label.fitted {\n",
       "  color: var(--sklearn-color-text);\n",
       "  background-color: var(--sklearn-color-fitted-level-2);\n",
       "}\n",
       "\n",
       "/* Estimator label */\n",
       "\n",
       "#sk-container-id-2 div.sk-label label {\n",
       "  font-family: monospace;\n",
       "  font-weight: bold;\n",
       "  display: inline-block;\n",
       "  line-height: 1.2em;\n",
       "}\n",
       "\n",
       "#sk-container-id-2 div.sk-label-container {\n",
       "  text-align: center;\n",
       "}\n",
       "\n",
       "/* Estimator-specific */\n",
       "#sk-container-id-2 div.sk-estimator {\n",
       "  font-family: monospace;\n",
       "  border: 1px dotted var(--sklearn-color-border-box);\n",
       "  border-radius: 0.25em;\n",
       "  box-sizing: border-box;\n",
       "  margin-bottom: 0.5em;\n",
       "  /* unfitted */\n",
       "  background-color: var(--sklearn-color-unfitted-level-0);\n",
       "}\n",
       "\n",
       "#sk-container-id-2 div.sk-estimator.fitted {\n",
       "  /* fitted */\n",
       "  background-color: var(--sklearn-color-fitted-level-0);\n",
       "}\n",
       "\n",
       "/* on hover */\n",
       "#sk-container-id-2 div.sk-estimator:hover {\n",
       "  /* unfitted */\n",
       "  background-color: var(--sklearn-color-unfitted-level-2);\n",
       "}\n",
       "\n",
       "#sk-container-id-2 div.sk-estimator.fitted:hover {\n",
       "  /* fitted */\n",
       "  background-color: var(--sklearn-color-fitted-level-2);\n",
       "}\n",
       "\n",
       "/* Specification for estimator info (e.g. \"i\" and \"?\") */\n",
       "\n",
       "/* Common style for \"i\" and \"?\" */\n",
       "\n",
       ".sk-estimator-doc-link,\n",
       "a:link.sk-estimator-doc-link,\n",
       "a:visited.sk-estimator-doc-link {\n",
       "  float: right;\n",
       "  font-size: smaller;\n",
       "  line-height: 1em;\n",
       "  font-family: monospace;\n",
       "  background-color: var(--sklearn-color-background);\n",
       "  border-radius: 1em;\n",
       "  height: 1em;\n",
       "  width: 1em;\n",
       "  text-decoration: none !important;\n",
       "  margin-left: 1ex;\n",
       "  /* unfitted */\n",
       "  border: var(--sklearn-color-unfitted-level-1) 1pt solid;\n",
       "  color: var(--sklearn-color-unfitted-level-1);\n",
       "}\n",
       "\n",
       ".sk-estimator-doc-link.fitted,\n",
       "a:link.sk-estimator-doc-link.fitted,\n",
       "a:visited.sk-estimator-doc-link.fitted {\n",
       "  /* fitted */\n",
       "  border: var(--sklearn-color-fitted-level-1) 1pt solid;\n",
       "  color: var(--sklearn-color-fitted-level-1);\n",
       "}\n",
       "\n",
       "/* On hover */\n",
       "div.sk-estimator:hover .sk-estimator-doc-link:hover,\n",
       ".sk-estimator-doc-link:hover,\n",
       "div.sk-label-container:hover .sk-estimator-doc-link:hover,\n",
       ".sk-estimator-doc-link:hover {\n",
       "  /* unfitted */\n",
       "  background-color: var(--sklearn-color-unfitted-level-3);\n",
       "  color: var(--sklearn-color-background);\n",
       "  text-decoration: none;\n",
       "}\n",
       "\n",
       "div.sk-estimator.fitted:hover .sk-estimator-doc-link.fitted:hover,\n",
       ".sk-estimator-doc-link.fitted:hover,\n",
       "div.sk-label-container:hover .sk-estimator-doc-link.fitted:hover,\n",
       ".sk-estimator-doc-link.fitted:hover {\n",
       "  /* fitted */\n",
       "  background-color: var(--sklearn-color-fitted-level-3);\n",
       "  color: var(--sklearn-color-background);\n",
       "  text-decoration: none;\n",
       "}\n",
       "\n",
       "/* Span, style for the box shown on hovering the info icon */\n",
       ".sk-estimator-doc-link span {\n",
       "  display: none;\n",
       "  z-index: 9999;\n",
       "  position: relative;\n",
       "  font-weight: normal;\n",
       "  right: .2ex;\n",
       "  padding: .5ex;\n",
       "  margin: .5ex;\n",
       "  width: min-content;\n",
       "  min-width: 20ex;\n",
       "  max-width: 50ex;\n",
       "  color: var(--sklearn-color-text);\n",
       "  box-shadow: 2pt 2pt 4pt #999;\n",
       "  /* unfitted */\n",
       "  background: var(--sklearn-color-unfitted-level-0);\n",
       "  border: .5pt solid var(--sklearn-color-unfitted-level-3);\n",
       "}\n",
       "\n",
       ".sk-estimator-doc-link.fitted span {\n",
       "  /* fitted */\n",
       "  background: var(--sklearn-color-fitted-level-0);\n",
       "  border: var(--sklearn-color-fitted-level-3);\n",
       "}\n",
       "\n",
       ".sk-estimator-doc-link:hover span {\n",
       "  display: block;\n",
       "}\n",
       "\n",
       "/* \"?\"-specific style due to the `<a>` HTML tag */\n",
       "\n",
       "#sk-container-id-2 a.estimator_doc_link {\n",
       "  float: right;\n",
       "  font-size: 1rem;\n",
       "  line-height: 1em;\n",
       "  font-family: monospace;\n",
       "  background-color: var(--sklearn-color-background);\n",
       "  border-radius: 1rem;\n",
       "  height: 1rem;\n",
       "  width: 1rem;\n",
       "  text-decoration: none;\n",
       "  /* unfitted */\n",
       "  color: var(--sklearn-color-unfitted-level-1);\n",
       "  border: var(--sklearn-color-unfitted-level-1) 1pt solid;\n",
       "}\n",
       "\n",
       "#sk-container-id-2 a.estimator_doc_link.fitted {\n",
       "  /* fitted */\n",
       "  border: var(--sklearn-color-fitted-level-1) 1pt solid;\n",
       "  color: var(--sklearn-color-fitted-level-1);\n",
       "}\n",
       "\n",
       "/* On hover */\n",
       "#sk-container-id-2 a.estimator_doc_link:hover {\n",
       "  /* unfitted */\n",
       "  background-color: var(--sklearn-color-unfitted-level-3);\n",
       "  color: var(--sklearn-color-background);\n",
       "  text-decoration: none;\n",
       "}\n",
       "\n",
       "#sk-container-id-2 a.estimator_doc_link.fitted:hover {\n",
       "  /* fitted */\n",
       "  background-color: var(--sklearn-color-fitted-level-3);\n",
       "}\n",
       "</style><div id=\"sk-container-id-2\" class=\"sk-top-container\"><div class=\"sk-text-repr-fallback\"><pre>LinearRegression()</pre><b>In a Jupyter environment, please rerun this cell to show the HTML representation or trust the notebook. <br />On GitHub, the HTML representation is unable to render, please try loading this page with nbviewer.org.</b></div><div class=\"sk-container\" hidden><div class=\"sk-item\"><div class=\"sk-estimator fitted sk-toggleable\"><input class=\"sk-toggleable__control sk-hidden--visually\" id=\"sk-estimator-id-2\" type=\"checkbox\" checked><label for=\"sk-estimator-id-2\" class=\"sk-toggleable__label fitted sk-toggleable__label-arrow fitted\">&nbsp;&nbsp;LinearRegression<a class=\"sk-estimator-doc-link fitted\" rel=\"noreferrer\" target=\"_blank\" href=\"https://scikit-learn.org/1.4/modules/generated/sklearn.linear_model.LinearRegression.html\">?<span>Documentation for LinearRegression</span></a><span class=\"sk-estimator-doc-link fitted\">i<span>Fitted</span></span></label><div class=\"sk-toggleable__content fitted\"><pre>LinearRegression()</pre></div> </div></div></div></div>"
      ],
      "text/plain": [
       "LinearRegression()"
      ]
     },
     "execution_count": 50,
     "metadata": {},
     "output_type": "execute_result"
    }
   ],
   "source": [
    "from sklearn.linear_model import LinearRegression\n",
    "lrig = LinearRegression()\n",
    "lrig.fit(X_train, y_train)"
   ]
  },
  {
   "cell_type": "code",
   "execution_count": 51,
   "id": "8bd87e26",
   "metadata": {},
   "outputs": [
    {
     "data": {
      "text/plain": [
       "0.13402430522028075"
      ]
     },
     "execution_count": 51,
     "metadata": {},
     "output_type": "execute_result"
    }
   ],
   "source": [
    "lrig.score(X_test,y_test)"
   ]
  },
  {
   "cell_type": "code",
   "execution_count": 52,
   "id": "a0adad02",
   "metadata": {},
   "outputs": [
    {
     "data": {
      "text/plain": [
       "0.6811173231963086"
      ]
     },
     "execution_count": 52,
     "metadata": {},
     "output_type": "execute_result"
    }
   ],
   "source": [
    "lrig.score(X_train,y_train)"
   ]
  },
  {
   "cell_type": "code",
   "execution_count": 55,
   "id": "30a3cba3",
   "metadata": {},
   "outputs": [
    {
     "name": "stdout",
     "output_type": "stream",
     "text": [
      "0.15246753776552513\n",
      "0.6810987320535615\n"
     ]
    }
   ],
   "source": [
    "from sklearn.linear_model import Lasso\n",
    "ls_rig = Lasso(alpha=50, max_iter=100, )\n",
    "ls_rig.fit(X_train, y_train)\n",
    "pp(ls_rig.score(X_test,y_test))\n",
    "pp(ls_rig.score(X_train,y_train))"
   ]
  },
  {
   "cell_type": "code",
   "execution_count": 56,
   "id": "443e4f90",
   "metadata": {},
   "outputs": [
    {
     "name": "stdout",
     "output_type": "stream",
     "text": [
      "0.15246753776552513\n",
      "0.6810987320535615\n"
     ]
    }
   ],
   "source": [
    "from sklearn.linear_model import Ridge\n",
    "rg_rig = Lasso()\n",
    "rg_rig.fit(X_train, y_train)\n",
    "pp(rg_rig.score(X_test,y_test))\n",
    "pp(rg_rig.score(X_train,y_train))\n"
   ]
  },
  {
   "cell_type": "code",
   "execution_count": 57,
   "id": "4ce4c158",
   "metadata": {},
   "outputs": [
    {
     "data": {
      "application/vnd.microsoft.datawrangler.viewer.v0+json": {
       "columns": [
        {
         "name": "index",
         "rawType": "int64",
         "type": "integer"
        },
        {
         "name": "Rooms",
         "rawType": "int64",
         "type": "integer"
        },
        {
         "name": "Propertycount",
         "rawType": "float64",
         "type": "float"
        },
        {
         "name": "Distance",
         "rawType": "float64",
         "type": "float"
        },
        {
         "name": "Bedroom2",
         "rawType": "float64",
         "type": "float"
        },
        {
         "name": "Bathroom",
         "rawType": "float64",
         "type": "float"
        },
        {
         "name": "Car",
         "rawType": "float64",
         "type": "float"
        },
        {
         "name": "Landsize",
         "rawType": "float64",
         "type": "float"
        },
        {
         "name": "BuildingArea",
         "rawType": "float64",
         "type": "float"
        },
        {
         "name": "Price",
         "rawType": "float64",
         "type": "float"
        },
        {
         "name": "Suburb_Aberfeldie",
         "rawType": "bool",
         "type": "boolean"
        },
        {
         "name": "Suburb_Airport West",
         "rawType": "bool",
         "type": "boolean"
        },
        {
         "name": "Suburb_Albanvale",
         "rawType": "bool",
         "type": "boolean"
        },
        {
         "name": "Suburb_Albert Park",
         "rawType": "bool",
         "type": "boolean"
        },
        {
         "name": "Suburb_Albion",
         "rawType": "bool",
         "type": "boolean"
        },
        {
         "name": "Suburb_Alphington",
         "rawType": "bool",
         "type": "boolean"
        },
        {
         "name": "Suburb_Altona",
         "rawType": "bool",
         "type": "boolean"
        },
        {
         "name": "Suburb_Altona Meadows",
         "rawType": "bool",
         "type": "boolean"
        },
        {
         "name": "Suburb_Altona North",
         "rawType": "bool",
         "type": "boolean"
        },
        {
         "name": "Suburb_Ardeer",
         "rawType": "bool",
         "type": "boolean"
        },
        {
         "name": "Suburb_Armadale",
         "rawType": "bool",
         "type": "boolean"
        },
        {
         "name": "Suburb_Ascot Vale",
         "rawType": "bool",
         "type": "boolean"
        },
        {
         "name": "Suburb_Ashburton",
         "rawType": "bool",
         "type": "boolean"
        },
        {
         "name": "Suburb_Ashwood",
         "rawType": "bool",
         "type": "boolean"
        },
        {
         "name": "Suburb_Aspendale",
         "rawType": "bool",
         "type": "boolean"
        },
        {
         "name": "Suburb_Aspendale Gardens",
         "rawType": "bool",
         "type": "boolean"
        },
        {
         "name": "Suburb_Attwood",
         "rawType": "bool",
         "type": "boolean"
        },
        {
         "name": "Suburb_Avondale Heights",
         "rawType": "bool",
         "type": "boolean"
        },
        {
         "name": "Suburb_Bacchus Marsh",
         "rawType": "bool",
         "type": "boolean"
        },
        {
         "name": "Suburb_Balaclava",
         "rawType": "bool",
         "type": "boolean"
        },
        {
         "name": "Suburb_Balwyn",
         "rawType": "bool",
         "type": "boolean"
        },
        {
         "name": "Suburb_Balwyn North",
         "rawType": "bool",
         "type": "boolean"
        },
        {
         "name": "Suburb_Bayswater",
         "rawType": "bool",
         "type": "boolean"
        },
        {
         "name": "Suburb_Bayswater North",
         "rawType": "bool",
         "type": "boolean"
        },
        {
         "name": "Suburb_Beaconsfield",
         "rawType": "bool",
         "type": "boolean"
        },
        {
         "name": "Suburb_Beaconsfield Upper",
         "rawType": "bool",
         "type": "boolean"
        },
        {
         "name": "Suburb_Beaumaris",
         "rawType": "bool",
         "type": "boolean"
        },
        {
         "name": "Suburb_Bellfield",
         "rawType": "bool",
         "type": "boolean"
        },
        {
         "name": "Suburb_Bentleigh",
         "rawType": "bool",
         "type": "boolean"
        },
        {
         "name": "Suburb_Bentleigh East",
         "rawType": "bool",
         "type": "boolean"
        },
        {
         "name": "Suburb_Berwick",
         "rawType": "bool",
         "type": "boolean"
        },
        {
         "name": "Suburb_Black Rock",
         "rawType": "bool",
         "type": "boolean"
        },
        {
         "name": "Suburb_Blackburn",
         "rawType": "bool",
         "type": "boolean"
        },
        {
         "name": "Suburb_Blackburn North",
         "rawType": "bool",
         "type": "boolean"
        },
        {
         "name": "Suburb_Blackburn South",
         "rawType": "bool",
         "type": "boolean"
        },
        {
         "name": "Suburb_Bonbeach",
         "rawType": "bool",
         "type": "boolean"
        },
        {
         "name": "Suburb_Boronia",
         "rawType": "bool",
         "type": "boolean"
        },
        {
         "name": "Suburb_Botanic Ridge",
         "rawType": "bool",
         "type": "boolean"
        },
        {
         "name": "Suburb_Box Hill",
         "rawType": "bool",
         "type": "boolean"
        },
        {
         "name": "Suburb_Braybrook",
         "rawType": "bool",
         "type": "boolean"
        },
        {
         "name": "Suburb_Briar Hill",
         "rawType": "bool",
         "type": "boolean"
        },
        {
         "name": "Suburb_Brighton",
         "rawType": "bool",
         "type": "boolean"
        },
        {
         "name": "Suburb_Brighton East",
         "rawType": "bool",
         "type": "boolean"
        },
        {
         "name": "Suburb_Broadmeadows",
         "rawType": "bool",
         "type": "boolean"
        },
        {
         "name": "Suburb_Brookfield",
         "rawType": "bool",
         "type": "boolean"
        },
        {
         "name": "Suburb_Brooklyn",
         "rawType": "bool",
         "type": "boolean"
        },
        {
         "name": "Suburb_Brunswick",
         "rawType": "bool",
         "type": "boolean"
        },
        {
         "name": "Suburb_Brunswick East",
         "rawType": "bool",
         "type": "boolean"
        },
        {
         "name": "Suburb_Brunswick West",
         "rawType": "bool",
         "type": "boolean"
        },
        {
         "name": "Suburb_Bulla",
         "rawType": "bool",
         "type": "boolean"
        },
        {
         "name": "Suburb_Bulleen",
         "rawType": "bool",
         "type": "boolean"
        },
        {
         "name": "Suburb_Bullengarook",
         "rawType": "bool",
         "type": "boolean"
        },
        {
         "name": "Suburb_Bundoora",
         "rawType": "bool",
         "type": "boolean"
        },
        {
         "name": "Suburb_Burnley",
         "rawType": "bool",
         "type": "boolean"
        },
        {
         "name": "Suburb_Burnside",
         "rawType": "bool",
         "type": "boolean"
        },
        {
         "name": "Suburb_Burnside Heights",
         "rawType": "bool",
         "type": "boolean"
        },
        {
         "name": "Suburb_Burwood",
         "rawType": "bool",
         "type": "boolean"
        },
        {
         "name": "Suburb_Burwood East",
         "rawType": "bool",
         "type": "boolean"
        },
        {
         "name": "Suburb_Cairnlea",
         "rawType": "bool",
         "type": "boolean"
        },
        {
         "name": "Suburb_Camberwell",
         "rawType": "bool",
         "type": "boolean"
        },
        {
         "name": "Suburb_Campbellfield",
         "rawType": "bool",
         "type": "boolean"
        },
        {
         "name": "Suburb_Canterbury",
         "rawType": "bool",
         "type": "boolean"
        },
        {
         "name": "Suburb_Carlton",
         "rawType": "bool",
         "type": "boolean"
        },
        {
         "name": "Suburb_Carlton North",
         "rawType": "bool",
         "type": "boolean"
        },
        {
         "name": "Suburb_Carnegie",
         "rawType": "bool",
         "type": "boolean"
        },
        {
         "name": "Suburb_Caroline Springs",
         "rawType": "bool",
         "type": "boolean"
        },
        {
         "name": "Suburb_Carrum",
         "rawType": "bool",
         "type": "boolean"
        },
        {
         "name": "Suburb_Carrum Downs",
         "rawType": "bool",
         "type": "boolean"
        },
        {
         "name": "Suburb_Caulfield",
         "rawType": "bool",
         "type": "boolean"
        },
        {
         "name": "Suburb_Caulfield East",
         "rawType": "bool",
         "type": "boolean"
        },
        {
         "name": "Suburb_Caulfield North",
         "rawType": "bool",
         "type": "boolean"
        },
        {
         "name": "Suburb_Caulfield South",
         "rawType": "bool",
         "type": "boolean"
        },
        {
         "name": "Suburb_Chadstone",
         "rawType": "bool",
         "type": "boolean"
        },
        {
         "name": "Suburb_Chelsea",
         "rawType": "bool",
         "type": "boolean"
        },
        {
         "name": "Suburb_Chelsea Heights",
         "rawType": "bool",
         "type": "boolean"
        },
        {
         "name": "Suburb_Cheltenham",
         "rawType": "bool",
         "type": "boolean"
        },
        {
         "name": "Suburb_Chirnside Park",
         "rawType": "bool",
         "type": "boolean"
        },
        {
         "name": "Suburb_Clarinda",
         "rawType": "bool",
         "type": "boolean"
        },
        {
         "name": "Suburb_Clayton",
         "rawType": "bool",
         "type": "boolean"
        },
        {
         "name": "Suburb_Clayton South",
         "rawType": "bool",
         "type": "boolean"
        },
        {
         "name": "Suburb_Clifton Hill",
         "rawType": "bool",
         "type": "boolean"
        },
        {
         "name": "Suburb_Clyde North",
         "rawType": "bool",
         "type": "boolean"
        },
        {
         "name": "Suburb_Coburg",
         "rawType": "bool",
         "type": "boolean"
        },
        {
         "name": "Suburb_Coburg North",
         "rawType": "bool",
         "type": "boolean"
        },
        {
         "name": "Suburb_Coldstream",
         "rawType": "bool",
         "type": "boolean"
        },
        {
         "name": "Suburb_Collingwood",
         "rawType": "bool",
         "type": "boolean"
        },
        {
         "name": "Suburb_Coolaroo",
         "rawType": "bool",
         "type": "boolean"
        },
        {
         "name": "Suburb_Craigieburn",
         "rawType": "bool",
         "type": "boolean"
        },
        {
         "name": "Suburb_Cranbourne",
         "rawType": "bool",
         "type": "boolean"
        },
        {
         "name": "Suburb_Cranbourne East",
         "rawType": "bool",
         "type": "boolean"
        },
        {
         "name": "Suburb_Cranbourne North",
         "rawType": "bool",
         "type": "boolean"
        },
        {
         "name": "Suburb_Cranbourne West",
         "rawType": "bool",
         "type": "boolean"
        },
        {
         "name": "Suburb_Cremorne",
         "rawType": "bool",
         "type": "boolean"
        },
        {
         "name": "Suburb_Croydon",
         "rawType": "bool",
         "type": "boolean"
        },
        {
         "name": "Suburb_Croydon Hills",
         "rawType": "bool",
         "type": "boolean"
        },
        {
         "name": "Suburb_Croydon North",
         "rawType": "bool",
         "type": "boolean"
        },
        {
         "name": "Suburb_Croydon South",
         "rawType": "bool",
         "type": "boolean"
        },
        {
         "name": "Suburb_Dallas",
         "rawType": "bool",
         "type": "boolean"
        },
        {
         "name": "Suburb_Dandenong",
         "rawType": "bool",
         "type": "boolean"
        },
        {
         "name": "Suburb_Dandenong North",
         "rawType": "bool",
         "type": "boolean"
        },
        {
         "name": "Suburb_Darley",
         "rawType": "bool",
         "type": "boolean"
        },
        {
         "name": "Suburb_Deepdene",
         "rawType": "bool",
         "type": "boolean"
        },
        {
         "name": "Suburb_Deer Park",
         "rawType": "bool",
         "type": "boolean"
        },
        {
         "name": "Suburb_Delahey",
         "rawType": "bool",
         "type": "boolean"
        },
        {
         "name": "Suburb_Derrimut",
         "rawType": "bool",
         "type": "boolean"
        },
        {
         "name": "Suburb_Diamond Creek",
         "rawType": "bool",
         "type": "boolean"
        },
        {
         "name": "Suburb_Diggers Rest",
         "rawType": "bool",
         "type": "boolean"
        },
        {
         "name": "Suburb_Dingley Village",
         "rawType": "bool",
         "type": "boolean"
        },
        {
         "name": "Suburb_Docklands",
         "rawType": "bool",
         "type": "boolean"
        },
        {
         "name": "Suburb_Doncaster",
         "rawType": "bool",
         "type": "boolean"
        },
        {
         "name": "Suburb_Doncaster East",
         "rawType": "bool",
         "type": "boolean"
        },
        {
         "name": "Suburb_Donvale",
         "rawType": "bool",
         "type": "boolean"
        },
        {
         "name": "Suburb_Doreen",
         "rawType": "bool",
         "type": "boolean"
        },
        {
         "name": "Suburb_Doveton",
         "rawType": "bool",
         "type": "boolean"
        },
        {
         "name": "Suburb_Eaglemont",
         "rawType": "bool",
         "type": "boolean"
        },
        {
         "name": "Suburb_East Melbourne",
         "rawType": "bool",
         "type": "boolean"
        },
        {
         "name": "Suburb_Edithvale",
         "rawType": "bool",
         "type": "boolean"
        },
        {
         "name": "Suburb_Elsternwick",
         "rawType": "bool",
         "type": "boolean"
        },
        {
         "name": "Suburb_Eltham",
         "rawType": "bool",
         "type": "boolean"
        },
        {
         "name": "Suburb_Eltham North",
         "rawType": "bool",
         "type": "boolean"
        },
        {
         "name": "Suburb_Elwood",
         "rawType": "bool",
         "type": "boolean"
        },
        {
         "name": "Suburb_Emerald",
         "rawType": "bool",
         "type": "boolean"
        },
        {
         "name": "Suburb_Endeavour Hills",
         "rawType": "bool",
         "type": "boolean"
        },
        {
         "name": "Suburb_Epping",
         "rawType": "bool",
         "type": "boolean"
        },
        {
         "name": "Suburb_Essendon",
         "rawType": "bool",
         "type": "boolean"
        },
        {
         "name": "Suburb_Essendon North",
         "rawType": "bool",
         "type": "boolean"
        },
        {
         "name": "Suburb_Essendon West",
         "rawType": "bool",
         "type": "boolean"
        },
        {
         "name": "Suburb_Eumemmerring",
         "rawType": "bool",
         "type": "boolean"
        },
        {
         "name": "Suburb_Eynesbury",
         "rawType": "bool",
         "type": "boolean"
        },
        {
         "name": "Suburb_Fairfield",
         "rawType": "bool",
         "type": "boolean"
        },
        {
         "name": "Suburb_Fawkner",
         "rawType": "bool",
         "type": "boolean"
        },
        {
         "name": "Suburb_Ferntree Gully",
         "rawType": "bool",
         "type": "boolean"
        },
        {
         "name": "Suburb_Ferny Creek",
         "rawType": "bool",
         "type": "boolean"
        },
        {
         "name": "Suburb_Fitzroy",
         "rawType": "bool",
         "type": "boolean"
        },
        {
         "name": "Suburb_Fitzroy North",
         "rawType": "bool",
         "type": "boolean"
        },
        {
         "name": "Suburb_Flemington",
         "rawType": "bool",
         "type": "boolean"
        },
        {
         "name": "Suburb_Footscray",
         "rawType": "bool",
         "type": "boolean"
        },
        {
         "name": "Suburb_Forest Hill",
         "rawType": "bool",
         "type": "boolean"
        },
        {
         "name": "Suburb_Frankston",
         "rawType": "bool",
         "type": "boolean"
        },
        {
         "name": "Suburb_Frankston North",
         "rawType": "bool",
         "type": "boolean"
        },
        {
         "name": "Suburb_Frankston South",
         "rawType": "bool",
         "type": "boolean"
        },
        {
         "name": "Suburb_Gardenvale",
         "rawType": "bool",
         "type": "boolean"
        },
        {
         "name": "Suburb_Gisborne",
         "rawType": "bool",
         "type": "boolean"
        },
        {
         "name": "Suburb_Gisborne South",
         "rawType": "bool",
         "type": "boolean"
        },
        {
         "name": "Suburb_Gladstone Park",
         "rawType": "bool",
         "type": "boolean"
        },
        {
         "name": "Suburb_Glen Huntly",
         "rawType": "bool",
         "type": "boolean"
        },
        {
         "name": "Suburb_Glen Iris",
         "rawType": "bool",
         "type": "boolean"
        },
        {
         "name": "Suburb_Glen Waverley",
         "rawType": "bool",
         "type": "boolean"
        },
        {
         "name": "Suburb_Glenroy",
         "rawType": "bool",
         "type": "boolean"
        },
        {
         "name": "Suburb_Gowanbrae",
         "rawType": "bool",
         "type": "boolean"
        },
        {
         "name": "Suburb_Greensborough",
         "rawType": "bool",
         "type": "boolean"
        },
        {
         "name": "Suburb_Greenvale",
         "rawType": "bool",
         "type": "boolean"
        },
        {
         "name": "Suburb_Hadfield",
         "rawType": "bool",
         "type": "boolean"
        },
        {
         "name": "Suburb_Hallam",
         "rawType": "bool",
         "type": "boolean"
        },
        {
         "name": "Suburb_Hampton",
         "rawType": "bool",
         "type": "boolean"
        },
        {
         "name": "Suburb_Hampton East",
         "rawType": "bool",
         "type": "boolean"
        },
        {
         "name": "Suburb_Hampton Park",
         "rawType": "bool",
         "type": "boolean"
        },
        {
         "name": "Suburb_Hawthorn",
         "rawType": "bool",
         "type": "boolean"
        },
        {
         "name": "Suburb_Hawthorn East",
         "rawType": "bool",
         "type": "boolean"
        },
        {
         "name": "Suburb_Healesville",
         "rawType": "bool",
         "type": "boolean"
        },
        {
         "name": "Suburb_Heatherton",
         "rawType": "bool",
         "type": "boolean"
        },
        {
         "name": "Suburb_Heathmont",
         "rawType": "bool",
         "type": "boolean"
        },
        {
         "name": "Suburb_Heidelberg",
         "rawType": "bool",
         "type": "boolean"
        },
        {
         "name": "Suburb_Heidelberg Heights",
         "rawType": "bool",
         "type": "boolean"
        },
        {
         "name": "Suburb_Heidelberg West",
         "rawType": "bool",
         "type": "boolean"
        },
        {
         "name": "Suburb_Highett",
         "rawType": "bool",
         "type": "boolean"
        },
        {
         "name": "Suburb_Hillside",
         "rawType": "bool",
         "type": "boolean"
        },
        {
         "name": "Suburb_Hoppers Crossing",
         "rawType": "bool",
         "type": "boolean"
        },
        {
         "name": "Suburb_Hughesdale",
         "rawType": "bool",
         "type": "boolean"
        },
        {
         "name": "Suburb_Huntingdale",
         "rawType": "bool",
         "type": "boolean"
        },
        {
         "name": "Suburb_Hurstbridge",
         "rawType": "bool",
         "type": "boolean"
        },
        {
         "name": "Suburb_Ivanhoe",
         "rawType": "bool",
         "type": "boolean"
        },
        {
         "name": "Suburb_Ivanhoe East",
         "rawType": "bool",
         "type": "boolean"
        },
        {
         "name": "Suburb_Jacana",
         "rawType": "bool",
         "type": "boolean"
        },
        {
         "name": "Suburb_Kalkallo",
         "rawType": "bool",
         "type": "boolean"
        },
        {
         "name": "Suburb_Kealba",
         "rawType": "bool",
         "type": "boolean"
        },
        {
         "name": "Suburb_Keilor",
         "rawType": "bool",
         "type": "boolean"
        },
        {
         "name": "Suburb_Keilor Downs",
         "rawType": "bool",
         "type": "boolean"
        },
        {
         "name": "Suburb_Keilor East",
         "rawType": "bool",
         "type": "boolean"
        },
        {
         "name": "Suburb_Keilor Lodge",
         "rawType": "bool",
         "type": "boolean"
        },
        {
         "name": "Suburb_Keilor Park",
         "rawType": "bool",
         "type": "boolean"
        },
        {
         "name": "Suburb_Kensington",
         "rawType": "bool",
         "type": "boolean"
        },
        {
         "name": "Suburb_Kew",
         "rawType": "bool",
         "type": "boolean"
        },
        {
         "name": "Suburb_Kew East",
         "rawType": "bool",
         "type": "boolean"
        },
        {
         "name": "Suburb_Keysborough",
         "rawType": "bool",
         "type": "boolean"
        },
        {
         "name": "Suburb_Kilsyth",
         "rawType": "bool",
         "type": "boolean"
        },
        {
         "name": "Suburb_Kings Park",
         "rawType": "bool",
         "type": "boolean"
        },
        {
         "name": "Suburb_Kingsbury",
         "rawType": "bool",
         "type": "boolean"
        },
        {
         "name": "Suburb_Kingsville",
         "rawType": "bool",
         "type": "boolean"
        },
        {
         "name": "Suburb_Knoxfield",
         "rawType": "bool",
         "type": "boolean"
        },
        {
         "name": "Suburb_Kooyong",
         "rawType": "bool",
         "type": "boolean"
        },
        {
         "name": "Suburb_Kurunjang",
         "rawType": "bool",
         "type": "boolean"
        },
        {
         "name": "Suburb_Lalor",
         "rawType": "bool",
         "type": "boolean"
        },
        {
         "name": "Suburb_Langwarrin",
         "rawType": "bool",
         "type": "boolean"
        },
        {
         "name": "Suburb_Laverton",
         "rawType": "bool",
         "type": "boolean"
        },
        {
         "name": "Suburb_Lilydale",
         "rawType": "bool",
         "type": "boolean"
        },
        {
         "name": "Suburb_Lower Plenty",
         "rawType": "bool",
         "type": "boolean"
        },
        {
         "name": "Suburb_Lynbrook",
         "rawType": "bool",
         "type": "boolean"
        },
        {
         "name": "Suburb_Lysterfield",
         "rawType": "bool",
         "type": "boolean"
        },
        {
         "name": "Suburb_MacLeod",
         "rawType": "bool",
         "type": "boolean"
        },
        {
         "name": "Suburb_Maidstone",
         "rawType": "bool",
         "type": "boolean"
        },
        {
         "name": "Suburb_Malvern",
         "rawType": "bool",
         "type": "boolean"
        },
        {
         "name": "Suburb_Malvern East",
         "rawType": "bool",
         "type": "boolean"
        },
        {
         "name": "Suburb_Maribyrnong",
         "rawType": "bool",
         "type": "boolean"
        },
        {
         "name": "Suburb_McKinnon",
         "rawType": "bool",
         "type": "boolean"
        },
        {
         "name": "Suburb_Meadow Heights",
         "rawType": "bool",
         "type": "boolean"
        },
        {
         "name": "Suburb_Melbourne",
         "rawType": "bool",
         "type": "boolean"
        },
        {
         "name": "Suburb_Melton",
         "rawType": "bool",
         "type": "boolean"
        },
        {
         "name": "Suburb_Melton South",
         "rawType": "bool",
         "type": "boolean"
        },
        {
         "name": "Suburb_Melton West",
         "rawType": "bool",
         "type": "boolean"
        },
        {
         "name": "Suburb_Mentone",
         "rawType": "bool",
         "type": "boolean"
        },
        {
         "name": "Suburb_Mernda",
         "rawType": "bool",
         "type": "boolean"
        },
        {
         "name": "Suburb_Mickleham",
         "rawType": "bool",
         "type": "boolean"
        },
        {
         "name": "Suburb_Middle Park",
         "rawType": "bool",
         "type": "boolean"
        },
        {
         "name": "Suburb_Mill Park",
         "rawType": "bool",
         "type": "boolean"
        },
        {
         "name": "Suburb_Mitcham",
         "rawType": "bool",
         "type": "boolean"
        },
        {
         "name": "Suburb_Monbulk",
         "rawType": "bool",
         "type": "boolean"
        },
        {
         "name": "Suburb_Mont Albert",
         "rawType": "bool",
         "type": "boolean"
        },
        {
         "name": "Suburb_Montmorency",
         "rawType": "bool",
         "type": "boolean"
        },
        {
         "name": "Suburb_Montrose",
         "rawType": "bool",
         "type": "boolean"
        },
        {
         "name": "Suburb_Moonee Ponds",
         "rawType": "bool",
         "type": "boolean"
        },
        {
         "name": "Suburb_Moorabbin",
         "rawType": "bool",
         "type": "boolean"
        },
        {
         "name": "Suburb_Mooroolbark",
         "rawType": "bool",
         "type": "boolean"
        },
        {
         "name": "Suburb_Mordialloc",
         "rawType": "bool",
         "type": "boolean"
        },
        {
         "name": "Suburb_Mount Evelyn",
         "rawType": "bool",
         "type": "boolean"
        },
        {
         "name": "Suburb_Mount Waverley",
         "rawType": "bool",
         "type": "boolean"
        },
        {
         "name": "Suburb_Mulgrave",
         "rawType": "bool",
         "type": "boolean"
        },
        {
         "name": "Suburb_Murrumbeena",
         "rawType": "bool",
         "type": "boolean"
        },
        {
         "name": "Suburb_Narre Warren",
         "rawType": "bool",
         "type": "boolean"
        },
        {
         "name": "Suburb_New Gisborne",
         "rawType": "bool",
         "type": "boolean"
        },
        {
         "name": "Suburb_Newport",
         "rawType": "bool",
         "type": "boolean"
        },
        {
         "name": "Suburb_Niddrie",
         "rawType": "bool",
         "type": "boolean"
        },
        {
         "name": "Suburb_Noble Park",
         "rawType": "bool",
         "type": "boolean"
        },
        {
         "name": "Suburb_North Melbourne",
         "rawType": "bool",
         "type": "boolean"
        },
        {
         "name": "Suburb_North Warrandyte",
         "rawType": "bool",
         "type": "boolean"
        },
        {
         "name": "Suburb_Northcote",
         "rawType": "bool",
         "type": "boolean"
        },
        {
         "name": "Suburb_Notting Hill",
         "rawType": "bool",
         "type": "boolean"
        },
        {
         "name": "Suburb_Nunawading",
         "rawType": "bool",
         "type": "boolean"
        },
        {
         "name": "Suburb_Oak Park",
         "rawType": "bool",
         "type": "boolean"
        },
        {
         "name": "Suburb_Oakleigh",
         "rawType": "bool",
         "type": "boolean"
        },
        {
         "name": "Suburb_Oakleigh East",
         "rawType": "bool",
         "type": "boolean"
        },
        {
         "name": "Suburb_Oakleigh South",
         "rawType": "bool",
         "type": "boolean"
        },
        {
         "name": "Suburb_Officer",
         "rawType": "bool",
         "type": "boolean"
        },
        {
         "name": "Suburb_Ormond",
         "rawType": "bool",
         "type": "boolean"
        },
        {
         "name": "Suburb_Pakenham",
         "rawType": "bool",
         "type": "boolean"
        },
        {
         "name": "Suburb_Parkdale",
         "rawType": "bool",
         "type": "boolean"
        },
        {
         "name": "Suburb_Parkville",
         "rawType": "bool",
         "type": "boolean"
        },
        {
         "name": "Suburb_Pascoe Vale",
         "rawType": "bool",
         "type": "boolean"
        },
        {
         "name": "Suburb_Patterson Lakes",
         "rawType": "bool",
         "type": "boolean"
        },
        {
         "name": "Suburb_Plenty",
         "rawType": "bool",
         "type": "boolean"
        },
        {
         "name": "Suburb_Plumpton",
         "rawType": "bool",
         "type": "boolean"
        },
        {
         "name": "Suburb_Point Cook",
         "rawType": "bool",
         "type": "boolean"
        },
        {
         "name": "Suburb_Port Melbourne",
         "rawType": "bool",
         "type": "boolean"
        },
        {
         "name": "Suburb_Prahran",
         "rawType": "bool",
         "type": "boolean"
        },
        {
         "name": "Suburb_Preston",
         "rawType": "bool",
         "type": "boolean"
        },
        {
         "name": "Suburb_Princes Hill",
         "rawType": "bool",
         "type": "boolean"
        },
        {
         "name": "Suburb_Research",
         "rawType": "bool",
         "type": "boolean"
        },
        {
         "name": "Suburb_Reservoir",
         "rawType": "bool",
         "type": "boolean"
        },
        {
         "name": "Suburb_Richmond",
         "rawType": "bool",
         "type": "boolean"
        },
        {
         "name": "Suburb_Riddells Creek",
         "rawType": "bool",
         "type": "boolean"
        },
        {
         "name": "Suburb_Ringwood",
         "rawType": "bool",
         "type": "boolean"
        },
        {
         "name": "Suburb_Ringwood East",
         "rawType": "bool",
         "type": "boolean"
        },
        {
         "name": "Suburb_Ringwood North",
         "rawType": "bool",
         "type": "boolean"
        },
        {
         "name": "Suburb_Ripponlea",
         "rawType": "bool",
         "type": "boolean"
        },
        {
         "name": "Suburb_Rockbank",
         "rawType": "bool",
         "type": "boolean"
        },
        {
         "name": "Suburb_Rosanna",
         "rawType": "bool",
         "type": "boolean"
        },
        {
         "name": "Suburb_Rowville",
         "rawType": "bool",
         "type": "boolean"
        },
        {
         "name": "Suburb_Roxburgh Park",
         "rawType": "bool",
         "type": "boolean"
        },
        {
         "name": "Suburb_Sandhurst",
         "rawType": "bool",
         "type": "boolean"
        },
        {
         "name": "Suburb_Sandringham",
         "rawType": "bool",
         "type": "boolean"
        },
        {
         "name": "Suburb_Scoresby",
         "rawType": "bool",
         "type": "boolean"
        },
        {
         "name": "Suburb_Seabrook",
         "rawType": "bool",
         "type": "boolean"
        },
        {
         "name": "Suburb_Seaford",
         "rawType": "bool",
         "type": "boolean"
        },
        {
         "name": "Suburb_Seaholme",
         "rawType": "bool",
         "type": "boolean"
        },
        {
         "name": "Suburb_Seddon",
         "rawType": "bool",
         "type": "boolean"
        },
        {
         "name": "Suburb_Silvan",
         "rawType": "bool",
         "type": "boolean"
        },
        {
         "name": "Suburb_Skye",
         "rawType": "bool",
         "type": "boolean"
        },
        {
         "name": "Suburb_South Kingsville",
         "rawType": "bool",
         "type": "boolean"
        },
        {
         "name": "Suburb_South Melbourne",
         "rawType": "bool",
         "type": "boolean"
        },
        {
         "name": "Suburb_South Morang",
         "rawType": "bool",
         "type": "boolean"
        },
        {
         "name": "Suburb_South Yarra",
         "rawType": "bool",
         "type": "boolean"
        },
        {
         "name": "Suburb_Southbank",
         "rawType": "bool",
         "type": "boolean"
        },
        {
         "name": "Suburb_Spotswood",
         "rawType": "bool",
         "type": "boolean"
        },
        {
         "name": "Suburb_Springvale",
         "rawType": "bool",
         "type": "boolean"
        },
        {
         "name": "Suburb_Springvale South",
         "rawType": "bool",
         "type": "boolean"
        },
        {
         "name": "Suburb_St Albans",
         "rawType": "bool",
         "type": "boolean"
        },
        {
         "name": "Suburb_St Helena",
         "rawType": "bool",
         "type": "boolean"
        },
        {
         "name": "Suburb_St Kilda",
         "rawType": "bool",
         "type": "boolean"
        },
        {
         "name": "Suburb_Strathmore",
         "rawType": "bool",
         "type": "boolean"
        },
        {
         "name": "Suburb_Strathmore Heights",
         "rawType": "bool",
         "type": "boolean"
        },
        {
         "name": "Suburb_Sunbury",
         "rawType": "bool",
         "type": "boolean"
        },
        {
         "name": "Suburb_Sunshine",
         "rawType": "bool",
         "type": "boolean"
        },
        {
         "name": "Suburb_Sunshine North",
         "rawType": "bool",
         "type": "boolean"
        },
        {
         "name": "Suburb_Sunshine West",
         "rawType": "bool",
         "type": "boolean"
        },
        {
         "name": "Suburb_Surrey Hills",
         "rawType": "bool",
         "type": "boolean"
        },
        {
         "name": "Suburb_Sydenham",
         "rawType": "bool",
         "type": "boolean"
        },
        {
         "name": "Suburb_Tarneit",
         "rawType": "bool",
         "type": "boolean"
        },
        {
         "name": "Suburb_Taylors Hill",
         "rawType": "bool",
         "type": "boolean"
        },
        {
         "name": "Suburb_Taylors Lakes",
         "rawType": "bool",
         "type": "boolean"
        },
        {
         "name": "Suburb_Tecoma",
         "rawType": "bool",
         "type": "boolean"
        },
        {
         "name": "Suburb_Templestowe",
         "rawType": "bool",
         "type": "boolean"
        },
        {
         "name": "Suburb_Templestowe Lower",
         "rawType": "bool",
         "type": "boolean"
        },
        {
         "name": "Suburb_The Basin",
         "rawType": "bool",
         "type": "boolean"
        },
        {
         "name": "Suburb_Thomastown",
         "rawType": "bool",
         "type": "boolean"
        },
        {
         "name": "Suburb_Thornbury",
         "rawType": "bool",
         "type": "boolean"
        },
        {
         "name": "Suburb_Toorak",
         "rawType": "bool",
         "type": "boolean"
        },
        {
         "name": "Suburb_Travancore",
         "rawType": "bool",
         "type": "boolean"
        },
        {
         "name": "Suburb_Truganina",
         "rawType": "bool",
         "type": "boolean"
        },
        {
         "name": "Suburb_Tullamarine",
         "rawType": "bool",
         "type": "boolean"
        },
        {
         "name": "Suburb_Upwey",
         "rawType": "bool",
         "type": "boolean"
        },
        {
         "name": "Suburb_Vermont",
         "rawType": "bool",
         "type": "boolean"
        },
        {
         "name": "Suburb_Vermont South",
         "rawType": "bool",
         "type": "boolean"
        },
        {
         "name": "Suburb_Viewbank",
         "rawType": "bool",
         "type": "boolean"
        },
        {
         "name": "Suburb_Wallan",
         "rawType": "bool",
         "type": "boolean"
        },
        {
         "name": "Suburb_Wandin North",
         "rawType": "bool",
         "type": "boolean"
        },
        {
         "name": "Suburb_Wantirna",
         "rawType": "bool",
         "type": "boolean"
        },
        {
         "name": "Suburb_Wantirna South",
         "rawType": "bool",
         "type": "boolean"
        },
        {
         "name": "Suburb_Warrandyte",
         "rawType": "bool",
         "type": "boolean"
        },
        {
         "name": "Suburb_Warranwood",
         "rawType": "bool",
         "type": "boolean"
        },
        {
         "name": "Suburb_Waterways",
         "rawType": "bool",
         "type": "boolean"
        },
        {
         "name": "Suburb_Watsonia",
         "rawType": "bool",
         "type": "boolean"
        },
        {
         "name": "Suburb_Watsonia North",
         "rawType": "bool",
         "type": "boolean"
        },
        {
         "name": "Suburb_Wattle Glen",
         "rawType": "bool",
         "type": "boolean"
        },
        {
         "name": "Suburb_Werribee",
         "rawType": "bool",
         "type": "boolean"
        },
        {
         "name": "Suburb_Werribee South",
         "rawType": "bool",
         "type": "boolean"
        },
        {
         "name": "Suburb_West Footscray",
         "rawType": "bool",
         "type": "boolean"
        },
        {
         "name": "Suburb_West Melbourne",
         "rawType": "bool",
         "type": "boolean"
        },
        {
         "name": "Suburb_Westmeadows",
         "rawType": "bool",
         "type": "boolean"
        },
        {
         "name": "Suburb_Wheelers Hill",
         "rawType": "bool",
         "type": "boolean"
        },
        {
         "name": "Suburb_Whittlesea",
         "rawType": "bool",
         "type": "boolean"
        },
        {
         "name": "Suburb_Wildwood",
         "rawType": "bool",
         "type": "boolean"
        },
        {
         "name": "Suburb_Williams Landing",
         "rawType": "bool",
         "type": "boolean"
        },
        {
         "name": "Suburb_Williamstown",
         "rawType": "bool",
         "type": "boolean"
        },
        {
         "name": "Suburb_Williamstown North",
         "rawType": "bool",
         "type": "boolean"
        },
        {
         "name": "Suburb_Windsor",
         "rawType": "bool",
         "type": "boolean"
        },
        {
         "name": "Suburb_Wollert",
         "rawType": "bool",
         "type": "boolean"
        },
        {
         "name": "Suburb_Wonga Park",
         "rawType": "bool",
         "type": "boolean"
        },
        {
         "name": "Suburb_Wyndham Vale",
         "rawType": "bool",
         "type": "boolean"
        },
        {
         "name": "Suburb_Yallambie",
         "rawType": "bool",
         "type": "boolean"
        },
        {
         "name": "Suburb_Yarra Glen",
         "rawType": "bool",
         "type": "boolean"
        },
        {
         "name": "Suburb_Yarraville",
         "rawType": "bool",
         "type": "boolean"
        },
        {
         "name": "Suburb_croydon",
         "rawType": "bool",
         "type": "boolean"
        },
        {
         "name": "Suburb_viewbank",
         "rawType": "bool",
         "type": "boolean"
        },
        {
         "name": "Type_t",
         "rawType": "bool",
         "type": "boolean"
        },
        {
         "name": "Type_u",
         "rawType": "bool",
         "type": "boolean"
        },
        {
         "name": "SellerG_AIME",
         "rawType": "bool",
         "type": "boolean"
        },
        {
         "name": "SellerG_ASL",
         "rawType": "bool",
         "type": "boolean"
        },
        {
         "name": "SellerG_Abercromby's",
         "rawType": "bool",
         "type": "boolean"
        },
        {
         "name": "SellerG_Ace",
         "rawType": "bool",
         "type": "boolean"
        },
        {
         "name": "SellerG_Airport",
         "rawType": "bool",
         "type": "boolean"
        },
        {
         "name": "SellerG_Alex",
         "rawType": "bool",
         "type": "boolean"
        },
        {
         "name": "SellerG_Alexkarbon",
         "rawType": "bool",
         "type": "boolean"
        },
        {
         "name": "SellerG_Allan",
         "rawType": "bool",
         "type": "boolean"
        },
        {
         "name": "SellerG_Allens",
         "rawType": "bool",
         "type": "boolean"
        },
        {
         "name": "SellerG_Anderson",
         "rawType": "bool",
         "type": "boolean"
        },
        {
         "name": "SellerG_Appleby",
         "rawType": "bool",
         "type": "boolean"
        },
        {
         "name": "SellerG_Aquire",
         "rawType": "bool",
         "type": "boolean"
        },
        {
         "name": "SellerG_Area",
         "rawType": "bool",
         "type": "boolean"
        },
        {
         "name": "SellerG_Ascend",
         "rawType": "bool",
         "type": "boolean"
        },
        {
         "name": "SellerG_Ash",
         "rawType": "bool",
         "type": "boolean"
        },
        {
         "name": "SellerG_Asset",
         "rawType": "bool",
         "type": "boolean"
        },
        {
         "name": "SellerG_Assisi",
         "rawType": "bool",
         "type": "boolean"
        },
        {
         "name": "SellerG_Aumeca",
         "rawType": "bool",
         "type": "boolean"
        },
        {
         "name": "SellerG_Australian",
         "rawType": "bool",
         "type": "boolean"
        },
        {
         "name": "SellerG_Avion",
         "rawType": "bool",
         "type": "boolean"
        },
        {
         "name": "SellerG_Barlow",
         "rawType": "bool",
         "type": "boolean"
        },
        {
         "name": "SellerG_Barry",
         "rawType": "bool",
         "type": "boolean"
        },
        {
         "name": "SellerG_Batty",
         "rawType": "bool",
         "type": "boolean"
        },
        {
         "name": "SellerG_Bayside",
         "rawType": "bool",
         "type": "boolean"
        },
        {
         "name": "SellerG_Bekdon",
         "rawType": "bool",
         "type": "boolean"
        },
        {
         "name": "SellerG_Beller",
         "rawType": "bool",
         "type": "boolean"
        },
        {
         "name": "SellerG_Bells",
         "rawType": "bool",
         "type": "boolean"
        },
        {
         "name": "SellerG_Benchmark",
         "rawType": "bool",
         "type": "boolean"
        },
        {
         "name": "SellerG_Benlor",
         "rawType": "bool",
         "type": "boolean"
        },
        {
         "name": "SellerG_Besser",
         "rawType": "bool",
         "type": "boolean"
        },
        {
         "name": "SellerG_Better",
         "rawType": "bool",
         "type": "boolean"
        },
        {
         "name": "SellerG_Biggin",
         "rawType": "bool",
         "type": "boolean"
        },
        {
         "name": "SellerG_Black",
         "rawType": "bool",
         "type": "boolean"
        },
        {
         "name": "SellerG_Blackbird",
         "rawType": "bool",
         "type": "boolean"
        },
        {
         "name": "SellerG_Blue",
         "rawType": "bool",
         "type": "boolean"
        },
        {
         "name": "SellerG_Bombay",
         "rawType": "bool",
         "type": "boolean"
        },
        {
         "name": "SellerG_Boran",
         "rawType": "bool",
         "type": "boolean"
        },
        {
         "name": "SellerG_Boutique",
         "rawType": "bool",
         "type": "boolean"
        },
        {
         "name": "SellerG_Bowman",
         "rawType": "bool",
         "type": "boolean"
        },
        {
         "name": "SellerG_Brace",
         "rawType": "bool",
         "type": "boolean"
        },
        {
         "name": "SellerG_Brad",
         "rawType": "bool",
         "type": "boolean"
        },
        {
         "name": "SellerG_Branon",
         "rawType": "bool",
         "type": "boolean"
        },
        {
         "name": "SellerG_Buckingham",
         "rawType": "bool",
         "type": "boolean"
        },
        {
         "name": "SellerG_Bullen",
         "rawType": "bool",
         "type": "boolean"
        },
        {
         "name": "SellerG_Burnham",
         "rawType": "bool",
         "type": "boolean"
        },
        {
         "name": "SellerG_Burns",
         "rawType": "bool",
         "type": "boolean"
        },
        {
         "name": "SellerG_Bustin",
         "rawType": "bool",
         "type": "boolean"
        },
        {
         "name": "SellerG_Buxton",
         "rawType": "bool",
         "type": "boolean"
        },
        {
         "name": "SellerG_Buxton/Advantage",
         "rawType": "bool",
         "type": "boolean"
        },
        {
         "name": "SellerG_Buxton/Buxton",
         "rawType": "bool",
         "type": "boolean"
        },
        {
         "name": "SellerG_Buxton/Find",
         "rawType": "bool",
         "type": "boolean"
        },
        {
         "name": "SellerG_Buxton/Marshall",
         "rawType": "bool",
         "type": "boolean"
        },
        {
         "name": "SellerG_C21",
         "rawType": "bool",
         "type": "boolean"
        },
        {
         "name": "SellerG_CASTRAN",
         "rawType": "bool",
         "type": "boolean"
        },
        {
         "name": "SellerG_Caine",
         "rawType": "bool",
         "type": "boolean"
        },
        {
         "name": "SellerG_Calder",
         "rawType": "bool",
         "type": "boolean"
        },
        {
         "name": "SellerG_CarlinSmith",
         "rawType": "bool",
         "type": "boolean"
        },
        {
         "name": "SellerG_Carter",
         "rawType": "bool",
         "type": "boolean"
        },
        {
         "name": "SellerG_Castran",
         "rawType": "bool",
         "type": "boolean"
        },
        {
         "name": "SellerG_Cayzer",
         "rawType": "bool",
         "type": "boolean"
        },
        {
         "name": "SellerG_Century",
         "rawType": "bool",
         "type": "boolean"
        },
        {
         "name": "SellerG_Chambers",
         "rawType": "bool",
         "type": "boolean"
        },
        {
         "name": "SellerG_Changing",
         "rawType": "bool",
         "type": "boolean"
        },
        {
         "name": "SellerG_Charlton",
         "rawType": "bool",
         "type": "boolean"
        },
        {
         "name": "SellerG_Charter",
         "rawType": "bool",
         "type": "boolean"
        },
        {
         "name": "SellerG_Chisholm",
         "rawType": "bool",
         "type": "boolean"
        },
        {
         "name": "SellerG_Christopher",
         "rawType": "bool",
         "type": "boolean"
        },
        {
         "name": "SellerG_Clairmont",
         "rawType": "bool",
         "type": "boolean"
        },
        {
         "name": "SellerG_Collings",
         "rawType": "bool",
         "type": "boolean"
        },
        {
         "name": "SellerG_Collins",
         "rawType": "bool",
         "type": "boolean"
        },
        {
         "name": "SellerG_Commercial",
         "rawType": "bool",
         "type": "boolean"
        },
        {
         "name": "SellerG_Community",
         "rawType": "bool",
         "type": "boolean"
        },
        {
         "name": "SellerG_Compton",
         "rawType": "bool",
         "type": "boolean"
        },
        {
         "name": "SellerG_Conquest",
         "rawType": "bool",
         "type": "boolean"
        },
        {
         "name": "SellerG_Considine",
         "rawType": "bool",
         "type": "boolean"
        },
        {
         "name": "SellerG_Coventry",
         "rawType": "bool",
         "type": "boolean"
        },
        {
         "name": "SellerG_Craig",
         "rawType": "bool",
         "type": "boolean"
        },
        {
         "name": "SellerG_Crane",
         "rawType": "bool",
         "type": "boolean"
        },
        {
         "name": "SellerG_Create",
         "rawType": "bool",
         "type": "boolean"
        },
        {
         "name": "SellerG_D'Aprano",
         "rawType": "bool",
         "type": "boolean"
        },
        {
         "name": "SellerG_Daniel",
         "rawType": "bool",
         "type": "boolean"
        },
        {
         "name": "SellerG_Darras",
         "rawType": "bool",
         "type": "boolean"
        },
        {
         "name": "SellerG_Darren",
         "rawType": "bool",
         "type": "boolean"
        },
        {
         "name": "SellerG_David",
         "rawType": "bool",
         "type": "boolean"
        },
        {
         "name": "SellerG_Del",
         "rawType": "bool",
         "type": "boolean"
        },
        {
         "name": "SellerG_Dingle",
         "rawType": "bool",
         "type": "boolean"
        },
        {
         "name": "SellerG_Direct",
         "rawType": "bool",
         "type": "boolean"
        },
        {
         "name": "SellerG_Dixon",
         "rawType": "bool",
         "type": "boolean"
        },
        {
         "name": "SellerG_Domain",
         "rawType": "bool",
         "type": "boolean"
        },
        {
         "name": "SellerG_Donovan",
         "rawType": "bool",
         "type": "boolean"
        },
        {
         "name": "SellerG_Douglas",
         "rawType": "bool",
         "type": "boolean"
        },
        {
         "name": "SellerG_Edward",
         "rawType": "bool",
         "type": "boolean"
        },
        {
         "name": "SellerG_Elite",
         "rawType": "bool",
         "type": "boolean"
        },
        {
         "name": "SellerG_Eric",
         "rawType": "bool",
         "type": "boolean"
        },
        {
         "name": "SellerG_Eview",
         "rawType": "bool",
         "type": "boolean"
        },
        {
         "name": "SellerG_FN",
         "rawType": "bool",
         "type": "boolean"
        },
        {
         "name": "SellerG_First",
         "rawType": "bool",
         "type": "boolean"
        },
        {
         "name": "SellerG_Flannagan",
         "rawType": "bool",
         "type": "boolean"
        },
        {
         "name": "SellerG_Fletchers",
         "rawType": "bool",
         "type": "boolean"
        },
        {
         "name": "SellerG_Fletchers/Fletchers",
         "rawType": "bool",
         "type": "boolean"
        },
        {
         "name": "SellerG_Fletchers/One",
         "rawType": "bool",
         "type": "boolean"
        },
        {
         "name": "SellerG_Follett",
         "rawType": "bool",
         "type": "boolean"
        },
        {
         "name": "SellerG_For",
         "rawType": "bool",
         "type": "boolean"
        },
        {
         "name": "SellerG_Frank",
         "rawType": "bool",
         "type": "boolean"
        },
        {
         "name": "SellerG_Free",
         "rawType": "bool",
         "type": "boolean"
        },
        {
         "name": "SellerG_G&H",
         "rawType": "bool",
         "type": "boolean"
        },
        {
         "name": "SellerG_GL",
         "rawType": "bool",
         "type": "boolean"
        },
        {
         "name": "SellerG_Galldon",
         "rawType": "bool",
         "type": "boolean"
        },
        {
         "name": "SellerG_Gardiner",
         "rawType": "bool",
         "type": "boolean"
        },
        {
         "name": "SellerG_Garvey",
         "rawType": "bool",
         "type": "boolean"
        },
        {
         "name": "SellerG_Gary",
         "rawType": "bool",
         "type": "boolean"
        },
        {
         "name": "SellerG_Gellibrand",
         "rawType": "bool",
         "type": "boolean"
        },
        {
         "name": "SellerG_Geoff",
         "rawType": "bool",
         "type": "boolean"
        },
        {
         "name": "SellerG_Grantham",
         "rawType": "bool",
         "type": "boolean"
        },
        {
         "name": "SellerG_Greg",
         "rawType": "bool",
         "type": "boolean"
        },
        {
         "name": "SellerG_Gunn&Co",
         "rawType": "bool",
         "type": "boolean"
        },
        {
         "name": "SellerG_H",
         "rawType": "bool",
         "type": "boolean"
        },
        {
         "name": "SellerG_HAR",
         "rawType": "bool",
         "type": "boolean"
        },
        {
         "name": "SellerG_Hall",
         "rawType": "bool",
         "type": "boolean"
        },
        {
         "name": "SellerG_Ham",
         "rawType": "bool",
         "type": "boolean"
        },
        {
         "name": "SellerG_Hamilton",
         "rawType": "bool",
         "type": "boolean"
        },
        {
         "name": "SellerG_Harcourts",
         "rawType": "bool",
         "type": "boolean"
        },
        {
         "name": "SellerG_Harrington",
         "rawType": "bool",
         "type": "boolean"
        },
        {
         "name": "SellerG_Haughton",
         "rawType": "bool",
         "type": "boolean"
        },
        {
         "name": "SellerG_Hayeswinckle",
         "rawType": "bool",
         "type": "boolean"
        },
        {
         "name": "SellerG_Hodges",
         "rawType": "bool",
         "type": "boolean"
        },
        {
         "name": "SellerG_Holland",
         "rawType": "bool",
         "type": "boolean"
        },
        {
         "name": "SellerG_Home",
         "rawType": "bool",
         "type": "boolean"
        },
        {
         "name": "SellerG_Homes",
         "rawType": "bool",
         "type": "boolean"
        },
        {
         "name": "SellerG_Hooper",
         "rawType": "bool",
         "type": "boolean"
        },
        {
         "name": "SellerG_Hoskins",
         "rawType": "bool",
         "type": "boolean"
        },
        {
         "name": "SellerG_Hunter",
         "rawType": "bool",
         "type": "boolean"
        },
        {
         "name": "SellerG_Icon",
         "rawType": "bool",
         "type": "boolean"
        },
        {
         "name": "SellerG_Iconek",
         "rawType": "bool",
         "type": "boolean"
        },
        {
         "name": "SellerG_J",
         "rawType": "bool",
         "type": "boolean"
        },
        {
         "name": "SellerG_JMRE",
         "rawType": "bool",
         "type": "boolean"
        },
        {
         "name": "SellerG_JRW",
         "rawType": "bool",
         "type": "boolean"
        },
        {
         "name": "SellerG_JY",
         "rawType": "bool",
         "type": "boolean"
        },
        {
         "name": "SellerG_Janice",
         "rawType": "bool",
         "type": "boolean"
        },
        {
         "name": "SellerG_Jas",
         "rawType": "bool",
         "type": "boolean"
        },
        {
         "name": "SellerG_Jason",
         "rawType": "bool",
         "type": "boolean"
        },
        {
         "name": "SellerG_Jellis",
         "rawType": "bool",
         "type": "boolean"
        },
        {
         "name": "SellerG_Jim",
         "rawType": "bool",
         "type": "boolean"
        },
        {
         "name": "SellerG_Joe",
         "rawType": "bool",
         "type": "boolean"
        },
        {
         "name": "SellerG_Johnston",
         "rawType": "bool",
         "type": "boolean"
        },
        {
         "name": "SellerG_Joseph",
         "rawType": "bool",
         "type": "boolean"
        },
        {
         "name": "SellerG_Just",
         "rawType": "bool",
         "type": "boolean"
        },
        {
         "name": "SellerG_Justin",
         "rawType": "bool",
         "type": "boolean"
        },
        {
         "name": "SellerG_K.R.Peters",
         "rawType": "bool",
         "type": "boolean"
        },
        {
         "name": "SellerG_Karen",
         "rawType": "bool",
         "type": "boolean"
        },
        {
         "name": "SellerG_Kay",
         "rawType": "bool",
         "type": "boolean"
        },
        {
         "name": "SellerG_Kaye",
         "rawType": "bool",
         "type": "boolean"
        },
        {
         "name": "SellerG_Keatings",
         "rawType": "bool",
         "type": "boolean"
        },
        {
         "name": "SellerG_Kelly",
         "rawType": "bool",
         "type": "boolean"
        },
        {
         "name": "SellerG_Ken",
         "rawType": "bool",
         "type": "boolean"
        },
        {
         "name": "SellerG_L",
         "rawType": "bool",
         "type": "boolean"
        },
        {
         "name": "SellerG_LITTLE",
         "rawType": "bool",
         "type": "boolean"
        },
        {
         "name": "SellerG_LJ",
         "rawType": "bool",
         "type": "boolean"
        },
        {
         "name": "SellerG_LJH",
         "rawType": "bool",
         "type": "boolean"
        },
        {
         "name": "SellerG_LLC",
         "rawType": "bool",
         "type": "boolean"
        },
        {
         "name": "SellerG_Langwell",
         "rawType": "bool",
         "type": "boolean"
        },
        {
         "name": "SellerG_Le",
         "rawType": "bool",
         "type": "boolean"
        },
        {
         "name": "SellerG_Leaders",
         "rawType": "bool",
         "type": "boolean"
        },
        {
         "name": "SellerG_Leading",
         "rawType": "bool",
         "type": "boolean"
        },
        {
         "name": "SellerG_Leased",
         "rawType": "bool",
         "type": "boolean"
        },
        {
         "name": "SellerG_Leeburn",
         "rawType": "bool",
         "type": "boolean"
        },
        {
         "name": "SellerG_Leyton",
         "rawType": "bool",
         "type": "boolean"
        },
        {
         "name": "SellerG_Lindellas",
         "rawType": "bool",
         "type": "boolean"
        },
        {
         "name": "SellerG_Love",
         "rawType": "bool",
         "type": "boolean"
        },
        {
         "name": "SellerG_Lucas",
         "rawType": "bool",
         "type": "boolean"
        },
        {
         "name": "SellerG_Luxe",
         "rawType": "bool",
         "type": "boolean"
        },
        {
         "name": "SellerG_Luxton",
         "rawType": "bool",
         "type": "boolean"
        },
        {
         "name": "SellerG_M.J",
         "rawType": "bool",
         "type": "boolean"
        },
        {
         "name": "SellerG_MICM",
         "rawType": "bool",
         "type": "boolean"
        },
        {
         "name": "SellerG_MJ",
         "rawType": "bool",
         "type": "boolean"
        },
        {
         "name": "SellerG_Maddison",
         "rawType": "bool",
         "type": "boolean"
        },
        {
         "name": "SellerG_Maitland",
         "rawType": "bool",
         "type": "boolean"
        },
        {
         "name": "SellerG_Mandy",
         "rawType": "bool",
         "type": "boolean"
        },
        {
         "name": "SellerG_Mark",
         "rawType": "bool",
         "type": "boolean"
        },
        {
         "name": "SellerG_Marshall",
         "rawType": "bool",
         "type": "boolean"
        },
        {
         "name": "SellerG_Mason",
         "rawType": "bool",
         "type": "boolean"
        },
        {
         "name": "SellerG_Matthew",
         "rawType": "bool",
         "type": "boolean"
        },
        {
         "name": "SellerG_Max",
         "rawType": "bool",
         "type": "boolean"
        },
        {
         "name": "SellerG_McDonald",
         "rawType": "bool",
         "type": "boolean"
        },
        {
         "name": "SellerG_McEwing",
         "rawType": "bool",
         "type": "boolean"
        },
        {
         "name": "SellerG_McGrath",
         "rawType": "bool",
         "type": "boolean"
        },
        {
         "name": "SellerG_McGrath/First",
         "rawType": "bool",
         "type": "boolean"
        },
        {
         "name": "SellerG_McGrath/Langwell",
         "rawType": "bool",
         "type": "boolean"
        },
        {
         "name": "SellerG_McLennan",
         "rawType": "bool",
         "type": "boolean"
        },
        {
         "name": "SellerG_McNaughton",
         "rawType": "bool",
         "type": "boolean"
        },
        {
         "name": "SellerG_Meadows",
         "rawType": "bool",
         "type": "boolean"
        },
        {
         "name": "SellerG_Meallin",
         "rawType": "bool",
         "type": "boolean"
        },
        {
         "name": "SellerG_Mega",
         "rawType": "bool",
         "type": "boolean"
        },
        {
         "name": "SellerG_Melbourne",
         "rawType": "bool",
         "type": "boolean"
        },
        {
         "name": "SellerG_Metro",
         "rawType": "bool",
         "type": "boolean"
        },
        {
         "name": "SellerG_Miles",
         "rawType": "bool",
         "type": "boolean"
        },
        {
         "name": "SellerG_Millership",
         "rawType": "bool",
         "type": "boolean"
        },
        {
         "name": "SellerG_Mindacom",
         "rawType": "bool",
         "type": "boolean"
        },
        {
         "name": "SellerG_Mitchell",
         "rawType": "bool",
         "type": "boolean"
        },
        {
         "name": "SellerG_Moonee",
         "rawType": "bool",
         "type": "boolean"
        },
        {
         "name": "SellerG_Morleys",
         "rawType": "bool",
         "type": "boolean"
        },
        {
         "name": "SellerG_Morrison",
         "rawType": "bool",
         "type": "boolean"
        },
        {
         "name": "SellerG_Munn",
         "rawType": "bool",
         "type": "boolean"
        },
        {
         "name": "SellerG_Naison",
         "rawType": "bool",
         "type": "boolean"
        },
        {
         "name": "SellerG_Nardella",
         "rawType": "bool",
         "type": "boolean"
        },
        {
         "name": "SellerG_Nelson",
         "rawType": "bool",
         "type": "boolean"
        },
        {
         "name": "SellerG_New",
         "rawType": "bool",
         "type": "boolean"
        },
        {
         "name": "SellerG_Nguyen",
         "rawType": "bool",
         "type": "boolean"
        },
        {
         "name": "SellerG_Nicholas",
         "rawType": "bool",
         "type": "boolean"
        },
        {
         "name": "SellerG_Nicholls",
         "rawType": "bool",
         "type": "boolean"
        },
        {
         "name": "SellerG_Nicholson",
         "rawType": "bool",
         "type": "boolean"
        },
        {
         "name": "SellerG_Nick",
         "rawType": "bool",
         "type": "boolean"
        },
        {
         "name": "SellerG_Noel",
         "rawType": "bool",
         "type": "boolean"
        },
        {
         "name": "SellerG_North",
         "rawType": "bool",
         "type": "boolean"
        },
        {
         "name": "SellerG_O'Brien",
         "rawType": "bool",
         "type": "boolean"
        },
        {
         "name": "SellerG_O'Donoghues",
         "rawType": "bool",
         "type": "boolean"
        },
        {
         "name": "SellerG_OBrien",
         "rawType": "bool",
         "type": "boolean"
        },
        {
         "name": "SellerG_Oak",
         "rawType": "bool",
         "type": "boolean"
        },
        {
         "name": "SellerG_Obrien",
         "rawType": "bool",
         "type": "boolean"
        },
        {
         "name": "SellerG_One",
         "rawType": "bool",
         "type": "boolean"
        },
        {
         "name": "SellerG_Only",
         "rawType": "bool",
         "type": "boolean"
        },
        {
         "name": "SellerG_Open",
         "rawType": "bool",
         "type": "boolean"
        },
        {
         "name": "SellerG_Oriental",
         "rawType": "bool",
         "type": "boolean"
        },
        {
         "name": "SellerG_Owen",
         "rawType": "bool",
         "type": "boolean"
        },
        {
         "name": "SellerG_P",
         "rawType": "bool",
         "type": "boolean"
        },
        {
         "name": "SellerG_PRD",
         "rawType": "bool",
         "type": "boolean"
        },
        {
         "name": "SellerG_PRDNationwide",
         "rawType": "bool",
         "type": "boolean"
        },
        {
         "name": "SellerG_PSP",
         "rawType": "bool",
         "type": "boolean"
        },
        {
         "name": "SellerG_Pagan",
         "rawType": "bool",
         "type": "boolean"
        },
        {
         "name": "SellerG_Parkes",
         "rawType": "bool",
         "type": "boolean"
        },
        {
         "name": "SellerG_Parkinson",
         "rawType": "bool",
         "type": "boolean"
        },
        {
         "name": "SellerG_Paul",
         "rawType": "bool",
         "type": "boolean"
        },
        {
         "name": "SellerG_Peake",
         "rawType": "bool",
         "type": "boolean"
        },
        {
         "name": "SellerG_People",
         "rawType": "bool",
         "type": "boolean"
        },
        {
         "name": "SellerG_Peter",
         "rawType": "bool",
         "type": "boolean"
        },
        {
         "name": "SellerG_Philip",
         "rawType": "bool",
         "type": "boolean"
        },
        {
         "name": "SellerG_Point",
         "rawType": "bool",
         "type": "boolean"
        },
        {
         "name": "SellerG_Pride",
         "rawType": "bool",
         "type": "boolean"
        },
        {
         "name": "SellerG_Prime",
         "rawType": "bool",
         "type": "boolean"
        },
        {
         "name": "SellerG_Private/Tiernan's",
         "rawType": "bool",
         "type": "boolean"
        },
        {
         "name": "SellerG_Prof.",
         "rawType": "bool",
         "type": "boolean"
        },
        {
         "name": "SellerG_Professionals",
         "rawType": "bool",
         "type": "boolean"
        },
        {
         "name": "SellerG_Property",
         "rawType": "bool",
         "type": "boolean"
        },
        {
         "name": "SellerG_Propertyau",
         "rawType": "bool",
         "type": "boolean"
        },
        {
         "name": "SellerG_Prowse",
         "rawType": "bool",
         "type": "boolean"
        },
        {
         "name": "SellerG_Purplebricks",
         "rawType": "bool",
         "type": "boolean"
        },
        {
         "name": "SellerG_Quinta",
         "rawType": "bool",
         "type": "boolean"
        },
        {
         "name": "SellerG_R&H",
         "rawType": "bool",
         "type": "boolean"
        },
        {
         "name": "SellerG_RE",
         "rawType": "bool",
         "type": "boolean"
        },
        {
         "name": "SellerG_REMAX",
         "rawType": "bool",
         "type": "boolean"
        },
        {
         "name": "SellerG_RT",
         "rawType": "bool",
         "type": "boolean"
        },
        {
         "name": "SellerG_RW",
         "rawType": "bool",
         "type": "boolean"
        },
        {
         "name": "SellerG_Raine",
         "rawType": "bool",
         "type": "boolean"
        },
        {
         "name": "SellerG_Raine&Horne",
         "rawType": "bool",
         "type": "boolean"
        },
        {
         "name": "SellerG_Ray",
         "rawType": "bool",
         "type": "boolean"
        },
        {
         "name": "SellerG_Re",
         "rawType": "bool",
         "type": "boolean"
        },
        {
         "name": "SellerG_Reach",
         "rawType": "bool",
         "type": "boolean"
        },
        {
         "name": "SellerG_Real",
         "rawType": "bool",
         "type": "boolean"
        },
        {
         "name": "SellerG_Red",
         "rawType": "bool",
         "type": "boolean"
        },
        {
         "name": "SellerG_Redina",
         "rawType": "bool",
         "type": "boolean"
        },
        {
         "name": "SellerG_Reed",
         "rawType": "bool",
         "type": "boolean"
        },
        {
         "name": "SellerG_Reliance",
         "rawType": "bool",
         "type": "boolean"
        },
        {
         "name": "SellerG_Rendina",
         "rawType": "bool",
         "type": "boolean"
        },
        {
         "name": "SellerG_Rexhepi",
         "rawType": "bool",
         "type": "boolean"
        },
        {
         "name": "SellerG_Ristic",
         "rawType": "bool",
         "type": "boolean"
        },
        {
         "name": "SellerG_Rodney",
         "rawType": "bool",
         "type": "boolean"
        },
        {
         "name": "SellerG_Roger",
         "rawType": "bool",
         "type": "boolean"
        },
        {
         "name": "SellerG_Rombotis",
         "rawType": "bool",
         "type": "boolean"
        },
        {
         "name": "SellerG_Rosin",
         "rawType": "bool",
         "type": "boolean"
        },
        {
         "name": "SellerG_Ross",
         "rawType": "bool",
         "type": "boolean"
        },
        {
         "name": "SellerG_Rounds",
         "rawType": "bool",
         "type": "boolean"
        },
        {
         "name": "SellerG_Ryder",
         "rawType": "bool",
         "type": "boolean"
        },
        {
         "name": "SellerG_S&L",
         "rawType": "bool",
         "type": "boolean"
        },
        {
         "name": "SellerG_SN",
         "rawType": "bool",
         "type": "boolean"
        },
        {
         "name": "SellerG_Sanctuary",
         "rawType": "bool",
         "type": "boolean"
        },
        {
         "name": "SellerG_Sandhurst",
         "rawType": "bool",
         "type": "boolean"
        },
        {
         "name": "SellerG_Schroeder",
         "rawType": "bool",
         "type": "boolean"
        },
        {
         "name": "SellerG_Scott",
         "rawType": "bool",
         "type": "boolean"
        },
        {
         "name": "SellerG_Sell",
         "rawType": "bool",
         "type": "boolean"
        },
        {
         "name": "SellerG_Shape",
         "rawType": "bool",
         "type": "boolean"
        },
        {
         "name": "SellerG_Skad",
         "rawType": "bool",
         "type": "boolean"
        },
        {
         "name": "SellerG_Smart",
         "rawType": "bool",
         "type": "boolean"
        },
        {
         "name": "SellerG_Sotheby's",
         "rawType": "bool",
         "type": "boolean"
        },
        {
         "name": "SellerG_Space",
         "rawType": "bool",
         "type": "boolean"
        },
        {
         "name": "SellerG_Spencer",
         "rawType": "bool",
         "type": "boolean"
        },
        {
         "name": "SellerG_Steller",
         "rawType": "bool",
         "type": "boolean"
        },
        {
         "name": "SellerG_Steveway",
         "rawType": "bool",
         "type": "boolean"
        },
        {
         "name": "SellerG_Stockdale",
         "rawType": "bool",
         "type": "boolean"
        },
        {
         "name": "SellerG_Surreal",
         "rawType": "bool",
         "type": "boolean"
        },
        {
         "name": "SellerG_Sweeney",
         "rawType": "bool",
         "type": "boolean"
        },
        {
         "name": "SellerG_Sweeney/Advantage",
         "rawType": "bool",
         "type": "boolean"
        },
        {
         "name": "SellerG_Sweeney/Burnham",
         "rawType": "bool",
         "type": "boolean"
        },
        {
         "name": "SellerG_T",
         "rawType": "bool",
         "type": "boolean"
        },
        {
         "name": "SellerG_TRUE",
         "rawType": "bool",
         "type": "boolean"
        },
        {
         "name": "SellerG_The",
         "rawType": "bool",
         "type": "boolean"
        },
        {
         "name": "SellerG_Thomas",
         "rawType": "bool",
         "type": "boolean"
        },
        {
         "name": "SellerG_Thomson",
         "rawType": "bool",
         "type": "boolean"
        },
        {
         "name": "SellerG_Tiernan's",
         "rawType": "bool",
         "type": "boolean"
        },
        {
         "name": "SellerG_Tim",
         "rawType": "bool",
         "type": "boolean"
        },
        {
         "name": "SellerG_Trimson",
         "rawType": "bool",
         "type": "boolean"
        },
        {
         "name": "SellerG_Triwest",
         "rawType": "bool",
         "type": "boolean"
        },
        {
         "name": "SellerG_U",
         "rawType": "bool",
         "type": "boolean"
        },
        {
         "name": "SellerG_Unity",
         "rawType": "bool",
         "type": "boolean"
        },
        {
         "name": "SellerG_Upper",
         "rawType": "bool",
         "type": "boolean"
        },
        {
         "name": "SellerG_Upside",
         "rawType": "bool",
         "type": "boolean"
        },
        {
         "name": "SellerG_VICPROP",
         "rawType": "bool",
         "type": "boolean"
        },
        {
         "name": "SellerG_VICProp",
         "rawType": "bool",
         "type": "boolean"
        },
        {
         "name": "SellerG_Veitch",
         "rawType": "bool",
         "type": "boolean"
        },
        {
         "name": "SellerG_Vic",
         "rawType": "bool",
         "type": "boolean"
        },
        {
         "name": "SellerG_VicHomes",
         "rawType": "bool",
         "type": "boolean"
        },
        {
         "name": "SellerG_Victory",
         "rawType": "bool",
         "type": "boolean"
        },
        {
         "name": "SellerG_Village",
         "rawType": "bool",
         "type": "boolean"
        },
        {
         "name": "SellerG_W.B.",
         "rawType": "bool",
         "type": "boolean"
        },
        {
         "name": "SellerG_WHITEFOX",
         "rawType": "bool",
         "type": "boolean"
        },
        {
         "name": "SellerG_Walsh",
         "rawType": "bool",
         "type": "boolean"
        },
        {
         "name": "SellerG_Walshe",
         "rawType": "bool",
         "type": "boolean"
        },
        {
         "name": "SellerG_Weast",
         "rawType": "bool",
         "type": "boolean"
        },
        {
         "name": "SellerG_Weda",
         "rawType": "bool",
         "type": "boolean"
        },
        {
         "name": "SellerG_Weston",
         "rawType": "bool",
         "type": "boolean"
        },
        {
         "name": "SellerG_Westside",
         "rawType": "bool",
         "type": "boolean"
        },
        {
         "name": "SellerG_White",
         "rawType": "bool",
         "type": "boolean"
        },
        {
         "name": "SellerG_Whiting",
         "rawType": "bool",
         "type": "boolean"
        },
        {
         "name": "SellerG_William",
         "rawType": "bool",
         "type": "boolean"
        },
        {
         "name": "SellerG_Williams",
         "rawType": "bool",
         "type": "boolean"
        },
        {
         "name": "SellerG_Wilson",
         "rawType": "bool",
         "type": "boolean"
        },
        {
         "name": "SellerG_Win",
         "rawType": "bool",
         "type": "boolean"
        },
        {
         "name": "SellerG_Wood",
         "rawType": "bool",
         "type": "boolean"
        },
        {
         "name": "SellerG_Woodards",
         "rawType": "bool",
         "type": "boolean"
        },
        {
         "name": "SellerG_Wyndham",
         "rawType": "bool",
         "type": "boolean"
        },
        {
         "name": "SellerG_Xynergy",
         "rawType": "bool",
         "type": "boolean"
        },
        {
         "name": "SellerG_YPA",
         "rawType": "bool",
         "type": "boolean"
        },
        {
         "name": "SellerG_Zahn",
         "rawType": "bool",
         "type": "boolean"
        },
        {
         "name": "SellerG_buyMyplace",
         "rawType": "bool",
         "type": "boolean"
        },
        {
         "name": "SellerG_hockingstuart",
         "rawType": "bool",
         "type": "boolean"
        },
        {
         "name": "SellerG_hockingstuart/Advantage",
         "rawType": "bool",
         "type": "boolean"
        },
        {
         "name": "SellerG_hockingstuart/Barry",
         "rawType": "bool",
         "type": "boolean"
        },
        {
         "name": "SellerG_hockingstuart/Biggin",
         "rawType": "bool",
         "type": "boolean"
        },
        {
         "name": "SellerG_hockingstuart/Buxton",
         "rawType": "bool",
         "type": "boolean"
        },
        {
         "name": "SellerG_hockingstuart/Harcourts",
         "rawType": "bool",
         "type": "boolean"
        },
        {
         "name": "SellerG_hockingstuart/Marshall",
         "rawType": "bool",
         "type": "boolean"
        },
        {
         "name": "SellerG_hockingstuart/Sweeney",
         "rawType": "bool",
         "type": "boolean"
        },
        {
         "name": "SellerG_hockingstuart/Village",
         "rawType": "bool",
         "type": "boolean"
        },
        {
         "name": "SellerG_hockingstuart/hockingstuart",
         "rawType": "bool",
         "type": "boolean"
        },
        {
         "name": "SellerG_iHomes",
         "rawType": "bool",
         "type": "boolean"
        },
        {
         "name": "SellerG_iOne",
         "rawType": "bool",
         "type": "boolean"
        },
        {
         "name": "SellerG_iProperty",
         "rawType": "bool",
         "type": "boolean"
        },
        {
         "name": "SellerG_iSell",
         "rawType": "bool",
         "type": "boolean"
        },
        {
         "name": "SellerG_iTRAK",
         "rawType": "bool",
         "type": "boolean"
        },
        {
         "name": "Regionname_Eastern Victoria",
         "rawType": "bool",
         "type": "boolean"
        },
        {
         "name": "Regionname_Northern Metropolitan",
         "rawType": "bool",
         "type": "boolean"
        },
        {
         "name": "Regionname_Northern Victoria",
         "rawType": "bool",
         "type": "boolean"
        },
        {
         "name": "Regionname_South-Eastern Metropolitan",
         "rawType": "bool",
         "type": "boolean"
        },
        {
         "name": "Regionname_Southern Metropolitan",
         "rawType": "bool",
         "type": "boolean"
        },
        {
         "name": "Regionname_Western Metropolitan",
         "rawType": "bool",
         "type": "boolean"
        },
        {
         "name": "Regionname_Western Victoria",
         "rawType": "bool",
         "type": "boolean"
        },
        {
         "name": "CouncilArea_Bayside City Council",
         "rawType": "bool",
         "type": "boolean"
        },
        {
         "name": "CouncilArea_Boroondara City Council",
         "rawType": "bool",
         "type": "boolean"
        },
        {
         "name": "CouncilArea_Brimbank City Council",
         "rawType": "bool",
         "type": "boolean"
        },
        {
         "name": "CouncilArea_Cardinia Shire Council",
         "rawType": "bool",
         "type": "boolean"
        },
        {
         "name": "CouncilArea_Casey City Council",
         "rawType": "bool",
         "type": "boolean"
        },
        {
         "name": "CouncilArea_Darebin City Council",
         "rawType": "bool",
         "type": "boolean"
        },
        {
         "name": "CouncilArea_Frankston City Council",
         "rawType": "bool",
         "type": "boolean"
        },
        {
         "name": "CouncilArea_Glen Eira City Council",
         "rawType": "bool",
         "type": "boolean"
        },
        {
         "name": "CouncilArea_Greater Dandenong City Council",
         "rawType": "bool",
         "type": "boolean"
        },
        {
         "name": "CouncilArea_Hobsons Bay City Council",
         "rawType": "bool",
         "type": "boolean"
        },
        {
         "name": "CouncilArea_Hume City Council",
         "rawType": "bool",
         "type": "boolean"
        },
        {
         "name": "CouncilArea_Kingston City Council",
         "rawType": "bool",
         "type": "boolean"
        },
        {
         "name": "CouncilArea_Knox City Council",
         "rawType": "bool",
         "type": "boolean"
        },
        {
         "name": "CouncilArea_Macedon Ranges Shire Council",
         "rawType": "bool",
         "type": "boolean"
        },
        {
         "name": "CouncilArea_Manningham City Council",
         "rawType": "bool",
         "type": "boolean"
        },
        {
         "name": "CouncilArea_Maribyrnong City Council",
         "rawType": "bool",
         "type": "boolean"
        },
        {
         "name": "CouncilArea_Maroondah City Council",
         "rawType": "bool",
         "type": "boolean"
        },
        {
         "name": "CouncilArea_Melbourne City Council",
         "rawType": "bool",
         "type": "boolean"
        },
        {
         "name": "CouncilArea_Melton City Council",
         "rawType": "bool",
         "type": "boolean"
        },
        {
         "name": "CouncilArea_Mitchell Shire Council",
         "rawType": "bool",
         "type": "boolean"
        },
        {
         "name": "CouncilArea_Monash City Council",
         "rawType": "bool",
         "type": "boolean"
        },
        {
         "name": "CouncilArea_Moonee Valley City Council",
         "rawType": "bool",
         "type": "boolean"
        },
        {
         "name": "CouncilArea_Moorabool Shire Council",
         "rawType": "bool",
         "type": "boolean"
        },
        {
         "name": "CouncilArea_Moreland City Council",
         "rawType": "bool",
         "type": "boolean"
        },
        {
         "name": "CouncilArea_Nillumbik Shire Council",
         "rawType": "bool",
         "type": "boolean"
        },
        {
         "name": "CouncilArea_Port Phillip City Council",
         "rawType": "bool",
         "type": "boolean"
        },
        {
         "name": "CouncilArea_Stonnington City Council",
         "rawType": "bool",
         "type": "boolean"
        },
        {
         "name": "CouncilArea_Whitehorse City Council",
         "rawType": "bool",
         "type": "boolean"
        },
        {
         "name": "CouncilArea_Whittlesea City Council",
         "rawType": "bool",
         "type": "boolean"
        },
        {
         "name": "CouncilArea_Wyndham City Council",
         "rawType": "bool",
         "type": "boolean"
        },
        {
         "name": "CouncilArea_Yarra City Council",
         "rawType": "bool",
         "type": "boolean"
        },
        {
         "name": "CouncilArea_Yarra Ranges Shire Council",
         "rawType": "bool",
         "type": "boolean"
        }
       ],
       "conversionMethod": "pd.DataFrame",
       "ref": "1e1ed7b0-74a3-430c-a392-07869687b04d",
       "rows": [
        [
         "2",
         "2",
         "4019.0",
         "2.5",
         "2.0",
         "1.0",
         "0.0",
         "156.0",
         "79.0",
         "1035000.0",
         "False",
         "False",
         "False",
         "False",
         "False",
         "False",
         "False",
         "False",
         "False",
         "False",
         "False",
         "False",
         "False",
         "False",
         "False",
         "False",
         "False",
         "False",
         "False",
         "False",
         "False",
         "False",
         "False",
         "False",
         "False",
         "False",
         "False",
         "False",
         "False",
         "False",
         "False",
         "False",
         "False",
         "False",
         "False",
         "False",
         "False",
         "False",
         "False",
         "False",
         "False",
         "False",
         "False",
         "False",
         "False",
         "False",
         "False",
         "False",
         "False",
         "False",
         "False",
         "False",
         "False",
         "False",
         "False",
         "False",
         "False",
         "False",
         "False",
         "False",
         "False",
         "False",
         "False",
         "False",
         "False",
         "False",
         "False",
         "False",
         "False",
         "False",
         "False",
         "False",
         "False",
         "False",
         "False",
         "False",
         "False",
         "False",
         "False",
         "False",
         "False",
         "False",
         "False",
         "False",
         "False",
         "False",
         "False",
         "False",
         "False",
         "False",
         "False",
         "False",
         "False",
         "False",
         "False",
         "False",
         "False",
         "False",
         "False",
         "False",
         "False",
         "False",
         "False",
         "False",
         "False",
         "False",
         "False",
         "False",
         "False",
         "False",
         "False",
         "False",
         "False",
         "False",
         "False",
         "False",
         "False",
         "False",
         "False",
         "False",
         "False",
         "False",
         "False",
         "False",
         "False",
         "False",
         "False",
         "False",
         "False",
         "False",
         "False",
         "False",
         "False",
         "False",
         "False",
         "False",
         "False",
         "False",
         "False",
         "False",
         "False",
         "False",
         "False",
         "False",
         "False",
         "False",
         "False",
         "False",
         "False",
         "False",
         "False",
         "False",
         "False",
         "False",
         "False",
         "False",
         "False",
         "False",
         "False",
         "False",
         "False",
         "False",
         "False",
         "False",
         "False",
         "False",
         "False",
         "False",
         "False",
         "False",
         "False",
         "False",
         "False",
         "False",
         "False",
         "False",
         "False",
         "False",
         "False",
         "False",
         "False",
         "False",
         "False",
         "False",
         "False",
         "False",
         "False",
         "False",
         "False",
         "False",
         "False",
         "False",
         "False",
         "False",
         "False",
         "False",
         "False",
         "False",
         "False",
         "False",
         "False",
         "False",
         "False",
         "False",
         "False",
         "False",
         "False",
         "False",
         "False",
         "False",
         "False",
         "False",
         "False",
         "False",
         "False",
         "False",
         "False",
         "False",
         "False",
         "False",
         "False",
         "False",
         "False",
         "False",
         "False",
         "False",
         "False",
         "False",
         "False",
         "False",
         "False",
         "False",
         "False",
         "False",
         "False",
         "False",
         "False",
         "False",
         "False",
         "False",
         "False",
         "False",
         "False",
         "False",
         "False",
         "False",
         "False",
         "False",
         "False",
         "False",
         "False",
         "False",
         "False",
         "False",
         "False",
         "False",
         "False",
         "False",
         "False",
         "False",
         "False",
         "False",
         "False",
         "False",
         "False",
         "False",
         "False",
         "False",
         "False",
         "False",
         "False",
         "False",
         "False",
         "False",
         "False",
         "False",
         "False",
         "False",
         "False",
         "False",
         "False",
         "False",
         "False",
         "False",
         "False",
         "False",
         "False",
         "False",
         "False",
         "False",
         "False",
         "False",
         "False",
         "False",
         "False",
         "False",
         "False",
         "False",
         "False",
         "False",
         "False",
         "False",
         "False",
         "False",
         "False",
         "False",
         "False",
         "False",
         "False",
         "False",
         "False",
         "False",
         "False",
         "False",
         "False",
         "False",
         "False",
         "False",
         "False",
         "False",
         "False",
         "False",
         "False",
         "False",
         "False",
         "False",
         "False",
         "False",
         "False",
         "False",
         "False",
         "False",
         "False",
         "False",
         "False",
         "False",
         "False",
         "False",
         "False",
         "False",
         "False",
         "False",
         "False",
         "False",
         "False",
         "False",
         "False",
         "False",
         "False",
         "False",
         "False",
         "False",
         "False",
         "False",
         "False",
         "False",
         "False",
         "False",
         "False",
         "False",
         "False",
         "False",
         "False",
         "False",
         "False",
         "False",
         "False",
         "False",
         "False",
         "False",
         "False",
         "False",
         "False",
         "False",
         "False",
         "False",
         "True",
         "False",
         "False",
         "False",
         "False",
         "False",
         "False",
         "False",
         "False",
         "False",
         "False",
         "False",
         "False",
         "False",
         "False",
         "False",
         "False",
         "False",
         "False",
         "False",
         "False",
         "False",
         "False",
         "False",
         "False",
         "False",
         "False",
         "False",
         "False",
         "False",
         "False",
         "False",
         "False",
         "False",
         "False",
         "False",
         "False",
         "False",
         "False",
         "False",
         "False",
         "False",
         "False",
         "False",
         "False",
         "False",
         "False",
         "False",
         "False",
         "False",
         "False",
         "False",
         "False",
         "False",
         "False",
         "False",
         "False",
         "False",
         "False",
         "False",
         "False",
         "False",
         "False",
         "False",
         "False",
         "False",
         "False",
         "False",
         "False",
         "False",
         "False",
         "False",
         "False",
         "False",
         "False",
         "False",
         "False",
         "False",
         "False",
         "False",
         "False",
         "False",
         "False",
         "False",
         "False",
         "False",
         "False",
         "False",
         "False",
         "False",
         "False",
         "False",
         "False",
         "False",
         "False",
         "False",
         "False",
         "False",
         "False",
         "False",
         "False",
         "False",
         "False",
         "False",
         "False",
         "False",
         "False",
         "False",
         "False",
         "False",
         "False",
         "False",
         "False",
         "False",
         "False",
         "False",
         "False",
         "False",
         "False",
         "False",
         "False",
         "False",
         "False",
         "False",
         "False",
         "False",
         "False",
         "False",
         "False",
         "False",
         "False",
         "False",
         "False",
         "False",
         "False",
         "False",
         "False",
         "False",
         "False",
         "False",
         "False",
         "False",
         "False",
         "False",
         "False",
         "False",
         "False",
         "False",
         "False",
         "False",
         "False",
         "False",
         "False",
         "False",
         "False",
         "False",
         "False",
         "False",
         "False",
         "False",
         "False",
         "False",
         "False",
         "False",
         "False",
         "False",
         "False",
         "False",
         "False",
         "False",
         "False",
         "False",
         "False",
         "False",
         "False",
         "False",
         "False",
         "False",
         "False",
         "False",
         "False",
         "False",
         "False",
         "False",
         "False",
         "False",
         "False",
         "False",
         "False",
         "False",
         "False",
         "False",
         "False",
         "False",
         "False",
         "False",
         "False",
         "False",
         "False",
         "False",
         "False",
         "False",
         "False",
         "False",
         "False",
         "False",
         "False",
         "False",
         "False",
         "False",
         "False",
         "False",
         "False",
         "False",
         "False",
         "False",
         "False",
         "False",
         "False",
         "False",
         "False",
         "False",
         "False",
         "False",
         "False",
         "False",
         "False",
         "False",
         "False",
         "False",
         "False",
         "False",
         "False",
         "False",
         "False",
         "False",
         "False",
         "False",
         "False",
         "False",
         "False",
         "False",
         "False",
         "False",
         "False",
         "False",
         "False",
         "False",
         "False",
         "False",
         "False",
         "False",
         "False",
         "False",
         "False",
         "False",
         "False",
         "False",
         "False",
         "False",
         "False",
         "False",
         "False",
         "False",
         "False",
         "False",
         "False",
         "False",
         "False",
         "False",
         "False",
         "False",
         "False",
         "False",
         "False",
         "False",
         "False",
         "False",
         "False",
         "False",
         "False",
         "False",
         "False",
         "False",
         "False",
         "False",
         "False",
         "False",
         "False",
         "False",
         "False",
         "False",
         "False",
         "False",
         "False",
         "False",
         "False",
         "False",
         "False",
         "False",
         "False",
         "False",
         "False",
         "False",
         "False",
         "False",
         "False",
         "False",
         "False",
         "False",
         "False",
         "False",
         "False",
         "False",
         "False",
         "False",
         "False",
         "False",
         "True",
         "False",
         "False",
         "False",
         "False",
         "False",
         "False",
         "False",
         "False",
         "False",
         "False",
         "False",
         "False",
         "False",
         "False",
         "False",
         "False",
         "False",
         "False",
         "False",
         "False",
         "False",
         "False",
         "False",
         "False",
         "False",
         "False",
         "False",
         "False",
         "False",
         "False",
         "False",
         "False",
         "False",
         "False",
         "False",
         "True",
         "False"
        ],
        [
         "4",
         "3",
         "4019.0",
         "2.5",
         "3.0",
         "2.0",
         "0.0",
         "134.0",
         "150.0",
         "1465000.0",
         "False",
         "False",
         "False",
         "False",
         "False",
         "False",
         "False",
         "False",
         "False",
         "False",
         "False",
         "False",
         "False",
         "False",
         "False",
         "False",
         "False",
         "False",
         "False",
         "False",
         "False",
         "False",
         "False",
         "False",
         "False",
         "False",
         "False",
         "False",
         "False",
         "False",
         "False",
         "False",
         "False",
         "False",
         "False",
         "False",
         "False",
         "False",
         "False",
         "False",
         "False",
         "False",
         "False",
         "False",
         "False",
         "False",
         "False",
         "False",
         "False",
         "False",
         "False",
         "False",
         "False",
         "False",
         "False",
         "False",
         "False",
         "False",
         "False",
         "False",
         "False",
         "False",
         "False",
         "False",
         "False",
         "False",
         "False",
         "False",
         "False",
         "False",
         "False",
         "False",
         "False",
         "False",
         "False",
         "False",
         "False",
         "False",
         "False",
         "False",
         "False",
         "False",
         "False",
         "False",
         "False",
         "False",
         "False",
         "False",
         "False",
         "False",
         "False",
         "False",
         "False",
         "False",
         "False",
         "False",
         "False",
         "False",
         "False",
         "False",
         "False",
         "False",
         "False",
         "False",
         "False",
         "False",
         "False",
         "False",
         "False",
         "False",
         "False",
         "False",
         "False",
         "False",
         "False",
         "False",
         "False",
         "False",
         "False",
         "False",
         "False",
         "False",
         "False",
         "False",
         "False",
         "False",
         "False",
         "False",
         "False",
         "False",
         "False",
         "False",
         "False",
         "False",
         "False",
         "False",
         "False",
         "False",
         "False",
         "False",
         "False",
         "False",
         "False",
         "False",
         "False",
         "False",
         "False",
         "False",
         "False",
         "False",
         "False",
         "False",
         "False",
         "False",
         "False",
         "False",
         "False",
         "False",
         "False",
         "False",
         "False",
         "False",
         "False",
         "False",
         "False",
         "False",
         "False",
         "False",
         "False",
         "False",
         "False",
         "False",
         "False",
         "False",
         "False",
         "False",
         "False",
         "False",
         "False",
         "False",
         "False",
         "False",
         "False",
         "False",
         "False",
         "False",
         "False",
         "False",
         "False",
         "False",
         "False",
         "False",
         "False",
         "False",
         "False",
         "False",
         "False",
         "False",
         "False",
         "False",
         "False",
         "False",
         "False",
         "False",
         "False",
         "False",
         "False",
         "False",
         "False",
         "False",
         "False",
         "False",
         "False",
         "False",
         "False",
         "False",
         "False",
         "False",
         "False",
         "False",
         "False",
         "False",
         "False",
         "False",
         "False",
         "False",
         "False",
         "False",
         "False",
         "False",
         "False",
         "False",
         "False",
         "False",
         "False",
         "False",
         "False",
         "False",
         "False",
         "False",
         "False",
         "False",
         "False",
         "False",
         "False",
         "False",
         "False",
         "False",
         "False",
         "False",
         "False",
         "False",
         "False",
         "False",
         "False",
         "False",
         "False",
         "False",
         "False",
         "False",
         "False",
         "False",
         "False",
         "False",
         "False",
         "False",
         "False",
         "False",
         "False",
         "False",
         "False",
         "False",
         "False",
         "False",
         "False",
         "False",
         "False",
         "False",
         "False",
         "False",
         "False",
         "False",
         "False",
         "False",
         "False",
         "False",
         "False",
         "False",
         "False",
         "False",
         "False",
         "False",
         "False",
         "False",
         "False",
         "False",
         "False",
         "False",
         "False",
         "False",
         "False",
         "False",
         "False",
         "False",
         "False",
         "False",
         "False",
         "False",
         "False",
         "False",
         "False",
         "False",
         "False",
         "False",
         "False",
         "False",
         "False",
         "False",
         "False",
         "False",
         "False",
         "False",
         "False",
         "False",
         "False",
         "False",
         "False",
         "False",
         "False",
         "False",
         "False",
         "False",
         "False",
         "False",
         "False",
         "False",
         "False",
         "False",
         "False",
         "False",
         "False",
         "False",
         "False",
         "False",
         "False",
         "False",
         "False",
         "False",
         "False",
         "False",
         "False",
         "False",
         "False",
         "False",
         "False",
         "False",
         "False",
         "False",
         "False",
         "False",
         "False",
         "False",
         "False",
         "False",
         "False",
         "False",
         "False",
         "False",
         "False",
         "False",
         "False",
         "False",
         "False",
         "False",
         "False",
         "False",
         "True",
         "False",
         "False",
         "False",
         "False",
         "False",
         "False",
         "False",
         "False",
         "False",
         "False",
         "False",
         "False",
         "False",
         "False",
         "False",
         "False",
         "False",
         "False",
         "False",
         "False",
         "False",
         "False",
         "False",
         "False",
         "False",
         "False",
         "False",
         "False",
         "False",
         "False",
         "False",
         "False",
         "False",
         "False",
         "False",
         "False",
         "False",
         "False",
         "False",
         "False",
         "False",
         "False",
         "False",
         "False",
         "False",
         "False",
         "False",
         "False",
         "False",
         "False",
         "False",
         "False",
         "False",
         "False",
         "False",
         "False",
         "False",
         "False",
         "False",
         "False",
         "False",
         "False",
         "False",
         "False",
         "False",
         "False",
         "False",
         "False",
         "False",
         "False",
         "False",
         "False",
         "False",
         "False",
         "False",
         "False",
         "False",
         "False",
         "False",
         "False",
         "False",
         "False",
         "False",
         "False",
         "False",
         "False",
         "False",
         "False",
         "False",
         "False",
         "False",
         "False",
         "False",
         "False",
         "False",
         "False",
         "False",
         "False",
         "False",
         "False",
         "False",
         "False",
         "False",
         "False",
         "False",
         "False",
         "False",
         "False",
         "False",
         "False",
         "False",
         "False",
         "False",
         "False",
         "False",
         "False",
         "False",
         "False",
         "False",
         "False",
         "False",
         "False",
         "False",
         "False",
         "False",
         "False",
         "False",
         "False",
         "False",
         "False",
         "False",
         "False",
         "False",
         "False",
         "False",
         "False",
         "False",
         "False",
         "False",
         "False",
         "False",
         "False",
         "False",
         "False",
         "False",
         "False",
         "False",
         "False",
         "False",
         "False",
         "False",
         "False",
         "False",
         "False",
         "False",
         "False",
         "False",
         "False",
         "False",
         "False",
         "False",
         "False",
         "False",
         "False",
         "False",
         "False",
         "False",
         "False",
         "False",
         "False",
         "False",
         "False",
         "False",
         "False",
         "False",
         "False",
         "False",
         "False",
         "False",
         "False",
         "False",
         "False",
         "False",
         "False",
         "False",
         "False",
         "False",
         "False",
         "False",
         "False",
         "False",
         "False",
         "False",
         "False",
         "False",
         "False",
         "False",
         "False",
         "False",
         "False",
         "False",
         "False",
         "False",
         "False",
         "False",
         "False",
         "False",
         "False",
         "False",
         "False",
         "False",
         "False",
         "False",
         "False",
         "False",
         "False",
         "False",
         "False",
         "False",
         "False",
         "False",
         "False",
         "False",
         "False",
         "False",
         "False",
         "False",
         "False",
         "False",
         "False",
         "False",
         "False",
         "False",
         "False",
         "False",
         "False",
         "False",
         "False",
         "False",
         "False",
         "False",
         "False",
         "False",
         "False",
         "False",
         "False",
         "False",
         "False",
         "False",
         "False",
         "False",
         "False",
         "False",
         "False",
         "False",
         "False",
         "False",
         "False",
         "False",
         "False",
         "False",
         "False",
         "False",
         "False",
         "False",
         "False",
         "False",
         "False",
         "False",
         "False",
         "False",
         "False",
         "False",
         "False",
         "False",
         "False",
         "False",
         "False",
         "False",
         "False",
         "False",
         "False",
         "False",
         "False",
         "False",
         "False",
         "False",
         "False",
         "False",
         "False",
         "False",
         "False",
         "False",
         "False",
         "False",
         "False",
         "False",
         "False",
         "False",
         "False",
         "False",
         "False",
         "False",
         "False",
         "False",
         "False",
         "False",
         "False",
         "False",
         "False",
         "False",
         "False",
         "False",
         "False",
         "False",
         "False",
         "False",
         "True",
         "False",
         "False",
         "False",
         "False",
         "False",
         "False",
         "False",
         "False",
         "False",
         "False",
         "False",
         "False",
         "False",
         "False",
         "False",
         "False",
         "False",
         "False",
         "False",
         "False",
         "False",
         "False",
         "False",
         "False",
         "False",
         "False",
         "False",
         "False",
         "False",
         "False",
         "False",
         "False",
         "False",
         "False",
         "False",
         "True",
         "False"
        ]
       ],
       "shape": {
        "columns": 741,
        "rows": 2
       }
      },
      "text/html": [
       "<div>\n",
       "<style scoped>\n",
       "    .dataframe tbody tr th:only-of-type {\n",
       "        vertical-align: middle;\n",
       "    }\n",
       "\n",
       "    .dataframe tbody tr th {\n",
       "        vertical-align: top;\n",
       "    }\n",
       "\n",
       "    .dataframe thead th {\n",
       "        text-align: right;\n",
       "    }\n",
       "</style>\n",
       "<table border=\"1\" class=\"dataframe\">\n",
       "  <thead>\n",
       "    <tr style=\"text-align: right;\">\n",
       "      <th></th>\n",
       "      <th>Rooms</th>\n",
       "      <th>Propertycount</th>\n",
       "      <th>Distance</th>\n",
       "      <th>Bedroom2</th>\n",
       "      <th>Bathroom</th>\n",
       "      <th>Car</th>\n",
       "      <th>Landsize</th>\n",
       "      <th>BuildingArea</th>\n",
       "      <th>Price</th>\n",
       "      <th>Suburb_Aberfeldie</th>\n",
       "      <th>...</th>\n",
       "      <th>CouncilArea_Moorabool Shire Council</th>\n",
       "      <th>CouncilArea_Moreland City Council</th>\n",
       "      <th>CouncilArea_Nillumbik Shire Council</th>\n",
       "      <th>CouncilArea_Port Phillip City Council</th>\n",
       "      <th>CouncilArea_Stonnington City Council</th>\n",
       "      <th>CouncilArea_Whitehorse City Council</th>\n",
       "      <th>CouncilArea_Whittlesea City Council</th>\n",
       "      <th>CouncilArea_Wyndham City Council</th>\n",
       "      <th>CouncilArea_Yarra City Council</th>\n",
       "      <th>CouncilArea_Yarra Ranges Shire Council</th>\n",
       "    </tr>\n",
       "  </thead>\n",
       "  <tbody>\n",
       "    <tr>\n",
       "      <th>2</th>\n",
       "      <td>2</td>\n",
       "      <td>4019.0</td>\n",
       "      <td>2.5</td>\n",
       "      <td>2.0</td>\n",
       "      <td>1.0</td>\n",
       "      <td>0.0</td>\n",
       "      <td>156.0</td>\n",
       "      <td>79.0</td>\n",
       "      <td>1035000.0</td>\n",
       "      <td>False</td>\n",
       "      <td>...</td>\n",
       "      <td>False</td>\n",
       "      <td>False</td>\n",
       "      <td>False</td>\n",
       "      <td>False</td>\n",
       "      <td>False</td>\n",
       "      <td>False</td>\n",
       "      <td>False</td>\n",
       "      <td>False</td>\n",
       "      <td>True</td>\n",
       "      <td>False</td>\n",
       "    </tr>\n",
       "    <tr>\n",
       "      <th>4</th>\n",
       "      <td>3</td>\n",
       "      <td>4019.0</td>\n",
       "      <td>2.5</td>\n",
       "      <td>3.0</td>\n",
       "      <td>2.0</td>\n",
       "      <td>0.0</td>\n",
       "      <td>134.0</td>\n",
       "      <td>150.0</td>\n",
       "      <td>1465000.0</td>\n",
       "      <td>False</td>\n",
       "      <td>...</td>\n",
       "      <td>False</td>\n",
       "      <td>False</td>\n",
       "      <td>False</td>\n",
       "      <td>False</td>\n",
       "      <td>False</td>\n",
       "      <td>False</td>\n",
       "      <td>False</td>\n",
       "      <td>False</td>\n",
       "      <td>True</td>\n",
       "      <td>False</td>\n",
       "    </tr>\n",
       "  </tbody>\n",
       "</table>\n",
       "<p>2 rows × 741 columns</p>\n",
       "</div>"
      ],
      "text/plain": [
       "   Rooms  Propertycount  Distance  Bedroom2  Bathroom  Car  Landsize  \\\n",
       "2      2         4019.0       2.5       2.0       1.0  0.0     156.0   \n",
       "4      3         4019.0       2.5       3.0       2.0  0.0     134.0   \n",
       "\n",
       "   BuildingArea      Price  Suburb_Aberfeldie  ...  \\\n",
       "2          79.0  1035000.0              False  ...   \n",
       "4         150.0  1465000.0              False  ...   \n",
       "\n",
       "   CouncilArea_Moorabool Shire Council  CouncilArea_Moreland City Council  \\\n",
       "2                                False                              False   \n",
       "4                                False                              False   \n",
       "\n",
       "   CouncilArea_Nillumbik Shire Council  CouncilArea_Port Phillip City Council  \\\n",
       "2                                False                                  False   \n",
       "4                                False                                  False   \n",
       "\n",
       "   CouncilArea_Stonnington City Council  CouncilArea_Whitehorse City Council  \\\n",
       "2                                 False                                False   \n",
       "4                                 False                                False   \n",
       "\n",
       "   CouncilArea_Whittlesea City Council  CouncilArea_Wyndham City Council  \\\n",
       "2                                False                             False   \n",
       "4                                False                             False   \n",
       "\n",
       "   CouncilArea_Yarra City Council  CouncilArea_Yarra Ranges Shire Council  \n",
       "2                            True                                   False  \n",
       "4                            True                                   False  \n",
       "\n",
       "[2 rows x 741 columns]"
      ]
     },
     "execution_count": 57,
     "metadata": {},
     "output_type": "execute_result"
    }
   ],
   "source": [
    "dataset.iloc[1:3]"
   ]
  },
  {
   "cell_type": "code",
   "execution_count": 66,
   "id": "b707217e",
   "metadata": {},
   "outputs": [
    {
     "data": {
      "text/plain": [
       "1        2.0\n",
       "2        2.0\n",
       "4        3.0\n",
       "5        3.0\n",
       "6        3.0\n",
       "        ... \n",
       "34852    4.0\n",
       "34853    2.0\n",
       "34854    2.0\n",
       "34855    0.0\n",
       "34856    2.0\n",
       "Name: Bedroom2, Length: 27244, dtype: float64"
      ]
     },
     "execution_count": 66,
     "metadata": {},
     "output_type": "execute_result"
    }
   ],
   "source": [
    "dataset.iloc[:,3]"
   ]
  },
  {
   "cell_type": "code",
   "execution_count": 59,
   "id": "cc4f2976",
   "metadata": {},
   "outputs": [
    {
     "data": {
      "application/vnd.microsoft.datawrangler.viewer.v0+json": {
       "columns": [
        {
         "name": "index",
         "rawType": "int64",
         "type": "integer"
        },
        {
         "name": "Rooms",
         "rawType": "int64",
         "type": "integer"
        },
        {
         "name": "Propertycount",
         "rawType": "float64",
         "type": "float"
        },
        {
         "name": "Distance",
         "rawType": "float64",
         "type": "float"
        },
        {
         "name": "Bedroom2",
         "rawType": "float64",
         "type": "float"
        },
        {
         "name": "Bathroom",
         "rawType": "float64",
         "type": "float"
        },
        {
         "name": "Car",
         "rawType": "float64",
         "type": "float"
        },
        {
         "name": "Landsize",
         "rawType": "float64",
         "type": "float"
        },
        {
         "name": "BuildingArea",
         "rawType": "float64",
         "type": "float"
        },
        {
         "name": "Price",
         "rawType": "float64",
         "type": "float"
        },
        {
         "name": "Suburb_Aberfeldie",
         "rawType": "bool",
         "type": "boolean"
        },
        {
         "name": "Suburb_Airport West",
         "rawType": "bool",
         "type": "boolean"
        },
        {
         "name": "Suburb_Albanvale",
         "rawType": "bool",
         "type": "boolean"
        },
        {
         "name": "Suburb_Albert Park",
         "rawType": "bool",
         "type": "boolean"
        },
        {
         "name": "Suburb_Albion",
         "rawType": "bool",
         "type": "boolean"
        },
        {
         "name": "Suburb_Alphington",
         "rawType": "bool",
         "type": "boolean"
        },
        {
         "name": "Suburb_Altona",
         "rawType": "bool",
         "type": "boolean"
        },
        {
         "name": "Suburb_Altona Meadows",
         "rawType": "bool",
         "type": "boolean"
        },
        {
         "name": "Suburb_Altona North",
         "rawType": "bool",
         "type": "boolean"
        },
        {
         "name": "Suburb_Ardeer",
         "rawType": "bool",
         "type": "boolean"
        },
        {
         "name": "Suburb_Armadale",
         "rawType": "bool",
         "type": "boolean"
        },
        {
         "name": "Suburb_Ascot Vale",
         "rawType": "bool",
         "type": "boolean"
        },
        {
         "name": "Suburb_Ashburton",
         "rawType": "bool",
         "type": "boolean"
        },
        {
         "name": "Suburb_Ashwood",
         "rawType": "bool",
         "type": "boolean"
        },
        {
         "name": "Suburb_Aspendale",
         "rawType": "bool",
         "type": "boolean"
        },
        {
         "name": "Suburb_Aspendale Gardens",
         "rawType": "bool",
         "type": "boolean"
        },
        {
         "name": "Suburb_Attwood",
         "rawType": "bool",
         "type": "boolean"
        },
        {
         "name": "Suburb_Avondale Heights",
         "rawType": "bool",
         "type": "boolean"
        },
        {
         "name": "Suburb_Bacchus Marsh",
         "rawType": "bool",
         "type": "boolean"
        },
        {
         "name": "Suburb_Balaclava",
         "rawType": "bool",
         "type": "boolean"
        },
        {
         "name": "Suburb_Balwyn",
         "rawType": "bool",
         "type": "boolean"
        },
        {
         "name": "Suburb_Balwyn North",
         "rawType": "bool",
         "type": "boolean"
        },
        {
         "name": "Suburb_Bayswater",
         "rawType": "bool",
         "type": "boolean"
        },
        {
         "name": "Suburb_Bayswater North",
         "rawType": "bool",
         "type": "boolean"
        },
        {
         "name": "Suburb_Beaconsfield",
         "rawType": "bool",
         "type": "boolean"
        },
        {
         "name": "Suburb_Beaconsfield Upper",
         "rawType": "bool",
         "type": "boolean"
        },
        {
         "name": "Suburb_Beaumaris",
         "rawType": "bool",
         "type": "boolean"
        },
        {
         "name": "Suburb_Bellfield",
         "rawType": "bool",
         "type": "boolean"
        },
        {
         "name": "Suburb_Bentleigh",
         "rawType": "bool",
         "type": "boolean"
        },
        {
         "name": "Suburb_Bentleigh East",
         "rawType": "bool",
         "type": "boolean"
        },
        {
         "name": "Suburb_Berwick",
         "rawType": "bool",
         "type": "boolean"
        },
        {
         "name": "Suburb_Black Rock",
         "rawType": "bool",
         "type": "boolean"
        },
        {
         "name": "Suburb_Blackburn",
         "rawType": "bool",
         "type": "boolean"
        },
        {
         "name": "Suburb_Blackburn North",
         "rawType": "bool",
         "type": "boolean"
        },
        {
         "name": "Suburb_Blackburn South",
         "rawType": "bool",
         "type": "boolean"
        },
        {
         "name": "Suburb_Bonbeach",
         "rawType": "bool",
         "type": "boolean"
        },
        {
         "name": "Suburb_Boronia",
         "rawType": "bool",
         "type": "boolean"
        },
        {
         "name": "Suburb_Botanic Ridge",
         "rawType": "bool",
         "type": "boolean"
        },
        {
         "name": "Suburb_Box Hill",
         "rawType": "bool",
         "type": "boolean"
        },
        {
         "name": "Suburb_Braybrook",
         "rawType": "bool",
         "type": "boolean"
        },
        {
         "name": "Suburb_Briar Hill",
         "rawType": "bool",
         "type": "boolean"
        },
        {
         "name": "Suburb_Brighton",
         "rawType": "bool",
         "type": "boolean"
        },
        {
         "name": "Suburb_Brighton East",
         "rawType": "bool",
         "type": "boolean"
        },
        {
         "name": "Suburb_Broadmeadows",
         "rawType": "bool",
         "type": "boolean"
        },
        {
         "name": "Suburb_Brookfield",
         "rawType": "bool",
         "type": "boolean"
        },
        {
         "name": "Suburb_Brooklyn",
         "rawType": "bool",
         "type": "boolean"
        },
        {
         "name": "Suburb_Brunswick",
         "rawType": "bool",
         "type": "boolean"
        },
        {
         "name": "Suburb_Brunswick East",
         "rawType": "bool",
         "type": "boolean"
        },
        {
         "name": "Suburb_Brunswick West",
         "rawType": "bool",
         "type": "boolean"
        },
        {
         "name": "Suburb_Bulla",
         "rawType": "bool",
         "type": "boolean"
        },
        {
         "name": "Suburb_Bulleen",
         "rawType": "bool",
         "type": "boolean"
        },
        {
         "name": "Suburb_Bullengarook",
         "rawType": "bool",
         "type": "boolean"
        },
        {
         "name": "Suburb_Bundoora",
         "rawType": "bool",
         "type": "boolean"
        },
        {
         "name": "Suburb_Burnley",
         "rawType": "bool",
         "type": "boolean"
        },
        {
         "name": "Suburb_Burnside",
         "rawType": "bool",
         "type": "boolean"
        },
        {
         "name": "Suburb_Burnside Heights",
         "rawType": "bool",
         "type": "boolean"
        },
        {
         "name": "Suburb_Burwood",
         "rawType": "bool",
         "type": "boolean"
        },
        {
         "name": "Suburb_Burwood East",
         "rawType": "bool",
         "type": "boolean"
        },
        {
         "name": "Suburb_Cairnlea",
         "rawType": "bool",
         "type": "boolean"
        },
        {
         "name": "Suburb_Camberwell",
         "rawType": "bool",
         "type": "boolean"
        },
        {
         "name": "Suburb_Campbellfield",
         "rawType": "bool",
         "type": "boolean"
        },
        {
         "name": "Suburb_Canterbury",
         "rawType": "bool",
         "type": "boolean"
        },
        {
         "name": "Suburb_Carlton",
         "rawType": "bool",
         "type": "boolean"
        },
        {
         "name": "Suburb_Carlton North",
         "rawType": "bool",
         "type": "boolean"
        },
        {
         "name": "Suburb_Carnegie",
         "rawType": "bool",
         "type": "boolean"
        },
        {
         "name": "Suburb_Caroline Springs",
         "rawType": "bool",
         "type": "boolean"
        },
        {
         "name": "Suburb_Carrum",
         "rawType": "bool",
         "type": "boolean"
        },
        {
         "name": "Suburb_Carrum Downs",
         "rawType": "bool",
         "type": "boolean"
        },
        {
         "name": "Suburb_Caulfield",
         "rawType": "bool",
         "type": "boolean"
        },
        {
         "name": "Suburb_Caulfield East",
         "rawType": "bool",
         "type": "boolean"
        },
        {
         "name": "Suburb_Caulfield North",
         "rawType": "bool",
         "type": "boolean"
        },
        {
         "name": "Suburb_Caulfield South",
         "rawType": "bool",
         "type": "boolean"
        },
        {
         "name": "Suburb_Chadstone",
         "rawType": "bool",
         "type": "boolean"
        },
        {
         "name": "Suburb_Chelsea",
         "rawType": "bool",
         "type": "boolean"
        },
        {
         "name": "Suburb_Chelsea Heights",
         "rawType": "bool",
         "type": "boolean"
        },
        {
         "name": "Suburb_Cheltenham",
         "rawType": "bool",
         "type": "boolean"
        },
        {
         "name": "Suburb_Chirnside Park",
         "rawType": "bool",
         "type": "boolean"
        },
        {
         "name": "Suburb_Clarinda",
         "rawType": "bool",
         "type": "boolean"
        },
        {
         "name": "Suburb_Clayton",
         "rawType": "bool",
         "type": "boolean"
        },
        {
         "name": "Suburb_Clayton South",
         "rawType": "bool",
         "type": "boolean"
        },
        {
         "name": "Suburb_Clifton Hill",
         "rawType": "bool",
         "type": "boolean"
        },
        {
         "name": "Suburb_Clyde North",
         "rawType": "bool",
         "type": "boolean"
        },
        {
         "name": "Suburb_Coburg",
         "rawType": "bool",
         "type": "boolean"
        },
        {
         "name": "Suburb_Coburg North",
         "rawType": "bool",
         "type": "boolean"
        },
        {
         "name": "Suburb_Coldstream",
         "rawType": "bool",
         "type": "boolean"
        },
        {
         "name": "Suburb_Collingwood",
         "rawType": "bool",
         "type": "boolean"
        },
        {
         "name": "Suburb_Coolaroo",
         "rawType": "bool",
         "type": "boolean"
        },
        {
         "name": "Suburb_Craigieburn",
         "rawType": "bool",
         "type": "boolean"
        },
        {
         "name": "Suburb_Cranbourne",
         "rawType": "bool",
         "type": "boolean"
        },
        {
         "name": "Suburb_Cranbourne East",
         "rawType": "bool",
         "type": "boolean"
        },
        {
         "name": "Suburb_Cranbourne North",
         "rawType": "bool",
         "type": "boolean"
        },
        {
         "name": "Suburb_Cranbourne West",
         "rawType": "bool",
         "type": "boolean"
        },
        {
         "name": "Suburb_Cremorne",
         "rawType": "bool",
         "type": "boolean"
        },
        {
         "name": "Suburb_Croydon",
         "rawType": "bool",
         "type": "boolean"
        },
        {
         "name": "Suburb_Croydon Hills",
         "rawType": "bool",
         "type": "boolean"
        },
        {
         "name": "Suburb_Croydon North",
         "rawType": "bool",
         "type": "boolean"
        },
        {
         "name": "Suburb_Croydon South",
         "rawType": "bool",
         "type": "boolean"
        },
        {
         "name": "Suburb_Dallas",
         "rawType": "bool",
         "type": "boolean"
        },
        {
         "name": "Suburb_Dandenong",
         "rawType": "bool",
         "type": "boolean"
        },
        {
         "name": "Suburb_Dandenong North",
         "rawType": "bool",
         "type": "boolean"
        },
        {
         "name": "Suburb_Darley",
         "rawType": "bool",
         "type": "boolean"
        },
        {
         "name": "Suburb_Deepdene",
         "rawType": "bool",
         "type": "boolean"
        },
        {
         "name": "Suburb_Deer Park",
         "rawType": "bool",
         "type": "boolean"
        },
        {
         "name": "Suburb_Delahey",
         "rawType": "bool",
         "type": "boolean"
        },
        {
         "name": "Suburb_Derrimut",
         "rawType": "bool",
         "type": "boolean"
        },
        {
         "name": "Suburb_Diamond Creek",
         "rawType": "bool",
         "type": "boolean"
        },
        {
         "name": "Suburb_Diggers Rest",
         "rawType": "bool",
         "type": "boolean"
        },
        {
         "name": "Suburb_Dingley Village",
         "rawType": "bool",
         "type": "boolean"
        },
        {
         "name": "Suburb_Docklands",
         "rawType": "bool",
         "type": "boolean"
        },
        {
         "name": "Suburb_Doncaster",
         "rawType": "bool",
         "type": "boolean"
        },
        {
         "name": "Suburb_Doncaster East",
         "rawType": "bool",
         "type": "boolean"
        },
        {
         "name": "Suburb_Donvale",
         "rawType": "bool",
         "type": "boolean"
        },
        {
         "name": "Suburb_Doreen",
         "rawType": "bool",
         "type": "boolean"
        },
        {
         "name": "Suburb_Doveton",
         "rawType": "bool",
         "type": "boolean"
        },
        {
         "name": "Suburb_Eaglemont",
         "rawType": "bool",
         "type": "boolean"
        },
        {
         "name": "Suburb_East Melbourne",
         "rawType": "bool",
         "type": "boolean"
        },
        {
         "name": "Suburb_Edithvale",
         "rawType": "bool",
         "type": "boolean"
        },
        {
         "name": "Suburb_Elsternwick",
         "rawType": "bool",
         "type": "boolean"
        },
        {
         "name": "Suburb_Eltham",
         "rawType": "bool",
         "type": "boolean"
        },
        {
         "name": "Suburb_Eltham North",
         "rawType": "bool",
         "type": "boolean"
        },
        {
         "name": "Suburb_Elwood",
         "rawType": "bool",
         "type": "boolean"
        },
        {
         "name": "Suburb_Emerald",
         "rawType": "bool",
         "type": "boolean"
        },
        {
         "name": "Suburb_Endeavour Hills",
         "rawType": "bool",
         "type": "boolean"
        },
        {
         "name": "Suburb_Epping",
         "rawType": "bool",
         "type": "boolean"
        },
        {
         "name": "Suburb_Essendon",
         "rawType": "bool",
         "type": "boolean"
        },
        {
         "name": "Suburb_Essendon North",
         "rawType": "bool",
         "type": "boolean"
        },
        {
         "name": "Suburb_Essendon West",
         "rawType": "bool",
         "type": "boolean"
        },
        {
         "name": "Suburb_Eumemmerring",
         "rawType": "bool",
         "type": "boolean"
        },
        {
         "name": "Suburb_Eynesbury",
         "rawType": "bool",
         "type": "boolean"
        },
        {
         "name": "Suburb_Fairfield",
         "rawType": "bool",
         "type": "boolean"
        },
        {
         "name": "Suburb_Fawkner",
         "rawType": "bool",
         "type": "boolean"
        },
        {
         "name": "Suburb_Ferntree Gully",
         "rawType": "bool",
         "type": "boolean"
        },
        {
         "name": "Suburb_Ferny Creek",
         "rawType": "bool",
         "type": "boolean"
        },
        {
         "name": "Suburb_Fitzroy",
         "rawType": "bool",
         "type": "boolean"
        },
        {
         "name": "Suburb_Fitzroy North",
         "rawType": "bool",
         "type": "boolean"
        },
        {
         "name": "Suburb_Flemington",
         "rawType": "bool",
         "type": "boolean"
        },
        {
         "name": "Suburb_Footscray",
         "rawType": "bool",
         "type": "boolean"
        },
        {
         "name": "Suburb_Forest Hill",
         "rawType": "bool",
         "type": "boolean"
        },
        {
         "name": "Suburb_Frankston",
         "rawType": "bool",
         "type": "boolean"
        },
        {
         "name": "Suburb_Frankston North",
         "rawType": "bool",
         "type": "boolean"
        },
        {
         "name": "Suburb_Frankston South",
         "rawType": "bool",
         "type": "boolean"
        },
        {
         "name": "Suburb_Gardenvale",
         "rawType": "bool",
         "type": "boolean"
        },
        {
         "name": "Suburb_Gisborne",
         "rawType": "bool",
         "type": "boolean"
        },
        {
         "name": "Suburb_Gisborne South",
         "rawType": "bool",
         "type": "boolean"
        },
        {
         "name": "Suburb_Gladstone Park",
         "rawType": "bool",
         "type": "boolean"
        },
        {
         "name": "Suburb_Glen Huntly",
         "rawType": "bool",
         "type": "boolean"
        },
        {
         "name": "Suburb_Glen Iris",
         "rawType": "bool",
         "type": "boolean"
        },
        {
         "name": "Suburb_Glen Waverley",
         "rawType": "bool",
         "type": "boolean"
        },
        {
         "name": "Suburb_Glenroy",
         "rawType": "bool",
         "type": "boolean"
        },
        {
         "name": "Suburb_Gowanbrae",
         "rawType": "bool",
         "type": "boolean"
        },
        {
         "name": "Suburb_Greensborough",
         "rawType": "bool",
         "type": "boolean"
        },
        {
         "name": "Suburb_Greenvale",
         "rawType": "bool",
         "type": "boolean"
        },
        {
         "name": "Suburb_Hadfield",
         "rawType": "bool",
         "type": "boolean"
        },
        {
         "name": "Suburb_Hallam",
         "rawType": "bool",
         "type": "boolean"
        },
        {
         "name": "Suburb_Hampton",
         "rawType": "bool",
         "type": "boolean"
        },
        {
         "name": "Suburb_Hampton East",
         "rawType": "bool",
         "type": "boolean"
        },
        {
         "name": "Suburb_Hampton Park",
         "rawType": "bool",
         "type": "boolean"
        },
        {
         "name": "Suburb_Hawthorn",
         "rawType": "bool",
         "type": "boolean"
        },
        {
         "name": "Suburb_Hawthorn East",
         "rawType": "bool",
         "type": "boolean"
        },
        {
         "name": "Suburb_Healesville",
         "rawType": "bool",
         "type": "boolean"
        },
        {
         "name": "Suburb_Heatherton",
         "rawType": "bool",
         "type": "boolean"
        },
        {
         "name": "Suburb_Heathmont",
         "rawType": "bool",
         "type": "boolean"
        },
        {
         "name": "Suburb_Heidelberg",
         "rawType": "bool",
         "type": "boolean"
        },
        {
         "name": "Suburb_Heidelberg Heights",
         "rawType": "bool",
         "type": "boolean"
        },
        {
         "name": "Suburb_Heidelberg West",
         "rawType": "bool",
         "type": "boolean"
        },
        {
         "name": "Suburb_Highett",
         "rawType": "bool",
         "type": "boolean"
        },
        {
         "name": "Suburb_Hillside",
         "rawType": "bool",
         "type": "boolean"
        },
        {
         "name": "Suburb_Hoppers Crossing",
         "rawType": "bool",
         "type": "boolean"
        },
        {
         "name": "Suburb_Hughesdale",
         "rawType": "bool",
         "type": "boolean"
        },
        {
         "name": "Suburb_Huntingdale",
         "rawType": "bool",
         "type": "boolean"
        },
        {
         "name": "Suburb_Hurstbridge",
         "rawType": "bool",
         "type": "boolean"
        },
        {
         "name": "Suburb_Ivanhoe",
         "rawType": "bool",
         "type": "boolean"
        },
        {
         "name": "Suburb_Ivanhoe East",
         "rawType": "bool",
         "type": "boolean"
        },
        {
         "name": "Suburb_Jacana",
         "rawType": "bool",
         "type": "boolean"
        },
        {
         "name": "Suburb_Kalkallo",
         "rawType": "bool",
         "type": "boolean"
        },
        {
         "name": "Suburb_Kealba",
         "rawType": "bool",
         "type": "boolean"
        },
        {
         "name": "Suburb_Keilor",
         "rawType": "bool",
         "type": "boolean"
        },
        {
         "name": "Suburb_Keilor Downs",
         "rawType": "bool",
         "type": "boolean"
        },
        {
         "name": "Suburb_Keilor East",
         "rawType": "bool",
         "type": "boolean"
        },
        {
         "name": "Suburb_Keilor Lodge",
         "rawType": "bool",
         "type": "boolean"
        },
        {
         "name": "Suburb_Keilor Park",
         "rawType": "bool",
         "type": "boolean"
        },
        {
         "name": "Suburb_Kensington",
         "rawType": "bool",
         "type": "boolean"
        },
        {
         "name": "Suburb_Kew",
         "rawType": "bool",
         "type": "boolean"
        },
        {
         "name": "Suburb_Kew East",
         "rawType": "bool",
         "type": "boolean"
        },
        {
         "name": "Suburb_Keysborough",
         "rawType": "bool",
         "type": "boolean"
        },
        {
         "name": "Suburb_Kilsyth",
         "rawType": "bool",
         "type": "boolean"
        },
        {
         "name": "Suburb_Kings Park",
         "rawType": "bool",
         "type": "boolean"
        },
        {
         "name": "Suburb_Kingsbury",
         "rawType": "bool",
         "type": "boolean"
        },
        {
         "name": "Suburb_Kingsville",
         "rawType": "bool",
         "type": "boolean"
        },
        {
         "name": "Suburb_Knoxfield",
         "rawType": "bool",
         "type": "boolean"
        },
        {
         "name": "Suburb_Kooyong",
         "rawType": "bool",
         "type": "boolean"
        },
        {
         "name": "Suburb_Kurunjang",
         "rawType": "bool",
         "type": "boolean"
        },
        {
         "name": "Suburb_Lalor",
         "rawType": "bool",
         "type": "boolean"
        },
        {
         "name": "Suburb_Langwarrin",
         "rawType": "bool",
         "type": "boolean"
        },
        {
         "name": "Suburb_Laverton",
         "rawType": "bool",
         "type": "boolean"
        },
        {
         "name": "Suburb_Lilydale",
         "rawType": "bool",
         "type": "boolean"
        },
        {
         "name": "Suburb_Lower Plenty",
         "rawType": "bool",
         "type": "boolean"
        },
        {
         "name": "Suburb_Lynbrook",
         "rawType": "bool",
         "type": "boolean"
        },
        {
         "name": "Suburb_Lysterfield",
         "rawType": "bool",
         "type": "boolean"
        },
        {
         "name": "Suburb_MacLeod",
         "rawType": "bool",
         "type": "boolean"
        },
        {
         "name": "Suburb_Maidstone",
         "rawType": "bool",
         "type": "boolean"
        },
        {
         "name": "Suburb_Malvern",
         "rawType": "bool",
         "type": "boolean"
        },
        {
         "name": "Suburb_Malvern East",
         "rawType": "bool",
         "type": "boolean"
        },
        {
         "name": "Suburb_Maribyrnong",
         "rawType": "bool",
         "type": "boolean"
        },
        {
         "name": "Suburb_McKinnon",
         "rawType": "bool",
         "type": "boolean"
        },
        {
         "name": "Suburb_Meadow Heights",
         "rawType": "bool",
         "type": "boolean"
        },
        {
         "name": "Suburb_Melbourne",
         "rawType": "bool",
         "type": "boolean"
        },
        {
         "name": "Suburb_Melton",
         "rawType": "bool",
         "type": "boolean"
        },
        {
         "name": "Suburb_Melton South",
         "rawType": "bool",
         "type": "boolean"
        },
        {
         "name": "Suburb_Melton West",
         "rawType": "bool",
         "type": "boolean"
        },
        {
         "name": "Suburb_Mentone",
         "rawType": "bool",
         "type": "boolean"
        },
        {
         "name": "Suburb_Mernda",
         "rawType": "bool",
         "type": "boolean"
        },
        {
         "name": "Suburb_Mickleham",
         "rawType": "bool",
         "type": "boolean"
        },
        {
         "name": "Suburb_Middle Park",
         "rawType": "bool",
         "type": "boolean"
        },
        {
         "name": "Suburb_Mill Park",
         "rawType": "bool",
         "type": "boolean"
        },
        {
         "name": "Suburb_Mitcham",
         "rawType": "bool",
         "type": "boolean"
        },
        {
         "name": "Suburb_Monbulk",
         "rawType": "bool",
         "type": "boolean"
        },
        {
         "name": "Suburb_Mont Albert",
         "rawType": "bool",
         "type": "boolean"
        },
        {
         "name": "Suburb_Montmorency",
         "rawType": "bool",
         "type": "boolean"
        },
        {
         "name": "Suburb_Montrose",
         "rawType": "bool",
         "type": "boolean"
        },
        {
         "name": "Suburb_Moonee Ponds",
         "rawType": "bool",
         "type": "boolean"
        },
        {
         "name": "Suburb_Moorabbin",
         "rawType": "bool",
         "type": "boolean"
        },
        {
         "name": "Suburb_Mooroolbark",
         "rawType": "bool",
         "type": "boolean"
        },
        {
         "name": "Suburb_Mordialloc",
         "rawType": "bool",
         "type": "boolean"
        },
        {
         "name": "Suburb_Mount Evelyn",
         "rawType": "bool",
         "type": "boolean"
        },
        {
         "name": "Suburb_Mount Waverley",
         "rawType": "bool",
         "type": "boolean"
        },
        {
         "name": "Suburb_Mulgrave",
         "rawType": "bool",
         "type": "boolean"
        },
        {
         "name": "Suburb_Murrumbeena",
         "rawType": "bool",
         "type": "boolean"
        },
        {
         "name": "Suburb_Narre Warren",
         "rawType": "bool",
         "type": "boolean"
        },
        {
         "name": "Suburb_New Gisborne",
         "rawType": "bool",
         "type": "boolean"
        },
        {
         "name": "Suburb_Newport",
         "rawType": "bool",
         "type": "boolean"
        },
        {
         "name": "Suburb_Niddrie",
         "rawType": "bool",
         "type": "boolean"
        },
        {
         "name": "Suburb_Noble Park",
         "rawType": "bool",
         "type": "boolean"
        },
        {
         "name": "Suburb_North Melbourne",
         "rawType": "bool",
         "type": "boolean"
        },
        {
         "name": "Suburb_North Warrandyte",
         "rawType": "bool",
         "type": "boolean"
        },
        {
         "name": "Suburb_Northcote",
         "rawType": "bool",
         "type": "boolean"
        },
        {
         "name": "Suburb_Notting Hill",
         "rawType": "bool",
         "type": "boolean"
        },
        {
         "name": "Suburb_Nunawading",
         "rawType": "bool",
         "type": "boolean"
        },
        {
         "name": "Suburb_Oak Park",
         "rawType": "bool",
         "type": "boolean"
        },
        {
         "name": "Suburb_Oakleigh",
         "rawType": "bool",
         "type": "boolean"
        },
        {
         "name": "Suburb_Oakleigh East",
         "rawType": "bool",
         "type": "boolean"
        },
        {
         "name": "Suburb_Oakleigh South",
         "rawType": "bool",
         "type": "boolean"
        },
        {
         "name": "Suburb_Officer",
         "rawType": "bool",
         "type": "boolean"
        },
        {
         "name": "Suburb_Ormond",
         "rawType": "bool",
         "type": "boolean"
        },
        {
         "name": "Suburb_Pakenham",
         "rawType": "bool",
         "type": "boolean"
        },
        {
         "name": "Suburb_Parkdale",
         "rawType": "bool",
         "type": "boolean"
        },
        {
         "name": "Suburb_Parkville",
         "rawType": "bool",
         "type": "boolean"
        },
        {
         "name": "Suburb_Pascoe Vale",
         "rawType": "bool",
         "type": "boolean"
        },
        {
         "name": "Suburb_Patterson Lakes",
         "rawType": "bool",
         "type": "boolean"
        },
        {
         "name": "Suburb_Plenty",
         "rawType": "bool",
         "type": "boolean"
        },
        {
         "name": "Suburb_Plumpton",
         "rawType": "bool",
         "type": "boolean"
        },
        {
         "name": "Suburb_Point Cook",
         "rawType": "bool",
         "type": "boolean"
        },
        {
         "name": "Suburb_Port Melbourne",
         "rawType": "bool",
         "type": "boolean"
        },
        {
         "name": "Suburb_Prahran",
         "rawType": "bool",
         "type": "boolean"
        },
        {
         "name": "Suburb_Preston",
         "rawType": "bool",
         "type": "boolean"
        },
        {
         "name": "Suburb_Princes Hill",
         "rawType": "bool",
         "type": "boolean"
        },
        {
         "name": "Suburb_Research",
         "rawType": "bool",
         "type": "boolean"
        },
        {
         "name": "Suburb_Reservoir",
         "rawType": "bool",
         "type": "boolean"
        },
        {
         "name": "Suburb_Richmond",
         "rawType": "bool",
         "type": "boolean"
        },
        {
         "name": "Suburb_Riddells Creek",
         "rawType": "bool",
         "type": "boolean"
        },
        {
         "name": "Suburb_Ringwood",
         "rawType": "bool",
         "type": "boolean"
        },
        {
         "name": "Suburb_Ringwood East",
         "rawType": "bool",
         "type": "boolean"
        },
        {
         "name": "Suburb_Ringwood North",
         "rawType": "bool",
         "type": "boolean"
        },
        {
         "name": "Suburb_Ripponlea",
         "rawType": "bool",
         "type": "boolean"
        },
        {
         "name": "Suburb_Rockbank",
         "rawType": "bool",
         "type": "boolean"
        },
        {
         "name": "Suburb_Rosanna",
         "rawType": "bool",
         "type": "boolean"
        },
        {
         "name": "Suburb_Rowville",
         "rawType": "bool",
         "type": "boolean"
        },
        {
         "name": "Suburb_Roxburgh Park",
         "rawType": "bool",
         "type": "boolean"
        },
        {
         "name": "Suburb_Sandhurst",
         "rawType": "bool",
         "type": "boolean"
        },
        {
         "name": "Suburb_Sandringham",
         "rawType": "bool",
         "type": "boolean"
        },
        {
         "name": "Suburb_Scoresby",
         "rawType": "bool",
         "type": "boolean"
        },
        {
         "name": "Suburb_Seabrook",
         "rawType": "bool",
         "type": "boolean"
        },
        {
         "name": "Suburb_Seaford",
         "rawType": "bool",
         "type": "boolean"
        },
        {
         "name": "Suburb_Seaholme",
         "rawType": "bool",
         "type": "boolean"
        },
        {
         "name": "Suburb_Seddon",
         "rawType": "bool",
         "type": "boolean"
        },
        {
         "name": "Suburb_Silvan",
         "rawType": "bool",
         "type": "boolean"
        },
        {
         "name": "Suburb_Skye",
         "rawType": "bool",
         "type": "boolean"
        },
        {
         "name": "Suburb_South Kingsville",
         "rawType": "bool",
         "type": "boolean"
        },
        {
         "name": "Suburb_South Melbourne",
         "rawType": "bool",
         "type": "boolean"
        },
        {
         "name": "Suburb_South Morang",
         "rawType": "bool",
         "type": "boolean"
        },
        {
         "name": "Suburb_South Yarra",
         "rawType": "bool",
         "type": "boolean"
        },
        {
         "name": "Suburb_Southbank",
         "rawType": "bool",
         "type": "boolean"
        },
        {
         "name": "Suburb_Spotswood",
         "rawType": "bool",
         "type": "boolean"
        },
        {
         "name": "Suburb_Springvale",
         "rawType": "bool",
         "type": "boolean"
        },
        {
         "name": "Suburb_Springvale South",
         "rawType": "bool",
         "type": "boolean"
        },
        {
         "name": "Suburb_St Albans",
         "rawType": "bool",
         "type": "boolean"
        },
        {
         "name": "Suburb_St Helena",
         "rawType": "bool",
         "type": "boolean"
        },
        {
         "name": "Suburb_St Kilda",
         "rawType": "bool",
         "type": "boolean"
        },
        {
         "name": "Suburb_Strathmore",
         "rawType": "bool",
         "type": "boolean"
        },
        {
         "name": "Suburb_Strathmore Heights",
         "rawType": "bool",
         "type": "boolean"
        },
        {
         "name": "Suburb_Sunbury",
         "rawType": "bool",
         "type": "boolean"
        },
        {
         "name": "Suburb_Sunshine",
         "rawType": "bool",
         "type": "boolean"
        },
        {
         "name": "Suburb_Sunshine North",
         "rawType": "bool",
         "type": "boolean"
        },
        {
         "name": "Suburb_Sunshine West",
         "rawType": "bool",
         "type": "boolean"
        },
        {
         "name": "Suburb_Surrey Hills",
         "rawType": "bool",
         "type": "boolean"
        },
        {
         "name": "Suburb_Sydenham",
         "rawType": "bool",
         "type": "boolean"
        },
        {
         "name": "Suburb_Tarneit",
         "rawType": "bool",
         "type": "boolean"
        },
        {
         "name": "Suburb_Taylors Hill",
         "rawType": "bool",
         "type": "boolean"
        },
        {
         "name": "Suburb_Taylors Lakes",
         "rawType": "bool",
         "type": "boolean"
        },
        {
         "name": "Suburb_Tecoma",
         "rawType": "bool",
         "type": "boolean"
        },
        {
         "name": "Suburb_Templestowe",
         "rawType": "bool",
         "type": "boolean"
        },
        {
         "name": "Suburb_Templestowe Lower",
         "rawType": "bool",
         "type": "boolean"
        },
        {
         "name": "Suburb_The Basin",
         "rawType": "bool",
         "type": "boolean"
        },
        {
         "name": "Suburb_Thomastown",
         "rawType": "bool",
         "type": "boolean"
        },
        {
         "name": "Suburb_Thornbury",
         "rawType": "bool",
         "type": "boolean"
        },
        {
         "name": "Suburb_Toorak",
         "rawType": "bool",
         "type": "boolean"
        },
        {
         "name": "Suburb_Travancore",
         "rawType": "bool",
         "type": "boolean"
        },
        {
         "name": "Suburb_Truganina",
         "rawType": "bool",
         "type": "boolean"
        },
        {
         "name": "Suburb_Tullamarine",
         "rawType": "bool",
         "type": "boolean"
        },
        {
         "name": "Suburb_Upwey",
         "rawType": "bool",
         "type": "boolean"
        },
        {
         "name": "Suburb_Vermont",
         "rawType": "bool",
         "type": "boolean"
        },
        {
         "name": "Suburb_Vermont South",
         "rawType": "bool",
         "type": "boolean"
        },
        {
         "name": "Suburb_Viewbank",
         "rawType": "bool",
         "type": "boolean"
        },
        {
         "name": "Suburb_Wallan",
         "rawType": "bool",
         "type": "boolean"
        },
        {
         "name": "Suburb_Wandin North",
         "rawType": "bool",
         "type": "boolean"
        },
        {
         "name": "Suburb_Wantirna",
         "rawType": "bool",
         "type": "boolean"
        },
        {
         "name": "Suburb_Wantirna South",
         "rawType": "bool",
         "type": "boolean"
        },
        {
         "name": "Suburb_Warrandyte",
         "rawType": "bool",
         "type": "boolean"
        },
        {
         "name": "Suburb_Warranwood",
         "rawType": "bool",
         "type": "boolean"
        },
        {
         "name": "Suburb_Waterways",
         "rawType": "bool",
         "type": "boolean"
        },
        {
         "name": "Suburb_Watsonia",
         "rawType": "bool",
         "type": "boolean"
        },
        {
         "name": "Suburb_Watsonia North",
         "rawType": "bool",
         "type": "boolean"
        },
        {
         "name": "Suburb_Wattle Glen",
         "rawType": "bool",
         "type": "boolean"
        },
        {
         "name": "Suburb_Werribee",
         "rawType": "bool",
         "type": "boolean"
        },
        {
         "name": "Suburb_Werribee South",
         "rawType": "bool",
         "type": "boolean"
        },
        {
         "name": "Suburb_West Footscray",
         "rawType": "bool",
         "type": "boolean"
        },
        {
         "name": "Suburb_West Melbourne",
         "rawType": "bool",
         "type": "boolean"
        },
        {
         "name": "Suburb_Westmeadows",
         "rawType": "bool",
         "type": "boolean"
        },
        {
         "name": "Suburb_Wheelers Hill",
         "rawType": "bool",
         "type": "boolean"
        },
        {
         "name": "Suburb_Whittlesea",
         "rawType": "bool",
         "type": "boolean"
        },
        {
         "name": "Suburb_Wildwood",
         "rawType": "bool",
         "type": "boolean"
        },
        {
         "name": "Suburb_Williams Landing",
         "rawType": "bool",
         "type": "boolean"
        },
        {
         "name": "Suburb_Williamstown",
         "rawType": "bool",
         "type": "boolean"
        },
        {
         "name": "Suburb_Williamstown North",
         "rawType": "bool",
         "type": "boolean"
        },
        {
         "name": "Suburb_Windsor",
         "rawType": "bool",
         "type": "boolean"
        },
        {
         "name": "Suburb_Wollert",
         "rawType": "bool",
         "type": "boolean"
        },
        {
         "name": "Suburb_Wonga Park",
         "rawType": "bool",
         "type": "boolean"
        },
        {
         "name": "Suburb_Wyndham Vale",
         "rawType": "bool",
         "type": "boolean"
        },
        {
         "name": "Suburb_Yallambie",
         "rawType": "bool",
         "type": "boolean"
        },
        {
         "name": "Suburb_Yarra Glen",
         "rawType": "bool",
         "type": "boolean"
        },
        {
         "name": "Suburb_Yarraville",
         "rawType": "bool",
         "type": "boolean"
        },
        {
         "name": "Suburb_croydon",
         "rawType": "bool",
         "type": "boolean"
        },
        {
         "name": "Suburb_viewbank",
         "rawType": "bool",
         "type": "boolean"
        },
        {
         "name": "Type_t",
         "rawType": "bool",
         "type": "boolean"
        },
        {
         "name": "Type_u",
         "rawType": "bool",
         "type": "boolean"
        },
        {
         "name": "SellerG_AIME",
         "rawType": "bool",
         "type": "boolean"
        },
        {
         "name": "SellerG_ASL",
         "rawType": "bool",
         "type": "boolean"
        },
        {
         "name": "SellerG_Abercromby's",
         "rawType": "bool",
         "type": "boolean"
        },
        {
         "name": "SellerG_Ace",
         "rawType": "bool",
         "type": "boolean"
        },
        {
         "name": "SellerG_Airport",
         "rawType": "bool",
         "type": "boolean"
        },
        {
         "name": "SellerG_Alex",
         "rawType": "bool",
         "type": "boolean"
        },
        {
         "name": "SellerG_Alexkarbon",
         "rawType": "bool",
         "type": "boolean"
        },
        {
         "name": "SellerG_Allan",
         "rawType": "bool",
         "type": "boolean"
        },
        {
         "name": "SellerG_Allens",
         "rawType": "bool",
         "type": "boolean"
        },
        {
         "name": "SellerG_Anderson",
         "rawType": "bool",
         "type": "boolean"
        },
        {
         "name": "SellerG_Appleby",
         "rawType": "bool",
         "type": "boolean"
        },
        {
         "name": "SellerG_Aquire",
         "rawType": "bool",
         "type": "boolean"
        },
        {
         "name": "SellerG_Area",
         "rawType": "bool",
         "type": "boolean"
        },
        {
         "name": "SellerG_Ascend",
         "rawType": "bool",
         "type": "boolean"
        },
        {
         "name": "SellerG_Ash",
         "rawType": "bool",
         "type": "boolean"
        },
        {
         "name": "SellerG_Asset",
         "rawType": "bool",
         "type": "boolean"
        },
        {
         "name": "SellerG_Assisi",
         "rawType": "bool",
         "type": "boolean"
        },
        {
         "name": "SellerG_Aumeca",
         "rawType": "bool",
         "type": "boolean"
        },
        {
         "name": "SellerG_Australian",
         "rawType": "bool",
         "type": "boolean"
        },
        {
         "name": "SellerG_Avion",
         "rawType": "bool",
         "type": "boolean"
        },
        {
         "name": "SellerG_Barlow",
         "rawType": "bool",
         "type": "boolean"
        },
        {
         "name": "SellerG_Barry",
         "rawType": "bool",
         "type": "boolean"
        },
        {
         "name": "SellerG_Batty",
         "rawType": "bool",
         "type": "boolean"
        },
        {
         "name": "SellerG_Bayside",
         "rawType": "bool",
         "type": "boolean"
        },
        {
         "name": "SellerG_Bekdon",
         "rawType": "bool",
         "type": "boolean"
        },
        {
         "name": "SellerG_Beller",
         "rawType": "bool",
         "type": "boolean"
        },
        {
         "name": "SellerG_Bells",
         "rawType": "bool",
         "type": "boolean"
        },
        {
         "name": "SellerG_Benchmark",
         "rawType": "bool",
         "type": "boolean"
        },
        {
         "name": "SellerG_Benlor",
         "rawType": "bool",
         "type": "boolean"
        },
        {
         "name": "SellerG_Besser",
         "rawType": "bool",
         "type": "boolean"
        },
        {
         "name": "SellerG_Better",
         "rawType": "bool",
         "type": "boolean"
        },
        {
         "name": "SellerG_Biggin",
         "rawType": "bool",
         "type": "boolean"
        },
        {
         "name": "SellerG_Black",
         "rawType": "bool",
         "type": "boolean"
        },
        {
         "name": "SellerG_Blackbird",
         "rawType": "bool",
         "type": "boolean"
        },
        {
         "name": "SellerG_Blue",
         "rawType": "bool",
         "type": "boolean"
        },
        {
         "name": "SellerG_Bombay",
         "rawType": "bool",
         "type": "boolean"
        },
        {
         "name": "SellerG_Boran",
         "rawType": "bool",
         "type": "boolean"
        },
        {
         "name": "SellerG_Boutique",
         "rawType": "bool",
         "type": "boolean"
        },
        {
         "name": "SellerG_Bowman",
         "rawType": "bool",
         "type": "boolean"
        },
        {
         "name": "SellerG_Brace",
         "rawType": "bool",
         "type": "boolean"
        },
        {
         "name": "SellerG_Brad",
         "rawType": "bool",
         "type": "boolean"
        },
        {
         "name": "SellerG_Branon",
         "rawType": "bool",
         "type": "boolean"
        },
        {
         "name": "SellerG_Buckingham",
         "rawType": "bool",
         "type": "boolean"
        },
        {
         "name": "SellerG_Bullen",
         "rawType": "bool",
         "type": "boolean"
        },
        {
         "name": "SellerG_Burnham",
         "rawType": "bool",
         "type": "boolean"
        },
        {
         "name": "SellerG_Burns",
         "rawType": "bool",
         "type": "boolean"
        },
        {
         "name": "SellerG_Bustin",
         "rawType": "bool",
         "type": "boolean"
        },
        {
         "name": "SellerG_Buxton",
         "rawType": "bool",
         "type": "boolean"
        },
        {
         "name": "SellerG_Buxton/Advantage",
         "rawType": "bool",
         "type": "boolean"
        },
        {
         "name": "SellerG_Buxton/Buxton",
         "rawType": "bool",
         "type": "boolean"
        },
        {
         "name": "SellerG_Buxton/Find",
         "rawType": "bool",
         "type": "boolean"
        },
        {
         "name": "SellerG_Buxton/Marshall",
         "rawType": "bool",
         "type": "boolean"
        },
        {
         "name": "SellerG_C21",
         "rawType": "bool",
         "type": "boolean"
        },
        {
         "name": "SellerG_CASTRAN",
         "rawType": "bool",
         "type": "boolean"
        },
        {
         "name": "SellerG_Caine",
         "rawType": "bool",
         "type": "boolean"
        },
        {
         "name": "SellerG_Calder",
         "rawType": "bool",
         "type": "boolean"
        },
        {
         "name": "SellerG_CarlinSmith",
         "rawType": "bool",
         "type": "boolean"
        },
        {
         "name": "SellerG_Carter",
         "rawType": "bool",
         "type": "boolean"
        },
        {
         "name": "SellerG_Castran",
         "rawType": "bool",
         "type": "boolean"
        },
        {
         "name": "SellerG_Cayzer",
         "rawType": "bool",
         "type": "boolean"
        },
        {
         "name": "SellerG_Century",
         "rawType": "bool",
         "type": "boolean"
        },
        {
         "name": "SellerG_Chambers",
         "rawType": "bool",
         "type": "boolean"
        },
        {
         "name": "SellerG_Changing",
         "rawType": "bool",
         "type": "boolean"
        },
        {
         "name": "SellerG_Charlton",
         "rawType": "bool",
         "type": "boolean"
        },
        {
         "name": "SellerG_Charter",
         "rawType": "bool",
         "type": "boolean"
        },
        {
         "name": "SellerG_Chisholm",
         "rawType": "bool",
         "type": "boolean"
        },
        {
         "name": "SellerG_Christopher",
         "rawType": "bool",
         "type": "boolean"
        },
        {
         "name": "SellerG_Clairmont",
         "rawType": "bool",
         "type": "boolean"
        },
        {
         "name": "SellerG_Collings",
         "rawType": "bool",
         "type": "boolean"
        },
        {
         "name": "SellerG_Collins",
         "rawType": "bool",
         "type": "boolean"
        },
        {
         "name": "SellerG_Commercial",
         "rawType": "bool",
         "type": "boolean"
        },
        {
         "name": "SellerG_Community",
         "rawType": "bool",
         "type": "boolean"
        },
        {
         "name": "SellerG_Compton",
         "rawType": "bool",
         "type": "boolean"
        },
        {
         "name": "SellerG_Conquest",
         "rawType": "bool",
         "type": "boolean"
        },
        {
         "name": "SellerG_Considine",
         "rawType": "bool",
         "type": "boolean"
        },
        {
         "name": "SellerG_Coventry",
         "rawType": "bool",
         "type": "boolean"
        },
        {
         "name": "SellerG_Craig",
         "rawType": "bool",
         "type": "boolean"
        },
        {
         "name": "SellerG_Crane",
         "rawType": "bool",
         "type": "boolean"
        },
        {
         "name": "SellerG_Create",
         "rawType": "bool",
         "type": "boolean"
        },
        {
         "name": "SellerG_D'Aprano",
         "rawType": "bool",
         "type": "boolean"
        },
        {
         "name": "SellerG_Daniel",
         "rawType": "bool",
         "type": "boolean"
        },
        {
         "name": "SellerG_Darras",
         "rawType": "bool",
         "type": "boolean"
        },
        {
         "name": "SellerG_Darren",
         "rawType": "bool",
         "type": "boolean"
        },
        {
         "name": "SellerG_David",
         "rawType": "bool",
         "type": "boolean"
        },
        {
         "name": "SellerG_Del",
         "rawType": "bool",
         "type": "boolean"
        },
        {
         "name": "SellerG_Dingle",
         "rawType": "bool",
         "type": "boolean"
        },
        {
         "name": "SellerG_Direct",
         "rawType": "bool",
         "type": "boolean"
        },
        {
         "name": "SellerG_Dixon",
         "rawType": "bool",
         "type": "boolean"
        },
        {
         "name": "SellerG_Domain",
         "rawType": "bool",
         "type": "boolean"
        },
        {
         "name": "SellerG_Donovan",
         "rawType": "bool",
         "type": "boolean"
        },
        {
         "name": "SellerG_Douglas",
         "rawType": "bool",
         "type": "boolean"
        },
        {
         "name": "SellerG_Edward",
         "rawType": "bool",
         "type": "boolean"
        },
        {
         "name": "SellerG_Elite",
         "rawType": "bool",
         "type": "boolean"
        },
        {
         "name": "SellerG_Eric",
         "rawType": "bool",
         "type": "boolean"
        },
        {
         "name": "SellerG_Eview",
         "rawType": "bool",
         "type": "boolean"
        },
        {
         "name": "SellerG_FN",
         "rawType": "bool",
         "type": "boolean"
        },
        {
         "name": "SellerG_First",
         "rawType": "bool",
         "type": "boolean"
        },
        {
         "name": "SellerG_Flannagan",
         "rawType": "bool",
         "type": "boolean"
        },
        {
         "name": "SellerG_Fletchers",
         "rawType": "bool",
         "type": "boolean"
        },
        {
         "name": "SellerG_Fletchers/Fletchers",
         "rawType": "bool",
         "type": "boolean"
        },
        {
         "name": "SellerG_Fletchers/One",
         "rawType": "bool",
         "type": "boolean"
        },
        {
         "name": "SellerG_Follett",
         "rawType": "bool",
         "type": "boolean"
        },
        {
         "name": "SellerG_For",
         "rawType": "bool",
         "type": "boolean"
        },
        {
         "name": "SellerG_Frank",
         "rawType": "bool",
         "type": "boolean"
        },
        {
         "name": "SellerG_Free",
         "rawType": "bool",
         "type": "boolean"
        },
        {
         "name": "SellerG_G&H",
         "rawType": "bool",
         "type": "boolean"
        },
        {
         "name": "SellerG_GL",
         "rawType": "bool",
         "type": "boolean"
        },
        {
         "name": "SellerG_Galldon",
         "rawType": "bool",
         "type": "boolean"
        },
        {
         "name": "SellerG_Gardiner",
         "rawType": "bool",
         "type": "boolean"
        },
        {
         "name": "SellerG_Garvey",
         "rawType": "bool",
         "type": "boolean"
        },
        {
         "name": "SellerG_Gary",
         "rawType": "bool",
         "type": "boolean"
        },
        {
         "name": "SellerG_Gellibrand",
         "rawType": "bool",
         "type": "boolean"
        },
        {
         "name": "SellerG_Geoff",
         "rawType": "bool",
         "type": "boolean"
        },
        {
         "name": "SellerG_Grantham",
         "rawType": "bool",
         "type": "boolean"
        },
        {
         "name": "SellerG_Greg",
         "rawType": "bool",
         "type": "boolean"
        },
        {
         "name": "SellerG_Gunn&Co",
         "rawType": "bool",
         "type": "boolean"
        },
        {
         "name": "SellerG_H",
         "rawType": "bool",
         "type": "boolean"
        },
        {
         "name": "SellerG_HAR",
         "rawType": "bool",
         "type": "boolean"
        },
        {
         "name": "SellerG_Hall",
         "rawType": "bool",
         "type": "boolean"
        },
        {
         "name": "SellerG_Ham",
         "rawType": "bool",
         "type": "boolean"
        },
        {
         "name": "SellerG_Hamilton",
         "rawType": "bool",
         "type": "boolean"
        },
        {
         "name": "SellerG_Harcourts",
         "rawType": "bool",
         "type": "boolean"
        },
        {
         "name": "SellerG_Harrington",
         "rawType": "bool",
         "type": "boolean"
        },
        {
         "name": "SellerG_Haughton",
         "rawType": "bool",
         "type": "boolean"
        },
        {
         "name": "SellerG_Hayeswinckle",
         "rawType": "bool",
         "type": "boolean"
        },
        {
         "name": "SellerG_Hodges",
         "rawType": "bool",
         "type": "boolean"
        },
        {
         "name": "SellerG_Holland",
         "rawType": "bool",
         "type": "boolean"
        },
        {
         "name": "SellerG_Home",
         "rawType": "bool",
         "type": "boolean"
        },
        {
         "name": "SellerG_Homes",
         "rawType": "bool",
         "type": "boolean"
        },
        {
         "name": "SellerG_Hooper",
         "rawType": "bool",
         "type": "boolean"
        },
        {
         "name": "SellerG_Hoskins",
         "rawType": "bool",
         "type": "boolean"
        },
        {
         "name": "SellerG_Hunter",
         "rawType": "bool",
         "type": "boolean"
        },
        {
         "name": "SellerG_Icon",
         "rawType": "bool",
         "type": "boolean"
        },
        {
         "name": "SellerG_Iconek",
         "rawType": "bool",
         "type": "boolean"
        },
        {
         "name": "SellerG_J",
         "rawType": "bool",
         "type": "boolean"
        },
        {
         "name": "SellerG_JMRE",
         "rawType": "bool",
         "type": "boolean"
        },
        {
         "name": "SellerG_JRW",
         "rawType": "bool",
         "type": "boolean"
        },
        {
         "name": "SellerG_JY",
         "rawType": "bool",
         "type": "boolean"
        },
        {
         "name": "SellerG_Janice",
         "rawType": "bool",
         "type": "boolean"
        },
        {
         "name": "SellerG_Jas",
         "rawType": "bool",
         "type": "boolean"
        },
        {
         "name": "SellerG_Jason",
         "rawType": "bool",
         "type": "boolean"
        },
        {
         "name": "SellerG_Jellis",
         "rawType": "bool",
         "type": "boolean"
        },
        {
         "name": "SellerG_Jim",
         "rawType": "bool",
         "type": "boolean"
        },
        {
         "name": "SellerG_Joe",
         "rawType": "bool",
         "type": "boolean"
        },
        {
         "name": "SellerG_Johnston",
         "rawType": "bool",
         "type": "boolean"
        },
        {
         "name": "SellerG_Joseph",
         "rawType": "bool",
         "type": "boolean"
        },
        {
         "name": "SellerG_Just",
         "rawType": "bool",
         "type": "boolean"
        },
        {
         "name": "SellerG_Justin",
         "rawType": "bool",
         "type": "boolean"
        },
        {
         "name": "SellerG_K.R.Peters",
         "rawType": "bool",
         "type": "boolean"
        },
        {
         "name": "SellerG_Karen",
         "rawType": "bool",
         "type": "boolean"
        },
        {
         "name": "SellerG_Kay",
         "rawType": "bool",
         "type": "boolean"
        },
        {
         "name": "SellerG_Kaye",
         "rawType": "bool",
         "type": "boolean"
        },
        {
         "name": "SellerG_Keatings",
         "rawType": "bool",
         "type": "boolean"
        },
        {
         "name": "SellerG_Kelly",
         "rawType": "bool",
         "type": "boolean"
        },
        {
         "name": "SellerG_Ken",
         "rawType": "bool",
         "type": "boolean"
        },
        {
         "name": "SellerG_L",
         "rawType": "bool",
         "type": "boolean"
        },
        {
         "name": "SellerG_LITTLE",
         "rawType": "bool",
         "type": "boolean"
        },
        {
         "name": "SellerG_LJ",
         "rawType": "bool",
         "type": "boolean"
        },
        {
         "name": "SellerG_LJH",
         "rawType": "bool",
         "type": "boolean"
        },
        {
         "name": "SellerG_LLC",
         "rawType": "bool",
         "type": "boolean"
        },
        {
         "name": "SellerG_Langwell",
         "rawType": "bool",
         "type": "boolean"
        },
        {
         "name": "SellerG_Le",
         "rawType": "bool",
         "type": "boolean"
        },
        {
         "name": "SellerG_Leaders",
         "rawType": "bool",
         "type": "boolean"
        },
        {
         "name": "SellerG_Leading",
         "rawType": "bool",
         "type": "boolean"
        },
        {
         "name": "SellerG_Leased",
         "rawType": "bool",
         "type": "boolean"
        },
        {
         "name": "SellerG_Leeburn",
         "rawType": "bool",
         "type": "boolean"
        },
        {
         "name": "SellerG_Leyton",
         "rawType": "bool",
         "type": "boolean"
        },
        {
         "name": "SellerG_Lindellas",
         "rawType": "bool",
         "type": "boolean"
        },
        {
         "name": "SellerG_Love",
         "rawType": "bool",
         "type": "boolean"
        },
        {
         "name": "SellerG_Lucas",
         "rawType": "bool",
         "type": "boolean"
        },
        {
         "name": "SellerG_Luxe",
         "rawType": "bool",
         "type": "boolean"
        },
        {
         "name": "SellerG_Luxton",
         "rawType": "bool",
         "type": "boolean"
        },
        {
         "name": "SellerG_M.J",
         "rawType": "bool",
         "type": "boolean"
        },
        {
         "name": "SellerG_MICM",
         "rawType": "bool",
         "type": "boolean"
        },
        {
         "name": "SellerG_MJ",
         "rawType": "bool",
         "type": "boolean"
        },
        {
         "name": "SellerG_Maddison",
         "rawType": "bool",
         "type": "boolean"
        },
        {
         "name": "SellerG_Maitland",
         "rawType": "bool",
         "type": "boolean"
        },
        {
         "name": "SellerG_Mandy",
         "rawType": "bool",
         "type": "boolean"
        },
        {
         "name": "SellerG_Mark",
         "rawType": "bool",
         "type": "boolean"
        },
        {
         "name": "SellerG_Marshall",
         "rawType": "bool",
         "type": "boolean"
        },
        {
         "name": "SellerG_Mason",
         "rawType": "bool",
         "type": "boolean"
        },
        {
         "name": "SellerG_Matthew",
         "rawType": "bool",
         "type": "boolean"
        },
        {
         "name": "SellerG_Max",
         "rawType": "bool",
         "type": "boolean"
        },
        {
         "name": "SellerG_McDonald",
         "rawType": "bool",
         "type": "boolean"
        },
        {
         "name": "SellerG_McEwing",
         "rawType": "bool",
         "type": "boolean"
        },
        {
         "name": "SellerG_McGrath",
         "rawType": "bool",
         "type": "boolean"
        },
        {
         "name": "SellerG_McGrath/First",
         "rawType": "bool",
         "type": "boolean"
        },
        {
         "name": "SellerG_McGrath/Langwell",
         "rawType": "bool",
         "type": "boolean"
        },
        {
         "name": "SellerG_McLennan",
         "rawType": "bool",
         "type": "boolean"
        },
        {
         "name": "SellerG_McNaughton",
         "rawType": "bool",
         "type": "boolean"
        },
        {
         "name": "SellerG_Meadows",
         "rawType": "bool",
         "type": "boolean"
        },
        {
         "name": "SellerG_Meallin",
         "rawType": "bool",
         "type": "boolean"
        },
        {
         "name": "SellerG_Mega",
         "rawType": "bool",
         "type": "boolean"
        },
        {
         "name": "SellerG_Melbourne",
         "rawType": "bool",
         "type": "boolean"
        },
        {
         "name": "SellerG_Metro",
         "rawType": "bool",
         "type": "boolean"
        },
        {
         "name": "SellerG_Miles",
         "rawType": "bool",
         "type": "boolean"
        },
        {
         "name": "SellerG_Millership",
         "rawType": "bool",
         "type": "boolean"
        },
        {
         "name": "SellerG_Mindacom",
         "rawType": "bool",
         "type": "boolean"
        },
        {
         "name": "SellerG_Mitchell",
         "rawType": "bool",
         "type": "boolean"
        },
        {
         "name": "SellerG_Moonee",
         "rawType": "bool",
         "type": "boolean"
        },
        {
         "name": "SellerG_Morleys",
         "rawType": "bool",
         "type": "boolean"
        },
        {
         "name": "SellerG_Morrison",
         "rawType": "bool",
         "type": "boolean"
        },
        {
         "name": "SellerG_Munn",
         "rawType": "bool",
         "type": "boolean"
        },
        {
         "name": "SellerG_Naison",
         "rawType": "bool",
         "type": "boolean"
        },
        {
         "name": "SellerG_Nardella",
         "rawType": "bool",
         "type": "boolean"
        },
        {
         "name": "SellerG_Nelson",
         "rawType": "bool",
         "type": "boolean"
        },
        {
         "name": "SellerG_New",
         "rawType": "bool",
         "type": "boolean"
        },
        {
         "name": "SellerG_Nguyen",
         "rawType": "bool",
         "type": "boolean"
        },
        {
         "name": "SellerG_Nicholas",
         "rawType": "bool",
         "type": "boolean"
        },
        {
         "name": "SellerG_Nicholls",
         "rawType": "bool",
         "type": "boolean"
        },
        {
         "name": "SellerG_Nicholson",
         "rawType": "bool",
         "type": "boolean"
        },
        {
         "name": "SellerG_Nick",
         "rawType": "bool",
         "type": "boolean"
        },
        {
         "name": "SellerG_Noel",
         "rawType": "bool",
         "type": "boolean"
        },
        {
         "name": "SellerG_North",
         "rawType": "bool",
         "type": "boolean"
        },
        {
         "name": "SellerG_O'Brien",
         "rawType": "bool",
         "type": "boolean"
        },
        {
         "name": "SellerG_O'Donoghues",
         "rawType": "bool",
         "type": "boolean"
        },
        {
         "name": "SellerG_OBrien",
         "rawType": "bool",
         "type": "boolean"
        },
        {
         "name": "SellerG_Oak",
         "rawType": "bool",
         "type": "boolean"
        },
        {
         "name": "SellerG_Obrien",
         "rawType": "bool",
         "type": "boolean"
        },
        {
         "name": "SellerG_One",
         "rawType": "bool",
         "type": "boolean"
        },
        {
         "name": "SellerG_Only",
         "rawType": "bool",
         "type": "boolean"
        },
        {
         "name": "SellerG_Open",
         "rawType": "bool",
         "type": "boolean"
        },
        {
         "name": "SellerG_Oriental",
         "rawType": "bool",
         "type": "boolean"
        },
        {
         "name": "SellerG_Owen",
         "rawType": "bool",
         "type": "boolean"
        },
        {
         "name": "SellerG_P",
         "rawType": "bool",
         "type": "boolean"
        },
        {
         "name": "SellerG_PRD",
         "rawType": "bool",
         "type": "boolean"
        },
        {
         "name": "SellerG_PRDNationwide",
         "rawType": "bool",
         "type": "boolean"
        },
        {
         "name": "SellerG_PSP",
         "rawType": "bool",
         "type": "boolean"
        },
        {
         "name": "SellerG_Pagan",
         "rawType": "bool",
         "type": "boolean"
        },
        {
         "name": "SellerG_Parkes",
         "rawType": "bool",
         "type": "boolean"
        },
        {
         "name": "SellerG_Parkinson",
         "rawType": "bool",
         "type": "boolean"
        },
        {
         "name": "SellerG_Paul",
         "rawType": "bool",
         "type": "boolean"
        },
        {
         "name": "SellerG_Peake",
         "rawType": "bool",
         "type": "boolean"
        },
        {
         "name": "SellerG_People",
         "rawType": "bool",
         "type": "boolean"
        },
        {
         "name": "SellerG_Peter",
         "rawType": "bool",
         "type": "boolean"
        },
        {
         "name": "SellerG_Philip",
         "rawType": "bool",
         "type": "boolean"
        },
        {
         "name": "SellerG_Point",
         "rawType": "bool",
         "type": "boolean"
        },
        {
         "name": "SellerG_Pride",
         "rawType": "bool",
         "type": "boolean"
        },
        {
         "name": "SellerG_Prime",
         "rawType": "bool",
         "type": "boolean"
        },
        {
         "name": "SellerG_Private/Tiernan's",
         "rawType": "bool",
         "type": "boolean"
        },
        {
         "name": "SellerG_Prof.",
         "rawType": "bool",
         "type": "boolean"
        },
        {
         "name": "SellerG_Professionals",
         "rawType": "bool",
         "type": "boolean"
        },
        {
         "name": "SellerG_Property",
         "rawType": "bool",
         "type": "boolean"
        },
        {
         "name": "SellerG_Propertyau",
         "rawType": "bool",
         "type": "boolean"
        },
        {
         "name": "SellerG_Prowse",
         "rawType": "bool",
         "type": "boolean"
        },
        {
         "name": "SellerG_Purplebricks",
         "rawType": "bool",
         "type": "boolean"
        },
        {
         "name": "SellerG_Quinta",
         "rawType": "bool",
         "type": "boolean"
        },
        {
         "name": "SellerG_R&H",
         "rawType": "bool",
         "type": "boolean"
        },
        {
         "name": "SellerG_RE",
         "rawType": "bool",
         "type": "boolean"
        },
        {
         "name": "SellerG_REMAX",
         "rawType": "bool",
         "type": "boolean"
        },
        {
         "name": "SellerG_RT",
         "rawType": "bool",
         "type": "boolean"
        },
        {
         "name": "SellerG_RW",
         "rawType": "bool",
         "type": "boolean"
        },
        {
         "name": "SellerG_Raine",
         "rawType": "bool",
         "type": "boolean"
        },
        {
         "name": "SellerG_Raine&Horne",
         "rawType": "bool",
         "type": "boolean"
        },
        {
         "name": "SellerG_Ray",
         "rawType": "bool",
         "type": "boolean"
        },
        {
         "name": "SellerG_Re",
         "rawType": "bool",
         "type": "boolean"
        },
        {
         "name": "SellerG_Reach",
         "rawType": "bool",
         "type": "boolean"
        },
        {
         "name": "SellerG_Real",
         "rawType": "bool",
         "type": "boolean"
        },
        {
         "name": "SellerG_Red",
         "rawType": "bool",
         "type": "boolean"
        },
        {
         "name": "SellerG_Redina",
         "rawType": "bool",
         "type": "boolean"
        },
        {
         "name": "SellerG_Reed",
         "rawType": "bool",
         "type": "boolean"
        },
        {
         "name": "SellerG_Reliance",
         "rawType": "bool",
         "type": "boolean"
        },
        {
         "name": "SellerG_Rendina",
         "rawType": "bool",
         "type": "boolean"
        },
        {
         "name": "SellerG_Rexhepi",
         "rawType": "bool",
         "type": "boolean"
        },
        {
         "name": "SellerG_Ristic",
         "rawType": "bool",
         "type": "boolean"
        },
        {
         "name": "SellerG_Rodney",
         "rawType": "bool",
         "type": "boolean"
        },
        {
         "name": "SellerG_Roger",
         "rawType": "bool",
         "type": "boolean"
        },
        {
         "name": "SellerG_Rombotis",
         "rawType": "bool",
         "type": "boolean"
        },
        {
         "name": "SellerG_Rosin",
         "rawType": "bool",
         "type": "boolean"
        },
        {
         "name": "SellerG_Ross",
         "rawType": "bool",
         "type": "boolean"
        },
        {
         "name": "SellerG_Rounds",
         "rawType": "bool",
         "type": "boolean"
        },
        {
         "name": "SellerG_Ryder",
         "rawType": "bool",
         "type": "boolean"
        },
        {
         "name": "SellerG_S&L",
         "rawType": "bool",
         "type": "boolean"
        },
        {
         "name": "SellerG_SN",
         "rawType": "bool",
         "type": "boolean"
        },
        {
         "name": "SellerG_Sanctuary",
         "rawType": "bool",
         "type": "boolean"
        },
        {
         "name": "SellerG_Sandhurst",
         "rawType": "bool",
         "type": "boolean"
        },
        {
         "name": "SellerG_Schroeder",
         "rawType": "bool",
         "type": "boolean"
        },
        {
         "name": "SellerG_Scott",
         "rawType": "bool",
         "type": "boolean"
        },
        {
         "name": "SellerG_Sell",
         "rawType": "bool",
         "type": "boolean"
        },
        {
         "name": "SellerG_Shape",
         "rawType": "bool",
         "type": "boolean"
        },
        {
         "name": "SellerG_Skad",
         "rawType": "bool",
         "type": "boolean"
        },
        {
         "name": "SellerG_Smart",
         "rawType": "bool",
         "type": "boolean"
        },
        {
         "name": "SellerG_Sotheby's",
         "rawType": "bool",
         "type": "boolean"
        },
        {
         "name": "SellerG_Space",
         "rawType": "bool",
         "type": "boolean"
        },
        {
         "name": "SellerG_Spencer",
         "rawType": "bool",
         "type": "boolean"
        },
        {
         "name": "SellerG_Steller",
         "rawType": "bool",
         "type": "boolean"
        },
        {
         "name": "SellerG_Steveway",
         "rawType": "bool",
         "type": "boolean"
        },
        {
         "name": "SellerG_Stockdale",
         "rawType": "bool",
         "type": "boolean"
        },
        {
         "name": "SellerG_Surreal",
         "rawType": "bool",
         "type": "boolean"
        },
        {
         "name": "SellerG_Sweeney",
         "rawType": "bool",
         "type": "boolean"
        },
        {
         "name": "SellerG_Sweeney/Advantage",
         "rawType": "bool",
         "type": "boolean"
        },
        {
         "name": "SellerG_Sweeney/Burnham",
         "rawType": "bool",
         "type": "boolean"
        },
        {
         "name": "SellerG_T",
         "rawType": "bool",
         "type": "boolean"
        },
        {
         "name": "SellerG_TRUE",
         "rawType": "bool",
         "type": "boolean"
        },
        {
         "name": "SellerG_The",
         "rawType": "bool",
         "type": "boolean"
        },
        {
         "name": "SellerG_Thomas",
         "rawType": "bool",
         "type": "boolean"
        },
        {
         "name": "SellerG_Thomson",
         "rawType": "bool",
         "type": "boolean"
        },
        {
         "name": "SellerG_Tiernan's",
         "rawType": "bool",
         "type": "boolean"
        },
        {
         "name": "SellerG_Tim",
         "rawType": "bool",
         "type": "boolean"
        },
        {
         "name": "SellerG_Trimson",
         "rawType": "bool",
         "type": "boolean"
        },
        {
         "name": "SellerG_Triwest",
         "rawType": "bool",
         "type": "boolean"
        },
        {
         "name": "SellerG_U",
         "rawType": "bool",
         "type": "boolean"
        },
        {
         "name": "SellerG_Unity",
         "rawType": "bool",
         "type": "boolean"
        },
        {
         "name": "SellerG_Upper",
         "rawType": "bool",
         "type": "boolean"
        },
        {
         "name": "SellerG_Upside",
         "rawType": "bool",
         "type": "boolean"
        },
        {
         "name": "SellerG_VICPROP",
         "rawType": "bool",
         "type": "boolean"
        },
        {
         "name": "SellerG_VICProp",
         "rawType": "bool",
         "type": "boolean"
        },
        {
         "name": "SellerG_Veitch",
         "rawType": "bool",
         "type": "boolean"
        },
        {
         "name": "SellerG_Vic",
         "rawType": "bool",
         "type": "boolean"
        },
        {
         "name": "SellerG_VicHomes",
         "rawType": "bool",
         "type": "boolean"
        },
        {
         "name": "SellerG_Victory",
         "rawType": "bool",
         "type": "boolean"
        },
        {
         "name": "SellerG_Village",
         "rawType": "bool",
         "type": "boolean"
        },
        {
         "name": "SellerG_W.B.",
         "rawType": "bool",
         "type": "boolean"
        },
        {
         "name": "SellerG_WHITEFOX",
         "rawType": "bool",
         "type": "boolean"
        },
        {
         "name": "SellerG_Walsh",
         "rawType": "bool",
         "type": "boolean"
        },
        {
         "name": "SellerG_Walshe",
         "rawType": "bool",
         "type": "boolean"
        },
        {
         "name": "SellerG_Weast",
         "rawType": "bool",
         "type": "boolean"
        },
        {
         "name": "SellerG_Weda",
         "rawType": "bool",
         "type": "boolean"
        },
        {
         "name": "SellerG_Weston",
         "rawType": "bool",
         "type": "boolean"
        },
        {
         "name": "SellerG_Westside",
         "rawType": "bool",
         "type": "boolean"
        },
        {
         "name": "SellerG_White",
         "rawType": "bool",
         "type": "boolean"
        },
        {
         "name": "SellerG_Whiting",
         "rawType": "bool",
         "type": "boolean"
        },
        {
         "name": "SellerG_William",
         "rawType": "bool",
         "type": "boolean"
        },
        {
         "name": "SellerG_Williams",
         "rawType": "bool",
         "type": "boolean"
        },
        {
         "name": "SellerG_Wilson",
         "rawType": "bool",
         "type": "boolean"
        },
        {
         "name": "SellerG_Win",
         "rawType": "bool",
         "type": "boolean"
        },
        {
         "name": "SellerG_Wood",
         "rawType": "bool",
         "type": "boolean"
        },
        {
         "name": "SellerG_Woodards",
         "rawType": "bool",
         "type": "boolean"
        },
        {
         "name": "SellerG_Wyndham",
         "rawType": "bool",
         "type": "boolean"
        },
        {
         "name": "SellerG_Xynergy",
         "rawType": "bool",
         "type": "boolean"
        },
        {
         "name": "SellerG_YPA",
         "rawType": "bool",
         "type": "boolean"
        },
        {
         "name": "SellerG_Zahn",
         "rawType": "bool",
         "type": "boolean"
        },
        {
         "name": "SellerG_buyMyplace",
         "rawType": "bool",
         "type": "boolean"
        },
        {
         "name": "SellerG_hockingstuart",
         "rawType": "bool",
         "type": "boolean"
        },
        {
         "name": "SellerG_hockingstuart/Advantage",
         "rawType": "bool",
         "type": "boolean"
        },
        {
         "name": "SellerG_hockingstuart/Barry",
         "rawType": "bool",
         "type": "boolean"
        },
        {
         "name": "SellerG_hockingstuart/Biggin",
         "rawType": "bool",
         "type": "boolean"
        },
        {
         "name": "SellerG_hockingstuart/Buxton",
         "rawType": "bool",
         "type": "boolean"
        },
        {
         "name": "SellerG_hockingstuart/Harcourts",
         "rawType": "bool",
         "type": "boolean"
        },
        {
         "name": "SellerG_hockingstuart/Marshall",
         "rawType": "bool",
         "type": "boolean"
        },
        {
         "name": "SellerG_hockingstuart/Sweeney",
         "rawType": "bool",
         "type": "boolean"
        },
        {
         "name": "SellerG_hockingstuart/Village",
         "rawType": "bool",
         "type": "boolean"
        },
        {
         "name": "SellerG_hockingstuart/hockingstuart",
         "rawType": "bool",
         "type": "boolean"
        },
        {
         "name": "SellerG_iHomes",
         "rawType": "bool",
         "type": "boolean"
        },
        {
         "name": "SellerG_iOne",
         "rawType": "bool",
         "type": "boolean"
        },
        {
         "name": "SellerG_iProperty",
         "rawType": "bool",
         "type": "boolean"
        },
        {
         "name": "SellerG_iSell",
         "rawType": "bool",
         "type": "boolean"
        },
        {
         "name": "SellerG_iTRAK",
         "rawType": "bool",
         "type": "boolean"
        },
        {
         "name": "Regionname_Eastern Victoria",
         "rawType": "bool",
         "type": "boolean"
        },
        {
         "name": "Regionname_Northern Metropolitan",
         "rawType": "bool",
         "type": "boolean"
        },
        {
         "name": "Regionname_Northern Victoria",
         "rawType": "bool",
         "type": "boolean"
        },
        {
         "name": "Regionname_South-Eastern Metropolitan",
         "rawType": "bool",
         "type": "boolean"
        },
        {
         "name": "Regionname_Southern Metropolitan",
         "rawType": "bool",
         "type": "boolean"
        },
        {
         "name": "Regionname_Western Metropolitan",
         "rawType": "bool",
         "type": "boolean"
        },
        {
         "name": "Regionname_Western Victoria",
         "rawType": "bool",
         "type": "boolean"
        },
        {
         "name": "CouncilArea_Bayside City Council",
         "rawType": "bool",
         "type": "boolean"
        },
        {
         "name": "CouncilArea_Boroondara City Council",
         "rawType": "bool",
         "type": "boolean"
        },
        {
         "name": "CouncilArea_Brimbank City Council",
         "rawType": "bool",
         "type": "boolean"
        },
        {
         "name": "CouncilArea_Cardinia Shire Council",
         "rawType": "bool",
         "type": "boolean"
        },
        {
         "name": "CouncilArea_Casey City Council",
         "rawType": "bool",
         "type": "boolean"
        },
        {
         "name": "CouncilArea_Darebin City Council",
         "rawType": "bool",
         "type": "boolean"
        },
        {
         "name": "CouncilArea_Frankston City Council",
         "rawType": "bool",
         "type": "boolean"
        },
        {
         "name": "CouncilArea_Glen Eira City Council",
         "rawType": "bool",
         "type": "boolean"
        },
        {
         "name": "CouncilArea_Greater Dandenong City Council",
         "rawType": "bool",
         "type": "boolean"
        },
        {
         "name": "CouncilArea_Hobsons Bay City Council",
         "rawType": "bool",
         "type": "boolean"
        },
        {
         "name": "CouncilArea_Hume City Council",
         "rawType": "bool",
         "type": "boolean"
        },
        {
         "name": "CouncilArea_Kingston City Council",
         "rawType": "bool",
         "type": "boolean"
        },
        {
         "name": "CouncilArea_Knox City Council",
         "rawType": "bool",
         "type": "boolean"
        },
        {
         "name": "CouncilArea_Macedon Ranges Shire Council",
         "rawType": "bool",
         "type": "boolean"
        },
        {
         "name": "CouncilArea_Manningham City Council",
         "rawType": "bool",
         "type": "boolean"
        },
        {
         "name": "CouncilArea_Maribyrnong City Council",
         "rawType": "bool",
         "type": "boolean"
        },
        {
         "name": "CouncilArea_Maroondah City Council",
         "rawType": "bool",
         "type": "boolean"
        },
        {
         "name": "CouncilArea_Melbourne City Council",
         "rawType": "bool",
         "type": "boolean"
        },
        {
         "name": "CouncilArea_Melton City Council",
         "rawType": "bool",
         "type": "boolean"
        },
        {
         "name": "CouncilArea_Mitchell Shire Council",
         "rawType": "bool",
         "type": "boolean"
        },
        {
         "name": "CouncilArea_Monash City Council",
         "rawType": "bool",
         "type": "boolean"
        },
        {
         "name": "CouncilArea_Moonee Valley City Council",
         "rawType": "bool",
         "type": "boolean"
        },
        {
         "name": "CouncilArea_Moorabool Shire Council",
         "rawType": "bool",
         "type": "boolean"
        },
        {
         "name": "CouncilArea_Moreland City Council",
         "rawType": "bool",
         "type": "boolean"
        },
        {
         "name": "CouncilArea_Nillumbik Shire Council",
         "rawType": "bool",
         "type": "boolean"
        },
        {
         "name": "CouncilArea_Port Phillip City Council",
         "rawType": "bool",
         "type": "boolean"
        },
        {
         "name": "CouncilArea_Stonnington City Council",
         "rawType": "bool",
         "type": "boolean"
        },
        {
         "name": "CouncilArea_Whitehorse City Council",
         "rawType": "bool",
         "type": "boolean"
        },
        {
         "name": "CouncilArea_Whittlesea City Council",
         "rawType": "bool",
         "type": "boolean"
        },
        {
         "name": "CouncilArea_Wyndham City Council",
         "rawType": "bool",
         "type": "boolean"
        },
        {
         "name": "CouncilArea_Yarra City Council",
         "rawType": "bool",
         "type": "boolean"
        },
        {
         "name": "CouncilArea_Yarra Ranges Shire Council",
         "rawType": "bool",
         "type": "boolean"
        }
       ],
       "conversionMethod": "pd.DataFrame",
       "ref": "348eb0b3-c0e6-4129-bce0-d1a356d1a5bc",
       "rows": [
        [
         "1",
         "2",
         "4019.0",
         "2.5",
         "2.0",
         "1.0",
         "1.0",
         "202.0",
         "160.2564003565711",
         "1480000.0",
         "False",
         "False",
         "False",
         "False",
         "False",
         "False",
         "False",
         "False",
         "False",
         "False",
         "False",
         "False",
         "False",
         "False",
         "False",
         "False",
         "False",
         "False",
         "False",
         "False",
         "False",
         "False",
         "False",
         "False",
         "False",
         "False",
         "False",
         "False",
         "False",
         "False",
         "False",
         "False",
         "False",
         "False",
         "False",
         "False",
         "False",
         "False",
         "False",
         "False",
         "False",
         "False",
         "False",
         "False",
         "False",
         "False",
         "False",
         "False",
         "False",
         "False",
         "False",
         "False",
         "False",
         "False",
         "False",
         "False",
         "False",
         "False",
         "False",
         "False",
         "False",
         "False",
         "False",
         "False",
         "False",
         "False",
         "False",
         "False",
         "False",
         "False",
         "False",
         "False",
         "False",
         "False",
         "False",
         "False",
         "False",
         "False",
         "False",
         "False",
         "False",
         "False",
         "False",
         "False",
         "False",
         "False",
         "False",
         "False",
         "False",
         "False",
         "False",
         "False",
         "False",
         "False",
         "False",
         "False",
         "False",
         "False",
         "False",
         "False",
         "False",
         "False",
         "False",
         "False",
         "False",
         "False",
         "False",
         "False",
         "False",
         "False",
         "False",
         "False",
         "False",
         "False",
         "False",
         "False",
         "False",
         "False",
         "False",
         "False",
         "False",
         "False",
         "False",
         "False",
         "False",
         "False",
         "False",
         "False",
         "False",
         "False",
         "False",
         "False",
         "False",
         "False",
         "False",
         "False",
         "False",
         "False",
         "False",
         "False",
         "False",
         "False",
         "False",
         "False",
         "False",
         "False",
         "False",
         "False",
         "False",
         "False",
         "False",
         "False",
         "False",
         "False",
         "False",
         "False",
         "False",
         "False",
         "False",
         "False",
         "False",
         "False",
         "False",
         "False",
         "False",
         "False",
         "False",
         "False",
         "False",
         "False",
         "False",
         "False",
         "False",
         "False",
         "False",
         "False",
         "False",
         "False",
         "False",
         "False",
         "False",
         "False",
         "False",
         "False",
         "False",
         "False",
         "False",
         "False",
         "False",
         "False",
         "False",
         "False",
         "False",
         "False",
         "False",
         "False",
         "False",
         "False",
         "False",
         "False",
         "False",
         "False",
         "False",
         "False",
         "False",
         "False",
         "False",
         "False",
         "False",
         "False",
         "False",
         "False",
         "False",
         "False",
         "False",
         "False",
         "False",
         "False",
         "False",
         "False",
         "False",
         "False",
         "False",
         "False",
         "False",
         "False",
         "False",
         "False",
         "False",
         "False",
         "False",
         "False",
         "False",
         "False",
         "False",
         "False",
         "False",
         "False",
         "False",
         "False",
         "False",
         "False",
         "False",
         "False",
         "False",
         "False",
         "False",
         "False",
         "False",
         "False",
         "False",
         "False",
         "False",
         "False",
         "False",
         "False",
         "False",
         "False",
         "False",
         "False",
         "False",
         "False",
         "False",
         "False",
         "False",
         "False",
         "False",
         "False",
         "False",
         "False",
         "False",
         "False",
         "False",
         "False",
         "False",
         "False",
         "False",
         "False",
         "False",
         "False",
         "False",
         "False",
         "False",
         "False",
         "False",
         "False",
         "False",
         "False",
         "False",
         "False",
         "False",
         "False",
         "False",
         "False",
         "False",
         "False",
         "False",
         "False",
         "False",
         "False",
         "False",
         "False",
         "False",
         "False",
         "False",
         "False",
         "False",
         "False",
         "False",
         "False",
         "False",
         "False",
         "False",
         "False",
         "False",
         "False",
         "False",
         "False",
         "False",
         "False",
         "False",
         "False",
         "False",
         "False",
         "False",
         "False",
         "False",
         "False",
         "False",
         "False",
         "False",
         "False",
         "False",
         "False",
         "False",
         "False",
         "False",
         "False",
         "False",
         "False",
         "False",
         "False",
         "False",
         "False",
         "False",
         "False",
         "False",
         "False",
         "False",
         "False",
         "False",
         "False",
         "False",
         "False",
         "False",
         "False",
         "False",
         "False",
         "False",
         "False",
         "False",
         "False",
         "False",
         "False",
         "False",
         "False",
         "False",
         "False",
         "False",
         "False",
         "False",
         "False",
         "False",
         "False",
         "False",
         "False",
         "True",
         "False",
         "False",
         "False",
         "False",
         "False",
         "False",
         "False",
         "False",
         "False",
         "False",
         "False",
         "False",
         "False",
         "False",
         "False",
         "False",
         "False",
         "False",
         "False",
         "False",
         "False",
         "False",
         "False",
         "False",
         "False",
         "False",
         "False",
         "False",
         "False",
         "False",
         "False",
         "False",
         "False",
         "False",
         "False",
         "False",
         "False",
         "False",
         "False",
         "False",
         "False",
         "False",
         "False",
         "False",
         "False",
         "False",
         "False",
         "False",
         "False",
         "False",
         "False",
         "False",
         "False",
         "False",
         "False",
         "False",
         "False",
         "False",
         "False",
         "False",
         "False",
         "False",
         "False",
         "False",
         "False",
         "False",
         "False",
         "False",
         "False",
         "False",
         "False",
         "False",
         "False",
         "False",
         "False",
         "False",
         "False",
         "False",
         "False",
         "False",
         "False",
         "False",
         "False",
         "False",
         "False",
         "False",
         "False",
         "False",
         "False",
         "False",
         "False",
         "False",
         "False",
         "False",
         "False",
         "False",
         "False",
         "False",
         "False",
         "False",
         "False",
         "False",
         "False",
         "False",
         "False",
         "False",
         "False",
         "False",
         "False",
         "False",
         "False",
         "False",
         "False",
         "False",
         "False",
         "False",
         "False",
         "False",
         "False",
         "False",
         "False",
         "False",
         "False",
         "False",
         "False",
         "False",
         "False",
         "False",
         "False",
         "False",
         "False",
         "False",
         "False",
         "False",
         "False",
         "False",
         "False",
         "False",
         "False",
         "False",
         "False",
         "False",
         "False",
         "False",
         "False",
         "False",
         "False",
         "False",
         "False",
         "False",
         "False",
         "False",
         "False",
         "False",
         "False",
         "False",
         "False",
         "False",
         "False",
         "False",
         "False",
         "False",
         "False",
         "False",
         "False",
         "False",
         "False",
         "False",
         "False",
         "False",
         "False",
         "False",
         "False",
         "False",
         "False",
         "False",
         "False",
         "False",
         "False",
         "False",
         "False",
         "False",
         "False",
         "False",
         "False",
         "False",
         "False",
         "False",
         "False",
         "False",
         "False",
         "False",
         "False",
         "False",
         "False",
         "False",
         "False",
         "False",
         "False",
         "False",
         "False",
         "False",
         "False",
         "False",
         "False",
         "False",
         "False",
         "False",
         "False",
         "False",
         "False",
         "False",
         "False",
         "False",
         "False",
         "False",
         "False",
         "False",
         "False",
         "False",
         "False",
         "False",
         "False",
         "False",
         "False",
         "False",
         "False",
         "False",
         "False",
         "False",
         "False",
         "False",
         "False",
         "False",
         "False",
         "False",
         "False",
         "False",
         "False",
         "False",
         "False",
         "False",
         "False",
         "False",
         "False",
         "False",
         "False",
         "False",
         "False",
         "False",
         "False",
         "False",
         "False",
         "False",
         "False",
         "False",
         "False",
         "False",
         "False",
         "False",
         "False",
         "False",
         "False",
         "False",
         "False",
         "False",
         "False",
         "False",
         "False",
         "False",
         "False",
         "False",
         "False",
         "False",
         "False",
         "False",
         "False",
         "False",
         "False",
         "False",
         "False",
         "False",
         "False",
         "False",
         "False",
         "False",
         "False",
         "False",
         "False",
         "False",
         "False",
         "False",
         "False",
         "False",
         "False",
         "False",
         "False",
         "False",
         "False",
         "False",
         "False",
         "False",
         "False",
         "False",
         "False",
         "False",
         "False",
         "False",
         "False",
         "False",
         "False",
         "False",
         "False",
         "False",
         "False",
         "False",
         "False",
         "True",
         "False",
         "False",
         "False",
         "False",
         "False",
         "False",
         "False",
         "False",
         "False",
         "False",
         "False",
         "False",
         "False",
         "False",
         "False",
         "False",
         "False",
         "False",
         "False",
         "False",
         "False",
         "False",
         "False",
         "False",
         "False",
         "False",
         "False",
         "False",
         "False",
         "False",
         "False",
         "False",
         "False",
         "False",
         "False",
         "True",
         "False"
        ],
        [
         "2",
         "2",
         "4019.0",
         "2.5",
         "2.0",
         "1.0",
         "0.0",
         "156.0",
         "79.0",
         "1035000.0",
         "False",
         "False",
         "False",
         "False",
         "False",
         "False",
         "False",
         "False",
         "False",
         "False",
         "False",
         "False",
         "False",
         "False",
         "False",
         "False",
         "False",
         "False",
         "False",
         "False",
         "False",
         "False",
         "False",
         "False",
         "False",
         "False",
         "False",
         "False",
         "False",
         "False",
         "False",
         "False",
         "False",
         "False",
         "False",
         "False",
         "False",
         "False",
         "False",
         "False",
         "False",
         "False",
         "False",
         "False",
         "False",
         "False",
         "False",
         "False",
         "False",
         "False",
         "False",
         "False",
         "False",
         "False",
         "False",
         "False",
         "False",
         "False",
         "False",
         "False",
         "False",
         "False",
         "False",
         "False",
         "False",
         "False",
         "False",
         "False",
         "False",
         "False",
         "False",
         "False",
         "False",
         "False",
         "False",
         "False",
         "False",
         "False",
         "False",
         "False",
         "False",
         "False",
         "False",
         "False",
         "False",
         "False",
         "False",
         "False",
         "False",
         "False",
         "False",
         "False",
         "False",
         "False",
         "False",
         "False",
         "False",
         "False",
         "False",
         "False",
         "False",
         "False",
         "False",
         "False",
         "False",
         "False",
         "False",
         "False",
         "False",
         "False",
         "False",
         "False",
         "False",
         "False",
         "False",
         "False",
         "False",
         "False",
         "False",
         "False",
         "False",
         "False",
         "False",
         "False",
         "False",
         "False",
         "False",
         "False",
         "False",
         "False",
         "False",
         "False",
         "False",
         "False",
         "False",
         "False",
         "False",
         "False",
         "False",
         "False",
         "False",
         "False",
         "False",
         "False",
         "False",
         "False",
         "False",
         "False",
         "False",
         "False",
         "False",
         "False",
         "False",
         "False",
         "False",
         "False",
         "False",
         "False",
         "False",
         "False",
         "False",
         "False",
         "False",
         "False",
         "False",
         "False",
         "False",
         "False",
         "False",
         "False",
         "False",
         "False",
         "False",
         "False",
         "False",
         "False",
         "False",
         "False",
         "False",
         "False",
         "False",
         "False",
         "False",
         "False",
         "False",
         "False",
         "False",
         "False",
         "False",
         "False",
         "False",
         "False",
         "False",
         "False",
         "False",
         "False",
         "False",
         "False",
         "False",
         "False",
         "False",
         "False",
         "False",
         "False",
         "False",
         "False",
         "False",
         "False",
         "False",
         "False",
         "False",
         "False",
         "False",
         "False",
         "False",
         "False",
         "False",
         "False",
         "False",
         "False",
         "False",
         "False",
         "False",
         "False",
         "False",
         "False",
         "False",
         "False",
         "False",
         "False",
         "False",
         "False",
         "False",
         "False",
         "False",
         "False",
         "False",
         "False",
         "False",
         "False",
         "False",
         "False",
         "False",
         "False",
         "False",
         "False",
         "False",
         "False",
         "False",
         "False",
         "False",
         "False",
         "False",
         "False",
         "False",
         "False",
         "False",
         "False",
         "False",
         "False",
         "False",
         "False",
         "False",
         "False",
         "False",
         "False",
         "False",
         "False",
         "False",
         "False",
         "False",
         "False",
         "False",
         "False",
         "False",
         "False",
         "False",
         "False",
         "False",
         "False",
         "False",
         "False",
         "False",
         "False",
         "False",
         "False",
         "False",
         "False",
         "False",
         "False",
         "False",
         "False",
         "False",
         "False",
         "False",
         "False",
         "False",
         "False",
         "False",
         "False",
         "False",
         "False",
         "False",
         "False",
         "False",
         "False",
         "False",
         "False",
         "False",
         "False",
         "False",
         "False",
         "False",
         "False",
         "False",
         "False",
         "False",
         "False",
         "False",
         "False",
         "False",
         "False",
         "False",
         "False",
         "False",
         "False",
         "False",
         "False",
         "False",
         "False",
         "False",
         "False",
         "False",
         "False",
         "False",
         "False",
         "False",
         "False",
         "False",
         "False",
         "False",
         "False",
         "False",
         "False",
         "False",
         "False",
         "False",
         "False",
         "False",
         "False",
         "False",
         "False",
         "False",
         "False",
         "False",
         "False",
         "False",
         "False",
         "False",
         "False",
         "False",
         "False",
         "False",
         "False",
         "False",
         "False",
         "False",
         "False",
         "False",
         "False",
         "False",
         "False",
         "False",
         "False",
         "False",
         "False",
         "True",
         "False",
         "False",
         "False",
         "False",
         "False",
         "False",
         "False",
         "False",
         "False",
         "False",
         "False",
         "False",
         "False",
         "False",
         "False",
         "False",
         "False",
         "False",
         "False",
         "False",
         "False",
         "False",
         "False",
         "False",
         "False",
         "False",
         "False",
         "False",
         "False",
         "False",
         "False",
         "False",
         "False",
         "False",
         "False",
         "False",
         "False",
         "False",
         "False",
         "False",
         "False",
         "False",
         "False",
         "False",
         "False",
         "False",
         "False",
         "False",
         "False",
         "False",
         "False",
         "False",
         "False",
         "False",
         "False",
         "False",
         "False",
         "False",
         "False",
         "False",
         "False",
         "False",
         "False",
         "False",
         "False",
         "False",
         "False",
         "False",
         "False",
         "False",
         "False",
         "False",
         "False",
         "False",
         "False",
         "False",
         "False",
         "False",
         "False",
         "False",
         "False",
         "False",
         "False",
         "False",
         "False",
         "False",
         "False",
         "False",
         "False",
         "False",
         "False",
         "False",
         "False",
         "False",
         "False",
         "False",
         "False",
         "False",
         "False",
         "False",
         "False",
         "False",
         "False",
         "False",
         "False",
         "False",
         "False",
         "False",
         "False",
         "False",
         "False",
         "False",
         "False",
         "False",
         "False",
         "False",
         "False",
         "False",
         "False",
         "False",
         "False",
         "False",
         "False",
         "False",
         "False",
         "False",
         "False",
         "False",
         "False",
         "False",
         "False",
         "False",
         "False",
         "False",
         "False",
         "False",
         "False",
         "False",
         "False",
         "False",
         "False",
         "False",
         "False",
         "False",
         "False",
         "False",
         "False",
         "False",
         "False",
         "False",
         "False",
         "False",
         "False",
         "False",
         "False",
         "False",
         "False",
         "False",
         "False",
         "False",
         "False",
         "False",
         "False",
         "False",
         "False",
         "False",
         "False",
         "False",
         "False",
         "False",
         "False",
         "False",
         "False",
         "False",
         "False",
         "False",
         "False",
         "False",
         "False",
         "False",
         "False",
         "False",
         "False",
         "False",
         "False",
         "False",
         "False",
         "False",
         "False",
         "False",
         "False",
         "False",
         "False",
         "False",
         "False",
         "False",
         "False",
         "False",
         "False",
         "False",
         "False",
         "False",
         "False",
         "False",
         "False",
         "False",
         "False",
         "False",
         "False",
         "False",
         "False",
         "False",
         "False",
         "False",
         "False",
         "False",
         "False",
         "False",
         "False",
         "False",
         "False",
         "False",
         "False",
         "False",
         "False",
         "False",
         "False",
         "False",
         "False",
         "False",
         "False",
         "False",
         "False",
         "False",
         "False",
         "False",
         "False",
         "False",
         "False",
         "False",
         "False",
         "False",
         "False",
         "False",
         "False",
         "False",
         "False",
         "False",
         "False",
         "False",
         "False",
         "False",
         "False",
         "False",
         "False",
         "False",
         "False",
         "False",
         "False",
         "False",
         "False",
         "False",
         "False",
         "False",
         "False",
         "False",
         "False",
         "False",
         "False",
         "False",
         "False",
         "False",
         "False",
         "False",
         "False",
         "False",
         "False",
         "False",
         "False",
         "False",
         "False",
         "False",
         "False",
         "False",
         "False",
         "False",
         "False",
         "False",
         "False",
         "False",
         "False",
         "False",
         "False",
         "False",
         "False",
         "False",
         "False",
         "False",
         "False",
         "False",
         "False",
         "False",
         "False",
         "False",
         "False",
         "False",
         "False",
         "False",
         "False",
         "False",
         "False",
         "False",
         "False",
         "False",
         "False",
         "False",
         "False",
         "True",
         "False",
         "False",
         "False",
         "False",
         "False",
         "False",
         "False",
         "False",
         "False",
         "False",
         "False",
         "False",
         "False",
         "False",
         "False",
         "False",
         "False",
         "False",
         "False",
         "False",
         "False",
         "False",
         "False",
         "False",
         "False",
         "False",
         "False",
         "False",
         "False",
         "False",
         "False",
         "False",
         "False",
         "False",
         "False",
         "True",
         "False"
        ],
        [
         "4",
         "3",
         "4019.0",
         "2.5",
         "3.0",
         "2.0",
         "0.0",
         "134.0",
         "150.0",
         "1465000.0",
         "False",
         "False",
         "False",
         "False",
         "False",
         "False",
         "False",
         "False",
         "False",
         "False",
         "False",
         "False",
         "False",
         "False",
         "False",
         "False",
         "False",
         "False",
         "False",
         "False",
         "False",
         "False",
         "False",
         "False",
         "False",
         "False",
         "False",
         "False",
         "False",
         "False",
         "False",
         "False",
         "False",
         "False",
         "False",
         "False",
         "False",
         "False",
         "False",
         "False",
         "False",
         "False",
         "False",
         "False",
         "False",
         "False",
         "False",
         "False",
         "False",
         "False",
         "False",
         "False",
         "False",
         "False",
         "False",
         "False",
         "False",
         "False",
         "False",
         "False",
         "False",
         "False",
         "False",
         "False",
         "False",
         "False",
         "False",
         "False",
         "False",
         "False",
         "False",
         "False",
         "False",
         "False",
         "False",
         "False",
         "False",
         "False",
         "False",
         "False",
         "False",
         "False",
         "False",
         "False",
         "False",
         "False",
         "False",
         "False",
         "False",
         "False",
         "False",
         "False",
         "False",
         "False",
         "False",
         "False",
         "False",
         "False",
         "False",
         "False",
         "False",
         "False",
         "False",
         "False",
         "False",
         "False",
         "False",
         "False",
         "False",
         "False",
         "False",
         "False",
         "False",
         "False",
         "False",
         "False",
         "False",
         "False",
         "False",
         "False",
         "False",
         "False",
         "False",
         "False",
         "False",
         "False",
         "False",
         "False",
         "False",
         "False",
         "False",
         "False",
         "False",
         "False",
         "False",
         "False",
         "False",
         "False",
         "False",
         "False",
         "False",
         "False",
         "False",
         "False",
         "False",
         "False",
         "False",
         "False",
         "False",
         "False",
         "False",
         "False",
         "False",
         "False",
         "False",
         "False",
         "False",
         "False",
         "False",
         "False",
         "False",
         "False",
         "False",
         "False",
         "False",
         "False",
         "False",
         "False",
         "False",
         "False",
         "False",
         "False",
         "False",
         "False",
         "False",
         "False",
         "False",
         "False",
         "False",
         "False",
         "False",
         "False",
         "False",
         "False",
         "False",
         "False",
         "False",
         "False",
         "False",
         "False",
         "False",
         "False",
         "False",
         "False",
         "False",
         "False",
         "False",
         "False",
         "False",
         "False",
         "False",
         "False",
         "False",
         "False",
         "False",
         "False",
         "False",
         "False",
         "False",
         "False",
         "False",
         "False",
         "False",
         "False",
         "False",
         "False",
         "False",
         "False",
         "False",
         "False",
         "False",
         "False",
         "False",
         "False",
         "False",
         "False",
         "False",
         "False",
         "False",
         "False",
         "False",
         "False",
         "False",
         "False",
         "False",
         "False",
         "False",
         "False",
         "False",
         "False",
         "False",
         "False",
         "False",
         "False",
         "False",
         "False",
         "False",
         "False",
         "False",
         "False",
         "False",
         "False",
         "False",
         "False",
         "False",
         "False",
         "False",
         "False",
         "False",
         "False",
         "False",
         "False",
         "False",
         "False",
         "False",
         "False",
         "False",
         "False",
         "False",
         "False",
         "False",
         "False",
         "False",
         "False",
         "False",
         "False",
         "False",
         "False",
         "False",
         "False",
         "False",
         "False",
         "False",
         "False",
         "False",
         "False",
         "False",
         "False",
         "False",
         "False",
         "False",
         "False",
         "False",
         "False",
         "False",
         "False",
         "False",
         "False",
         "False",
         "False",
         "False",
         "False",
         "False",
         "False",
         "False",
         "False",
         "False",
         "False",
         "False",
         "False",
         "False",
         "False",
         "False",
         "False",
         "False",
         "False",
         "False",
         "False",
         "False",
         "False",
         "False",
         "False",
         "False",
         "False",
         "False",
         "False",
         "False",
         "False",
         "False",
         "False",
         "False",
         "False",
         "False",
         "False",
         "False",
         "False",
         "False",
         "False",
         "False",
         "False",
         "False",
         "False",
         "False",
         "False",
         "False",
         "False",
         "False",
         "False",
         "False",
         "False",
         "False",
         "False",
         "False",
         "False",
         "False",
         "False",
         "False",
         "False",
         "False",
         "False",
         "False",
         "False",
         "False",
         "False",
         "False",
         "False",
         "False",
         "False",
         "False",
         "False",
         "False",
         "False",
         "False",
         "False",
         "False",
         "False",
         "True",
         "False",
         "False",
         "False",
         "False",
         "False",
         "False",
         "False",
         "False",
         "False",
         "False",
         "False",
         "False",
         "False",
         "False",
         "False",
         "False",
         "False",
         "False",
         "False",
         "False",
         "False",
         "False",
         "False",
         "False",
         "False",
         "False",
         "False",
         "False",
         "False",
         "False",
         "False",
         "False",
         "False",
         "False",
         "False",
         "False",
         "False",
         "False",
         "False",
         "False",
         "False",
         "False",
         "False",
         "False",
         "False",
         "False",
         "False",
         "False",
         "False",
         "False",
         "False",
         "False",
         "False",
         "False",
         "False",
         "False",
         "False",
         "False",
         "False",
         "False",
         "False",
         "False",
         "False",
         "False",
         "False",
         "False",
         "False",
         "False",
         "False",
         "False",
         "False",
         "False",
         "False",
         "False",
         "False",
         "False",
         "False",
         "False",
         "False",
         "False",
         "False",
         "False",
         "False",
         "False",
         "False",
         "False",
         "False",
         "False",
         "False",
         "False",
         "False",
         "False",
         "False",
         "False",
         "False",
         "False",
         "False",
         "False",
         "False",
         "False",
         "False",
         "False",
         "False",
         "False",
         "False",
         "False",
         "False",
         "False",
         "False",
         "False",
         "False",
         "False",
         "False",
         "False",
         "False",
         "False",
         "False",
         "False",
         "False",
         "False",
         "False",
         "False",
         "False",
         "False",
         "False",
         "False",
         "False",
         "False",
         "False",
         "False",
         "False",
         "False",
         "False",
         "False",
         "False",
         "False",
         "False",
         "False",
         "False",
         "False",
         "False",
         "False",
         "False",
         "False",
         "False",
         "False",
         "False",
         "False",
         "False",
         "False",
         "False",
         "False",
         "False",
         "False",
         "False",
         "False",
         "False",
         "False",
         "False",
         "False",
         "False",
         "False",
         "False",
         "False",
         "False",
         "False",
         "False",
         "False",
         "False",
         "False",
         "False",
         "False",
         "False",
         "False",
         "False",
         "False",
         "False",
         "False",
         "False",
         "False",
         "False",
         "False",
         "False",
         "False",
         "False",
         "False",
         "False",
         "False",
         "False",
         "False",
         "False",
         "False",
         "False",
         "False",
         "False",
         "False",
         "False",
         "False",
         "False",
         "False",
         "False",
         "False",
         "False",
         "False",
         "False",
         "False",
         "False",
         "False",
         "False",
         "False",
         "False",
         "False",
         "False",
         "False",
         "False",
         "False",
         "False",
         "False",
         "False",
         "False",
         "False",
         "False",
         "False",
         "False",
         "False",
         "False",
         "False",
         "False",
         "False",
         "False",
         "False",
         "False",
         "False",
         "False",
         "False",
         "False",
         "False",
         "False",
         "False",
         "False",
         "False",
         "False",
         "False",
         "False",
         "False",
         "False",
         "False",
         "False",
         "False",
         "False",
         "False",
         "False",
         "False",
         "False",
         "False",
         "False",
         "False",
         "False",
         "False",
         "False",
         "False",
         "False",
         "False",
         "False",
         "False",
         "False",
         "False",
         "False",
         "False",
         "False",
         "False",
         "False",
         "False",
         "False",
         "False",
         "False",
         "False",
         "False",
         "False",
         "False",
         "False",
         "False",
         "False",
         "False",
         "False",
         "False",
         "False",
         "False",
         "False",
         "False",
         "False",
         "False",
         "False",
         "False",
         "False",
         "False",
         "False",
         "False",
         "False",
         "False",
         "False",
         "False",
         "False",
         "False",
         "False",
         "False",
         "False",
         "False",
         "False",
         "False",
         "False",
         "False",
         "False",
         "False",
         "False",
         "False",
         "False",
         "True",
         "False",
         "False",
         "False",
         "False",
         "False",
         "False",
         "False",
         "False",
         "False",
         "False",
         "False",
         "False",
         "False",
         "False",
         "False",
         "False",
         "False",
         "False",
         "False",
         "False",
         "False",
         "False",
         "False",
         "False",
         "False",
         "False",
         "False",
         "False",
         "False",
         "False",
         "False",
         "False",
         "False",
         "False",
         "False",
         "True",
         "False"
        ],
        [
         "5",
         "3",
         "4019.0",
         "2.5",
         "3.0",
         "2.0",
         "1.0",
         "94.0",
         "160.2564003565711",
         "850000.0",
         "False",
         "False",
         "False",
         "False",
         "False",
         "False",
         "False",
         "False",
         "False",
         "False",
         "False",
         "False",
         "False",
         "False",
         "False",
         "False",
         "False",
         "False",
         "False",
         "False",
         "False",
         "False",
         "False",
         "False",
         "False",
         "False",
         "False",
         "False",
         "False",
         "False",
         "False",
         "False",
         "False",
         "False",
         "False",
         "False",
         "False",
         "False",
         "False",
         "False",
         "False",
         "False",
         "False",
         "False",
         "False",
         "False",
         "False",
         "False",
         "False",
         "False",
         "False",
         "False",
         "False",
         "False",
         "False",
         "False",
         "False",
         "False",
         "False",
         "False",
         "False",
         "False",
         "False",
         "False",
         "False",
         "False",
         "False",
         "False",
         "False",
         "False",
         "False",
         "False",
         "False",
         "False",
         "False",
         "False",
         "False",
         "False",
         "False",
         "False",
         "False",
         "False",
         "False",
         "False",
         "False",
         "False",
         "False",
         "False",
         "False",
         "False",
         "False",
         "False",
         "False",
         "False",
         "False",
         "False",
         "False",
         "False",
         "False",
         "False",
         "False",
         "False",
         "False",
         "False",
         "False",
         "False",
         "False",
         "False",
         "False",
         "False",
         "False",
         "False",
         "False",
         "False",
         "False",
         "False",
         "False",
         "False",
         "False",
         "False",
         "False",
         "False",
         "False",
         "False",
         "False",
         "False",
         "False",
         "False",
         "False",
         "False",
         "False",
         "False",
         "False",
         "False",
         "False",
         "False",
         "False",
         "False",
         "False",
         "False",
         "False",
         "False",
         "False",
         "False",
         "False",
         "False",
         "False",
         "False",
         "False",
         "False",
         "False",
         "False",
         "False",
         "False",
         "False",
         "False",
         "False",
         "False",
         "False",
         "False",
         "False",
         "False",
         "False",
         "False",
         "False",
         "False",
         "False",
         "False",
         "False",
         "False",
         "False",
         "False",
         "False",
         "False",
         "False",
         "False",
         "False",
         "False",
         "False",
         "False",
         "False",
         "False",
         "False",
         "False",
         "False",
         "False",
         "False",
         "False",
         "False",
         "False",
         "False",
         "False",
         "False",
         "False",
         "False",
         "False",
         "False",
         "False",
         "False",
         "False",
         "False",
         "False",
         "False",
         "False",
         "False",
         "False",
         "False",
         "False",
         "False",
         "False",
         "False",
         "False",
         "False",
         "False",
         "False",
         "False",
         "False",
         "False",
         "False",
         "False",
         "False",
         "False",
         "False",
         "False",
         "False",
         "False",
         "False",
         "False",
         "False",
         "False",
         "False",
         "False",
         "False",
         "False",
         "False",
         "False",
         "False",
         "False",
         "False",
         "False",
         "False",
         "False",
         "False",
         "False",
         "False",
         "False",
         "False",
         "False",
         "False",
         "False",
         "False",
         "False",
         "False",
         "False",
         "False",
         "False",
         "False",
         "False",
         "False",
         "False",
         "False",
         "False",
         "False",
         "False",
         "False",
         "False",
         "False",
         "False",
         "False",
         "False",
         "False",
         "False",
         "False",
         "False",
         "False",
         "False",
         "False",
         "False",
         "False",
         "False",
         "False",
         "False",
         "False",
         "False",
         "False",
         "False",
         "False",
         "False",
         "False",
         "False",
         "False",
         "False",
         "False",
         "False",
         "False",
         "False",
         "False",
         "False",
         "False",
         "False",
         "False",
         "False",
         "False",
         "False",
         "False",
         "False",
         "False",
         "False",
         "False",
         "False",
         "False",
         "False",
         "False",
         "False",
         "False",
         "False",
         "False",
         "False",
         "False",
         "False",
         "False",
         "False",
         "False",
         "False",
         "False",
         "False",
         "False",
         "False",
         "False",
         "False",
         "False",
         "False",
         "False",
         "False",
         "False",
         "False",
         "False",
         "False",
         "False",
         "False",
         "False",
         "False",
         "False",
         "False",
         "False",
         "False",
         "False",
         "False",
         "False",
         "False",
         "False",
         "False",
         "False",
         "False",
         "False",
         "False",
         "False",
         "False",
         "False",
         "False",
         "False",
         "False",
         "False",
         "False",
         "False",
         "False",
         "False",
         "False",
         "False",
         "False",
         "False",
         "False",
         "False",
         "False",
         "False",
         "False",
         "True",
         "False",
         "False",
         "False",
         "False",
         "False",
         "False",
         "False",
         "False",
         "False",
         "False",
         "False",
         "False",
         "False",
         "False",
         "False",
         "False",
         "False",
         "False",
         "False",
         "False",
         "False",
         "False",
         "False",
         "False",
         "False",
         "False",
         "False",
         "False",
         "False",
         "False",
         "False",
         "False",
         "False",
         "False",
         "False",
         "False",
         "False",
         "False",
         "False",
         "False",
         "False",
         "False",
         "False",
         "False",
         "False",
         "False",
         "False",
         "False",
         "False",
         "False",
         "False",
         "False",
         "False",
         "False",
         "False",
         "False",
         "False",
         "False",
         "False",
         "False",
         "False",
         "False",
         "False",
         "False",
         "False",
         "False",
         "False",
         "False",
         "False",
         "False",
         "False",
         "False",
         "False",
         "False",
         "False",
         "False",
         "False",
         "False",
         "False",
         "False",
         "False",
         "False",
         "False",
         "False",
         "False",
         "False",
         "False",
         "False",
         "False",
         "False",
         "False",
         "False",
         "False",
         "False",
         "False",
         "False",
         "False",
         "False",
         "False",
         "False",
         "False",
         "False",
         "False",
         "False",
         "False",
         "False",
         "False",
         "False",
         "False",
         "False",
         "False",
         "False",
         "False",
         "False",
         "False",
         "False",
         "False",
         "False",
         "False",
         "False",
         "False",
         "False",
         "False",
         "False",
         "False",
         "False",
         "False",
         "False",
         "False",
         "False",
         "False",
         "False",
         "False",
         "False",
         "False",
         "False",
         "False",
         "False",
         "False",
         "False",
         "False",
         "False",
         "False",
         "False",
         "False",
         "False",
         "False",
         "False",
         "False",
         "False",
         "False",
         "False",
         "False",
         "False",
         "False",
         "False",
         "False",
         "False",
         "False",
         "False",
         "False",
         "False",
         "False",
         "False",
         "False",
         "False",
         "False",
         "False",
         "False",
         "False",
         "False",
         "False",
         "False",
         "False",
         "False",
         "False",
         "False",
         "False",
         "False",
         "False",
         "False",
         "False",
         "False",
         "False",
         "False",
         "False",
         "False",
         "False",
         "False",
         "False",
         "False",
         "False",
         "False",
         "False",
         "False",
         "False",
         "False",
         "False",
         "False",
         "False",
         "False",
         "False",
         "False",
         "False",
         "False",
         "False",
         "False",
         "False",
         "False",
         "False",
         "False",
         "False",
         "False",
         "False",
         "False",
         "False",
         "False",
         "False",
         "False",
         "False",
         "False",
         "False",
         "False",
         "False",
         "False",
         "False",
         "False",
         "False",
         "False",
         "False",
         "False",
         "False",
         "False",
         "False",
         "False",
         "False",
         "False",
         "False",
         "False",
         "False",
         "False",
         "False",
         "False",
         "False",
         "False",
         "False",
         "False",
         "False",
         "False",
         "False",
         "False",
         "False",
         "False",
         "False",
         "False",
         "False",
         "False",
         "False",
         "False",
         "False",
         "False",
         "False",
         "False",
         "False",
         "False",
         "False",
         "False",
         "False",
         "False",
         "False",
         "False",
         "False",
         "False",
         "False",
         "False",
         "False",
         "False",
         "False",
         "False",
         "False",
         "False",
         "False",
         "False",
         "False",
         "False",
         "False",
         "False",
         "False",
         "False",
         "False",
         "False",
         "False",
         "False",
         "False",
         "False",
         "False",
         "False",
         "False",
         "False",
         "False",
         "False",
         "False",
         "False",
         "False",
         "False",
         "False",
         "False",
         "False",
         "False",
         "False",
         "False",
         "False",
         "False",
         "False",
         "False",
         "False",
         "False",
         "True",
         "False",
         "False",
         "False",
         "False",
         "False",
         "False",
         "False",
         "False",
         "False",
         "False",
         "False",
         "False",
         "False",
         "False",
         "False",
         "False",
         "False",
         "False",
         "False",
         "False",
         "False",
         "False",
         "False",
         "False",
         "False",
         "False",
         "False",
         "False",
         "False",
         "False",
         "False",
         "False",
         "False",
         "False",
         "False",
         "True",
         "False"
        ],
        [
         "6",
         "4",
         "4019.0",
         "2.5",
         "3.0",
         "1.0",
         "2.0",
         "120.0",
         "142.0",
         "1600000.0",
         "False",
         "False",
         "False",
         "False",
         "False",
         "False",
         "False",
         "False",
         "False",
         "False",
         "False",
         "False",
         "False",
         "False",
         "False",
         "False",
         "False",
         "False",
         "False",
         "False",
         "False",
         "False",
         "False",
         "False",
         "False",
         "False",
         "False",
         "False",
         "False",
         "False",
         "False",
         "False",
         "False",
         "False",
         "False",
         "False",
         "False",
         "False",
         "False",
         "False",
         "False",
         "False",
         "False",
         "False",
         "False",
         "False",
         "False",
         "False",
         "False",
         "False",
         "False",
         "False",
         "False",
         "False",
         "False",
         "False",
         "False",
         "False",
         "False",
         "False",
         "False",
         "False",
         "False",
         "False",
         "False",
         "False",
         "False",
         "False",
         "False",
         "False",
         "False",
         "False",
         "False",
         "False",
         "False",
         "False",
         "False",
         "False",
         "False",
         "False",
         "False",
         "False",
         "False",
         "False",
         "False",
         "False",
         "False",
         "False",
         "False",
         "False",
         "False",
         "False",
         "False",
         "False",
         "False",
         "False",
         "False",
         "False",
         "False",
         "False",
         "False",
         "False",
         "False",
         "False",
         "False",
         "False",
         "False",
         "False",
         "False",
         "False",
         "False",
         "False",
         "False",
         "False",
         "False",
         "False",
         "False",
         "False",
         "False",
         "False",
         "False",
         "False",
         "False",
         "False",
         "False",
         "False",
         "False",
         "False",
         "False",
         "False",
         "False",
         "False",
         "False",
         "False",
         "False",
         "False",
         "False",
         "False",
         "False",
         "False",
         "False",
         "False",
         "False",
         "False",
         "False",
         "False",
         "False",
         "False",
         "False",
         "False",
         "False",
         "False",
         "False",
         "False",
         "False",
         "False",
         "False",
         "False",
         "False",
         "False",
         "False",
         "False",
         "False",
         "False",
         "False",
         "False",
         "False",
         "False",
         "False",
         "False",
         "False",
         "False",
         "False",
         "False",
         "False",
         "False",
         "False",
         "False",
         "False",
         "False",
         "False",
         "False",
         "False",
         "False",
         "False",
         "False",
         "False",
         "False",
         "False",
         "False",
         "False",
         "False",
         "False",
         "False",
         "False",
         "False",
         "False",
         "False",
         "False",
         "False",
         "False",
         "False",
         "False",
         "False",
         "False",
         "False",
         "False",
         "False",
         "False",
         "False",
         "False",
         "False",
         "False",
         "False",
         "False",
         "False",
         "False",
         "False",
         "False",
         "False",
         "False",
         "False",
         "False",
         "False",
         "False",
         "False",
         "False",
         "False",
         "False",
         "False",
         "False",
         "False",
         "False",
         "False",
         "False",
         "False",
         "False",
         "False",
         "False",
         "False",
         "False",
         "False",
         "False",
         "False",
         "False",
         "False",
         "False",
         "False",
         "False",
         "False",
         "False",
         "False",
         "False",
         "False",
         "False",
         "False",
         "False",
         "False",
         "False",
         "False",
         "False",
         "False",
         "False",
         "False",
         "False",
         "False",
         "False",
         "False",
         "False",
         "False",
         "False",
         "False",
         "False",
         "False",
         "False",
         "False",
         "False",
         "False",
         "False",
         "False",
         "False",
         "False",
         "False",
         "False",
         "False",
         "False",
         "False",
         "False",
         "False",
         "False",
         "False",
         "False",
         "False",
         "False",
         "False",
         "False",
         "False",
         "False",
         "False",
         "False",
         "False",
         "False",
         "False",
         "False",
         "False",
         "False",
         "False",
         "False",
         "False",
         "False",
         "False",
         "False",
         "False",
         "False",
         "False",
         "False",
         "False",
         "False",
         "False",
         "False",
         "False",
         "False",
         "False",
         "False",
         "False",
         "False",
         "False",
         "False",
         "False",
         "False",
         "False",
         "False",
         "False",
         "False",
         "False",
         "False",
         "False",
         "False",
         "False",
         "False",
         "False",
         "False",
         "False",
         "False",
         "False",
         "False",
         "False",
         "False",
         "False",
         "False",
         "False",
         "False",
         "False",
         "False",
         "False",
         "False",
         "False",
         "False",
         "False",
         "False",
         "False",
         "False",
         "False",
         "False",
         "False",
         "False",
         "False",
         "False",
         "False",
         "False",
         "False",
         "False",
         "False",
         "False",
         "False",
         "False",
         "False",
         "False",
         "False",
         "False",
         "False",
         "False",
         "False",
         "False",
         "False",
         "False",
         "False",
         "False",
         "False",
         "False",
         "False",
         "False",
         "False",
         "False",
         "False",
         "False",
         "False",
         "False",
         "False",
         "False",
         "False",
         "False",
         "False",
         "False",
         "False",
         "False",
         "False",
         "False",
         "False",
         "False",
         "False",
         "False",
         "False",
         "False",
         "False",
         "False",
         "False",
         "False",
         "False",
         "False",
         "False",
         "False",
         "False",
         "False",
         "False",
         "False",
         "False",
         "False",
         "False",
         "False",
         "False",
         "False",
         "False",
         "False",
         "False",
         "False",
         "False",
         "False",
         "False",
         "False",
         "False",
         "False",
         "False",
         "False",
         "False",
         "False",
         "False",
         "False",
         "False",
         "False",
         "False",
         "False",
         "False",
         "False",
         "False",
         "False",
         "False",
         "False",
         "False",
         "False",
         "False",
         "False",
         "False",
         "False",
         "False",
         "False",
         "False",
         "False",
         "False",
         "False",
         "False",
         "False",
         "False",
         "False",
         "False",
         "False",
         "False",
         "False",
         "False",
         "False",
         "False",
         "False",
         "False",
         "False",
         "False",
         "False",
         "False",
         "False",
         "False",
         "False",
         "False",
         "False",
         "False",
         "False",
         "False",
         "False",
         "False",
         "False",
         "False",
         "False",
         "False",
         "False",
         "False",
         "False",
         "False",
         "False",
         "False",
         "False",
         "False",
         "False",
         "False",
         "False",
         "False",
         "False",
         "False",
         "False",
         "False",
         "False",
         "False",
         "False",
         "False",
         "False",
         "False",
         "False",
         "False",
         "False",
         "False",
         "False",
         "False",
         "False",
         "False",
         "False",
         "False",
         "False",
         "False",
         "False",
         "False",
         "False",
         "False",
         "False",
         "False",
         "False",
         "False",
         "False",
         "False",
         "False",
         "False",
         "False",
         "False",
         "False",
         "True",
         "False",
         "False",
         "False",
         "False",
         "False",
         "False",
         "False",
         "False",
         "False",
         "False",
         "False",
         "False",
         "False",
         "False",
         "False",
         "False",
         "False",
         "False",
         "False",
         "False",
         "False",
         "False",
         "False",
         "False",
         "False",
         "False",
         "False",
         "False",
         "False",
         "False",
         "False",
         "False",
         "False",
         "False",
         "False",
         "False",
         "False",
         "False",
         "False",
         "False",
         "False",
         "False",
         "False",
         "False",
         "False",
         "False",
         "False",
         "False",
         "False",
         "False",
         "False",
         "False",
         "False",
         "False",
         "False",
         "False",
         "False",
         "False",
         "False",
         "False",
         "False",
         "False",
         "False",
         "False",
         "False",
         "False",
         "False",
         "False",
         "False",
         "False",
         "False",
         "False",
         "False",
         "False",
         "False",
         "False",
         "False",
         "False",
         "False",
         "False",
         "False",
         "False",
         "False",
         "False",
         "False",
         "False",
         "False",
         "False",
         "False",
         "False",
         "False",
         "False",
         "False",
         "False",
         "False",
         "False",
         "False",
         "False",
         "False",
         "False",
         "False",
         "False",
         "False",
         "False",
         "False",
         "False",
         "False",
         "False",
         "False",
         "False",
         "False",
         "False",
         "False",
         "False",
         "False",
         "False",
         "False",
         "False",
         "False",
         "False",
         "False",
         "False",
         "False",
         "False",
         "False",
         "False",
         "False",
         "False",
         "False",
         "False",
         "False",
         "False",
         "False",
         "False",
         "False",
         "False",
         "False",
         "False",
         "False",
         "False",
         "False",
         "False",
         "False",
         "True",
         "False",
         "False",
         "False",
         "False",
         "False",
         "False",
         "False",
         "False",
         "False",
         "False",
         "False",
         "False",
         "False",
         "False",
         "False",
         "False",
         "False",
         "False",
         "False",
         "False",
         "False",
         "False",
         "False",
         "False",
         "False",
         "False",
         "False",
         "False",
         "False",
         "False",
         "False",
         "False",
         "False",
         "False",
         "False",
         "True",
         "False"
        ]
       ],
       "shape": {
        "columns": 741,
        "rows": 5
       }
      },
      "text/html": [
       "<div>\n",
       "<style scoped>\n",
       "    .dataframe tbody tr th:only-of-type {\n",
       "        vertical-align: middle;\n",
       "    }\n",
       "\n",
       "    .dataframe tbody tr th {\n",
       "        vertical-align: top;\n",
       "    }\n",
       "\n",
       "    .dataframe thead th {\n",
       "        text-align: right;\n",
       "    }\n",
       "</style>\n",
       "<table border=\"1\" class=\"dataframe\">\n",
       "  <thead>\n",
       "    <tr style=\"text-align: right;\">\n",
       "      <th></th>\n",
       "      <th>Rooms</th>\n",
       "      <th>Propertycount</th>\n",
       "      <th>Distance</th>\n",
       "      <th>Bedroom2</th>\n",
       "      <th>Bathroom</th>\n",
       "      <th>Car</th>\n",
       "      <th>Landsize</th>\n",
       "      <th>BuildingArea</th>\n",
       "      <th>Price</th>\n",
       "      <th>Suburb_Aberfeldie</th>\n",
       "      <th>...</th>\n",
       "      <th>CouncilArea_Moorabool Shire Council</th>\n",
       "      <th>CouncilArea_Moreland City Council</th>\n",
       "      <th>CouncilArea_Nillumbik Shire Council</th>\n",
       "      <th>CouncilArea_Port Phillip City Council</th>\n",
       "      <th>CouncilArea_Stonnington City Council</th>\n",
       "      <th>CouncilArea_Whitehorse City Council</th>\n",
       "      <th>CouncilArea_Whittlesea City Council</th>\n",
       "      <th>CouncilArea_Wyndham City Council</th>\n",
       "      <th>CouncilArea_Yarra City Council</th>\n",
       "      <th>CouncilArea_Yarra Ranges Shire Council</th>\n",
       "    </tr>\n",
       "  </thead>\n",
       "  <tbody>\n",
       "    <tr>\n",
       "      <th>1</th>\n",
       "      <td>2</td>\n",
       "      <td>4019.0</td>\n",
       "      <td>2.5</td>\n",
       "      <td>2.0</td>\n",
       "      <td>1.0</td>\n",
       "      <td>1.0</td>\n",
       "      <td>202.0</td>\n",
       "      <td>160.2564</td>\n",
       "      <td>1480000.0</td>\n",
       "      <td>False</td>\n",
       "      <td>...</td>\n",
       "      <td>False</td>\n",
       "      <td>False</td>\n",
       "      <td>False</td>\n",
       "      <td>False</td>\n",
       "      <td>False</td>\n",
       "      <td>False</td>\n",
       "      <td>False</td>\n",
       "      <td>False</td>\n",
       "      <td>True</td>\n",
       "      <td>False</td>\n",
       "    </tr>\n",
       "    <tr>\n",
       "      <th>2</th>\n",
       "      <td>2</td>\n",
       "      <td>4019.0</td>\n",
       "      <td>2.5</td>\n",
       "      <td>2.0</td>\n",
       "      <td>1.0</td>\n",
       "      <td>0.0</td>\n",
       "      <td>156.0</td>\n",
       "      <td>79.0000</td>\n",
       "      <td>1035000.0</td>\n",
       "      <td>False</td>\n",
       "      <td>...</td>\n",
       "      <td>False</td>\n",
       "      <td>False</td>\n",
       "      <td>False</td>\n",
       "      <td>False</td>\n",
       "      <td>False</td>\n",
       "      <td>False</td>\n",
       "      <td>False</td>\n",
       "      <td>False</td>\n",
       "      <td>True</td>\n",
       "      <td>False</td>\n",
       "    </tr>\n",
       "    <tr>\n",
       "      <th>4</th>\n",
       "      <td>3</td>\n",
       "      <td>4019.0</td>\n",
       "      <td>2.5</td>\n",
       "      <td>3.0</td>\n",
       "      <td>2.0</td>\n",
       "      <td>0.0</td>\n",
       "      <td>134.0</td>\n",
       "      <td>150.0000</td>\n",
       "      <td>1465000.0</td>\n",
       "      <td>False</td>\n",
       "      <td>...</td>\n",
       "      <td>False</td>\n",
       "      <td>False</td>\n",
       "      <td>False</td>\n",
       "      <td>False</td>\n",
       "      <td>False</td>\n",
       "      <td>False</td>\n",
       "      <td>False</td>\n",
       "      <td>False</td>\n",
       "      <td>True</td>\n",
       "      <td>False</td>\n",
       "    </tr>\n",
       "    <tr>\n",
       "      <th>5</th>\n",
       "      <td>3</td>\n",
       "      <td>4019.0</td>\n",
       "      <td>2.5</td>\n",
       "      <td>3.0</td>\n",
       "      <td>2.0</td>\n",
       "      <td>1.0</td>\n",
       "      <td>94.0</td>\n",
       "      <td>160.2564</td>\n",
       "      <td>850000.0</td>\n",
       "      <td>False</td>\n",
       "      <td>...</td>\n",
       "      <td>False</td>\n",
       "      <td>False</td>\n",
       "      <td>False</td>\n",
       "      <td>False</td>\n",
       "      <td>False</td>\n",
       "      <td>False</td>\n",
       "      <td>False</td>\n",
       "      <td>False</td>\n",
       "      <td>True</td>\n",
       "      <td>False</td>\n",
       "    </tr>\n",
       "    <tr>\n",
       "      <th>6</th>\n",
       "      <td>4</td>\n",
       "      <td>4019.0</td>\n",
       "      <td>2.5</td>\n",
       "      <td>3.0</td>\n",
       "      <td>1.0</td>\n",
       "      <td>2.0</td>\n",
       "      <td>120.0</td>\n",
       "      <td>142.0000</td>\n",
       "      <td>1600000.0</td>\n",
       "      <td>False</td>\n",
       "      <td>...</td>\n",
       "      <td>False</td>\n",
       "      <td>False</td>\n",
       "      <td>False</td>\n",
       "      <td>False</td>\n",
       "      <td>False</td>\n",
       "      <td>False</td>\n",
       "      <td>False</td>\n",
       "      <td>False</td>\n",
       "      <td>True</td>\n",
       "      <td>False</td>\n",
       "    </tr>\n",
       "  </tbody>\n",
       "</table>\n",
       "<p>5 rows × 741 columns</p>\n",
       "</div>"
      ],
      "text/plain": [
       "   Rooms  Propertycount  Distance  Bedroom2  Bathroom  Car  Landsize  \\\n",
       "1      2         4019.0       2.5       2.0       1.0  1.0     202.0   \n",
       "2      2         4019.0       2.5       2.0       1.0  0.0     156.0   \n",
       "4      3         4019.0       2.5       3.0       2.0  0.0     134.0   \n",
       "5      3         4019.0       2.5       3.0       2.0  1.0      94.0   \n",
       "6      4         4019.0       2.5       3.0       1.0  2.0     120.0   \n",
       "\n",
       "   BuildingArea      Price  Suburb_Aberfeldie  ...  \\\n",
       "1      160.2564  1480000.0              False  ...   \n",
       "2       79.0000  1035000.0              False  ...   \n",
       "4      150.0000  1465000.0              False  ...   \n",
       "5      160.2564   850000.0              False  ...   \n",
       "6      142.0000  1600000.0              False  ...   \n",
       "\n",
       "   CouncilArea_Moorabool Shire Council  CouncilArea_Moreland City Council  \\\n",
       "1                                False                              False   \n",
       "2                                False                              False   \n",
       "4                                False                              False   \n",
       "5                                False                              False   \n",
       "6                                False                              False   \n",
       "\n",
       "   CouncilArea_Nillumbik Shire Council  CouncilArea_Port Phillip City Council  \\\n",
       "1                                False                                  False   \n",
       "2                                False                                  False   \n",
       "4                                False                                  False   \n",
       "5                                False                                  False   \n",
       "6                                False                                  False   \n",
       "\n",
       "   CouncilArea_Stonnington City Council  CouncilArea_Whitehorse City Council  \\\n",
       "1                                 False                                False   \n",
       "2                                 False                                False   \n",
       "4                                 False                                False   \n",
       "5                                 False                                False   \n",
       "6                                 False                                False   \n",
       "\n",
       "   CouncilArea_Whittlesea City Council  CouncilArea_Wyndham City Council  \\\n",
       "1                                False                             False   \n",
       "2                                False                             False   \n",
       "4                                False                             False   \n",
       "5                                False                             False   \n",
       "6                                False                             False   \n",
       "\n",
       "   CouncilArea_Yarra City Council  CouncilArea_Yarra Ranges Shire Council  \n",
       "1                            True                                   False  \n",
       "2                            True                                   False  \n",
       "4                            True                                   False  \n",
       "5                            True                                   False  \n",
       "6                            True                                   False  \n",
       "\n",
       "[5 rows x 741 columns]"
      ]
     },
     "execution_count": 59,
     "metadata": {},
     "output_type": "execute_result"
    }
   ],
   "source": [
    "dataset.head()"
   ]
  },
  {
   "cell_type": "code",
   "execution_count": 68,
   "id": "51928d83",
   "metadata": {},
   "outputs": [
    {
     "data": {
      "text/plain": [
       "<matplotlib.collections.PathCollection at 0x17cc66650>"
      ]
     },
     "execution_count": 68,
     "metadata": {},
     "output_type": "execute_result"
    },
    {
     "data": {
      "image/png": "[encoded data removed]",
      "text/plain": [
       "<Figure size 640x480 with 1 Axes>"
      ]
     },
     "metadata": {},
     "output_type": "display_data"
    }
   ],
   "source": [
    "import matplotlib.pyplot as plt\n",
    "%matplotlib inline\n",
    "plt.scatter(dataset.iloc[:,0],dataset.iloc[:,1])"
   ]
  },
  {
   "cell_type": "code",
   "execution_count": 76,
   "id": "dda48455",
   "metadata": {},
   "outputs": [],
   "source": [
    "from sklearn.ensemble import IsolationForest\n",
    "clf = IsolationForest(contamination=0.2)\n",
    "clf.fit(dataset[['Rooms','Car']])\n",
    "predictions = clf.predict(dataset[['Rooms','Car']])"
   ]
  },
  {
   "cell_type": "code",
   "execution_count": 78,
   "id": "55e4a23a",
   "metadata": {},
   "outputs": [
    {
     "name": "stdout",
     "output_type": "stream",
     "text": [
      "array([1, 1, 1, ..., 1, 1, 1])\n"
     ]
    }
   ],
   "source": [
    "pp(predictions)"
   ]
  },
  {
   "cell_type": "code",
   "execution_count": 79,
   "id": "a2bcff65",
   "metadata": {},
   "outputs": [
    {
     "data": {
      "text/plain": [
       "(array([   10,    14,    19, ..., 27226, 27233, 27239]),)"
      ]
     },
     "execution_count": 79,
     "metadata": {},
     "output_type": "execute_result"
    }
   ],
   "source": [
    "import numpy as np\n",
    "abn_ind = np.where(predictions<0)\n",
    "abn_ind"
   ]
  },
  {
   "cell_type": "code",
   "execution_count": 84,
   "id": "55d2bfca",
   "metadata": {},
   "outputs": [
    {
     "data": {
      "text/plain": [
       "<matplotlib.collections.PathCollection at 0x303bb28d0>"
      ]
     },
     "execution_count": 84,
     "metadata": {},
     "output_type": "execute_result"
    },
    {
     "data": {
      "image/png": "[encoded data removed]",
      "text/plain": [
       "<Figure size 640x480 with 1 Axes>"
      ]
     },
     "metadata": {},
     "output_type": "display_data"
    }
   ],
   "source": [
    "x = dataset[['Rooms','Car']].values\n",
    "index = np.where(predictions<0)\n",
    "plt.scatter(dataset['Rooms'], dataset['Car'])\n",
    "plt.scatter(x[index,0], x[abn_ind,1], edgecolors='r')"
   ]
  },
  {
   "cell_type": "code",
   "execution_count": null,
   "id": "b79ecc9f",
   "metadata": {},
   "outputs": [],
   "source": []
  }
 ],
 "metadata": {
  "kernelspec": {
   "display_name": "base",
   "language": "python",
   "name": "python3"
  },
  "language_info": {
   "codemirror_mode": {
    "name": "ipython",
    "version": 3
   },
   "file_extension": ".py",
   "mimetype": "text/x-python",
   "name": "python",
   "nbconvert_exporter": "python",
   "pygments_lexer": "ipython3",
   "version": "3.11.5"
  }
 },
 "nbformat": 4,
 "nbformat_minor": 5
}
