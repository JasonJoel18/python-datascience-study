{
 "cells": [
  {
   "cell_type": "code",
   "execution_count": null,
   "metadata": {},
   "outputs": [],
   "source": [
    "import pandas as pd\n",
    "\n",
    "india_weather = pd.DataFrame({\n",
    "    \"city\":[\"mumbai\",\"delhi\",\"banglore\"],\n",
    "    \"temperature\":[32,45,30],\n",
    "    \"humidity\":[80,60,78]\n",
    "})\n",
    "india_weather"
   ]
  },
  {
   "cell_type": "code",
   "execution_count": null,
   "metadata": {},
   "outputs": [],
   "source": [
    "usa_weather = pd.DataFrame({\n",
    "    \"city\":[\"new york\",\"chicago\",\"orlando\"],\n",
    "    \"temperature\":[21,14,35],\n",
    "    \"humidity\":[68,65,75]\n",
    "})\n",
    "usa_weather"
   ]
  },
  {
   "cell_type": "code",
   "execution_count": null,
   "metadata": {},
   "outputs": [],
   "source": [
    "df = pd.concat([india_weather,usa_weather])\n",
    "df\n",
    "\n",
    "## here you can see that the index if from old dataframes"
   ]
  },
  {
   "cell_type": "code",
   "execution_count": null,
   "metadata": {},
   "outputs": [],
   "source": [
    "# To remove the old index\n",
    "df = pd.concat([india_weather,usa_weather],ignore_index=True)\n",
    "df"
   ]
  },
  {
   "cell_type": "code",
   "execution_count": null,
   "metadata": {},
   "outputs": [],
   "source": [
    "# To remove the old index\n",
    "df = pd.concat([india_weather,usa_weather],keys==['india','us'])\n",
    "df"
   ]
  },
  {
   "cell_type": "code",
   "execution_count": null,
   "metadata": {},
   "outputs": [],
   "source": [
    "df.loc['india']"
   ]
  },
  {
   "cell_type": "markdown",
   "metadata": {},
   "source": [
    "#### How to concat a column when we concat two data frames"
   ]
  },
  {
   "cell_type": "code",
   "execution_count": null,
   "metadata": {},
   "outputs": [],
   "source": [
    "temp_df = pd.DataFrame({\n",
    "    \"city\":[\"new york\",\"chicago\",\"orlando\"],\n",
    "    \"temperature\":[21,14,35]\n",
    "},index=[0,1,2])\n",
    "temp_df"
   ]
  },
  {
   "cell_type": "code",
   "execution_count": null,
   "metadata": {},
   "outputs": [],
   "source": [
    "hum_df = pd.DataFrame({\n",
    "    \"city\":[\"chicago\",\"new york\",\"orlando\"],\n",
    "    \"humidity\":[65,68,75]\n",
    "},index=[1,0,2])\n",
    "hum_df"
   ]
  },
  {
   "cell_type": "code",
   "execution_count": null,
   "metadata": {},
   "outputs": [],
   "source": [
    "# Here if you see it appends the columns in a jumbled way as the data is jumbled\n",
    "df = pd.concat([temp_df,hum_df],axis=1)\n",
    "df"
   ]
  },
  {
   "cell_type": "markdown",
   "metadata": {},
   "source": [
    "### Appending an pandas series to a dataframe"
   ]
  },
  {
   "cell_type": "code",
   "execution_count": null,
   "metadata": {},
   "outputs": [],
   "source": [
    "s = pd.Series([\"Humid\",\"Dry\",\"Snow\"],name=\"event\")\n",
    "s"
   ]
  },
  {
   "cell_type": "code",
   "execution_count": null,
   "metadata": {},
   "outputs": [],
   "source": [
    "df = pd.concat([temp_df,s],axis=1)\n",
    "df"
   ]
  }
 ],
 "metadata": {},
 "nbformat": 4,
 "nbformat_minor": 2
}
