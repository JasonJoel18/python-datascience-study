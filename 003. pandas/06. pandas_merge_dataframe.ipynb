{
 "cells": [
  {
   "cell_type": "code",
   "execution_count": null,
   "metadata": {},
   "outputs": [],
   "source": [
    "import pandas as pd\n",
    "temp_df = pd.DataFrame({\n",
    "    \"city\":[\"new york\",\"chicago\",\"orlando\",\"baltimore\"],\n",
    "    \"temperature\":[21,14,35,50]\n",
    "})\n",
    "temp_df"
   ]
  },
  {
   "cell_type": "code",
   "execution_count": null,
   "metadata": {},
   "outputs": [],
   "source": [
    "hum_df = pd.DataFrame({\n",
    "    \"city\":[\"chicago\", \"new york\",\"orlando\",\"san francisco\"],\n",
    "    \"humidity\":[65,68,75,60]\n",
    "})\n",
    "hum_df"
   ]
  },
  {
   "cell_type": "code",
   "execution_count": null,
   "metadata": {},
   "outputs": [],
   "source": []
  },
  {
   "cell_type": "markdown",
   "metadata": {},
   "source": [
    "### Merge is similar to Join in SQL"
   ]
  },
  {
   "cell_type": "code",
   "execution_count": null,
   "metadata": {},
   "outputs": [],
   "source": [
    "# By default Inner join\n",
    "df3 = pd.merge(temp_df,hum_df,on='city')\n",
    "df3"
   ]
  },
  {
   "cell_type": "code",
   "execution_count": null,
   "metadata": {},
   "outputs": [],
   "source": [
    "# Outer join\n",
    "df3 = pd.merge(temp_df,hum_df,on='city',how='right')\n",
    "# df3 = pd.merge(temp_df,hum_df,on='city',how='outer')\n",
    "# df3 = pd.merge(temp_df,hum_df,on='city',how='left')\n",
    "df3"
   ]
  },
  {
   "cell_type": "code",
   "execution_count": null,
   "metadata": {},
   "outputs": [],
   "source": [
    "# Use indicated flag to know where the data came from\n",
    "df3 = pd.merge(temp_df,hum_df,on='city',how='outer',indicator=True)\n",
    "df3"
   ]
  },
  {
   "cell_type": "code",
   "execution_count": null,
   "metadata": {},
   "outputs": [],
   "source": [
    "hum_df = pd.DataFrame({\n",
    "    \"city\":[\"new york\",\"chicago\",\"orlando\",\"baltimore\"],\n",
    "    \"temperature\":[21,14,35,50],\n",
    "    \"humidity\": [3,4,5,6]\n",
    "})\n",
    "hum_df"
   ]
  },
  {
   "cell_type": "code",
   "execution_count": null,
   "metadata": {},
   "outputs": [],
   "source": [
    "tem_df = pd.DataFrame({\n",
    "    \"city\":[\"new york\",\"chicago\",\"orlando\",\"baltimore\"],\n",
    "    \"temperature\":[21,14,35,50],\n",
    "    \"humidity\": [34,44,52,47]\n",
    "})\n",
    "tem_df"
   ]
  },
  {
   "cell_type": "code",
   "execution_count": null,
   "metadata": {},
   "outputs": [],
   "source": [
    "df3 = pd.merge(tem_df,hum_df,on='city',indexes=)\n",
    "df3"
   ]
  }
 ],
 "metadata": {
  "language_info": {
   "name": "python"
  }
 },
 "nbformat": 4,
 "nbformat_minor": 2
}
